{
 "cells": [
  {
   "cell_type": "markdown",
   "metadata": {},
   "source": [
    "___\n",
    "\n",
    "<a href='http://www.pieriandata.com'> <img src='../Pierian_Data_Logo.png' /></a>\n",
    "___\n",
    "# Plotly and Cufflinks"
   ]
  },
  {
   "cell_type": "markdown",
   "metadata": {},
   "source": [
    "Plotly is a library that allows you to create interactive plots that you can use in dashboards or websites (you can save them as html files or static images).\n",
    "\n",
    "## Installation\n",
    "\n",
    "In order for this all to work, you'll need to install plotly and cufflinks to call plots directly off of a pandas dataframe. These libraries are not currently available through **conda** but are available through **pip**. Install the libraries at your command line/terminal using:\n",
    "\n",
    "    pip install plotly\n",
    "    pip install cufflinks\n",
    "\n",
    "** NOTE: Make sure you only have one installation of Python on your computer when you do this, otherwise the installation may not work. **\n",
    "\n",
    "## Imports and Set-up"
   ]
  },
  {
   "cell_type": "code",
   "execution_count": 1,
   "metadata": {},
   "outputs": [],
   "source": [
    "import pandas as pd\n",
    "import numpy as np\n",
    "%matplotlib inline\n",
    "import chart_studio.plotly as py"
   ]
  },
  {
   "cell_type": "code",
   "execution_count": 2,
   "metadata": {},
   "outputs": [
    {
     "name": "stdout",
     "output_type": "stream",
     "text": [
      "4.14.3\n"
     ]
    }
   ],
   "source": [
    "from plotly import __version__\n",
    "from plotly.offline import download_plotlyjs, init_notebook_mode, plot, iplot\n",
    "\n",
    "print(__version__) # requires version >= 1.9.0"
   ]
  },
  {
   "cell_type": "code",
   "execution_count": 3,
   "metadata": {},
   "outputs": [],
   "source": [
    "import cufflinks as cf"
   ]
  },
  {
   "cell_type": "code",
   "execution_count": 4,
   "metadata": {},
   "outputs": [
    {
     "data": {
      "text/html": [
       "        <script type=\"text/javascript\">\n",
       "        window.PlotlyConfig = {MathJaxConfig: 'local'};\n",
       "        if (window.MathJax) {MathJax.Hub.Config({SVG: {font: \"STIX-Web\"}});}\n",
       "        if (typeof require !== 'undefined') {\n",
       "        require.undef(\"plotly\");\n",
       "        requirejs.config({\n",
       "            paths: {\n",
       "                'plotly': ['https://cdn.plot.ly/plotly-latest.min']\n",
       "            }\n",
       "        });\n",
       "        require(['plotly'], function(Plotly) {\n",
       "            window._Plotly = Plotly;\n",
       "        });\n",
       "        }\n",
       "        </script>\n",
       "        "
      ]
     },
     "metadata": {},
     "output_type": "display_data"
    }
   ],
   "source": [
    "# For Notebooks\n",
    "init_notebook_mode(connected=True)"
   ]
  },
  {
   "cell_type": "code",
   "execution_count": 5,
   "metadata": {},
   "outputs": [
    {
     "data": {
      "text/html": [
       "        <script type=\"text/javascript\">\n",
       "        window.PlotlyConfig = {MathJaxConfig: 'local'};\n",
       "        if (window.MathJax) {MathJax.Hub.Config({SVG: {font: \"STIX-Web\"}});}\n",
       "        if (typeof require !== 'undefined') {\n",
       "        require.undef(\"plotly\");\n",
       "        requirejs.config({\n",
       "            paths: {\n",
       "                'plotly': ['https://cdn.plot.ly/plotly-latest.min']\n",
       "            }\n",
       "        });\n",
       "        require(['plotly'], function(Plotly) {\n",
       "            window._Plotly = Plotly;\n",
       "        });\n",
       "        }\n",
       "        </script>\n",
       "        "
      ]
     },
     "metadata": {},
     "output_type": "display_data"
    }
   ],
   "source": [
    "# For offline use\n",
    "cf.go_offline()"
   ]
  },
  {
   "cell_type": "markdown",
   "metadata": {},
   "source": [
    "### Fake Data"
   ]
  },
  {
   "cell_type": "code",
   "execution_count": 6,
   "metadata": {},
   "outputs": [],
   "source": [
    "df = pd.DataFrame(np.random.randn(100,4),columns='A B C D'.split())"
   ]
  },
  {
   "cell_type": "code",
   "execution_count": 7,
   "metadata": {},
   "outputs": [
    {
     "data": {
      "text/html": [
       "<div>\n",
       "<style scoped>\n",
       "    .dataframe tbody tr th:only-of-type {\n",
       "        vertical-align: middle;\n",
       "    }\n",
       "\n",
       "    .dataframe tbody tr th {\n",
       "        vertical-align: top;\n",
       "    }\n",
       "\n",
       "    .dataframe thead th {\n",
       "        text-align: right;\n",
       "    }\n",
       "</style>\n",
       "<table border=\"1\" class=\"dataframe\">\n",
       "  <thead>\n",
       "    <tr style=\"text-align: right;\">\n",
       "      <th></th>\n",
       "      <th>A</th>\n",
       "      <th>B</th>\n",
       "      <th>C</th>\n",
       "      <th>D</th>\n",
       "    </tr>\n",
       "  </thead>\n",
       "  <tbody>\n",
       "    <tr>\n",
       "      <th>0</th>\n",
       "      <td>-1.086958</td>\n",
       "      <td>1.701382</td>\n",
       "      <td>-0.873369</td>\n",
       "      <td>1.210140</td>\n",
       "    </tr>\n",
       "    <tr>\n",
       "      <th>1</th>\n",
       "      <td>0.274517</td>\n",
       "      <td>0.016734</td>\n",
       "      <td>-0.387973</td>\n",
       "      <td>0.136360</td>\n",
       "    </tr>\n",
       "    <tr>\n",
       "      <th>2</th>\n",
       "      <td>0.898590</td>\n",
       "      <td>2.218487</td>\n",
       "      <td>1.068224</td>\n",
       "      <td>2.190523</td>\n",
       "    </tr>\n",
       "    <tr>\n",
       "      <th>3</th>\n",
       "      <td>-0.165520</td>\n",
       "      <td>0.444517</td>\n",
       "      <td>-1.279093</td>\n",
       "      <td>-0.409493</td>\n",
       "    </tr>\n",
       "    <tr>\n",
       "      <th>4</th>\n",
       "      <td>-1.273474</td>\n",
       "      <td>1.703803</td>\n",
       "      <td>1.076130</td>\n",
       "      <td>-0.371987</td>\n",
       "    </tr>\n",
       "  </tbody>\n",
       "</table>\n",
       "</div>"
      ],
      "text/plain": [
       "          A         B         C         D\n",
       "0 -1.086958  1.701382 -0.873369  1.210140\n",
       "1  0.274517  0.016734 -0.387973  0.136360\n",
       "2  0.898590  2.218487  1.068224  2.190523\n",
       "3 -0.165520  0.444517 -1.279093 -0.409493\n",
       "4 -1.273474  1.703803  1.076130 -0.371987"
      ]
     },
     "execution_count": 7,
     "metadata": {},
     "output_type": "execute_result"
    }
   ],
   "source": [
    "df.head()"
   ]
  },
  {
   "cell_type": "code",
   "execution_count": 8,
   "metadata": {},
   "outputs": [],
   "source": [
    "df2 = pd.DataFrame({'Category':['A','B','C'],'Values':[32,43,50]})"
   ]
  },
  {
   "cell_type": "code",
   "execution_count": 9,
   "metadata": {},
   "outputs": [
    {
     "data": {
      "text/html": [
       "<div>\n",
       "<style scoped>\n",
       "    .dataframe tbody tr th:only-of-type {\n",
       "        vertical-align: middle;\n",
       "    }\n",
       "\n",
       "    .dataframe tbody tr th {\n",
       "        vertical-align: top;\n",
       "    }\n",
       "\n",
       "    .dataframe thead th {\n",
       "        text-align: right;\n",
       "    }\n",
       "</style>\n",
       "<table border=\"1\" class=\"dataframe\">\n",
       "  <thead>\n",
       "    <tr style=\"text-align: right;\">\n",
       "      <th></th>\n",
       "      <th>Category</th>\n",
       "      <th>Values</th>\n",
       "    </tr>\n",
       "  </thead>\n",
       "  <tbody>\n",
       "    <tr>\n",
       "      <th>0</th>\n",
       "      <td>A</td>\n",
       "      <td>32</td>\n",
       "    </tr>\n",
       "    <tr>\n",
       "      <th>1</th>\n",
       "      <td>B</td>\n",
       "      <td>43</td>\n",
       "    </tr>\n",
       "    <tr>\n",
       "      <th>2</th>\n",
       "      <td>C</td>\n",
       "      <td>50</td>\n",
       "    </tr>\n",
       "  </tbody>\n",
       "</table>\n",
       "</div>"
      ],
      "text/plain": [
       "  Category  Values\n",
       "0        A      32\n",
       "1        B      43\n",
       "2        C      50"
      ]
     },
     "execution_count": 9,
     "metadata": {},
     "output_type": "execute_result"
    }
   ],
   "source": [
    "df2.head()"
   ]
  },
  {
   "cell_type": "markdown",
   "metadata": {},
   "source": [
    "## Using Cufflinks and iplot()\n",
    "\n",
    "* scatter\n",
    "* bar\n",
    "* box\n",
    "* spread\n",
    "* ratio\n",
    "* heatmap\n",
    "* surface\n",
    "* histogram\n",
    "* bubble"
   ]
  },
  {
   "cell_type": "markdown",
   "metadata": {},
   "source": [
    "## Scatter"
   ]
  },
  {
   "cell_type": "code",
   "execution_count": 10,
   "metadata": {},
   "outputs": [
    {
     "data": {
      "application/vnd.plotly.v1+json": {
       "config": {
        "linkText": "Export to plot.ly",
        "plotlyServerURL": "https://plot.ly",
        "showLink": true
       },
       "data": [
        {
         "line": {
          "color": "rgba(255, 153, 51, 1.0)",
          "dash": "solid",
          "shape": "linear",
          "width": 1.3
         },
         "marker": {
          "size": 10,
          "symbol": "circle"
         },
         "mode": "markers",
         "name": "B",
         "text": "",
         "type": "scatter",
         "x": [
          -1.0869584731134463,
          0.27451744742966855,
          0.898589965888706,
          -0.16552031190222838,
          -1.2734743934645587,
          1.3785347245530486,
          0.7868745774402074,
          0.7766436984162196,
          0.22616856791677742,
          0.007405250672447983,
          0.64366447216253,
          -1.7626137628640837,
          0.4441052137532636,
          -0.2108770255901744,
          0.6198112180793899,
          -1.8287242831076582,
          -0.9431897712379231,
          -0.6477520870136391,
          0.6508763934079177,
          0.7908879119638564,
          -0.5437926157664298,
          0.11492643070611391,
          0.3974511774942038,
          -1.8055711983924294,
          -0.8523522195491334,
          -0.558736594859252,
          -1.1473397416674855,
          -0.16454004935997768,
          -0.660716242116677,
          0.049352004212177884,
          -0.057314717313838005,
          -0.43941827438359155,
          0.0277344949358772,
          -0.7062001067991027,
          0.20462323016526873,
          0.3496160101587443,
          0.6577663410748592,
          -0.2758959541944502,
          2.0705732352146224,
          -0.09914233320171727,
          1.3172585301650261,
          -0.7394903007107098,
          0.007553436342522031,
          0.016748848512975506,
          -0.5611598750145692,
          -0.48601745121375417,
          -0.13367046078164657,
          0.037363970053662626,
          0.6178066666029638,
          1.3796647232899897,
          -0.6931058583317703,
          -0.9972334923098112,
          1.3641795786608075,
          -1.106805521135824,
          1.0854563377341457,
          -0.09555624054883202,
          0.6288015463938761,
          -0.8760011405423394,
          1.2336403186919789,
          0.033956099774664385,
          2.1407935064284773,
          0.6385182836690706,
          -0.5269728709133601,
          -0.5847843726513189,
          -2.3494435331723307,
          -0.18399978217020438,
          0.16960257341940285,
          0.46380914522191813,
          -0.3056312698113668,
          0.7936378599682448,
          0.810159922841156,
          1.7683652861021277,
          0.9765976549826945,
          0.21326281672362585,
          -0.31880949249799556,
          2.2713306562647673,
          -1.0851960684705424,
          -1.570147459967214,
          0.34576961774812714,
          0.8703889358199863,
          1.2367572823310422,
          1.3781590168114433,
          1.6483301874280925,
          1.3376056922248774,
          0.6753253952993254,
          1.483120340763066,
          -1.4696468790989143,
          0.18006693944434077,
          -0.6444227711806647,
          1.342402191198624,
          0.3795249191416694,
          0.34893084837192684,
          0.5547093859793416,
          -0.7615597381780371,
          -0.34604453437406435,
          -0.467604005429489,
          -0.675717935618517,
          0.4451618761638253,
          -0.28832274185004775,
          0.8908517457098541
         ],
         "y": [
          1.7013820185635982,
          0.016734098968908245,
          2.2184867506604347,
          0.44451676757382264,
          1.703802666363377,
          0.5510780102731614,
          -0.007384714327293,
          -0.35835576270049563,
          1.6179370471689394,
          -1.169620835636566,
          -0.36772215073358494,
          0.182065915329453,
          -0.3975451539297147,
          0.6205506166419125,
          -1.098210734843599,
          0.20041257042194804,
          -0.426836602355439,
          2.277927386764877,
          -1.1017588091404427,
          0.152675931119196,
          0.26089294030064775,
          0.16790296118827935,
          1.117498940581288,
          0.1184339640900317,
          -0.329283204486584,
          -0.48503749507682914,
          0.10287082937910579,
          -0.14335257092830764,
          0.8278903286727461,
          -1.2152889355373417,
          1.8688574824406747,
          -2.224014721044174,
          0.5480537392492857,
          -0.4147767422144272,
          0.9111740247529115,
          -0.2528222104299852,
          -0.328512170305908,
          1.5075951910841419,
          1.1498989386135394,
          -0.35747433861149613,
          0.2600226018296949,
          -2.1464321877023447,
          -0.45158829898502395,
          -1.219746472073381,
          0.8502524893445202,
          0.9462632125257172,
          -1.7598783345103384,
          -0.2997902477697803,
          -0.04572481337190753,
          0.6882101545853919,
          -0.8189329172921694,
          0.5734955778855265,
          1.185944352107926,
          -0.20946517839781378,
          -1.3897673074849386,
          0.05787704017837233,
          -0.4511274628719261,
          0.09277799280316695,
          -1.2173858066388004,
          1.6667919772825086,
          0.7189158983152318,
          -0.9056304694239788,
          -0.4677796938681007,
          -1.6548913931086122,
          2.2516119970191237,
          0.9837585001186746,
          0.4878811018427395,
          -1.112952019281889,
          0.216206728493171,
          2.299476542354412,
          -1.4070242741765342,
          -0.45055928068229417,
          0.46767482889353085,
          0.32182309910940193,
          1.2080200190126147,
          0.9669139668088189,
          0.31402593167975984,
          0.714031354188266,
          -0.43036799689653804,
          -0.10611543689348711,
          -0.3206654621288512,
          -1.2964482536527433,
          1.466932859869416,
          1.138962013851952,
          0.4980801447568573,
          1.6032529424100892,
          -0.3434705413925944,
          -0.4314394981069506,
          -0.4718651054692796,
          -2.176081195391494,
          -0.4843139984008415,
          -0.5920273380597912,
          -0.5227207238304532,
          0.5926508580560483,
          -0.429051904089719,
          0.6569896275867015,
          1.7338054889903347,
          -1.8873414584768677,
          -0.9113554907885516,
          0.2599158976535608
         ]
        }
       ],
       "layout": {
        "legend": {
         "bgcolor": "#F5F6F9",
         "font": {
          "color": "#4D5663"
         }
        },
        "paper_bgcolor": "#F5F6F9",
        "plot_bgcolor": "#F5F6F9",
        "template": {
         "data": {
          "bar": [
           {
            "error_x": {
             "color": "#2a3f5f"
            },
            "error_y": {
             "color": "#2a3f5f"
            },
            "marker": {
             "line": {
              "color": "#E5ECF6",
              "width": 0.5
             }
            },
            "type": "bar"
           }
          ],
          "barpolar": [
           {
            "marker": {
             "line": {
              "color": "#E5ECF6",
              "width": 0.5
             }
            },
            "type": "barpolar"
           }
          ],
          "carpet": [
           {
            "aaxis": {
             "endlinecolor": "#2a3f5f",
             "gridcolor": "white",
             "linecolor": "white",
             "minorgridcolor": "white",
             "startlinecolor": "#2a3f5f"
            },
            "baxis": {
             "endlinecolor": "#2a3f5f",
             "gridcolor": "white",
             "linecolor": "white",
             "minorgridcolor": "white",
             "startlinecolor": "#2a3f5f"
            },
            "type": "carpet"
           }
          ],
          "choropleth": [
           {
            "colorbar": {
             "outlinewidth": 0,
             "ticks": ""
            },
            "type": "choropleth"
           }
          ],
          "contour": [
           {
            "colorbar": {
             "outlinewidth": 0,
             "ticks": ""
            },
            "colorscale": [
             [
              0,
              "#0d0887"
             ],
             [
              0.1111111111111111,
              "#46039f"
             ],
             [
              0.2222222222222222,
              "#7201a8"
             ],
             [
              0.3333333333333333,
              "#9c179e"
             ],
             [
              0.4444444444444444,
              "#bd3786"
             ],
             [
              0.5555555555555556,
              "#d8576b"
             ],
             [
              0.6666666666666666,
              "#ed7953"
             ],
             [
              0.7777777777777778,
              "#fb9f3a"
             ],
             [
              0.8888888888888888,
              "#fdca26"
             ],
             [
              1,
              "#f0f921"
             ]
            ],
            "type": "contour"
           }
          ],
          "contourcarpet": [
           {
            "colorbar": {
             "outlinewidth": 0,
             "ticks": ""
            },
            "type": "contourcarpet"
           }
          ],
          "heatmap": [
           {
            "colorbar": {
             "outlinewidth": 0,
             "ticks": ""
            },
            "colorscale": [
             [
              0,
              "#0d0887"
             ],
             [
              0.1111111111111111,
              "#46039f"
             ],
             [
              0.2222222222222222,
              "#7201a8"
             ],
             [
              0.3333333333333333,
              "#9c179e"
             ],
             [
              0.4444444444444444,
              "#bd3786"
             ],
             [
              0.5555555555555556,
              "#d8576b"
             ],
             [
              0.6666666666666666,
              "#ed7953"
             ],
             [
              0.7777777777777778,
              "#fb9f3a"
             ],
             [
              0.8888888888888888,
              "#fdca26"
             ],
             [
              1,
              "#f0f921"
             ]
            ],
            "type": "heatmap"
           }
          ],
          "heatmapgl": [
           {
            "colorbar": {
             "outlinewidth": 0,
             "ticks": ""
            },
            "colorscale": [
             [
              0,
              "#0d0887"
             ],
             [
              0.1111111111111111,
              "#46039f"
             ],
             [
              0.2222222222222222,
              "#7201a8"
             ],
             [
              0.3333333333333333,
              "#9c179e"
             ],
             [
              0.4444444444444444,
              "#bd3786"
             ],
             [
              0.5555555555555556,
              "#d8576b"
             ],
             [
              0.6666666666666666,
              "#ed7953"
             ],
             [
              0.7777777777777778,
              "#fb9f3a"
             ],
             [
              0.8888888888888888,
              "#fdca26"
             ],
             [
              1,
              "#f0f921"
             ]
            ],
            "type": "heatmapgl"
           }
          ],
          "histogram": [
           {
            "marker": {
             "colorbar": {
              "outlinewidth": 0,
              "ticks": ""
             }
            },
            "type": "histogram"
           }
          ],
          "histogram2d": [
           {
            "colorbar": {
             "outlinewidth": 0,
             "ticks": ""
            },
            "colorscale": [
             [
              0,
              "#0d0887"
             ],
             [
              0.1111111111111111,
              "#46039f"
             ],
             [
              0.2222222222222222,
              "#7201a8"
             ],
             [
              0.3333333333333333,
              "#9c179e"
             ],
             [
              0.4444444444444444,
              "#bd3786"
             ],
             [
              0.5555555555555556,
              "#d8576b"
             ],
             [
              0.6666666666666666,
              "#ed7953"
             ],
             [
              0.7777777777777778,
              "#fb9f3a"
             ],
             [
              0.8888888888888888,
              "#fdca26"
             ],
             [
              1,
              "#f0f921"
             ]
            ],
            "type": "histogram2d"
           }
          ],
          "histogram2dcontour": [
           {
            "colorbar": {
             "outlinewidth": 0,
             "ticks": ""
            },
            "colorscale": [
             [
              0,
              "#0d0887"
             ],
             [
              0.1111111111111111,
              "#46039f"
             ],
             [
              0.2222222222222222,
              "#7201a8"
             ],
             [
              0.3333333333333333,
              "#9c179e"
             ],
             [
              0.4444444444444444,
              "#bd3786"
             ],
             [
              0.5555555555555556,
              "#d8576b"
             ],
             [
              0.6666666666666666,
              "#ed7953"
             ],
             [
              0.7777777777777778,
              "#fb9f3a"
             ],
             [
              0.8888888888888888,
              "#fdca26"
             ],
             [
              1,
              "#f0f921"
             ]
            ],
            "type": "histogram2dcontour"
           }
          ],
          "mesh3d": [
           {
            "colorbar": {
             "outlinewidth": 0,
             "ticks": ""
            },
            "type": "mesh3d"
           }
          ],
          "parcoords": [
           {
            "line": {
             "colorbar": {
              "outlinewidth": 0,
              "ticks": ""
             }
            },
            "type": "parcoords"
           }
          ],
          "pie": [
           {
            "automargin": true,
            "type": "pie"
           }
          ],
          "scatter": [
           {
            "marker": {
             "colorbar": {
              "outlinewidth": 0,
              "ticks": ""
             }
            },
            "type": "scatter"
           }
          ],
          "scatter3d": [
           {
            "line": {
             "colorbar": {
              "outlinewidth": 0,
              "ticks": ""
             }
            },
            "marker": {
             "colorbar": {
              "outlinewidth": 0,
              "ticks": ""
             }
            },
            "type": "scatter3d"
           }
          ],
          "scattercarpet": [
           {
            "marker": {
             "colorbar": {
              "outlinewidth": 0,
              "ticks": ""
             }
            },
            "type": "scattercarpet"
           }
          ],
          "scattergeo": [
           {
            "marker": {
             "colorbar": {
              "outlinewidth": 0,
              "ticks": ""
             }
            },
            "type": "scattergeo"
           }
          ],
          "scattergl": [
           {
            "marker": {
             "colorbar": {
              "outlinewidth": 0,
              "ticks": ""
             }
            },
            "type": "scattergl"
           }
          ],
          "scattermapbox": [
           {
            "marker": {
             "colorbar": {
              "outlinewidth": 0,
              "ticks": ""
             }
            },
            "type": "scattermapbox"
           }
          ],
          "scatterpolar": [
           {
            "marker": {
             "colorbar": {
              "outlinewidth": 0,
              "ticks": ""
             }
            },
            "type": "scatterpolar"
           }
          ],
          "scatterpolargl": [
           {
            "marker": {
             "colorbar": {
              "outlinewidth": 0,
              "ticks": ""
             }
            },
            "type": "scatterpolargl"
           }
          ],
          "scatterternary": [
           {
            "marker": {
             "colorbar": {
              "outlinewidth": 0,
              "ticks": ""
             }
            },
            "type": "scatterternary"
           }
          ],
          "surface": [
           {
            "colorbar": {
             "outlinewidth": 0,
             "ticks": ""
            },
            "colorscale": [
             [
              0,
              "#0d0887"
             ],
             [
              0.1111111111111111,
              "#46039f"
             ],
             [
              0.2222222222222222,
              "#7201a8"
             ],
             [
              0.3333333333333333,
              "#9c179e"
             ],
             [
              0.4444444444444444,
              "#bd3786"
             ],
             [
              0.5555555555555556,
              "#d8576b"
             ],
             [
              0.6666666666666666,
              "#ed7953"
             ],
             [
              0.7777777777777778,
              "#fb9f3a"
             ],
             [
              0.8888888888888888,
              "#fdca26"
             ],
             [
              1,
              "#f0f921"
             ]
            ],
            "type": "surface"
           }
          ],
          "table": [
           {
            "cells": {
             "fill": {
              "color": "#EBF0F8"
             },
             "line": {
              "color": "white"
             }
            },
            "header": {
             "fill": {
              "color": "#C8D4E3"
             },
             "line": {
              "color": "white"
             }
            },
            "type": "table"
           }
          ]
         },
         "layout": {
          "annotationdefaults": {
           "arrowcolor": "#2a3f5f",
           "arrowhead": 0,
           "arrowwidth": 1
          },
          "autotypenumbers": "strict",
          "coloraxis": {
           "colorbar": {
            "outlinewidth": 0,
            "ticks": ""
           }
          },
          "colorscale": {
           "diverging": [
            [
             0,
             "#8e0152"
            ],
            [
             0.1,
             "#c51b7d"
            ],
            [
             0.2,
             "#de77ae"
            ],
            [
             0.3,
             "#f1b6da"
            ],
            [
             0.4,
             "#fde0ef"
            ],
            [
             0.5,
             "#f7f7f7"
            ],
            [
             0.6,
             "#e6f5d0"
            ],
            [
             0.7,
             "#b8e186"
            ],
            [
             0.8,
             "#7fbc41"
            ],
            [
             0.9,
             "#4d9221"
            ],
            [
             1,
             "#276419"
            ]
           ],
           "sequential": [
            [
             0,
             "#0d0887"
            ],
            [
             0.1111111111111111,
             "#46039f"
            ],
            [
             0.2222222222222222,
             "#7201a8"
            ],
            [
             0.3333333333333333,
             "#9c179e"
            ],
            [
             0.4444444444444444,
             "#bd3786"
            ],
            [
             0.5555555555555556,
             "#d8576b"
            ],
            [
             0.6666666666666666,
             "#ed7953"
            ],
            [
             0.7777777777777778,
             "#fb9f3a"
            ],
            [
             0.8888888888888888,
             "#fdca26"
            ],
            [
             1,
             "#f0f921"
            ]
           ],
           "sequentialminus": [
            [
             0,
             "#0d0887"
            ],
            [
             0.1111111111111111,
             "#46039f"
            ],
            [
             0.2222222222222222,
             "#7201a8"
            ],
            [
             0.3333333333333333,
             "#9c179e"
            ],
            [
             0.4444444444444444,
             "#bd3786"
            ],
            [
             0.5555555555555556,
             "#d8576b"
            ],
            [
             0.6666666666666666,
             "#ed7953"
            ],
            [
             0.7777777777777778,
             "#fb9f3a"
            ],
            [
             0.8888888888888888,
             "#fdca26"
            ],
            [
             1,
             "#f0f921"
            ]
           ]
          },
          "colorway": [
           "#636efa",
           "#EF553B",
           "#00cc96",
           "#ab63fa",
           "#FFA15A",
           "#19d3f3",
           "#FF6692",
           "#B6E880",
           "#FF97FF",
           "#FECB52"
          ],
          "font": {
           "color": "#2a3f5f"
          },
          "geo": {
           "bgcolor": "white",
           "lakecolor": "white",
           "landcolor": "#E5ECF6",
           "showlakes": true,
           "showland": true,
           "subunitcolor": "white"
          },
          "hoverlabel": {
           "align": "left"
          },
          "hovermode": "closest",
          "mapbox": {
           "style": "light"
          },
          "paper_bgcolor": "white",
          "plot_bgcolor": "#E5ECF6",
          "polar": {
           "angularaxis": {
            "gridcolor": "white",
            "linecolor": "white",
            "ticks": ""
           },
           "bgcolor": "#E5ECF6",
           "radialaxis": {
            "gridcolor": "white",
            "linecolor": "white",
            "ticks": ""
           }
          },
          "scene": {
           "xaxis": {
            "backgroundcolor": "#E5ECF6",
            "gridcolor": "white",
            "gridwidth": 2,
            "linecolor": "white",
            "showbackground": true,
            "ticks": "",
            "zerolinecolor": "white"
           },
           "yaxis": {
            "backgroundcolor": "#E5ECF6",
            "gridcolor": "white",
            "gridwidth": 2,
            "linecolor": "white",
            "showbackground": true,
            "ticks": "",
            "zerolinecolor": "white"
           },
           "zaxis": {
            "backgroundcolor": "#E5ECF6",
            "gridcolor": "white",
            "gridwidth": 2,
            "linecolor": "white",
            "showbackground": true,
            "ticks": "",
            "zerolinecolor": "white"
           }
          },
          "shapedefaults": {
           "line": {
            "color": "#2a3f5f"
           }
          },
          "ternary": {
           "aaxis": {
            "gridcolor": "white",
            "linecolor": "white",
            "ticks": ""
           },
           "baxis": {
            "gridcolor": "white",
            "linecolor": "white",
            "ticks": ""
           },
           "bgcolor": "#E5ECF6",
           "caxis": {
            "gridcolor": "white",
            "linecolor": "white",
            "ticks": ""
           }
          },
          "title": {
           "x": 0.05
          },
          "xaxis": {
           "automargin": true,
           "gridcolor": "white",
           "linecolor": "white",
           "ticks": "",
           "title": {
            "standoff": 15
           },
           "zerolinecolor": "white",
           "zerolinewidth": 2
          },
          "yaxis": {
           "automargin": true,
           "gridcolor": "white",
           "linecolor": "white",
           "ticks": "",
           "title": {
            "standoff": 15
           },
           "zerolinecolor": "white",
           "zerolinewidth": 2
          }
         }
        },
        "title": {
         "font": {
          "color": "#4D5663"
         }
        },
        "xaxis": {
         "gridcolor": "#E1E5ED",
         "showgrid": true,
         "tickfont": {
          "color": "#4D5663"
         },
         "title": {
          "font": {
           "color": "#4D5663"
          },
          "text": ""
         },
         "zerolinecolor": "#E1E5ED"
        },
        "yaxis": {
         "gridcolor": "#E1E5ED",
         "showgrid": true,
         "tickfont": {
          "color": "#4D5663"
         },
         "title": {
          "font": {
           "color": "#4D5663"
          },
          "text": ""
         },
         "zerolinecolor": "#E1E5ED"
        }
       }
      },
      "text/html": [
       "<div>                            <div id=\"dfbafe9d-c3be-48f4-b6fa-08202bde0067\" class=\"plotly-graph-div\" style=\"height:525px; width:100%;\"></div>            <script type=\"text/javascript\">                require([\"plotly\"], function(Plotly) {                    window.PLOTLYENV=window.PLOTLYENV || {};\n",
       "                    window.PLOTLYENV.BASE_URL='https://plot.ly';                                    if (document.getElementById(\"dfbafe9d-c3be-48f4-b6fa-08202bde0067\")) {                    Plotly.newPlot(                        \"dfbafe9d-c3be-48f4-b6fa-08202bde0067\",                        [{\"line\": {\"color\": \"rgba(255, 153, 51, 1.0)\", \"dash\": \"solid\", \"shape\": \"linear\", \"width\": 1.3}, \"marker\": {\"size\": 10, \"symbol\": \"circle\"}, \"mode\": \"markers\", \"name\": \"B\", \"text\": \"\", \"type\": \"scatter\", \"x\": [-1.0869584731134463, 0.27451744742966855, 0.898589965888706, -0.16552031190222838, -1.2734743934645587, 1.3785347245530486, 0.7868745774402074, 0.7766436984162196, 0.22616856791677742, 0.007405250672447983, 0.64366447216253, -1.7626137628640837, 0.4441052137532636, -0.2108770255901744, 0.6198112180793899, -1.8287242831076582, -0.9431897712379231, -0.6477520870136391, 0.6508763934079177, 0.7908879119638564, -0.5437926157664298, 0.11492643070611391, 0.3974511774942038, -1.8055711983924294, -0.8523522195491334, -0.558736594859252, -1.1473397416674855, -0.16454004935997768, -0.660716242116677, 0.049352004212177884, -0.057314717313838005, -0.43941827438359155, 0.0277344949358772, -0.7062001067991027, 0.20462323016526873, 0.3496160101587443, 0.6577663410748592, -0.2758959541944502, 2.0705732352146224, -0.09914233320171727, 1.3172585301650261, -0.7394903007107098, 0.007553436342522031, 0.016748848512975506, -0.5611598750145692, -0.48601745121375417, -0.13367046078164657, 0.037363970053662626, 0.6178066666029638, 1.3796647232899897, -0.6931058583317703, -0.9972334923098112, 1.3641795786608075, -1.106805521135824, 1.0854563377341457, -0.09555624054883202, 0.6288015463938761, -0.8760011405423394, 1.2336403186919789, 0.033956099774664385, 2.1407935064284773, 0.6385182836690706, -0.5269728709133601, -0.5847843726513189, -2.3494435331723307, -0.18399978217020438, 0.16960257341940285, 0.46380914522191813, -0.3056312698113668, 0.7936378599682448, 0.810159922841156, 1.7683652861021277, 0.9765976549826945, 0.21326281672362585, -0.31880949249799556, 2.2713306562647673, -1.0851960684705424, -1.570147459967214, 0.34576961774812714, 0.8703889358199863, 1.2367572823310422, 1.3781590168114433, 1.6483301874280925, 1.3376056922248774, 0.6753253952993254, 1.483120340763066, -1.4696468790989143, 0.18006693944434077, -0.6444227711806647, 1.342402191198624, 0.3795249191416694, 0.34893084837192684, 0.5547093859793416, -0.7615597381780371, -0.34604453437406435, -0.467604005429489, -0.675717935618517, 0.4451618761638253, -0.28832274185004775, 0.8908517457098541], \"y\": [1.7013820185635982, 0.016734098968908245, 2.2184867506604347, 0.44451676757382264, 1.703802666363377, 0.5510780102731614, -0.007384714327293, -0.35835576270049563, 1.6179370471689394, -1.169620835636566, -0.36772215073358494, 0.182065915329453, -0.3975451539297147, 0.6205506166419125, -1.098210734843599, 0.20041257042194804, -0.426836602355439, 2.277927386764877, -1.1017588091404427, 0.152675931119196, 0.26089294030064775, 0.16790296118827935, 1.117498940581288, 0.1184339640900317, -0.329283204486584, -0.48503749507682914, 0.10287082937910579, -0.14335257092830764, 0.8278903286727461, -1.2152889355373417, 1.8688574824406747, -2.224014721044174, 0.5480537392492857, -0.4147767422144272, 0.9111740247529115, -0.2528222104299852, -0.328512170305908, 1.5075951910841419, 1.1498989386135394, -0.35747433861149613, 0.2600226018296949, -2.1464321877023447, -0.45158829898502395, -1.219746472073381, 0.8502524893445202, 0.9462632125257172, -1.7598783345103384, -0.2997902477697803, -0.04572481337190753, 0.6882101545853919, -0.8189329172921694, 0.5734955778855265, 1.185944352107926, -0.20946517839781378, -1.3897673074849386, 0.05787704017837233, -0.4511274628719261, 0.09277799280316695, -1.2173858066388004, 1.6667919772825086, 0.7189158983152318, -0.9056304694239788, -0.4677796938681007, -1.6548913931086122, 2.2516119970191237, 0.9837585001186746, 0.4878811018427395, -1.112952019281889, 0.216206728493171, 2.299476542354412, -1.4070242741765342, -0.45055928068229417, 0.46767482889353085, 0.32182309910940193, 1.2080200190126147, 0.9669139668088189, 0.31402593167975984, 0.714031354188266, -0.43036799689653804, -0.10611543689348711, -0.3206654621288512, -1.2964482536527433, 1.466932859869416, 1.138962013851952, 0.4980801447568573, 1.6032529424100892, -0.3434705413925944, -0.4314394981069506, -0.4718651054692796, -2.176081195391494, -0.4843139984008415, -0.5920273380597912, -0.5227207238304532, 0.5926508580560483, -0.429051904089719, 0.6569896275867015, 1.7338054889903347, -1.8873414584768677, -0.9113554907885516, 0.2599158976535608]}],                        {\"legend\": {\"bgcolor\": \"#F5F6F9\", \"font\": {\"color\": \"#4D5663\"}}, \"paper_bgcolor\": \"#F5F6F9\", \"plot_bgcolor\": \"#F5F6F9\", \"template\": {\"data\": {\"bar\": [{\"error_x\": {\"color\": \"#2a3f5f\"}, \"error_y\": {\"color\": \"#2a3f5f\"}, \"marker\": {\"line\": {\"color\": \"#E5ECF6\", \"width\": 0.5}}, \"type\": \"bar\"}], \"barpolar\": [{\"marker\": {\"line\": {\"color\": \"#E5ECF6\", \"width\": 0.5}}, \"type\": \"barpolar\"}], \"carpet\": [{\"aaxis\": {\"endlinecolor\": \"#2a3f5f\", \"gridcolor\": \"white\", \"linecolor\": \"white\", \"minorgridcolor\": \"white\", \"startlinecolor\": \"#2a3f5f\"}, \"baxis\": {\"endlinecolor\": \"#2a3f5f\", \"gridcolor\": \"white\", \"linecolor\": \"white\", \"minorgridcolor\": \"white\", \"startlinecolor\": \"#2a3f5f\"}, \"type\": \"carpet\"}], \"choropleth\": [{\"colorbar\": {\"outlinewidth\": 0, \"ticks\": \"\"}, \"type\": \"choropleth\"}], \"contour\": [{\"colorbar\": {\"outlinewidth\": 0, \"ticks\": \"\"}, \"colorscale\": [[0.0, \"#0d0887\"], [0.1111111111111111, \"#46039f\"], [0.2222222222222222, \"#7201a8\"], [0.3333333333333333, \"#9c179e\"], [0.4444444444444444, \"#bd3786\"], [0.5555555555555556, \"#d8576b\"], [0.6666666666666666, \"#ed7953\"], [0.7777777777777778, \"#fb9f3a\"], [0.8888888888888888, \"#fdca26\"], [1.0, \"#f0f921\"]], \"type\": \"contour\"}], \"contourcarpet\": [{\"colorbar\": {\"outlinewidth\": 0, \"ticks\": \"\"}, \"type\": \"contourcarpet\"}], \"heatmap\": [{\"colorbar\": {\"outlinewidth\": 0, \"ticks\": \"\"}, \"colorscale\": [[0.0, \"#0d0887\"], [0.1111111111111111, \"#46039f\"], [0.2222222222222222, \"#7201a8\"], [0.3333333333333333, \"#9c179e\"], [0.4444444444444444, \"#bd3786\"], [0.5555555555555556, \"#d8576b\"], [0.6666666666666666, \"#ed7953\"], [0.7777777777777778, \"#fb9f3a\"], [0.8888888888888888, \"#fdca26\"], [1.0, \"#f0f921\"]], \"type\": \"heatmap\"}], \"heatmapgl\": [{\"colorbar\": {\"outlinewidth\": 0, \"ticks\": \"\"}, \"colorscale\": [[0.0, \"#0d0887\"], [0.1111111111111111, \"#46039f\"], [0.2222222222222222, \"#7201a8\"], [0.3333333333333333, \"#9c179e\"], [0.4444444444444444, \"#bd3786\"], [0.5555555555555556, \"#d8576b\"], [0.6666666666666666, \"#ed7953\"], [0.7777777777777778, \"#fb9f3a\"], [0.8888888888888888, \"#fdca26\"], [1.0, \"#f0f921\"]], \"type\": \"heatmapgl\"}], \"histogram\": [{\"marker\": {\"colorbar\": {\"outlinewidth\": 0, \"ticks\": \"\"}}, \"type\": \"histogram\"}], \"histogram2d\": [{\"colorbar\": {\"outlinewidth\": 0, \"ticks\": \"\"}, \"colorscale\": [[0.0, \"#0d0887\"], [0.1111111111111111, \"#46039f\"], [0.2222222222222222, \"#7201a8\"], [0.3333333333333333, \"#9c179e\"], [0.4444444444444444, \"#bd3786\"], [0.5555555555555556, \"#d8576b\"], [0.6666666666666666, \"#ed7953\"], [0.7777777777777778, \"#fb9f3a\"], [0.8888888888888888, \"#fdca26\"], [1.0, \"#f0f921\"]], \"type\": \"histogram2d\"}], \"histogram2dcontour\": [{\"colorbar\": {\"outlinewidth\": 0, \"ticks\": \"\"}, \"colorscale\": [[0.0, \"#0d0887\"], [0.1111111111111111, \"#46039f\"], [0.2222222222222222, \"#7201a8\"], [0.3333333333333333, \"#9c179e\"], [0.4444444444444444, \"#bd3786\"], [0.5555555555555556, \"#d8576b\"], [0.6666666666666666, \"#ed7953\"], [0.7777777777777778, \"#fb9f3a\"], [0.8888888888888888, \"#fdca26\"], [1.0, \"#f0f921\"]], \"type\": \"histogram2dcontour\"}], \"mesh3d\": [{\"colorbar\": {\"outlinewidth\": 0, \"ticks\": \"\"}, \"type\": \"mesh3d\"}], \"parcoords\": [{\"line\": {\"colorbar\": {\"outlinewidth\": 0, \"ticks\": \"\"}}, \"type\": \"parcoords\"}], \"pie\": [{\"automargin\": true, \"type\": \"pie\"}], \"scatter\": [{\"marker\": {\"colorbar\": {\"outlinewidth\": 0, \"ticks\": \"\"}}, \"type\": \"scatter\"}], \"scatter3d\": [{\"line\": {\"colorbar\": {\"outlinewidth\": 0, \"ticks\": \"\"}}, \"marker\": {\"colorbar\": {\"outlinewidth\": 0, \"ticks\": \"\"}}, \"type\": \"scatter3d\"}], \"scattercarpet\": [{\"marker\": {\"colorbar\": {\"outlinewidth\": 0, \"ticks\": \"\"}}, \"type\": \"scattercarpet\"}], \"scattergeo\": [{\"marker\": {\"colorbar\": {\"outlinewidth\": 0, \"ticks\": \"\"}}, \"type\": \"scattergeo\"}], \"scattergl\": [{\"marker\": {\"colorbar\": {\"outlinewidth\": 0, \"ticks\": \"\"}}, \"type\": \"scattergl\"}], \"scattermapbox\": [{\"marker\": {\"colorbar\": {\"outlinewidth\": 0, \"ticks\": \"\"}}, \"type\": \"scattermapbox\"}], \"scatterpolar\": [{\"marker\": {\"colorbar\": {\"outlinewidth\": 0, \"ticks\": \"\"}}, \"type\": \"scatterpolar\"}], \"scatterpolargl\": [{\"marker\": {\"colorbar\": {\"outlinewidth\": 0, \"ticks\": \"\"}}, \"type\": \"scatterpolargl\"}], \"scatterternary\": [{\"marker\": {\"colorbar\": {\"outlinewidth\": 0, \"ticks\": \"\"}}, \"type\": \"scatterternary\"}], \"surface\": [{\"colorbar\": {\"outlinewidth\": 0, \"ticks\": \"\"}, \"colorscale\": [[0.0, \"#0d0887\"], [0.1111111111111111, \"#46039f\"], [0.2222222222222222, \"#7201a8\"], [0.3333333333333333, \"#9c179e\"], [0.4444444444444444, \"#bd3786\"], [0.5555555555555556, \"#d8576b\"], [0.6666666666666666, \"#ed7953\"], [0.7777777777777778, \"#fb9f3a\"], [0.8888888888888888, \"#fdca26\"], [1.0, \"#f0f921\"]], \"type\": \"surface\"}], \"table\": [{\"cells\": {\"fill\": {\"color\": \"#EBF0F8\"}, \"line\": {\"color\": \"white\"}}, \"header\": {\"fill\": {\"color\": \"#C8D4E3\"}, \"line\": {\"color\": \"white\"}}, \"type\": \"table\"}]}, \"layout\": {\"annotationdefaults\": {\"arrowcolor\": \"#2a3f5f\", \"arrowhead\": 0, \"arrowwidth\": 1}, \"autotypenumbers\": \"strict\", \"coloraxis\": {\"colorbar\": {\"outlinewidth\": 0, \"ticks\": \"\"}}, \"colorscale\": {\"diverging\": [[0, \"#8e0152\"], [0.1, \"#c51b7d\"], [0.2, \"#de77ae\"], [0.3, \"#f1b6da\"], [0.4, \"#fde0ef\"], [0.5, \"#f7f7f7\"], [0.6, \"#e6f5d0\"], [0.7, \"#b8e186\"], [0.8, \"#7fbc41\"], [0.9, \"#4d9221\"], [1, \"#276419\"]], \"sequential\": [[0.0, \"#0d0887\"], [0.1111111111111111, \"#46039f\"], [0.2222222222222222, \"#7201a8\"], [0.3333333333333333, \"#9c179e\"], [0.4444444444444444, \"#bd3786\"], [0.5555555555555556, \"#d8576b\"], [0.6666666666666666, \"#ed7953\"], [0.7777777777777778, \"#fb9f3a\"], [0.8888888888888888, \"#fdca26\"], [1.0, \"#f0f921\"]], \"sequentialminus\": [[0.0, \"#0d0887\"], [0.1111111111111111, \"#46039f\"], [0.2222222222222222, \"#7201a8\"], [0.3333333333333333, \"#9c179e\"], [0.4444444444444444, \"#bd3786\"], [0.5555555555555556, \"#d8576b\"], [0.6666666666666666, \"#ed7953\"], [0.7777777777777778, \"#fb9f3a\"], [0.8888888888888888, \"#fdca26\"], [1.0, \"#f0f921\"]]}, \"colorway\": [\"#636efa\", \"#EF553B\", \"#00cc96\", \"#ab63fa\", \"#FFA15A\", \"#19d3f3\", \"#FF6692\", \"#B6E880\", \"#FF97FF\", \"#FECB52\"], \"font\": {\"color\": \"#2a3f5f\"}, \"geo\": {\"bgcolor\": \"white\", \"lakecolor\": \"white\", \"landcolor\": \"#E5ECF6\", \"showlakes\": true, \"showland\": true, \"subunitcolor\": \"white\"}, \"hoverlabel\": {\"align\": \"left\"}, \"hovermode\": \"closest\", \"mapbox\": {\"style\": \"light\"}, \"paper_bgcolor\": \"white\", \"plot_bgcolor\": \"#E5ECF6\", \"polar\": {\"angularaxis\": {\"gridcolor\": \"white\", \"linecolor\": \"white\", \"ticks\": \"\"}, \"bgcolor\": \"#E5ECF6\", \"radialaxis\": {\"gridcolor\": \"white\", \"linecolor\": \"white\", \"ticks\": \"\"}}, \"scene\": {\"xaxis\": {\"backgroundcolor\": \"#E5ECF6\", \"gridcolor\": \"white\", \"gridwidth\": 2, \"linecolor\": \"white\", \"showbackground\": true, \"ticks\": \"\", \"zerolinecolor\": \"white\"}, \"yaxis\": {\"backgroundcolor\": \"#E5ECF6\", \"gridcolor\": \"white\", \"gridwidth\": 2, \"linecolor\": \"white\", \"showbackground\": true, \"ticks\": \"\", \"zerolinecolor\": \"white\"}, \"zaxis\": {\"backgroundcolor\": \"#E5ECF6\", \"gridcolor\": \"white\", \"gridwidth\": 2, \"linecolor\": \"white\", \"showbackground\": true, \"ticks\": \"\", \"zerolinecolor\": \"white\"}}, \"shapedefaults\": {\"line\": {\"color\": \"#2a3f5f\"}}, \"ternary\": {\"aaxis\": {\"gridcolor\": \"white\", \"linecolor\": \"white\", \"ticks\": \"\"}, \"baxis\": {\"gridcolor\": \"white\", \"linecolor\": \"white\", \"ticks\": \"\"}, \"bgcolor\": \"#E5ECF6\", \"caxis\": {\"gridcolor\": \"white\", \"linecolor\": \"white\", \"ticks\": \"\"}}, \"title\": {\"x\": 0.05}, \"xaxis\": {\"automargin\": true, \"gridcolor\": \"white\", \"linecolor\": \"white\", \"ticks\": \"\", \"title\": {\"standoff\": 15}, \"zerolinecolor\": \"white\", \"zerolinewidth\": 2}, \"yaxis\": {\"automargin\": true, \"gridcolor\": \"white\", \"linecolor\": \"white\", \"ticks\": \"\", \"title\": {\"standoff\": 15}, \"zerolinecolor\": \"white\", \"zerolinewidth\": 2}}}, \"title\": {\"font\": {\"color\": \"#4D5663\"}}, \"xaxis\": {\"gridcolor\": \"#E1E5ED\", \"showgrid\": true, \"tickfont\": {\"color\": \"#4D5663\"}, \"title\": {\"font\": {\"color\": \"#4D5663\"}, \"text\": \"\"}, \"zerolinecolor\": \"#E1E5ED\"}, \"yaxis\": {\"gridcolor\": \"#E1E5ED\", \"showgrid\": true, \"tickfont\": {\"color\": \"#4D5663\"}, \"title\": {\"font\": {\"color\": \"#4D5663\"}, \"text\": \"\"}, \"zerolinecolor\": \"#E1E5ED\"}},                        {\"showLink\": true, \"linkText\": \"Export to plot.ly\", \"plotlyServerURL\": \"https://plot.ly\", \"responsive\": true}                    ).then(function(){\n",
       "                            \n",
       "var gd = document.getElementById('dfbafe9d-c3be-48f4-b6fa-08202bde0067');\n",
       "var x = new MutationObserver(function (mutations, observer) {{\n",
       "        var display = window.getComputedStyle(gd).display;\n",
       "        if (!display || display === 'none') {{\n",
       "            console.log([gd, 'removed!']);\n",
       "            Plotly.purge(gd);\n",
       "            observer.disconnect();\n",
       "        }}\n",
       "}});\n",
       "\n",
       "// Listen for the removal of the full notebook cells\n",
       "var notebookContainer = gd.closest('#notebook-container');\n",
       "if (notebookContainer) {{\n",
       "    x.observe(notebookContainer, {childList: true});\n",
       "}}\n",
       "\n",
       "// Listen for the clearing of the current output cell\n",
       "var outputEl = gd.closest('.output');\n",
       "if (outputEl) {{\n",
       "    x.observe(outputEl, {childList: true});\n",
       "}}\n",
       "\n",
       "                        })                };                });            </script>        </div>"
      ]
     },
     "metadata": {},
     "output_type": "display_data"
    }
   ],
   "source": [
    "df.iplot(kind='scatter',x='A',y='B',mode='markers',size=10)"
   ]
  },
  {
   "cell_type": "markdown",
   "metadata": {},
   "source": [
    "## Bar Plots"
   ]
  },
  {
   "cell_type": "code",
   "execution_count": 11,
   "metadata": {},
   "outputs": [
    {
     "data": {
      "application/vnd.plotly.v1+json": {
       "config": {
        "linkText": "Export to plot.ly",
        "plotlyServerURL": "https://plot.ly",
        "showLink": true
       },
       "data": [
        {
         "marker": {
          "color": "rgba(255, 153, 51, 0.6)",
          "line": {
           "color": "rgba(255, 153, 51, 1.0)",
           "width": 1
          }
         },
         "name": "Values",
         "orientation": "v",
         "text": "",
         "type": "bar",
         "x": [
          "A",
          "B",
          "C"
         ],
         "y": [
          32,
          43,
          50
         ]
        }
       ],
       "layout": {
        "legend": {
         "bgcolor": "#F5F6F9",
         "font": {
          "color": "#4D5663"
         }
        },
        "paper_bgcolor": "#F5F6F9",
        "plot_bgcolor": "#F5F6F9",
        "template": {
         "data": {
          "bar": [
           {
            "error_x": {
             "color": "#2a3f5f"
            },
            "error_y": {
             "color": "#2a3f5f"
            },
            "marker": {
             "line": {
              "color": "#E5ECF6",
              "width": 0.5
             }
            },
            "type": "bar"
           }
          ],
          "barpolar": [
           {
            "marker": {
             "line": {
              "color": "#E5ECF6",
              "width": 0.5
             }
            },
            "type": "barpolar"
           }
          ],
          "carpet": [
           {
            "aaxis": {
             "endlinecolor": "#2a3f5f",
             "gridcolor": "white",
             "linecolor": "white",
             "minorgridcolor": "white",
             "startlinecolor": "#2a3f5f"
            },
            "baxis": {
             "endlinecolor": "#2a3f5f",
             "gridcolor": "white",
             "linecolor": "white",
             "minorgridcolor": "white",
             "startlinecolor": "#2a3f5f"
            },
            "type": "carpet"
           }
          ],
          "choropleth": [
           {
            "colorbar": {
             "outlinewidth": 0,
             "ticks": ""
            },
            "type": "choropleth"
           }
          ],
          "contour": [
           {
            "colorbar": {
             "outlinewidth": 0,
             "ticks": ""
            },
            "colorscale": [
             [
              0,
              "#0d0887"
             ],
             [
              0.1111111111111111,
              "#46039f"
             ],
             [
              0.2222222222222222,
              "#7201a8"
             ],
             [
              0.3333333333333333,
              "#9c179e"
             ],
             [
              0.4444444444444444,
              "#bd3786"
             ],
             [
              0.5555555555555556,
              "#d8576b"
             ],
             [
              0.6666666666666666,
              "#ed7953"
             ],
             [
              0.7777777777777778,
              "#fb9f3a"
             ],
             [
              0.8888888888888888,
              "#fdca26"
             ],
             [
              1,
              "#f0f921"
             ]
            ],
            "type": "contour"
           }
          ],
          "contourcarpet": [
           {
            "colorbar": {
             "outlinewidth": 0,
             "ticks": ""
            },
            "type": "contourcarpet"
           }
          ],
          "heatmap": [
           {
            "colorbar": {
             "outlinewidth": 0,
             "ticks": ""
            },
            "colorscale": [
             [
              0,
              "#0d0887"
             ],
             [
              0.1111111111111111,
              "#46039f"
             ],
             [
              0.2222222222222222,
              "#7201a8"
             ],
             [
              0.3333333333333333,
              "#9c179e"
             ],
             [
              0.4444444444444444,
              "#bd3786"
             ],
             [
              0.5555555555555556,
              "#d8576b"
             ],
             [
              0.6666666666666666,
              "#ed7953"
             ],
             [
              0.7777777777777778,
              "#fb9f3a"
             ],
             [
              0.8888888888888888,
              "#fdca26"
             ],
             [
              1,
              "#f0f921"
             ]
            ],
            "type": "heatmap"
           }
          ],
          "heatmapgl": [
           {
            "colorbar": {
             "outlinewidth": 0,
             "ticks": ""
            },
            "colorscale": [
             [
              0,
              "#0d0887"
             ],
             [
              0.1111111111111111,
              "#46039f"
             ],
             [
              0.2222222222222222,
              "#7201a8"
             ],
             [
              0.3333333333333333,
              "#9c179e"
             ],
             [
              0.4444444444444444,
              "#bd3786"
             ],
             [
              0.5555555555555556,
              "#d8576b"
             ],
             [
              0.6666666666666666,
              "#ed7953"
             ],
             [
              0.7777777777777778,
              "#fb9f3a"
             ],
             [
              0.8888888888888888,
              "#fdca26"
             ],
             [
              1,
              "#f0f921"
             ]
            ],
            "type": "heatmapgl"
           }
          ],
          "histogram": [
           {
            "marker": {
             "colorbar": {
              "outlinewidth": 0,
              "ticks": ""
             }
            },
            "type": "histogram"
           }
          ],
          "histogram2d": [
           {
            "colorbar": {
             "outlinewidth": 0,
             "ticks": ""
            },
            "colorscale": [
             [
              0,
              "#0d0887"
             ],
             [
              0.1111111111111111,
              "#46039f"
             ],
             [
              0.2222222222222222,
              "#7201a8"
             ],
             [
              0.3333333333333333,
              "#9c179e"
             ],
             [
              0.4444444444444444,
              "#bd3786"
             ],
             [
              0.5555555555555556,
              "#d8576b"
             ],
             [
              0.6666666666666666,
              "#ed7953"
             ],
             [
              0.7777777777777778,
              "#fb9f3a"
             ],
             [
              0.8888888888888888,
              "#fdca26"
             ],
             [
              1,
              "#f0f921"
             ]
            ],
            "type": "histogram2d"
           }
          ],
          "histogram2dcontour": [
           {
            "colorbar": {
             "outlinewidth": 0,
             "ticks": ""
            },
            "colorscale": [
             [
              0,
              "#0d0887"
             ],
             [
              0.1111111111111111,
              "#46039f"
             ],
             [
              0.2222222222222222,
              "#7201a8"
             ],
             [
              0.3333333333333333,
              "#9c179e"
             ],
             [
              0.4444444444444444,
              "#bd3786"
             ],
             [
              0.5555555555555556,
              "#d8576b"
             ],
             [
              0.6666666666666666,
              "#ed7953"
             ],
             [
              0.7777777777777778,
              "#fb9f3a"
             ],
             [
              0.8888888888888888,
              "#fdca26"
             ],
             [
              1,
              "#f0f921"
             ]
            ],
            "type": "histogram2dcontour"
           }
          ],
          "mesh3d": [
           {
            "colorbar": {
             "outlinewidth": 0,
             "ticks": ""
            },
            "type": "mesh3d"
           }
          ],
          "parcoords": [
           {
            "line": {
             "colorbar": {
              "outlinewidth": 0,
              "ticks": ""
             }
            },
            "type": "parcoords"
           }
          ],
          "pie": [
           {
            "automargin": true,
            "type": "pie"
           }
          ],
          "scatter": [
           {
            "marker": {
             "colorbar": {
              "outlinewidth": 0,
              "ticks": ""
             }
            },
            "type": "scatter"
           }
          ],
          "scatter3d": [
           {
            "line": {
             "colorbar": {
              "outlinewidth": 0,
              "ticks": ""
             }
            },
            "marker": {
             "colorbar": {
              "outlinewidth": 0,
              "ticks": ""
             }
            },
            "type": "scatter3d"
           }
          ],
          "scattercarpet": [
           {
            "marker": {
             "colorbar": {
              "outlinewidth": 0,
              "ticks": ""
             }
            },
            "type": "scattercarpet"
           }
          ],
          "scattergeo": [
           {
            "marker": {
             "colorbar": {
              "outlinewidth": 0,
              "ticks": ""
             }
            },
            "type": "scattergeo"
           }
          ],
          "scattergl": [
           {
            "marker": {
             "colorbar": {
              "outlinewidth": 0,
              "ticks": ""
             }
            },
            "type": "scattergl"
           }
          ],
          "scattermapbox": [
           {
            "marker": {
             "colorbar": {
              "outlinewidth": 0,
              "ticks": ""
             }
            },
            "type": "scattermapbox"
           }
          ],
          "scatterpolar": [
           {
            "marker": {
             "colorbar": {
              "outlinewidth": 0,
              "ticks": ""
             }
            },
            "type": "scatterpolar"
           }
          ],
          "scatterpolargl": [
           {
            "marker": {
             "colorbar": {
              "outlinewidth": 0,
              "ticks": ""
             }
            },
            "type": "scatterpolargl"
           }
          ],
          "scatterternary": [
           {
            "marker": {
             "colorbar": {
              "outlinewidth": 0,
              "ticks": ""
             }
            },
            "type": "scatterternary"
           }
          ],
          "surface": [
           {
            "colorbar": {
             "outlinewidth": 0,
             "ticks": ""
            },
            "colorscale": [
             [
              0,
              "#0d0887"
             ],
             [
              0.1111111111111111,
              "#46039f"
             ],
             [
              0.2222222222222222,
              "#7201a8"
             ],
             [
              0.3333333333333333,
              "#9c179e"
             ],
             [
              0.4444444444444444,
              "#bd3786"
             ],
             [
              0.5555555555555556,
              "#d8576b"
             ],
             [
              0.6666666666666666,
              "#ed7953"
             ],
             [
              0.7777777777777778,
              "#fb9f3a"
             ],
             [
              0.8888888888888888,
              "#fdca26"
             ],
             [
              1,
              "#f0f921"
             ]
            ],
            "type": "surface"
           }
          ],
          "table": [
           {
            "cells": {
             "fill": {
              "color": "#EBF0F8"
             },
             "line": {
              "color": "white"
             }
            },
            "header": {
             "fill": {
              "color": "#C8D4E3"
             },
             "line": {
              "color": "white"
             }
            },
            "type": "table"
           }
          ]
         },
         "layout": {
          "annotationdefaults": {
           "arrowcolor": "#2a3f5f",
           "arrowhead": 0,
           "arrowwidth": 1
          },
          "autotypenumbers": "strict",
          "coloraxis": {
           "colorbar": {
            "outlinewidth": 0,
            "ticks": ""
           }
          },
          "colorscale": {
           "diverging": [
            [
             0,
             "#8e0152"
            ],
            [
             0.1,
             "#c51b7d"
            ],
            [
             0.2,
             "#de77ae"
            ],
            [
             0.3,
             "#f1b6da"
            ],
            [
             0.4,
             "#fde0ef"
            ],
            [
             0.5,
             "#f7f7f7"
            ],
            [
             0.6,
             "#e6f5d0"
            ],
            [
             0.7,
             "#b8e186"
            ],
            [
             0.8,
             "#7fbc41"
            ],
            [
             0.9,
             "#4d9221"
            ],
            [
             1,
             "#276419"
            ]
           ],
           "sequential": [
            [
             0,
             "#0d0887"
            ],
            [
             0.1111111111111111,
             "#46039f"
            ],
            [
             0.2222222222222222,
             "#7201a8"
            ],
            [
             0.3333333333333333,
             "#9c179e"
            ],
            [
             0.4444444444444444,
             "#bd3786"
            ],
            [
             0.5555555555555556,
             "#d8576b"
            ],
            [
             0.6666666666666666,
             "#ed7953"
            ],
            [
             0.7777777777777778,
             "#fb9f3a"
            ],
            [
             0.8888888888888888,
             "#fdca26"
            ],
            [
             1,
             "#f0f921"
            ]
           ],
           "sequentialminus": [
            [
             0,
             "#0d0887"
            ],
            [
             0.1111111111111111,
             "#46039f"
            ],
            [
             0.2222222222222222,
             "#7201a8"
            ],
            [
             0.3333333333333333,
             "#9c179e"
            ],
            [
             0.4444444444444444,
             "#bd3786"
            ],
            [
             0.5555555555555556,
             "#d8576b"
            ],
            [
             0.6666666666666666,
             "#ed7953"
            ],
            [
             0.7777777777777778,
             "#fb9f3a"
            ],
            [
             0.8888888888888888,
             "#fdca26"
            ],
            [
             1,
             "#f0f921"
            ]
           ]
          },
          "colorway": [
           "#636efa",
           "#EF553B",
           "#00cc96",
           "#ab63fa",
           "#FFA15A",
           "#19d3f3",
           "#FF6692",
           "#B6E880",
           "#FF97FF",
           "#FECB52"
          ],
          "font": {
           "color": "#2a3f5f"
          },
          "geo": {
           "bgcolor": "white",
           "lakecolor": "white",
           "landcolor": "#E5ECF6",
           "showlakes": true,
           "showland": true,
           "subunitcolor": "white"
          },
          "hoverlabel": {
           "align": "left"
          },
          "hovermode": "closest",
          "mapbox": {
           "style": "light"
          },
          "paper_bgcolor": "white",
          "plot_bgcolor": "#E5ECF6",
          "polar": {
           "angularaxis": {
            "gridcolor": "white",
            "linecolor": "white",
            "ticks": ""
           },
           "bgcolor": "#E5ECF6",
           "radialaxis": {
            "gridcolor": "white",
            "linecolor": "white",
            "ticks": ""
           }
          },
          "scene": {
           "xaxis": {
            "backgroundcolor": "#E5ECF6",
            "gridcolor": "white",
            "gridwidth": 2,
            "linecolor": "white",
            "showbackground": true,
            "ticks": "",
            "zerolinecolor": "white"
           },
           "yaxis": {
            "backgroundcolor": "#E5ECF6",
            "gridcolor": "white",
            "gridwidth": 2,
            "linecolor": "white",
            "showbackground": true,
            "ticks": "",
            "zerolinecolor": "white"
           },
           "zaxis": {
            "backgroundcolor": "#E5ECF6",
            "gridcolor": "white",
            "gridwidth": 2,
            "linecolor": "white",
            "showbackground": true,
            "ticks": "",
            "zerolinecolor": "white"
           }
          },
          "shapedefaults": {
           "line": {
            "color": "#2a3f5f"
           }
          },
          "ternary": {
           "aaxis": {
            "gridcolor": "white",
            "linecolor": "white",
            "ticks": ""
           },
           "baxis": {
            "gridcolor": "white",
            "linecolor": "white",
            "ticks": ""
           },
           "bgcolor": "#E5ECF6",
           "caxis": {
            "gridcolor": "white",
            "linecolor": "white",
            "ticks": ""
           }
          },
          "title": {
           "x": 0.05
          },
          "xaxis": {
           "automargin": true,
           "gridcolor": "white",
           "linecolor": "white",
           "ticks": "",
           "title": {
            "standoff": 15
           },
           "zerolinecolor": "white",
           "zerolinewidth": 2
          },
          "yaxis": {
           "automargin": true,
           "gridcolor": "white",
           "linecolor": "white",
           "ticks": "",
           "title": {
            "standoff": 15
           },
           "zerolinecolor": "white",
           "zerolinewidth": 2
          }
         }
        },
        "title": {
         "font": {
          "color": "#4D5663"
         }
        },
        "xaxis": {
         "gridcolor": "#E1E5ED",
         "showgrid": true,
         "tickfont": {
          "color": "#4D5663"
         },
         "title": {
          "font": {
           "color": "#4D5663"
          },
          "text": ""
         },
         "zerolinecolor": "#E1E5ED"
        },
        "yaxis": {
         "gridcolor": "#E1E5ED",
         "showgrid": true,
         "tickfont": {
          "color": "#4D5663"
         },
         "title": {
          "font": {
           "color": "#4D5663"
          },
          "text": ""
         },
         "zerolinecolor": "#E1E5ED"
        }
       }
      },
      "text/html": [
       "<div>                            <div id=\"cf8ccf46-b49f-4a4d-8197-8a3edd92383b\" class=\"plotly-graph-div\" style=\"height:525px; width:100%;\"></div>            <script type=\"text/javascript\">                require([\"plotly\"], function(Plotly) {                    window.PLOTLYENV=window.PLOTLYENV || {};\n",
       "                    window.PLOTLYENV.BASE_URL='https://plot.ly';                                    if (document.getElementById(\"cf8ccf46-b49f-4a4d-8197-8a3edd92383b\")) {                    Plotly.newPlot(                        \"cf8ccf46-b49f-4a4d-8197-8a3edd92383b\",                        [{\"marker\": {\"color\": \"rgba(255, 153, 51, 0.6)\", \"line\": {\"color\": \"rgba(255, 153, 51, 1.0)\", \"width\": 1}}, \"name\": \"Values\", \"orientation\": \"v\", \"text\": \"\", \"type\": \"bar\", \"x\": [\"A\", \"B\", \"C\"], \"y\": [32, 43, 50]}],                        {\"legend\": {\"bgcolor\": \"#F5F6F9\", \"font\": {\"color\": \"#4D5663\"}}, \"paper_bgcolor\": \"#F5F6F9\", \"plot_bgcolor\": \"#F5F6F9\", \"template\": {\"data\": {\"bar\": [{\"error_x\": {\"color\": \"#2a3f5f\"}, \"error_y\": {\"color\": \"#2a3f5f\"}, \"marker\": {\"line\": {\"color\": \"#E5ECF6\", \"width\": 0.5}}, \"type\": \"bar\"}], \"barpolar\": [{\"marker\": {\"line\": {\"color\": \"#E5ECF6\", \"width\": 0.5}}, \"type\": \"barpolar\"}], \"carpet\": [{\"aaxis\": {\"endlinecolor\": \"#2a3f5f\", \"gridcolor\": \"white\", \"linecolor\": \"white\", \"minorgridcolor\": \"white\", \"startlinecolor\": \"#2a3f5f\"}, \"baxis\": {\"endlinecolor\": \"#2a3f5f\", \"gridcolor\": \"white\", \"linecolor\": \"white\", \"minorgridcolor\": \"white\", \"startlinecolor\": \"#2a3f5f\"}, \"type\": \"carpet\"}], \"choropleth\": [{\"colorbar\": {\"outlinewidth\": 0, \"ticks\": \"\"}, \"type\": \"choropleth\"}], \"contour\": [{\"colorbar\": {\"outlinewidth\": 0, \"ticks\": \"\"}, \"colorscale\": [[0.0, \"#0d0887\"], [0.1111111111111111, \"#46039f\"], [0.2222222222222222, \"#7201a8\"], [0.3333333333333333, \"#9c179e\"], [0.4444444444444444, \"#bd3786\"], [0.5555555555555556, \"#d8576b\"], [0.6666666666666666, \"#ed7953\"], [0.7777777777777778, \"#fb9f3a\"], [0.8888888888888888, \"#fdca26\"], [1.0, \"#f0f921\"]], \"type\": \"contour\"}], \"contourcarpet\": [{\"colorbar\": {\"outlinewidth\": 0, \"ticks\": \"\"}, \"type\": \"contourcarpet\"}], \"heatmap\": [{\"colorbar\": {\"outlinewidth\": 0, \"ticks\": \"\"}, \"colorscale\": [[0.0, \"#0d0887\"], [0.1111111111111111, \"#46039f\"], [0.2222222222222222, \"#7201a8\"], [0.3333333333333333, \"#9c179e\"], [0.4444444444444444, \"#bd3786\"], [0.5555555555555556, \"#d8576b\"], [0.6666666666666666, \"#ed7953\"], [0.7777777777777778, \"#fb9f3a\"], [0.8888888888888888, \"#fdca26\"], [1.0, \"#f0f921\"]], \"type\": \"heatmap\"}], \"heatmapgl\": [{\"colorbar\": {\"outlinewidth\": 0, \"ticks\": \"\"}, \"colorscale\": [[0.0, \"#0d0887\"], [0.1111111111111111, \"#46039f\"], [0.2222222222222222, \"#7201a8\"], [0.3333333333333333, \"#9c179e\"], [0.4444444444444444, \"#bd3786\"], [0.5555555555555556, \"#d8576b\"], [0.6666666666666666, \"#ed7953\"], [0.7777777777777778, \"#fb9f3a\"], [0.8888888888888888, \"#fdca26\"], [1.0, \"#f0f921\"]], \"type\": \"heatmapgl\"}], \"histogram\": [{\"marker\": {\"colorbar\": {\"outlinewidth\": 0, \"ticks\": \"\"}}, \"type\": \"histogram\"}], \"histogram2d\": [{\"colorbar\": {\"outlinewidth\": 0, \"ticks\": \"\"}, \"colorscale\": [[0.0, \"#0d0887\"], [0.1111111111111111, \"#46039f\"], [0.2222222222222222, \"#7201a8\"], [0.3333333333333333, \"#9c179e\"], [0.4444444444444444, \"#bd3786\"], [0.5555555555555556, \"#d8576b\"], [0.6666666666666666, \"#ed7953\"], [0.7777777777777778, \"#fb9f3a\"], [0.8888888888888888, \"#fdca26\"], [1.0, \"#f0f921\"]], \"type\": \"histogram2d\"}], \"histogram2dcontour\": [{\"colorbar\": {\"outlinewidth\": 0, \"ticks\": \"\"}, \"colorscale\": [[0.0, \"#0d0887\"], [0.1111111111111111, \"#46039f\"], [0.2222222222222222, \"#7201a8\"], [0.3333333333333333, \"#9c179e\"], [0.4444444444444444, \"#bd3786\"], [0.5555555555555556, \"#d8576b\"], [0.6666666666666666, \"#ed7953\"], [0.7777777777777778, \"#fb9f3a\"], [0.8888888888888888, \"#fdca26\"], [1.0, \"#f0f921\"]], \"type\": \"histogram2dcontour\"}], \"mesh3d\": [{\"colorbar\": {\"outlinewidth\": 0, \"ticks\": \"\"}, \"type\": \"mesh3d\"}], \"parcoords\": [{\"line\": {\"colorbar\": {\"outlinewidth\": 0, \"ticks\": \"\"}}, \"type\": \"parcoords\"}], \"pie\": [{\"automargin\": true, \"type\": \"pie\"}], \"scatter\": [{\"marker\": {\"colorbar\": {\"outlinewidth\": 0, \"ticks\": \"\"}}, \"type\": \"scatter\"}], \"scatter3d\": [{\"line\": {\"colorbar\": {\"outlinewidth\": 0, \"ticks\": \"\"}}, \"marker\": {\"colorbar\": {\"outlinewidth\": 0, \"ticks\": \"\"}}, \"type\": \"scatter3d\"}], \"scattercarpet\": [{\"marker\": {\"colorbar\": {\"outlinewidth\": 0, \"ticks\": \"\"}}, \"type\": \"scattercarpet\"}], \"scattergeo\": [{\"marker\": {\"colorbar\": {\"outlinewidth\": 0, \"ticks\": \"\"}}, \"type\": \"scattergeo\"}], \"scattergl\": [{\"marker\": {\"colorbar\": {\"outlinewidth\": 0, \"ticks\": \"\"}}, \"type\": \"scattergl\"}], \"scattermapbox\": [{\"marker\": {\"colorbar\": {\"outlinewidth\": 0, \"ticks\": \"\"}}, \"type\": \"scattermapbox\"}], \"scatterpolar\": [{\"marker\": {\"colorbar\": {\"outlinewidth\": 0, \"ticks\": \"\"}}, \"type\": \"scatterpolar\"}], \"scatterpolargl\": [{\"marker\": {\"colorbar\": {\"outlinewidth\": 0, \"ticks\": \"\"}}, \"type\": \"scatterpolargl\"}], \"scatterternary\": [{\"marker\": {\"colorbar\": {\"outlinewidth\": 0, \"ticks\": \"\"}}, \"type\": \"scatterternary\"}], \"surface\": [{\"colorbar\": {\"outlinewidth\": 0, \"ticks\": \"\"}, \"colorscale\": [[0.0, \"#0d0887\"], [0.1111111111111111, \"#46039f\"], [0.2222222222222222, \"#7201a8\"], [0.3333333333333333, \"#9c179e\"], [0.4444444444444444, \"#bd3786\"], [0.5555555555555556, \"#d8576b\"], [0.6666666666666666, \"#ed7953\"], [0.7777777777777778, \"#fb9f3a\"], [0.8888888888888888, \"#fdca26\"], [1.0, \"#f0f921\"]], \"type\": \"surface\"}], \"table\": [{\"cells\": {\"fill\": {\"color\": \"#EBF0F8\"}, \"line\": {\"color\": \"white\"}}, \"header\": {\"fill\": {\"color\": \"#C8D4E3\"}, \"line\": {\"color\": \"white\"}}, \"type\": \"table\"}]}, \"layout\": {\"annotationdefaults\": {\"arrowcolor\": \"#2a3f5f\", \"arrowhead\": 0, \"arrowwidth\": 1}, \"autotypenumbers\": \"strict\", \"coloraxis\": {\"colorbar\": {\"outlinewidth\": 0, \"ticks\": \"\"}}, \"colorscale\": {\"diverging\": [[0, \"#8e0152\"], [0.1, \"#c51b7d\"], [0.2, \"#de77ae\"], [0.3, \"#f1b6da\"], [0.4, \"#fde0ef\"], [0.5, \"#f7f7f7\"], [0.6, \"#e6f5d0\"], [0.7, \"#b8e186\"], [0.8, \"#7fbc41\"], [0.9, \"#4d9221\"], [1, \"#276419\"]], \"sequential\": [[0.0, \"#0d0887\"], [0.1111111111111111, \"#46039f\"], [0.2222222222222222, \"#7201a8\"], [0.3333333333333333, \"#9c179e\"], [0.4444444444444444, \"#bd3786\"], [0.5555555555555556, \"#d8576b\"], [0.6666666666666666, \"#ed7953\"], [0.7777777777777778, \"#fb9f3a\"], [0.8888888888888888, \"#fdca26\"], [1.0, \"#f0f921\"]], \"sequentialminus\": [[0.0, \"#0d0887\"], [0.1111111111111111, \"#46039f\"], [0.2222222222222222, \"#7201a8\"], [0.3333333333333333, \"#9c179e\"], [0.4444444444444444, \"#bd3786\"], [0.5555555555555556, \"#d8576b\"], [0.6666666666666666, \"#ed7953\"], [0.7777777777777778, \"#fb9f3a\"], [0.8888888888888888, \"#fdca26\"], [1.0, \"#f0f921\"]]}, \"colorway\": [\"#636efa\", \"#EF553B\", \"#00cc96\", \"#ab63fa\", \"#FFA15A\", \"#19d3f3\", \"#FF6692\", \"#B6E880\", \"#FF97FF\", \"#FECB52\"], \"font\": {\"color\": \"#2a3f5f\"}, \"geo\": {\"bgcolor\": \"white\", \"lakecolor\": \"white\", \"landcolor\": \"#E5ECF6\", \"showlakes\": true, \"showland\": true, \"subunitcolor\": \"white\"}, \"hoverlabel\": {\"align\": \"left\"}, \"hovermode\": \"closest\", \"mapbox\": {\"style\": \"light\"}, \"paper_bgcolor\": \"white\", \"plot_bgcolor\": \"#E5ECF6\", \"polar\": {\"angularaxis\": {\"gridcolor\": \"white\", \"linecolor\": \"white\", \"ticks\": \"\"}, \"bgcolor\": \"#E5ECF6\", \"radialaxis\": {\"gridcolor\": \"white\", \"linecolor\": \"white\", \"ticks\": \"\"}}, \"scene\": {\"xaxis\": {\"backgroundcolor\": \"#E5ECF6\", \"gridcolor\": \"white\", \"gridwidth\": 2, \"linecolor\": \"white\", \"showbackground\": true, \"ticks\": \"\", \"zerolinecolor\": \"white\"}, \"yaxis\": {\"backgroundcolor\": \"#E5ECF6\", \"gridcolor\": \"white\", \"gridwidth\": 2, \"linecolor\": \"white\", \"showbackground\": true, \"ticks\": \"\", \"zerolinecolor\": \"white\"}, \"zaxis\": {\"backgroundcolor\": \"#E5ECF6\", \"gridcolor\": \"white\", \"gridwidth\": 2, \"linecolor\": \"white\", \"showbackground\": true, \"ticks\": \"\", \"zerolinecolor\": \"white\"}}, \"shapedefaults\": {\"line\": {\"color\": \"#2a3f5f\"}}, \"ternary\": {\"aaxis\": {\"gridcolor\": \"white\", \"linecolor\": \"white\", \"ticks\": \"\"}, \"baxis\": {\"gridcolor\": \"white\", \"linecolor\": \"white\", \"ticks\": \"\"}, \"bgcolor\": \"#E5ECF6\", \"caxis\": {\"gridcolor\": \"white\", \"linecolor\": \"white\", \"ticks\": \"\"}}, \"title\": {\"x\": 0.05}, \"xaxis\": {\"automargin\": true, \"gridcolor\": \"white\", \"linecolor\": \"white\", \"ticks\": \"\", \"title\": {\"standoff\": 15}, \"zerolinecolor\": \"white\", \"zerolinewidth\": 2}, \"yaxis\": {\"automargin\": true, \"gridcolor\": \"white\", \"linecolor\": \"white\", \"ticks\": \"\", \"title\": {\"standoff\": 15}, \"zerolinecolor\": \"white\", \"zerolinewidth\": 2}}}, \"title\": {\"font\": {\"color\": \"#4D5663\"}}, \"xaxis\": {\"gridcolor\": \"#E1E5ED\", \"showgrid\": true, \"tickfont\": {\"color\": \"#4D5663\"}, \"title\": {\"font\": {\"color\": \"#4D5663\"}, \"text\": \"\"}, \"zerolinecolor\": \"#E1E5ED\"}, \"yaxis\": {\"gridcolor\": \"#E1E5ED\", \"showgrid\": true, \"tickfont\": {\"color\": \"#4D5663\"}, \"title\": {\"font\": {\"color\": \"#4D5663\"}, \"text\": \"\"}, \"zerolinecolor\": \"#E1E5ED\"}},                        {\"showLink\": true, \"linkText\": \"Export to plot.ly\", \"plotlyServerURL\": \"https://plot.ly\", \"responsive\": true}                    ).then(function(){\n",
       "                            \n",
       "var gd = document.getElementById('cf8ccf46-b49f-4a4d-8197-8a3edd92383b');\n",
       "var x = new MutationObserver(function (mutations, observer) {{\n",
       "        var display = window.getComputedStyle(gd).display;\n",
       "        if (!display || display === 'none') {{\n",
       "            console.log([gd, 'removed!']);\n",
       "            Plotly.purge(gd);\n",
       "            observer.disconnect();\n",
       "        }}\n",
       "}});\n",
       "\n",
       "// Listen for the removal of the full notebook cells\n",
       "var notebookContainer = gd.closest('#notebook-container');\n",
       "if (notebookContainer) {{\n",
       "    x.observe(notebookContainer, {childList: true});\n",
       "}}\n",
       "\n",
       "// Listen for the clearing of the current output cell\n",
       "var outputEl = gd.closest('.output');\n",
       "if (outputEl) {{\n",
       "    x.observe(outputEl, {childList: true});\n",
       "}}\n",
       "\n",
       "                        })                };                });            </script>        </div>"
      ]
     },
     "metadata": {},
     "output_type": "display_data"
    }
   ],
   "source": [
    "df2.iplot(kind='bar',x='Category',y='Values')"
   ]
  },
  {
   "cell_type": "code",
   "execution_count": 12,
   "metadata": {},
   "outputs": [
    {
     "data": {
      "application/vnd.plotly.v1+json": {
       "config": {
        "linkText": "Export to plot.ly",
        "plotlyServerURL": "https://plot.ly",
        "showLink": true
       },
       "data": [
        {
         "marker": {
          "color": "rgba(255, 153, 51, 0.6)",
          "line": {
           "color": "rgba(255, 153, 51, 1.0)",
           "width": 1
          }
         },
         "name": "None",
         "orientation": "v",
         "text": "",
         "type": "bar",
         "x": [
          "A",
          "B",
          "C",
          "D"
         ],
         "y": [
          100,
          100,
          100,
          100
         ]
        }
       ],
       "layout": {
        "legend": {
         "bgcolor": "#F5F6F9",
         "font": {
          "color": "#4D5663"
         }
        },
        "paper_bgcolor": "#F5F6F9",
        "plot_bgcolor": "#F5F6F9",
        "template": {
         "data": {
          "bar": [
           {
            "error_x": {
             "color": "#2a3f5f"
            },
            "error_y": {
             "color": "#2a3f5f"
            },
            "marker": {
             "line": {
              "color": "#E5ECF6",
              "width": 0.5
             }
            },
            "type": "bar"
           }
          ],
          "barpolar": [
           {
            "marker": {
             "line": {
              "color": "#E5ECF6",
              "width": 0.5
             }
            },
            "type": "barpolar"
           }
          ],
          "carpet": [
           {
            "aaxis": {
             "endlinecolor": "#2a3f5f",
             "gridcolor": "white",
             "linecolor": "white",
             "minorgridcolor": "white",
             "startlinecolor": "#2a3f5f"
            },
            "baxis": {
             "endlinecolor": "#2a3f5f",
             "gridcolor": "white",
             "linecolor": "white",
             "minorgridcolor": "white",
             "startlinecolor": "#2a3f5f"
            },
            "type": "carpet"
           }
          ],
          "choropleth": [
           {
            "colorbar": {
             "outlinewidth": 0,
             "ticks": ""
            },
            "type": "choropleth"
           }
          ],
          "contour": [
           {
            "colorbar": {
             "outlinewidth": 0,
             "ticks": ""
            },
            "colorscale": [
             [
              0,
              "#0d0887"
             ],
             [
              0.1111111111111111,
              "#46039f"
             ],
             [
              0.2222222222222222,
              "#7201a8"
             ],
             [
              0.3333333333333333,
              "#9c179e"
             ],
             [
              0.4444444444444444,
              "#bd3786"
             ],
             [
              0.5555555555555556,
              "#d8576b"
             ],
             [
              0.6666666666666666,
              "#ed7953"
             ],
             [
              0.7777777777777778,
              "#fb9f3a"
             ],
             [
              0.8888888888888888,
              "#fdca26"
             ],
             [
              1,
              "#f0f921"
             ]
            ],
            "type": "contour"
           }
          ],
          "contourcarpet": [
           {
            "colorbar": {
             "outlinewidth": 0,
             "ticks": ""
            },
            "type": "contourcarpet"
           }
          ],
          "heatmap": [
           {
            "colorbar": {
             "outlinewidth": 0,
             "ticks": ""
            },
            "colorscale": [
             [
              0,
              "#0d0887"
             ],
             [
              0.1111111111111111,
              "#46039f"
             ],
             [
              0.2222222222222222,
              "#7201a8"
             ],
             [
              0.3333333333333333,
              "#9c179e"
             ],
             [
              0.4444444444444444,
              "#bd3786"
             ],
             [
              0.5555555555555556,
              "#d8576b"
             ],
             [
              0.6666666666666666,
              "#ed7953"
             ],
             [
              0.7777777777777778,
              "#fb9f3a"
             ],
             [
              0.8888888888888888,
              "#fdca26"
             ],
             [
              1,
              "#f0f921"
             ]
            ],
            "type": "heatmap"
           }
          ],
          "heatmapgl": [
           {
            "colorbar": {
             "outlinewidth": 0,
             "ticks": ""
            },
            "colorscale": [
             [
              0,
              "#0d0887"
             ],
             [
              0.1111111111111111,
              "#46039f"
             ],
             [
              0.2222222222222222,
              "#7201a8"
             ],
             [
              0.3333333333333333,
              "#9c179e"
             ],
             [
              0.4444444444444444,
              "#bd3786"
             ],
             [
              0.5555555555555556,
              "#d8576b"
             ],
             [
              0.6666666666666666,
              "#ed7953"
             ],
             [
              0.7777777777777778,
              "#fb9f3a"
             ],
             [
              0.8888888888888888,
              "#fdca26"
             ],
             [
              1,
              "#f0f921"
             ]
            ],
            "type": "heatmapgl"
           }
          ],
          "histogram": [
           {
            "marker": {
             "colorbar": {
              "outlinewidth": 0,
              "ticks": ""
             }
            },
            "type": "histogram"
           }
          ],
          "histogram2d": [
           {
            "colorbar": {
             "outlinewidth": 0,
             "ticks": ""
            },
            "colorscale": [
             [
              0,
              "#0d0887"
             ],
             [
              0.1111111111111111,
              "#46039f"
             ],
             [
              0.2222222222222222,
              "#7201a8"
             ],
             [
              0.3333333333333333,
              "#9c179e"
             ],
             [
              0.4444444444444444,
              "#bd3786"
             ],
             [
              0.5555555555555556,
              "#d8576b"
             ],
             [
              0.6666666666666666,
              "#ed7953"
             ],
             [
              0.7777777777777778,
              "#fb9f3a"
             ],
             [
              0.8888888888888888,
              "#fdca26"
             ],
             [
              1,
              "#f0f921"
             ]
            ],
            "type": "histogram2d"
           }
          ],
          "histogram2dcontour": [
           {
            "colorbar": {
             "outlinewidth": 0,
             "ticks": ""
            },
            "colorscale": [
             [
              0,
              "#0d0887"
             ],
             [
              0.1111111111111111,
              "#46039f"
             ],
             [
              0.2222222222222222,
              "#7201a8"
             ],
             [
              0.3333333333333333,
              "#9c179e"
             ],
             [
              0.4444444444444444,
              "#bd3786"
             ],
             [
              0.5555555555555556,
              "#d8576b"
             ],
             [
              0.6666666666666666,
              "#ed7953"
             ],
             [
              0.7777777777777778,
              "#fb9f3a"
             ],
             [
              0.8888888888888888,
              "#fdca26"
             ],
             [
              1,
              "#f0f921"
             ]
            ],
            "type": "histogram2dcontour"
           }
          ],
          "mesh3d": [
           {
            "colorbar": {
             "outlinewidth": 0,
             "ticks": ""
            },
            "type": "mesh3d"
           }
          ],
          "parcoords": [
           {
            "line": {
             "colorbar": {
              "outlinewidth": 0,
              "ticks": ""
             }
            },
            "type": "parcoords"
           }
          ],
          "pie": [
           {
            "automargin": true,
            "type": "pie"
           }
          ],
          "scatter": [
           {
            "marker": {
             "colorbar": {
              "outlinewidth": 0,
              "ticks": ""
             }
            },
            "type": "scatter"
           }
          ],
          "scatter3d": [
           {
            "line": {
             "colorbar": {
              "outlinewidth": 0,
              "ticks": ""
             }
            },
            "marker": {
             "colorbar": {
              "outlinewidth": 0,
              "ticks": ""
             }
            },
            "type": "scatter3d"
           }
          ],
          "scattercarpet": [
           {
            "marker": {
             "colorbar": {
              "outlinewidth": 0,
              "ticks": ""
             }
            },
            "type": "scattercarpet"
           }
          ],
          "scattergeo": [
           {
            "marker": {
             "colorbar": {
              "outlinewidth": 0,
              "ticks": ""
             }
            },
            "type": "scattergeo"
           }
          ],
          "scattergl": [
           {
            "marker": {
             "colorbar": {
              "outlinewidth": 0,
              "ticks": ""
             }
            },
            "type": "scattergl"
           }
          ],
          "scattermapbox": [
           {
            "marker": {
             "colorbar": {
              "outlinewidth": 0,
              "ticks": ""
             }
            },
            "type": "scattermapbox"
           }
          ],
          "scatterpolar": [
           {
            "marker": {
             "colorbar": {
              "outlinewidth": 0,
              "ticks": ""
             }
            },
            "type": "scatterpolar"
           }
          ],
          "scatterpolargl": [
           {
            "marker": {
             "colorbar": {
              "outlinewidth": 0,
              "ticks": ""
             }
            },
            "type": "scatterpolargl"
           }
          ],
          "scatterternary": [
           {
            "marker": {
             "colorbar": {
              "outlinewidth": 0,
              "ticks": ""
             }
            },
            "type": "scatterternary"
           }
          ],
          "surface": [
           {
            "colorbar": {
             "outlinewidth": 0,
             "ticks": ""
            },
            "colorscale": [
             [
              0,
              "#0d0887"
             ],
             [
              0.1111111111111111,
              "#46039f"
             ],
             [
              0.2222222222222222,
              "#7201a8"
             ],
             [
              0.3333333333333333,
              "#9c179e"
             ],
             [
              0.4444444444444444,
              "#bd3786"
             ],
             [
              0.5555555555555556,
              "#d8576b"
             ],
             [
              0.6666666666666666,
              "#ed7953"
             ],
             [
              0.7777777777777778,
              "#fb9f3a"
             ],
             [
              0.8888888888888888,
              "#fdca26"
             ],
             [
              1,
              "#f0f921"
             ]
            ],
            "type": "surface"
           }
          ],
          "table": [
           {
            "cells": {
             "fill": {
              "color": "#EBF0F8"
             },
             "line": {
              "color": "white"
             }
            },
            "header": {
             "fill": {
              "color": "#C8D4E3"
             },
             "line": {
              "color": "white"
             }
            },
            "type": "table"
           }
          ]
         },
         "layout": {
          "annotationdefaults": {
           "arrowcolor": "#2a3f5f",
           "arrowhead": 0,
           "arrowwidth": 1
          },
          "autotypenumbers": "strict",
          "coloraxis": {
           "colorbar": {
            "outlinewidth": 0,
            "ticks": ""
           }
          },
          "colorscale": {
           "diverging": [
            [
             0,
             "#8e0152"
            ],
            [
             0.1,
             "#c51b7d"
            ],
            [
             0.2,
             "#de77ae"
            ],
            [
             0.3,
             "#f1b6da"
            ],
            [
             0.4,
             "#fde0ef"
            ],
            [
             0.5,
             "#f7f7f7"
            ],
            [
             0.6,
             "#e6f5d0"
            ],
            [
             0.7,
             "#b8e186"
            ],
            [
             0.8,
             "#7fbc41"
            ],
            [
             0.9,
             "#4d9221"
            ],
            [
             1,
             "#276419"
            ]
           ],
           "sequential": [
            [
             0,
             "#0d0887"
            ],
            [
             0.1111111111111111,
             "#46039f"
            ],
            [
             0.2222222222222222,
             "#7201a8"
            ],
            [
             0.3333333333333333,
             "#9c179e"
            ],
            [
             0.4444444444444444,
             "#bd3786"
            ],
            [
             0.5555555555555556,
             "#d8576b"
            ],
            [
             0.6666666666666666,
             "#ed7953"
            ],
            [
             0.7777777777777778,
             "#fb9f3a"
            ],
            [
             0.8888888888888888,
             "#fdca26"
            ],
            [
             1,
             "#f0f921"
            ]
           ],
           "sequentialminus": [
            [
             0,
             "#0d0887"
            ],
            [
             0.1111111111111111,
             "#46039f"
            ],
            [
             0.2222222222222222,
             "#7201a8"
            ],
            [
             0.3333333333333333,
             "#9c179e"
            ],
            [
             0.4444444444444444,
             "#bd3786"
            ],
            [
             0.5555555555555556,
             "#d8576b"
            ],
            [
             0.6666666666666666,
             "#ed7953"
            ],
            [
             0.7777777777777778,
             "#fb9f3a"
            ],
            [
             0.8888888888888888,
             "#fdca26"
            ],
            [
             1,
             "#f0f921"
            ]
           ]
          },
          "colorway": [
           "#636efa",
           "#EF553B",
           "#00cc96",
           "#ab63fa",
           "#FFA15A",
           "#19d3f3",
           "#FF6692",
           "#B6E880",
           "#FF97FF",
           "#FECB52"
          ],
          "font": {
           "color": "#2a3f5f"
          },
          "geo": {
           "bgcolor": "white",
           "lakecolor": "white",
           "landcolor": "#E5ECF6",
           "showlakes": true,
           "showland": true,
           "subunitcolor": "white"
          },
          "hoverlabel": {
           "align": "left"
          },
          "hovermode": "closest",
          "mapbox": {
           "style": "light"
          },
          "paper_bgcolor": "white",
          "plot_bgcolor": "#E5ECF6",
          "polar": {
           "angularaxis": {
            "gridcolor": "white",
            "linecolor": "white",
            "ticks": ""
           },
           "bgcolor": "#E5ECF6",
           "radialaxis": {
            "gridcolor": "white",
            "linecolor": "white",
            "ticks": ""
           }
          },
          "scene": {
           "xaxis": {
            "backgroundcolor": "#E5ECF6",
            "gridcolor": "white",
            "gridwidth": 2,
            "linecolor": "white",
            "showbackground": true,
            "ticks": "",
            "zerolinecolor": "white"
           },
           "yaxis": {
            "backgroundcolor": "#E5ECF6",
            "gridcolor": "white",
            "gridwidth": 2,
            "linecolor": "white",
            "showbackground": true,
            "ticks": "",
            "zerolinecolor": "white"
           },
           "zaxis": {
            "backgroundcolor": "#E5ECF6",
            "gridcolor": "white",
            "gridwidth": 2,
            "linecolor": "white",
            "showbackground": true,
            "ticks": "",
            "zerolinecolor": "white"
           }
          },
          "shapedefaults": {
           "line": {
            "color": "#2a3f5f"
           }
          },
          "ternary": {
           "aaxis": {
            "gridcolor": "white",
            "linecolor": "white",
            "ticks": ""
           },
           "baxis": {
            "gridcolor": "white",
            "linecolor": "white",
            "ticks": ""
           },
           "bgcolor": "#E5ECF6",
           "caxis": {
            "gridcolor": "white",
            "linecolor": "white",
            "ticks": ""
           }
          },
          "title": {
           "x": 0.05
          },
          "xaxis": {
           "automargin": true,
           "gridcolor": "white",
           "linecolor": "white",
           "ticks": "",
           "title": {
            "standoff": 15
           },
           "zerolinecolor": "white",
           "zerolinewidth": 2
          },
          "yaxis": {
           "automargin": true,
           "gridcolor": "white",
           "linecolor": "white",
           "ticks": "",
           "title": {
            "standoff": 15
           },
           "zerolinecolor": "white",
           "zerolinewidth": 2
          }
         }
        },
        "title": {
         "font": {
          "color": "#4D5663"
         }
        },
        "xaxis": {
         "gridcolor": "#E1E5ED",
         "showgrid": true,
         "tickfont": {
          "color": "#4D5663"
         },
         "title": {
          "font": {
           "color": "#4D5663"
          },
          "text": ""
         },
         "zerolinecolor": "#E1E5ED"
        },
        "yaxis": {
         "gridcolor": "#E1E5ED",
         "showgrid": true,
         "tickfont": {
          "color": "#4D5663"
         },
         "title": {
          "font": {
           "color": "#4D5663"
          },
          "text": ""
         },
         "zerolinecolor": "#E1E5ED"
        }
       }
      },
      "text/html": [
       "<div>                            <div id=\"193e0b69-fd9a-45e8-97de-d682b5ac453a\" class=\"plotly-graph-div\" style=\"height:525px; width:100%;\"></div>            <script type=\"text/javascript\">                require([\"plotly\"], function(Plotly) {                    window.PLOTLYENV=window.PLOTLYENV || {};\n",
       "                    window.PLOTLYENV.BASE_URL='https://plot.ly';                                    if (document.getElementById(\"193e0b69-fd9a-45e8-97de-d682b5ac453a\")) {                    Plotly.newPlot(                        \"193e0b69-fd9a-45e8-97de-d682b5ac453a\",                        [{\"marker\": {\"color\": \"rgba(255, 153, 51, 0.6)\", \"line\": {\"color\": \"rgba(255, 153, 51, 1.0)\", \"width\": 1}}, \"name\": \"None\", \"orientation\": \"v\", \"text\": \"\", \"type\": \"bar\", \"x\": [\"A\", \"B\", \"C\", \"D\"], \"y\": [100, 100, 100, 100]}],                        {\"legend\": {\"bgcolor\": \"#F5F6F9\", \"font\": {\"color\": \"#4D5663\"}}, \"paper_bgcolor\": \"#F5F6F9\", \"plot_bgcolor\": \"#F5F6F9\", \"template\": {\"data\": {\"bar\": [{\"error_x\": {\"color\": \"#2a3f5f\"}, \"error_y\": {\"color\": \"#2a3f5f\"}, \"marker\": {\"line\": {\"color\": \"#E5ECF6\", \"width\": 0.5}}, \"type\": \"bar\"}], \"barpolar\": [{\"marker\": {\"line\": {\"color\": \"#E5ECF6\", \"width\": 0.5}}, \"type\": \"barpolar\"}], \"carpet\": [{\"aaxis\": {\"endlinecolor\": \"#2a3f5f\", \"gridcolor\": \"white\", \"linecolor\": \"white\", \"minorgridcolor\": \"white\", \"startlinecolor\": \"#2a3f5f\"}, \"baxis\": {\"endlinecolor\": \"#2a3f5f\", \"gridcolor\": \"white\", \"linecolor\": \"white\", \"minorgridcolor\": \"white\", \"startlinecolor\": \"#2a3f5f\"}, \"type\": \"carpet\"}], \"choropleth\": [{\"colorbar\": {\"outlinewidth\": 0, \"ticks\": \"\"}, \"type\": \"choropleth\"}], \"contour\": [{\"colorbar\": {\"outlinewidth\": 0, \"ticks\": \"\"}, \"colorscale\": [[0.0, \"#0d0887\"], [0.1111111111111111, \"#46039f\"], [0.2222222222222222, \"#7201a8\"], [0.3333333333333333, \"#9c179e\"], [0.4444444444444444, \"#bd3786\"], [0.5555555555555556, \"#d8576b\"], [0.6666666666666666, \"#ed7953\"], [0.7777777777777778, \"#fb9f3a\"], [0.8888888888888888, \"#fdca26\"], [1.0, \"#f0f921\"]], \"type\": \"contour\"}], \"contourcarpet\": [{\"colorbar\": {\"outlinewidth\": 0, \"ticks\": \"\"}, \"type\": \"contourcarpet\"}], \"heatmap\": [{\"colorbar\": {\"outlinewidth\": 0, \"ticks\": \"\"}, \"colorscale\": [[0.0, \"#0d0887\"], [0.1111111111111111, \"#46039f\"], [0.2222222222222222, \"#7201a8\"], [0.3333333333333333, \"#9c179e\"], [0.4444444444444444, \"#bd3786\"], [0.5555555555555556, \"#d8576b\"], [0.6666666666666666, \"#ed7953\"], [0.7777777777777778, \"#fb9f3a\"], [0.8888888888888888, \"#fdca26\"], [1.0, \"#f0f921\"]], \"type\": \"heatmap\"}], \"heatmapgl\": [{\"colorbar\": {\"outlinewidth\": 0, \"ticks\": \"\"}, \"colorscale\": [[0.0, \"#0d0887\"], [0.1111111111111111, \"#46039f\"], [0.2222222222222222, \"#7201a8\"], [0.3333333333333333, \"#9c179e\"], [0.4444444444444444, \"#bd3786\"], [0.5555555555555556, \"#d8576b\"], [0.6666666666666666, \"#ed7953\"], [0.7777777777777778, \"#fb9f3a\"], [0.8888888888888888, \"#fdca26\"], [1.0, \"#f0f921\"]], \"type\": \"heatmapgl\"}], \"histogram\": [{\"marker\": {\"colorbar\": {\"outlinewidth\": 0, \"ticks\": \"\"}}, \"type\": \"histogram\"}], \"histogram2d\": [{\"colorbar\": {\"outlinewidth\": 0, \"ticks\": \"\"}, \"colorscale\": [[0.0, \"#0d0887\"], [0.1111111111111111, \"#46039f\"], [0.2222222222222222, \"#7201a8\"], [0.3333333333333333, \"#9c179e\"], [0.4444444444444444, \"#bd3786\"], [0.5555555555555556, \"#d8576b\"], [0.6666666666666666, \"#ed7953\"], [0.7777777777777778, \"#fb9f3a\"], [0.8888888888888888, \"#fdca26\"], [1.0, \"#f0f921\"]], \"type\": \"histogram2d\"}], \"histogram2dcontour\": [{\"colorbar\": {\"outlinewidth\": 0, \"ticks\": \"\"}, \"colorscale\": [[0.0, \"#0d0887\"], [0.1111111111111111, \"#46039f\"], [0.2222222222222222, \"#7201a8\"], [0.3333333333333333, \"#9c179e\"], [0.4444444444444444, \"#bd3786\"], [0.5555555555555556, \"#d8576b\"], [0.6666666666666666, \"#ed7953\"], [0.7777777777777778, \"#fb9f3a\"], [0.8888888888888888, \"#fdca26\"], [1.0, \"#f0f921\"]], \"type\": \"histogram2dcontour\"}], \"mesh3d\": [{\"colorbar\": {\"outlinewidth\": 0, \"ticks\": \"\"}, \"type\": \"mesh3d\"}], \"parcoords\": [{\"line\": {\"colorbar\": {\"outlinewidth\": 0, \"ticks\": \"\"}}, \"type\": \"parcoords\"}], \"pie\": [{\"automargin\": true, \"type\": \"pie\"}], \"scatter\": [{\"marker\": {\"colorbar\": {\"outlinewidth\": 0, \"ticks\": \"\"}}, \"type\": \"scatter\"}], \"scatter3d\": [{\"line\": {\"colorbar\": {\"outlinewidth\": 0, \"ticks\": \"\"}}, \"marker\": {\"colorbar\": {\"outlinewidth\": 0, \"ticks\": \"\"}}, \"type\": \"scatter3d\"}], \"scattercarpet\": [{\"marker\": {\"colorbar\": {\"outlinewidth\": 0, \"ticks\": \"\"}}, \"type\": \"scattercarpet\"}], \"scattergeo\": [{\"marker\": {\"colorbar\": {\"outlinewidth\": 0, \"ticks\": \"\"}}, \"type\": \"scattergeo\"}], \"scattergl\": [{\"marker\": {\"colorbar\": {\"outlinewidth\": 0, \"ticks\": \"\"}}, \"type\": \"scattergl\"}], \"scattermapbox\": [{\"marker\": {\"colorbar\": {\"outlinewidth\": 0, \"ticks\": \"\"}}, \"type\": \"scattermapbox\"}], \"scatterpolar\": [{\"marker\": {\"colorbar\": {\"outlinewidth\": 0, \"ticks\": \"\"}}, \"type\": \"scatterpolar\"}], \"scatterpolargl\": [{\"marker\": {\"colorbar\": {\"outlinewidth\": 0, \"ticks\": \"\"}}, \"type\": \"scatterpolargl\"}], \"scatterternary\": [{\"marker\": {\"colorbar\": {\"outlinewidth\": 0, \"ticks\": \"\"}}, \"type\": \"scatterternary\"}], \"surface\": [{\"colorbar\": {\"outlinewidth\": 0, \"ticks\": \"\"}, \"colorscale\": [[0.0, \"#0d0887\"], [0.1111111111111111, \"#46039f\"], [0.2222222222222222, \"#7201a8\"], [0.3333333333333333, \"#9c179e\"], [0.4444444444444444, \"#bd3786\"], [0.5555555555555556, \"#d8576b\"], [0.6666666666666666, \"#ed7953\"], [0.7777777777777778, \"#fb9f3a\"], [0.8888888888888888, \"#fdca26\"], [1.0, \"#f0f921\"]], \"type\": \"surface\"}], \"table\": [{\"cells\": {\"fill\": {\"color\": \"#EBF0F8\"}, \"line\": {\"color\": \"white\"}}, \"header\": {\"fill\": {\"color\": \"#C8D4E3\"}, \"line\": {\"color\": \"white\"}}, \"type\": \"table\"}]}, \"layout\": {\"annotationdefaults\": {\"arrowcolor\": \"#2a3f5f\", \"arrowhead\": 0, \"arrowwidth\": 1}, \"autotypenumbers\": \"strict\", \"coloraxis\": {\"colorbar\": {\"outlinewidth\": 0, \"ticks\": \"\"}}, \"colorscale\": {\"diverging\": [[0, \"#8e0152\"], [0.1, \"#c51b7d\"], [0.2, \"#de77ae\"], [0.3, \"#f1b6da\"], [0.4, \"#fde0ef\"], [0.5, \"#f7f7f7\"], [0.6, \"#e6f5d0\"], [0.7, \"#b8e186\"], [0.8, \"#7fbc41\"], [0.9, \"#4d9221\"], [1, \"#276419\"]], \"sequential\": [[0.0, \"#0d0887\"], [0.1111111111111111, \"#46039f\"], [0.2222222222222222, \"#7201a8\"], [0.3333333333333333, \"#9c179e\"], [0.4444444444444444, \"#bd3786\"], [0.5555555555555556, \"#d8576b\"], [0.6666666666666666, \"#ed7953\"], [0.7777777777777778, \"#fb9f3a\"], [0.8888888888888888, \"#fdca26\"], [1.0, \"#f0f921\"]], \"sequentialminus\": [[0.0, \"#0d0887\"], [0.1111111111111111, \"#46039f\"], [0.2222222222222222, \"#7201a8\"], [0.3333333333333333, \"#9c179e\"], [0.4444444444444444, \"#bd3786\"], [0.5555555555555556, \"#d8576b\"], [0.6666666666666666, \"#ed7953\"], [0.7777777777777778, \"#fb9f3a\"], [0.8888888888888888, \"#fdca26\"], [1.0, \"#f0f921\"]]}, \"colorway\": [\"#636efa\", \"#EF553B\", \"#00cc96\", \"#ab63fa\", \"#FFA15A\", \"#19d3f3\", \"#FF6692\", \"#B6E880\", \"#FF97FF\", \"#FECB52\"], \"font\": {\"color\": \"#2a3f5f\"}, \"geo\": {\"bgcolor\": \"white\", \"lakecolor\": \"white\", \"landcolor\": \"#E5ECF6\", \"showlakes\": true, \"showland\": true, \"subunitcolor\": \"white\"}, \"hoverlabel\": {\"align\": \"left\"}, \"hovermode\": \"closest\", \"mapbox\": {\"style\": \"light\"}, \"paper_bgcolor\": \"white\", \"plot_bgcolor\": \"#E5ECF6\", \"polar\": {\"angularaxis\": {\"gridcolor\": \"white\", \"linecolor\": \"white\", \"ticks\": \"\"}, \"bgcolor\": \"#E5ECF6\", \"radialaxis\": {\"gridcolor\": \"white\", \"linecolor\": \"white\", \"ticks\": \"\"}}, \"scene\": {\"xaxis\": {\"backgroundcolor\": \"#E5ECF6\", \"gridcolor\": \"white\", \"gridwidth\": 2, \"linecolor\": \"white\", \"showbackground\": true, \"ticks\": \"\", \"zerolinecolor\": \"white\"}, \"yaxis\": {\"backgroundcolor\": \"#E5ECF6\", \"gridcolor\": \"white\", \"gridwidth\": 2, \"linecolor\": \"white\", \"showbackground\": true, \"ticks\": \"\", \"zerolinecolor\": \"white\"}, \"zaxis\": {\"backgroundcolor\": \"#E5ECF6\", \"gridcolor\": \"white\", \"gridwidth\": 2, \"linecolor\": \"white\", \"showbackground\": true, \"ticks\": \"\", \"zerolinecolor\": \"white\"}}, \"shapedefaults\": {\"line\": {\"color\": \"#2a3f5f\"}}, \"ternary\": {\"aaxis\": {\"gridcolor\": \"white\", \"linecolor\": \"white\", \"ticks\": \"\"}, \"baxis\": {\"gridcolor\": \"white\", \"linecolor\": \"white\", \"ticks\": \"\"}, \"bgcolor\": \"#E5ECF6\", \"caxis\": {\"gridcolor\": \"white\", \"linecolor\": \"white\", \"ticks\": \"\"}}, \"title\": {\"x\": 0.05}, \"xaxis\": {\"automargin\": true, \"gridcolor\": \"white\", \"linecolor\": \"white\", \"ticks\": \"\", \"title\": {\"standoff\": 15}, \"zerolinecolor\": \"white\", \"zerolinewidth\": 2}, \"yaxis\": {\"automargin\": true, \"gridcolor\": \"white\", \"linecolor\": \"white\", \"ticks\": \"\", \"title\": {\"standoff\": 15}, \"zerolinecolor\": \"white\", \"zerolinewidth\": 2}}}, \"title\": {\"font\": {\"color\": \"#4D5663\"}}, \"xaxis\": {\"gridcolor\": \"#E1E5ED\", \"showgrid\": true, \"tickfont\": {\"color\": \"#4D5663\"}, \"title\": {\"font\": {\"color\": \"#4D5663\"}, \"text\": \"\"}, \"zerolinecolor\": \"#E1E5ED\"}, \"yaxis\": {\"gridcolor\": \"#E1E5ED\", \"showgrid\": true, \"tickfont\": {\"color\": \"#4D5663\"}, \"title\": {\"font\": {\"color\": \"#4D5663\"}, \"text\": \"\"}, \"zerolinecolor\": \"#E1E5ED\"}},                        {\"showLink\": true, \"linkText\": \"Export to plot.ly\", \"plotlyServerURL\": \"https://plot.ly\", \"responsive\": true}                    ).then(function(){\n",
       "                            \n",
       "var gd = document.getElementById('193e0b69-fd9a-45e8-97de-d682b5ac453a');\n",
       "var x = new MutationObserver(function (mutations, observer) {{\n",
       "        var display = window.getComputedStyle(gd).display;\n",
       "        if (!display || display === 'none') {{\n",
       "            console.log([gd, 'removed!']);\n",
       "            Plotly.purge(gd);\n",
       "            observer.disconnect();\n",
       "        }}\n",
       "}});\n",
       "\n",
       "// Listen for the removal of the full notebook cells\n",
       "var notebookContainer = gd.closest('#notebook-container');\n",
       "if (notebookContainer) {{\n",
       "    x.observe(notebookContainer, {childList: true});\n",
       "}}\n",
       "\n",
       "// Listen for the clearing of the current output cell\n",
       "var outputEl = gd.closest('.output');\n",
       "if (outputEl) {{\n",
       "    x.observe(outputEl, {childList: true});\n",
       "}}\n",
       "\n",
       "                        })                };                });            </script>        </div>"
      ]
     },
     "metadata": {},
     "output_type": "display_data"
    }
   ],
   "source": [
    "df.count().iplot(kind='bar')"
   ]
  },
  {
   "cell_type": "markdown",
   "metadata": {},
   "source": [
    "## Boxplots"
   ]
  },
  {
   "cell_type": "code",
   "execution_count": 13,
   "metadata": {},
   "outputs": [
    {
     "data": {
      "application/vnd.plotly.v1+json": {
       "config": {
        "linkText": "Export to plot.ly",
        "plotlyServerURL": "https://plot.ly",
        "showLink": true
       },
       "data": [
        {
         "boxpoints": false,
         "line": {
          "width": 1.3
         },
         "marker": {
          "color": "rgba(255, 153, 51, 1.0)"
         },
         "name": "A",
         "orientation": "v",
         "type": "box",
         "y": [
          -1.0869584731134463,
          0.27451744742966855,
          0.898589965888706,
          -0.16552031190222838,
          -1.2734743934645587,
          1.3785347245530486,
          0.7868745774402074,
          0.7766436984162196,
          0.22616856791677742,
          0.007405250672447983,
          0.64366447216253,
          -1.7626137628640837,
          0.4441052137532636,
          -0.2108770255901744,
          0.6198112180793899,
          -1.8287242831076582,
          -0.9431897712379231,
          -0.6477520870136391,
          0.6508763934079177,
          0.7908879119638564,
          -0.5437926157664298,
          0.11492643070611391,
          0.3974511774942038,
          -1.8055711983924294,
          -0.8523522195491334,
          -0.558736594859252,
          -1.1473397416674855,
          -0.16454004935997768,
          -0.660716242116677,
          0.049352004212177884,
          -0.057314717313838005,
          -0.43941827438359155,
          0.0277344949358772,
          -0.7062001067991027,
          0.20462323016526873,
          0.3496160101587443,
          0.6577663410748592,
          -0.2758959541944502,
          2.0705732352146224,
          -0.09914233320171727,
          1.3172585301650261,
          -0.7394903007107098,
          0.007553436342522031,
          0.016748848512975506,
          -0.5611598750145692,
          -0.48601745121375417,
          -0.13367046078164657,
          0.037363970053662626,
          0.6178066666029638,
          1.3796647232899897,
          -0.6931058583317703,
          -0.9972334923098112,
          1.3641795786608075,
          -1.106805521135824,
          1.0854563377341457,
          -0.09555624054883202,
          0.6288015463938761,
          -0.8760011405423394,
          1.2336403186919789,
          0.033956099774664385,
          2.1407935064284773,
          0.6385182836690706,
          -0.5269728709133601,
          -0.5847843726513189,
          -2.3494435331723307,
          -0.18399978217020438,
          0.16960257341940285,
          0.46380914522191813,
          -0.3056312698113668,
          0.7936378599682448,
          0.810159922841156,
          1.7683652861021277,
          0.9765976549826945,
          0.21326281672362585,
          -0.31880949249799556,
          2.2713306562647673,
          -1.0851960684705424,
          -1.570147459967214,
          0.34576961774812714,
          0.8703889358199863,
          1.2367572823310422,
          1.3781590168114433,
          1.6483301874280925,
          1.3376056922248774,
          0.6753253952993254,
          1.483120340763066,
          -1.4696468790989143,
          0.18006693944434077,
          -0.6444227711806647,
          1.342402191198624,
          0.3795249191416694,
          0.34893084837192684,
          0.5547093859793416,
          -0.7615597381780371,
          -0.34604453437406435,
          -0.467604005429489,
          -0.675717935618517,
          0.4451618761638253,
          -0.28832274185004775,
          0.8908517457098541
         ]
        },
        {
         "boxpoints": false,
         "line": {
          "width": 1.3
         },
         "marker": {
          "color": "rgba(55, 128, 191, 1.0)"
         },
         "name": "B",
         "orientation": "v",
         "type": "box",
         "y": [
          1.7013820185635982,
          0.016734098968908245,
          2.2184867506604347,
          0.44451676757382264,
          1.703802666363377,
          0.5510780102731614,
          -0.007384714327293,
          -0.35835576270049563,
          1.6179370471689394,
          -1.169620835636566,
          -0.36772215073358494,
          0.182065915329453,
          -0.3975451539297147,
          0.6205506166419125,
          -1.098210734843599,
          0.20041257042194804,
          -0.426836602355439,
          2.277927386764877,
          -1.1017588091404427,
          0.152675931119196,
          0.26089294030064775,
          0.16790296118827935,
          1.117498940581288,
          0.1184339640900317,
          -0.329283204486584,
          -0.48503749507682914,
          0.10287082937910579,
          -0.14335257092830764,
          0.8278903286727461,
          -1.2152889355373417,
          1.8688574824406747,
          -2.224014721044174,
          0.5480537392492857,
          -0.4147767422144272,
          0.9111740247529115,
          -0.2528222104299852,
          -0.328512170305908,
          1.5075951910841419,
          1.1498989386135394,
          -0.35747433861149613,
          0.2600226018296949,
          -2.1464321877023447,
          -0.45158829898502395,
          -1.219746472073381,
          0.8502524893445202,
          0.9462632125257172,
          -1.7598783345103384,
          -0.2997902477697803,
          -0.04572481337190753,
          0.6882101545853919,
          -0.8189329172921694,
          0.5734955778855265,
          1.185944352107926,
          -0.20946517839781378,
          -1.3897673074849386,
          0.05787704017837233,
          -0.4511274628719261,
          0.09277799280316695,
          -1.2173858066388004,
          1.6667919772825086,
          0.7189158983152318,
          -0.9056304694239788,
          -0.4677796938681007,
          -1.6548913931086122,
          2.2516119970191237,
          0.9837585001186746,
          0.4878811018427395,
          -1.112952019281889,
          0.216206728493171,
          2.299476542354412,
          -1.4070242741765342,
          -0.45055928068229417,
          0.46767482889353085,
          0.32182309910940193,
          1.2080200190126147,
          0.9669139668088189,
          0.31402593167975984,
          0.714031354188266,
          -0.43036799689653804,
          -0.10611543689348711,
          -0.3206654621288512,
          -1.2964482536527433,
          1.466932859869416,
          1.138962013851952,
          0.4980801447568573,
          1.6032529424100892,
          -0.3434705413925944,
          -0.4314394981069506,
          -0.4718651054692796,
          -2.176081195391494,
          -0.4843139984008415,
          -0.5920273380597912,
          -0.5227207238304532,
          0.5926508580560483,
          -0.429051904089719,
          0.6569896275867015,
          1.7338054889903347,
          -1.8873414584768677,
          -0.9113554907885516,
          0.2599158976535608
         ]
        },
        {
         "boxpoints": false,
         "line": {
          "width": 1.3
         },
         "marker": {
          "color": "rgba(50, 171, 96, 1.0)"
         },
         "name": "C",
         "orientation": "v",
         "type": "box",
         "y": [
          -0.873369070597386,
          -0.38797255257445085,
          1.0682243918353338,
          -1.2790930718167783,
          1.0761302314217276,
          -1.0857807523120895,
          0.6976922422721356,
          -0.20764530220173733,
          0.7380926789497732,
          0.637733307300874,
          0.11612524220817805,
          2.9265206893023383,
          -0.5040016539640569,
          -0.09391022352662393,
          -0.22077641685397564,
          0.5726701575040741,
          -0.23255048921233717,
          -0.386545526538195,
          -0.06329106479067616,
          -0.8235676011447217,
          -1.8865971054068813,
          -0.6980099173578493,
          -1.2575289971325572,
          0.3671526137423293,
          1.352426245082499,
          0.06723238281656134,
          -0.5626870446525274,
          0.9047024466505087,
          1.9480451488617643,
          -1.1443375473424668,
          -0.09186773503596642,
          0.775654390735632,
          0.5185977601455729,
          -1.0153910692794177,
          1.9003170260405222,
          -0.6192891766001604,
          -1.5741127731567324,
          0.061034838680466774,
          1.8287336241254994,
          -0.41340617037139815,
          -0.9251977571498682,
          -1.3024323490176417,
          -1.3399259704825603,
          1.3311280598564057,
          -0.025507113005817896,
          -0.6978799173452859,
          1.917274538094662,
          -0.11655301971239401,
          1.0004285703033267,
          -0.4880985328688754,
          0.6917315759162503,
          -0.04200586024394621,
          1.3050923316231533,
          -0.6645346672012342,
          1.7271876015869112,
          0.24499633854213249,
          -1.395438954157734,
          1.7791942754672483,
          -0.1247797070026459,
          -0.2984251985318188,
          0.0630317942551919,
          -1.2389540771900844,
          -1.3189514123527615,
          -0.15928990030484616,
          0.22194516169594103,
          1.8614284686780065,
          -1.3497970255188065,
          -0.08417264575481272,
          -1.395189580530213,
          -0.662117909689395,
          1.357690057741097,
          0.4371849418412773,
          -0.9918817891272562,
          -0.9130202377705492,
          -0.693283281399948,
          0.4164994399875994,
          1.442084430089679,
          -0.07772004791377678,
          0.40255052232406985,
          1.2468872830528268,
          -0.0025977803496521263,
          -1.9860720074503646,
          1.4269136619370792,
          0.30877766394215556,
          0.077918893410345,
          -1.305629015855808,
          -0.3870991945207361,
          -0.49997182400035134,
          0.3001251054451142,
          0.2800716784649497,
          -0.7268088747459226,
          -0.17187034779755236,
          0.9988509470232919,
          0.7732728754145628,
          -0.8116839420485217,
          1.1119549255717927,
          0.9976389223060625,
          -0.915553232348906,
          -0.47427309014068175,
          1.8010205813686537
         ]
        },
        {
         "boxpoints": false,
         "line": {
          "width": 1.3
         },
         "marker": {
          "color": "rgba(128, 0, 128, 1.0)"
         },
         "name": "D",
         "orientation": "v",
         "type": "box",
         "y": [
          1.2101398908133165,
          0.13635957025796977,
          2.1905231572647677,
          -0.4094932919898077,
          -0.3719867102724542,
          -1.698863802225874,
          1.0720603281458452,
          -0.04884579380315829,
          0.3520251677800174,
          -0.050786665944431514,
          1.9919596653095484,
          0.0076299031856295555,
          0.612288221996455,
          -0.6250653216674991,
          0.8932792492386356,
          0.44086750492679483,
          0.13145624625172503,
          -0.6239924999314912,
          0.3115550575145953,
          0.4704557052624782,
          1.6014390879358784,
          -0.6103090759138216,
          -0.06369678766796431,
          -1.3400231949710382,
          -1.0011016048785424,
          -1.05942227761927,
          -1.082465664061321,
          -1.0362857431674113,
          0.728205944656403,
          -1.3138364398452524,
          0.9028055932576768,
          2.2820963209146865,
          0.5825457608976803,
          0.44168823311486277,
          -0.6180400543628084,
          0.20550615894038707,
          -0.566625718392528,
          0.588867295487124,
          -0.7814863742659657,
          0.2088150083175389,
          0.2712189292641885,
          1.0080451261778702,
          0.9198073760959197,
          -0.21160871568750625,
          0.9471005905349884,
          0.5546643197501453,
          -0.9412177495896674,
          0.12099080452017884,
          0.7053176604162875,
          1.554052374787565,
          0.38336548453547953,
          0.11940458470979412,
          -0.29860935986853726,
          -0.43255531317600315,
          0.6324137696781059,
          0.0766219170804827,
          1.4226312405505745,
          0.030003267754663058,
          -1.2769730159611434,
          -0.723478072941893,
          -1.7260064617670847,
          0.9811419682076121,
          -2.06783749498083,
          -0.8939542857197509,
          -2.2540571561363403,
          -1.4259802492018168,
          -0.5320075047461356,
          -1.515811089911523,
          -0.7215280082437434,
          2.1282125070998505,
          -0.03903507733278754,
          -1.3950234747939938,
          -0.14096685406236814,
          0.23135609461367232,
          0.5250304234167503,
          1.802981728444306,
          -0.0468162189899403,
          -1.769035777012729,
          -1.6278107483740112,
          -1.6314168896665002,
          0.753991614046415,
          1.033180829624629,
          0.6023574170852904,
          -1.4670402369359343,
          0.2678472344711301,
          1.818071178134226,
          -0.9955878234584558,
          -0.22847136673346932,
          0.0762818605952403,
          0.1291634136540693,
          1.6225066766975573,
          -0.475721530759489,
          -1.5489439310204933,
          0.17981725953923663,
          1.2638373207974998,
          -0.1364912051803669,
          -0.33326882623264054,
          -0.44617453940382784,
          1.0240512252251484,
          -1.08638069206843
         ]
        }
       ],
       "layout": {
        "legend": {
         "bgcolor": "#F5F6F9",
         "font": {
          "color": "#4D5663"
         }
        },
        "paper_bgcolor": "#F5F6F9",
        "plot_bgcolor": "#F5F6F9",
        "template": {
         "data": {
          "bar": [
           {
            "error_x": {
             "color": "#2a3f5f"
            },
            "error_y": {
             "color": "#2a3f5f"
            },
            "marker": {
             "line": {
              "color": "#E5ECF6",
              "width": 0.5
             }
            },
            "type": "bar"
           }
          ],
          "barpolar": [
           {
            "marker": {
             "line": {
              "color": "#E5ECF6",
              "width": 0.5
             }
            },
            "type": "barpolar"
           }
          ],
          "carpet": [
           {
            "aaxis": {
             "endlinecolor": "#2a3f5f",
             "gridcolor": "white",
             "linecolor": "white",
             "minorgridcolor": "white",
             "startlinecolor": "#2a3f5f"
            },
            "baxis": {
             "endlinecolor": "#2a3f5f",
             "gridcolor": "white",
             "linecolor": "white",
             "minorgridcolor": "white",
             "startlinecolor": "#2a3f5f"
            },
            "type": "carpet"
           }
          ],
          "choropleth": [
           {
            "colorbar": {
             "outlinewidth": 0,
             "ticks": ""
            },
            "type": "choropleth"
           }
          ],
          "contour": [
           {
            "colorbar": {
             "outlinewidth": 0,
             "ticks": ""
            },
            "colorscale": [
             [
              0,
              "#0d0887"
             ],
             [
              0.1111111111111111,
              "#46039f"
             ],
             [
              0.2222222222222222,
              "#7201a8"
             ],
             [
              0.3333333333333333,
              "#9c179e"
             ],
             [
              0.4444444444444444,
              "#bd3786"
             ],
             [
              0.5555555555555556,
              "#d8576b"
             ],
             [
              0.6666666666666666,
              "#ed7953"
             ],
             [
              0.7777777777777778,
              "#fb9f3a"
             ],
             [
              0.8888888888888888,
              "#fdca26"
             ],
             [
              1,
              "#f0f921"
             ]
            ],
            "type": "contour"
           }
          ],
          "contourcarpet": [
           {
            "colorbar": {
             "outlinewidth": 0,
             "ticks": ""
            },
            "type": "contourcarpet"
           }
          ],
          "heatmap": [
           {
            "colorbar": {
             "outlinewidth": 0,
             "ticks": ""
            },
            "colorscale": [
             [
              0,
              "#0d0887"
             ],
             [
              0.1111111111111111,
              "#46039f"
             ],
             [
              0.2222222222222222,
              "#7201a8"
             ],
             [
              0.3333333333333333,
              "#9c179e"
             ],
             [
              0.4444444444444444,
              "#bd3786"
             ],
             [
              0.5555555555555556,
              "#d8576b"
             ],
             [
              0.6666666666666666,
              "#ed7953"
             ],
             [
              0.7777777777777778,
              "#fb9f3a"
             ],
             [
              0.8888888888888888,
              "#fdca26"
             ],
             [
              1,
              "#f0f921"
             ]
            ],
            "type": "heatmap"
           }
          ],
          "heatmapgl": [
           {
            "colorbar": {
             "outlinewidth": 0,
             "ticks": ""
            },
            "colorscale": [
             [
              0,
              "#0d0887"
             ],
             [
              0.1111111111111111,
              "#46039f"
             ],
             [
              0.2222222222222222,
              "#7201a8"
             ],
             [
              0.3333333333333333,
              "#9c179e"
             ],
             [
              0.4444444444444444,
              "#bd3786"
             ],
             [
              0.5555555555555556,
              "#d8576b"
             ],
             [
              0.6666666666666666,
              "#ed7953"
             ],
             [
              0.7777777777777778,
              "#fb9f3a"
             ],
             [
              0.8888888888888888,
              "#fdca26"
             ],
             [
              1,
              "#f0f921"
             ]
            ],
            "type": "heatmapgl"
           }
          ],
          "histogram": [
           {
            "marker": {
             "colorbar": {
              "outlinewidth": 0,
              "ticks": ""
             }
            },
            "type": "histogram"
           }
          ],
          "histogram2d": [
           {
            "colorbar": {
             "outlinewidth": 0,
             "ticks": ""
            },
            "colorscale": [
             [
              0,
              "#0d0887"
             ],
             [
              0.1111111111111111,
              "#46039f"
             ],
             [
              0.2222222222222222,
              "#7201a8"
             ],
             [
              0.3333333333333333,
              "#9c179e"
             ],
             [
              0.4444444444444444,
              "#bd3786"
             ],
             [
              0.5555555555555556,
              "#d8576b"
             ],
             [
              0.6666666666666666,
              "#ed7953"
             ],
             [
              0.7777777777777778,
              "#fb9f3a"
             ],
             [
              0.8888888888888888,
              "#fdca26"
             ],
             [
              1,
              "#f0f921"
             ]
            ],
            "type": "histogram2d"
           }
          ],
          "histogram2dcontour": [
           {
            "colorbar": {
             "outlinewidth": 0,
             "ticks": ""
            },
            "colorscale": [
             [
              0,
              "#0d0887"
             ],
             [
              0.1111111111111111,
              "#46039f"
             ],
             [
              0.2222222222222222,
              "#7201a8"
             ],
             [
              0.3333333333333333,
              "#9c179e"
             ],
             [
              0.4444444444444444,
              "#bd3786"
             ],
             [
              0.5555555555555556,
              "#d8576b"
             ],
             [
              0.6666666666666666,
              "#ed7953"
             ],
             [
              0.7777777777777778,
              "#fb9f3a"
             ],
             [
              0.8888888888888888,
              "#fdca26"
             ],
             [
              1,
              "#f0f921"
             ]
            ],
            "type": "histogram2dcontour"
           }
          ],
          "mesh3d": [
           {
            "colorbar": {
             "outlinewidth": 0,
             "ticks": ""
            },
            "type": "mesh3d"
           }
          ],
          "parcoords": [
           {
            "line": {
             "colorbar": {
              "outlinewidth": 0,
              "ticks": ""
             }
            },
            "type": "parcoords"
           }
          ],
          "pie": [
           {
            "automargin": true,
            "type": "pie"
           }
          ],
          "scatter": [
           {
            "marker": {
             "colorbar": {
              "outlinewidth": 0,
              "ticks": ""
             }
            },
            "type": "scatter"
           }
          ],
          "scatter3d": [
           {
            "line": {
             "colorbar": {
              "outlinewidth": 0,
              "ticks": ""
             }
            },
            "marker": {
             "colorbar": {
              "outlinewidth": 0,
              "ticks": ""
             }
            },
            "type": "scatter3d"
           }
          ],
          "scattercarpet": [
           {
            "marker": {
             "colorbar": {
              "outlinewidth": 0,
              "ticks": ""
             }
            },
            "type": "scattercarpet"
           }
          ],
          "scattergeo": [
           {
            "marker": {
             "colorbar": {
              "outlinewidth": 0,
              "ticks": ""
             }
            },
            "type": "scattergeo"
           }
          ],
          "scattergl": [
           {
            "marker": {
             "colorbar": {
              "outlinewidth": 0,
              "ticks": ""
             }
            },
            "type": "scattergl"
           }
          ],
          "scattermapbox": [
           {
            "marker": {
             "colorbar": {
              "outlinewidth": 0,
              "ticks": ""
             }
            },
            "type": "scattermapbox"
           }
          ],
          "scatterpolar": [
           {
            "marker": {
             "colorbar": {
              "outlinewidth": 0,
              "ticks": ""
             }
            },
            "type": "scatterpolar"
           }
          ],
          "scatterpolargl": [
           {
            "marker": {
             "colorbar": {
              "outlinewidth": 0,
              "ticks": ""
             }
            },
            "type": "scatterpolargl"
           }
          ],
          "scatterternary": [
           {
            "marker": {
             "colorbar": {
              "outlinewidth": 0,
              "ticks": ""
             }
            },
            "type": "scatterternary"
           }
          ],
          "surface": [
           {
            "colorbar": {
             "outlinewidth": 0,
             "ticks": ""
            },
            "colorscale": [
             [
              0,
              "#0d0887"
             ],
             [
              0.1111111111111111,
              "#46039f"
             ],
             [
              0.2222222222222222,
              "#7201a8"
             ],
             [
              0.3333333333333333,
              "#9c179e"
             ],
             [
              0.4444444444444444,
              "#bd3786"
             ],
             [
              0.5555555555555556,
              "#d8576b"
             ],
             [
              0.6666666666666666,
              "#ed7953"
             ],
             [
              0.7777777777777778,
              "#fb9f3a"
             ],
             [
              0.8888888888888888,
              "#fdca26"
             ],
             [
              1,
              "#f0f921"
             ]
            ],
            "type": "surface"
           }
          ],
          "table": [
           {
            "cells": {
             "fill": {
              "color": "#EBF0F8"
             },
             "line": {
              "color": "white"
             }
            },
            "header": {
             "fill": {
              "color": "#C8D4E3"
             },
             "line": {
              "color": "white"
             }
            },
            "type": "table"
           }
          ]
         },
         "layout": {
          "annotationdefaults": {
           "arrowcolor": "#2a3f5f",
           "arrowhead": 0,
           "arrowwidth": 1
          },
          "autotypenumbers": "strict",
          "coloraxis": {
           "colorbar": {
            "outlinewidth": 0,
            "ticks": ""
           }
          },
          "colorscale": {
           "diverging": [
            [
             0,
             "#8e0152"
            ],
            [
             0.1,
             "#c51b7d"
            ],
            [
             0.2,
             "#de77ae"
            ],
            [
             0.3,
             "#f1b6da"
            ],
            [
             0.4,
             "#fde0ef"
            ],
            [
             0.5,
             "#f7f7f7"
            ],
            [
             0.6,
             "#e6f5d0"
            ],
            [
             0.7,
             "#b8e186"
            ],
            [
             0.8,
             "#7fbc41"
            ],
            [
             0.9,
             "#4d9221"
            ],
            [
             1,
             "#276419"
            ]
           ],
           "sequential": [
            [
             0,
             "#0d0887"
            ],
            [
             0.1111111111111111,
             "#46039f"
            ],
            [
             0.2222222222222222,
             "#7201a8"
            ],
            [
             0.3333333333333333,
             "#9c179e"
            ],
            [
             0.4444444444444444,
             "#bd3786"
            ],
            [
             0.5555555555555556,
             "#d8576b"
            ],
            [
             0.6666666666666666,
             "#ed7953"
            ],
            [
             0.7777777777777778,
             "#fb9f3a"
            ],
            [
             0.8888888888888888,
             "#fdca26"
            ],
            [
             1,
             "#f0f921"
            ]
           ],
           "sequentialminus": [
            [
             0,
             "#0d0887"
            ],
            [
             0.1111111111111111,
             "#46039f"
            ],
            [
             0.2222222222222222,
             "#7201a8"
            ],
            [
             0.3333333333333333,
             "#9c179e"
            ],
            [
             0.4444444444444444,
             "#bd3786"
            ],
            [
             0.5555555555555556,
             "#d8576b"
            ],
            [
             0.6666666666666666,
             "#ed7953"
            ],
            [
             0.7777777777777778,
             "#fb9f3a"
            ],
            [
             0.8888888888888888,
             "#fdca26"
            ],
            [
             1,
             "#f0f921"
            ]
           ]
          },
          "colorway": [
           "#636efa",
           "#EF553B",
           "#00cc96",
           "#ab63fa",
           "#FFA15A",
           "#19d3f3",
           "#FF6692",
           "#B6E880",
           "#FF97FF",
           "#FECB52"
          ],
          "font": {
           "color": "#2a3f5f"
          },
          "geo": {
           "bgcolor": "white",
           "lakecolor": "white",
           "landcolor": "#E5ECF6",
           "showlakes": true,
           "showland": true,
           "subunitcolor": "white"
          },
          "hoverlabel": {
           "align": "left"
          },
          "hovermode": "closest",
          "mapbox": {
           "style": "light"
          },
          "paper_bgcolor": "white",
          "plot_bgcolor": "#E5ECF6",
          "polar": {
           "angularaxis": {
            "gridcolor": "white",
            "linecolor": "white",
            "ticks": ""
           },
           "bgcolor": "#E5ECF6",
           "radialaxis": {
            "gridcolor": "white",
            "linecolor": "white",
            "ticks": ""
           }
          },
          "scene": {
           "xaxis": {
            "backgroundcolor": "#E5ECF6",
            "gridcolor": "white",
            "gridwidth": 2,
            "linecolor": "white",
            "showbackground": true,
            "ticks": "",
            "zerolinecolor": "white"
           },
           "yaxis": {
            "backgroundcolor": "#E5ECF6",
            "gridcolor": "white",
            "gridwidth": 2,
            "linecolor": "white",
            "showbackground": true,
            "ticks": "",
            "zerolinecolor": "white"
           },
           "zaxis": {
            "backgroundcolor": "#E5ECF6",
            "gridcolor": "white",
            "gridwidth": 2,
            "linecolor": "white",
            "showbackground": true,
            "ticks": "",
            "zerolinecolor": "white"
           }
          },
          "shapedefaults": {
           "line": {
            "color": "#2a3f5f"
           }
          },
          "ternary": {
           "aaxis": {
            "gridcolor": "white",
            "linecolor": "white",
            "ticks": ""
           },
           "baxis": {
            "gridcolor": "white",
            "linecolor": "white",
            "ticks": ""
           },
           "bgcolor": "#E5ECF6",
           "caxis": {
            "gridcolor": "white",
            "linecolor": "white",
            "ticks": ""
           }
          },
          "title": {
           "x": 0.05
          },
          "xaxis": {
           "automargin": true,
           "gridcolor": "white",
           "linecolor": "white",
           "ticks": "",
           "title": {
            "standoff": 15
           },
           "zerolinecolor": "white",
           "zerolinewidth": 2
          },
          "yaxis": {
           "automargin": true,
           "gridcolor": "white",
           "linecolor": "white",
           "ticks": "",
           "title": {
            "standoff": 15
           },
           "zerolinecolor": "white",
           "zerolinewidth": 2
          }
         }
        },
        "title": {
         "font": {
          "color": "#4D5663"
         }
        },
        "xaxis": {
         "gridcolor": "#E1E5ED",
         "showgrid": true,
         "tickfont": {
          "color": "#4D5663"
         },
         "title": {
          "font": {
           "color": "#4D5663"
          },
          "text": ""
         },
         "zerolinecolor": "#E1E5ED"
        },
        "yaxis": {
         "gridcolor": "#E1E5ED",
         "showgrid": true,
         "tickfont": {
          "color": "#4D5663"
         },
         "title": {
          "font": {
           "color": "#4D5663"
          },
          "text": ""
         },
         "zerolinecolor": "#E1E5ED"
        }
       }
      },
      "text/html": [
       "<div>                            <div id=\"2b2373f5-9ac2-4d74-a072-66cacd58f595\" class=\"plotly-graph-div\" style=\"height:525px; width:100%;\"></div>            <script type=\"text/javascript\">                require([\"plotly\"], function(Plotly) {                    window.PLOTLYENV=window.PLOTLYENV || {};\n",
       "                    window.PLOTLYENV.BASE_URL='https://plot.ly';                                    if (document.getElementById(\"2b2373f5-9ac2-4d74-a072-66cacd58f595\")) {                    Plotly.newPlot(                        \"2b2373f5-9ac2-4d74-a072-66cacd58f595\",                        [{\"boxpoints\": false, \"line\": {\"width\": 1.3}, \"marker\": {\"color\": \"rgba(255, 153, 51, 1.0)\"}, \"name\": \"A\", \"orientation\": \"v\", \"type\": \"box\", \"y\": [-1.0869584731134463, 0.27451744742966855, 0.898589965888706, -0.16552031190222838, -1.2734743934645587, 1.3785347245530486, 0.7868745774402074, 0.7766436984162196, 0.22616856791677742, 0.007405250672447983, 0.64366447216253, -1.7626137628640837, 0.4441052137532636, -0.2108770255901744, 0.6198112180793899, -1.8287242831076582, -0.9431897712379231, -0.6477520870136391, 0.6508763934079177, 0.7908879119638564, -0.5437926157664298, 0.11492643070611391, 0.3974511774942038, -1.8055711983924294, -0.8523522195491334, -0.558736594859252, -1.1473397416674855, -0.16454004935997768, -0.660716242116677, 0.049352004212177884, -0.057314717313838005, -0.43941827438359155, 0.0277344949358772, -0.7062001067991027, 0.20462323016526873, 0.3496160101587443, 0.6577663410748592, -0.2758959541944502, 2.0705732352146224, -0.09914233320171727, 1.3172585301650261, -0.7394903007107098, 0.007553436342522031, 0.016748848512975506, -0.5611598750145692, -0.48601745121375417, -0.13367046078164657, 0.037363970053662626, 0.6178066666029638, 1.3796647232899897, -0.6931058583317703, -0.9972334923098112, 1.3641795786608075, -1.106805521135824, 1.0854563377341457, -0.09555624054883202, 0.6288015463938761, -0.8760011405423394, 1.2336403186919789, 0.033956099774664385, 2.1407935064284773, 0.6385182836690706, -0.5269728709133601, -0.5847843726513189, -2.3494435331723307, -0.18399978217020438, 0.16960257341940285, 0.46380914522191813, -0.3056312698113668, 0.7936378599682448, 0.810159922841156, 1.7683652861021277, 0.9765976549826945, 0.21326281672362585, -0.31880949249799556, 2.2713306562647673, -1.0851960684705424, -1.570147459967214, 0.34576961774812714, 0.8703889358199863, 1.2367572823310422, 1.3781590168114433, 1.6483301874280925, 1.3376056922248774, 0.6753253952993254, 1.483120340763066, -1.4696468790989143, 0.18006693944434077, -0.6444227711806647, 1.342402191198624, 0.3795249191416694, 0.34893084837192684, 0.5547093859793416, -0.7615597381780371, -0.34604453437406435, -0.467604005429489, -0.675717935618517, 0.4451618761638253, -0.28832274185004775, 0.8908517457098541]}, {\"boxpoints\": false, \"line\": {\"width\": 1.3}, \"marker\": {\"color\": \"rgba(55, 128, 191, 1.0)\"}, \"name\": \"B\", \"orientation\": \"v\", \"type\": \"box\", \"y\": [1.7013820185635982, 0.016734098968908245, 2.2184867506604347, 0.44451676757382264, 1.703802666363377, 0.5510780102731614, -0.007384714327293, -0.35835576270049563, 1.6179370471689394, -1.169620835636566, -0.36772215073358494, 0.182065915329453, -0.3975451539297147, 0.6205506166419125, -1.098210734843599, 0.20041257042194804, -0.426836602355439, 2.277927386764877, -1.1017588091404427, 0.152675931119196, 0.26089294030064775, 0.16790296118827935, 1.117498940581288, 0.1184339640900317, -0.329283204486584, -0.48503749507682914, 0.10287082937910579, -0.14335257092830764, 0.8278903286727461, -1.2152889355373417, 1.8688574824406747, -2.224014721044174, 0.5480537392492857, -0.4147767422144272, 0.9111740247529115, -0.2528222104299852, -0.328512170305908, 1.5075951910841419, 1.1498989386135394, -0.35747433861149613, 0.2600226018296949, -2.1464321877023447, -0.45158829898502395, -1.219746472073381, 0.8502524893445202, 0.9462632125257172, -1.7598783345103384, -0.2997902477697803, -0.04572481337190753, 0.6882101545853919, -0.8189329172921694, 0.5734955778855265, 1.185944352107926, -0.20946517839781378, -1.3897673074849386, 0.05787704017837233, -0.4511274628719261, 0.09277799280316695, -1.2173858066388004, 1.6667919772825086, 0.7189158983152318, -0.9056304694239788, -0.4677796938681007, -1.6548913931086122, 2.2516119970191237, 0.9837585001186746, 0.4878811018427395, -1.112952019281889, 0.216206728493171, 2.299476542354412, -1.4070242741765342, -0.45055928068229417, 0.46767482889353085, 0.32182309910940193, 1.2080200190126147, 0.9669139668088189, 0.31402593167975984, 0.714031354188266, -0.43036799689653804, -0.10611543689348711, -0.3206654621288512, -1.2964482536527433, 1.466932859869416, 1.138962013851952, 0.4980801447568573, 1.6032529424100892, -0.3434705413925944, -0.4314394981069506, -0.4718651054692796, -2.176081195391494, -0.4843139984008415, -0.5920273380597912, -0.5227207238304532, 0.5926508580560483, -0.429051904089719, 0.6569896275867015, 1.7338054889903347, -1.8873414584768677, -0.9113554907885516, 0.2599158976535608]}, {\"boxpoints\": false, \"line\": {\"width\": 1.3}, \"marker\": {\"color\": \"rgba(50, 171, 96, 1.0)\"}, \"name\": \"C\", \"orientation\": \"v\", \"type\": \"box\", \"y\": [-0.873369070597386, -0.38797255257445085, 1.0682243918353338, -1.2790930718167783, 1.0761302314217276, -1.0857807523120895, 0.6976922422721356, -0.20764530220173733, 0.7380926789497732, 0.637733307300874, 0.11612524220817805, 2.9265206893023383, -0.5040016539640569, -0.09391022352662393, -0.22077641685397564, 0.5726701575040741, -0.23255048921233717, -0.386545526538195, -0.06329106479067616, -0.8235676011447217, -1.8865971054068813, -0.6980099173578493, -1.2575289971325572, 0.3671526137423293, 1.352426245082499, 0.06723238281656134, -0.5626870446525274, 0.9047024466505087, 1.9480451488617643, -1.1443375473424668, -0.09186773503596642, 0.775654390735632, 0.5185977601455729, -1.0153910692794177, 1.9003170260405222, -0.6192891766001604, -1.5741127731567324, 0.061034838680466774, 1.8287336241254994, -0.41340617037139815, -0.9251977571498682, -1.3024323490176417, -1.3399259704825603, 1.3311280598564057, -0.025507113005817896, -0.6978799173452859, 1.917274538094662, -0.11655301971239401, 1.0004285703033267, -0.4880985328688754, 0.6917315759162503, -0.04200586024394621, 1.3050923316231533, -0.6645346672012342, 1.7271876015869112, 0.24499633854213249, -1.395438954157734, 1.7791942754672483, -0.1247797070026459, -0.2984251985318188, 0.0630317942551919, -1.2389540771900844, -1.3189514123527615, -0.15928990030484616, 0.22194516169594103, 1.8614284686780065, -1.3497970255188065, -0.08417264575481272, -1.395189580530213, -0.662117909689395, 1.357690057741097, 0.4371849418412773, -0.9918817891272562, -0.9130202377705492, -0.693283281399948, 0.4164994399875994, 1.442084430089679, -0.07772004791377678, 0.40255052232406985, 1.2468872830528268, -0.0025977803496521263, -1.9860720074503646, 1.4269136619370792, 0.30877766394215556, 0.077918893410345, -1.305629015855808, -0.3870991945207361, -0.49997182400035134, 0.3001251054451142, 0.2800716784649497, -0.7268088747459226, -0.17187034779755236, 0.9988509470232919, 0.7732728754145628, -0.8116839420485217, 1.1119549255717927, 0.9976389223060625, -0.915553232348906, -0.47427309014068175, 1.8010205813686537]}, {\"boxpoints\": false, \"line\": {\"width\": 1.3}, \"marker\": {\"color\": \"rgba(128, 0, 128, 1.0)\"}, \"name\": \"D\", \"orientation\": \"v\", \"type\": \"box\", \"y\": [1.2101398908133165, 0.13635957025796977, 2.1905231572647677, -0.4094932919898077, -0.3719867102724542, -1.698863802225874, 1.0720603281458452, -0.04884579380315829, 0.3520251677800174, -0.050786665944431514, 1.9919596653095484, 0.0076299031856295555, 0.612288221996455, -0.6250653216674991, 0.8932792492386356, 0.44086750492679483, 0.13145624625172503, -0.6239924999314912, 0.3115550575145953, 0.4704557052624782, 1.6014390879358784, -0.6103090759138216, -0.06369678766796431, -1.3400231949710382, -1.0011016048785424, -1.05942227761927, -1.082465664061321, -1.0362857431674113, 0.728205944656403, -1.3138364398452524, 0.9028055932576768, 2.2820963209146865, 0.5825457608976803, 0.44168823311486277, -0.6180400543628084, 0.20550615894038707, -0.566625718392528, 0.588867295487124, -0.7814863742659657, 0.2088150083175389, 0.2712189292641885, 1.0080451261778702, 0.9198073760959197, -0.21160871568750625, 0.9471005905349884, 0.5546643197501453, -0.9412177495896674, 0.12099080452017884, 0.7053176604162875, 1.554052374787565, 0.38336548453547953, 0.11940458470979412, -0.29860935986853726, -0.43255531317600315, 0.6324137696781059, 0.0766219170804827, 1.4226312405505745, 0.030003267754663058, -1.2769730159611434, -0.723478072941893, -1.7260064617670847, 0.9811419682076121, -2.06783749498083, -0.8939542857197509, -2.2540571561363403, -1.4259802492018168, -0.5320075047461356, -1.515811089911523, -0.7215280082437434, 2.1282125070998505, -0.03903507733278754, -1.3950234747939938, -0.14096685406236814, 0.23135609461367232, 0.5250304234167503, 1.802981728444306, -0.0468162189899403, -1.769035777012729, -1.6278107483740112, -1.6314168896665002, 0.753991614046415, 1.033180829624629, 0.6023574170852904, -1.4670402369359343, 0.2678472344711301, 1.818071178134226, -0.9955878234584558, -0.22847136673346932, 0.0762818605952403, 0.1291634136540693, 1.6225066766975573, -0.475721530759489, -1.5489439310204933, 0.17981725953923663, 1.2638373207974998, -0.1364912051803669, -0.33326882623264054, -0.44617453940382784, 1.0240512252251484, -1.08638069206843]}],                        {\"legend\": {\"bgcolor\": \"#F5F6F9\", \"font\": {\"color\": \"#4D5663\"}}, \"paper_bgcolor\": \"#F5F6F9\", \"plot_bgcolor\": \"#F5F6F9\", \"template\": {\"data\": {\"bar\": [{\"error_x\": {\"color\": \"#2a3f5f\"}, \"error_y\": {\"color\": \"#2a3f5f\"}, \"marker\": {\"line\": {\"color\": \"#E5ECF6\", \"width\": 0.5}}, \"type\": \"bar\"}], \"barpolar\": [{\"marker\": {\"line\": {\"color\": \"#E5ECF6\", \"width\": 0.5}}, \"type\": \"barpolar\"}], \"carpet\": [{\"aaxis\": {\"endlinecolor\": \"#2a3f5f\", \"gridcolor\": \"white\", \"linecolor\": \"white\", \"minorgridcolor\": \"white\", \"startlinecolor\": \"#2a3f5f\"}, \"baxis\": {\"endlinecolor\": \"#2a3f5f\", \"gridcolor\": \"white\", \"linecolor\": \"white\", \"minorgridcolor\": \"white\", \"startlinecolor\": \"#2a3f5f\"}, \"type\": \"carpet\"}], \"choropleth\": [{\"colorbar\": {\"outlinewidth\": 0, \"ticks\": \"\"}, \"type\": \"choropleth\"}], \"contour\": [{\"colorbar\": {\"outlinewidth\": 0, \"ticks\": \"\"}, \"colorscale\": [[0.0, \"#0d0887\"], [0.1111111111111111, \"#46039f\"], [0.2222222222222222, \"#7201a8\"], [0.3333333333333333, \"#9c179e\"], [0.4444444444444444, \"#bd3786\"], [0.5555555555555556, \"#d8576b\"], [0.6666666666666666, \"#ed7953\"], [0.7777777777777778, \"#fb9f3a\"], [0.8888888888888888, \"#fdca26\"], [1.0, \"#f0f921\"]], \"type\": \"contour\"}], \"contourcarpet\": [{\"colorbar\": {\"outlinewidth\": 0, \"ticks\": \"\"}, \"type\": \"contourcarpet\"}], \"heatmap\": [{\"colorbar\": {\"outlinewidth\": 0, \"ticks\": \"\"}, \"colorscale\": [[0.0, \"#0d0887\"], [0.1111111111111111, \"#46039f\"], [0.2222222222222222, \"#7201a8\"], [0.3333333333333333, \"#9c179e\"], [0.4444444444444444, \"#bd3786\"], [0.5555555555555556, \"#d8576b\"], [0.6666666666666666, \"#ed7953\"], [0.7777777777777778, \"#fb9f3a\"], [0.8888888888888888, \"#fdca26\"], [1.0, \"#f0f921\"]], \"type\": \"heatmap\"}], \"heatmapgl\": [{\"colorbar\": {\"outlinewidth\": 0, \"ticks\": \"\"}, \"colorscale\": [[0.0, \"#0d0887\"], [0.1111111111111111, \"#46039f\"], [0.2222222222222222, \"#7201a8\"], [0.3333333333333333, \"#9c179e\"], [0.4444444444444444, \"#bd3786\"], [0.5555555555555556, \"#d8576b\"], [0.6666666666666666, \"#ed7953\"], [0.7777777777777778, \"#fb9f3a\"], [0.8888888888888888, \"#fdca26\"], [1.0, \"#f0f921\"]], \"type\": \"heatmapgl\"}], \"histogram\": [{\"marker\": {\"colorbar\": {\"outlinewidth\": 0, \"ticks\": \"\"}}, \"type\": \"histogram\"}], \"histogram2d\": [{\"colorbar\": {\"outlinewidth\": 0, \"ticks\": \"\"}, \"colorscale\": [[0.0, \"#0d0887\"], [0.1111111111111111, \"#46039f\"], [0.2222222222222222, \"#7201a8\"], [0.3333333333333333, \"#9c179e\"], [0.4444444444444444, \"#bd3786\"], [0.5555555555555556, \"#d8576b\"], [0.6666666666666666, \"#ed7953\"], [0.7777777777777778, \"#fb9f3a\"], [0.8888888888888888, \"#fdca26\"], [1.0, \"#f0f921\"]], \"type\": \"histogram2d\"}], \"histogram2dcontour\": [{\"colorbar\": {\"outlinewidth\": 0, \"ticks\": \"\"}, \"colorscale\": [[0.0, \"#0d0887\"], [0.1111111111111111, \"#46039f\"], [0.2222222222222222, \"#7201a8\"], [0.3333333333333333, \"#9c179e\"], [0.4444444444444444, \"#bd3786\"], [0.5555555555555556, \"#d8576b\"], [0.6666666666666666, \"#ed7953\"], [0.7777777777777778, \"#fb9f3a\"], [0.8888888888888888, \"#fdca26\"], [1.0, \"#f0f921\"]], \"type\": \"histogram2dcontour\"}], \"mesh3d\": [{\"colorbar\": {\"outlinewidth\": 0, \"ticks\": \"\"}, \"type\": \"mesh3d\"}], \"parcoords\": [{\"line\": {\"colorbar\": {\"outlinewidth\": 0, \"ticks\": \"\"}}, \"type\": \"parcoords\"}], \"pie\": [{\"automargin\": true, \"type\": \"pie\"}], \"scatter\": [{\"marker\": {\"colorbar\": {\"outlinewidth\": 0, \"ticks\": \"\"}}, \"type\": \"scatter\"}], \"scatter3d\": [{\"line\": {\"colorbar\": {\"outlinewidth\": 0, \"ticks\": \"\"}}, \"marker\": {\"colorbar\": {\"outlinewidth\": 0, \"ticks\": \"\"}}, \"type\": \"scatter3d\"}], \"scattercarpet\": [{\"marker\": {\"colorbar\": {\"outlinewidth\": 0, \"ticks\": \"\"}}, \"type\": \"scattercarpet\"}], \"scattergeo\": [{\"marker\": {\"colorbar\": {\"outlinewidth\": 0, \"ticks\": \"\"}}, \"type\": \"scattergeo\"}], \"scattergl\": [{\"marker\": {\"colorbar\": {\"outlinewidth\": 0, \"ticks\": \"\"}}, \"type\": \"scattergl\"}], \"scattermapbox\": [{\"marker\": {\"colorbar\": {\"outlinewidth\": 0, \"ticks\": \"\"}}, \"type\": \"scattermapbox\"}], \"scatterpolar\": [{\"marker\": {\"colorbar\": {\"outlinewidth\": 0, \"ticks\": \"\"}}, \"type\": \"scatterpolar\"}], \"scatterpolargl\": [{\"marker\": {\"colorbar\": {\"outlinewidth\": 0, \"ticks\": \"\"}}, \"type\": \"scatterpolargl\"}], \"scatterternary\": [{\"marker\": {\"colorbar\": {\"outlinewidth\": 0, \"ticks\": \"\"}}, \"type\": \"scatterternary\"}], \"surface\": [{\"colorbar\": {\"outlinewidth\": 0, \"ticks\": \"\"}, \"colorscale\": [[0.0, \"#0d0887\"], [0.1111111111111111, \"#46039f\"], [0.2222222222222222, \"#7201a8\"], [0.3333333333333333, \"#9c179e\"], [0.4444444444444444, \"#bd3786\"], [0.5555555555555556, \"#d8576b\"], [0.6666666666666666, \"#ed7953\"], [0.7777777777777778, \"#fb9f3a\"], [0.8888888888888888, \"#fdca26\"], [1.0, \"#f0f921\"]], \"type\": \"surface\"}], \"table\": [{\"cells\": {\"fill\": {\"color\": \"#EBF0F8\"}, \"line\": {\"color\": \"white\"}}, \"header\": {\"fill\": {\"color\": \"#C8D4E3\"}, \"line\": {\"color\": \"white\"}}, \"type\": \"table\"}]}, \"layout\": {\"annotationdefaults\": {\"arrowcolor\": \"#2a3f5f\", \"arrowhead\": 0, \"arrowwidth\": 1}, \"autotypenumbers\": \"strict\", \"coloraxis\": {\"colorbar\": {\"outlinewidth\": 0, \"ticks\": \"\"}}, \"colorscale\": {\"diverging\": [[0, \"#8e0152\"], [0.1, \"#c51b7d\"], [0.2, \"#de77ae\"], [0.3, \"#f1b6da\"], [0.4, \"#fde0ef\"], [0.5, \"#f7f7f7\"], [0.6, \"#e6f5d0\"], [0.7, \"#b8e186\"], [0.8, \"#7fbc41\"], [0.9, \"#4d9221\"], [1, \"#276419\"]], \"sequential\": [[0.0, \"#0d0887\"], [0.1111111111111111, \"#46039f\"], [0.2222222222222222, \"#7201a8\"], [0.3333333333333333, \"#9c179e\"], [0.4444444444444444, \"#bd3786\"], [0.5555555555555556, \"#d8576b\"], [0.6666666666666666, \"#ed7953\"], [0.7777777777777778, \"#fb9f3a\"], [0.8888888888888888, \"#fdca26\"], [1.0, \"#f0f921\"]], \"sequentialminus\": [[0.0, \"#0d0887\"], [0.1111111111111111, \"#46039f\"], [0.2222222222222222, \"#7201a8\"], [0.3333333333333333, \"#9c179e\"], [0.4444444444444444, \"#bd3786\"], [0.5555555555555556, \"#d8576b\"], [0.6666666666666666, \"#ed7953\"], [0.7777777777777778, \"#fb9f3a\"], [0.8888888888888888, \"#fdca26\"], [1.0, \"#f0f921\"]]}, \"colorway\": [\"#636efa\", \"#EF553B\", \"#00cc96\", \"#ab63fa\", \"#FFA15A\", \"#19d3f3\", \"#FF6692\", \"#B6E880\", \"#FF97FF\", \"#FECB52\"], \"font\": {\"color\": \"#2a3f5f\"}, \"geo\": {\"bgcolor\": \"white\", \"lakecolor\": \"white\", \"landcolor\": \"#E5ECF6\", \"showlakes\": true, \"showland\": true, \"subunitcolor\": \"white\"}, \"hoverlabel\": {\"align\": \"left\"}, \"hovermode\": \"closest\", \"mapbox\": {\"style\": \"light\"}, \"paper_bgcolor\": \"white\", \"plot_bgcolor\": \"#E5ECF6\", \"polar\": {\"angularaxis\": {\"gridcolor\": \"white\", \"linecolor\": \"white\", \"ticks\": \"\"}, \"bgcolor\": \"#E5ECF6\", \"radialaxis\": {\"gridcolor\": \"white\", \"linecolor\": \"white\", \"ticks\": \"\"}}, \"scene\": {\"xaxis\": {\"backgroundcolor\": \"#E5ECF6\", \"gridcolor\": \"white\", \"gridwidth\": 2, \"linecolor\": \"white\", \"showbackground\": true, \"ticks\": \"\", \"zerolinecolor\": \"white\"}, \"yaxis\": {\"backgroundcolor\": \"#E5ECF6\", \"gridcolor\": \"white\", \"gridwidth\": 2, \"linecolor\": \"white\", \"showbackground\": true, \"ticks\": \"\", \"zerolinecolor\": \"white\"}, \"zaxis\": {\"backgroundcolor\": \"#E5ECF6\", \"gridcolor\": \"white\", \"gridwidth\": 2, \"linecolor\": \"white\", \"showbackground\": true, \"ticks\": \"\", \"zerolinecolor\": \"white\"}}, \"shapedefaults\": {\"line\": {\"color\": \"#2a3f5f\"}}, \"ternary\": {\"aaxis\": {\"gridcolor\": \"white\", \"linecolor\": \"white\", \"ticks\": \"\"}, \"baxis\": {\"gridcolor\": \"white\", \"linecolor\": \"white\", \"ticks\": \"\"}, \"bgcolor\": \"#E5ECF6\", \"caxis\": {\"gridcolor\": \"white\", \"linecolor\": \"white\", \"ticks\": \"\"}}, \"title\": {\"x\": 0.05}, \"xaxis\": {\"automargin\": true, \"gridcolor\": \"white\", \"linecolor\": \"white\", \"ticks\": \"\", \"title\": {\"standoff\": 15}, \"zerolinecolor\": \"white\", \"zerolinewidth\": 2}, \"yaxis\": {\"automargin\": true, \"gridcolor\": \"white\", \"linecolor\": \"white\", \"ticks\": \"\", \"title\": {\"standoff\": 15}, \"zerolinecolor\": \"white\", \"zerolinewidth\": 2}}}, \"title\": {\"font\": {\"color\": \"#4D5663\"}}, \"xaxis\": {\"gridcolor\": \"#E1E5ED\", \"showgrid\": true, \"tickfont\": {\"color\": \"#4D5663\"}, \"title\": {\"font\": {\"color\": \"#4D5663\"}, \"text\": \"\"}, \"zerolinecolor\": \"#E1E5ED\"}, \"yaxis\": {\"gridcolor\": \"#E1E5ED\", \"showgrid\": true, \"tickfont\": {\"color\": \"#4D5663\"}, \"title\": {\"font\": {\"color\": \"#4D5663\"}, \"text\": \"\"}, \"zerolinecolor\": \"#E1E5ED\"}},                        {\"showLink\": true, \"linkText\": \"Export to plot.ly\", \"plotlyServerURL\": \"https://plot.ly\", \"responsive\": true}                    ).then(function(){\n",
       "                            \n",
       "var gd = document.getElementById('2b2373f5-9ac2-4d74-a072-66cacd58f595');\n",
       "var x = new MutationObserver(function (mutations, observer) {{\n",
       "        var display = window.getComputedStyle(gd).display;\n",
       "        if (!display || display === 'none') {{\n",
       "            console.log([gd, 'removed!']);\n",
       "            Plotly.purge(gd);\n",
       "            observer.disconnect();\n",
       "        }}\n",
       "}});\n",
       "\n",
       "// Listen for the removal of the full notebook cells\n",
       "var notebookContainer = gd.closest('#notebook-container');\n",
       "if (notebookContainer) {{\n",
       "    x.observe(notebookContainer, {childList: true});\n",
       "}}\n",
       "\n",
       "// Listen for the clearing of the current output cell\n",
       "var outputEl = gd.closest('.output');\n",
       "if (outputEl) {{\n",
       "    x.observe(outputEl, {childList: true});\n",
       "}}\n",
       "\n",
       "                        })                };                });            </script>        </div>"
      ]
     },
     "metadata": {},
     "output_type": "display_data"
    }
   ],
   "source": [
    "df.iplot(kind='box')"
   ]
  },
  {
   "cell_type": "markdown",
   "metadata": {},
   "source": [
    "## 3d Surface"
   ]
  },
  {
   "cell_type": "code",
   "execution_count": 14,
   "metadata": {},
   "outputs": [
    {
     "data": {
      "application/vnd.plotly.v1+json": {
       "config": {
        "linkText": "Export to plot.ly",
        "plotlyServerURL": "https://plot.ly",
        "showLink": true
       },
       "data": [
        {
         "colorscale": [
          [
           0,
           "rgb(165,0,38)"
          ],
          [
           0.1,
           "rgb(215,48,39)"
          ],
          [
           0.2,
           "rgb(244,109,67)"
          ],
          [
           0.3,
           "rgb(253,174,97)"
          ],
          [
           0.4,
           "rgb(254,224,144)"
          ],
          [
           0.5,
           "rgb(255,255,191)"
          ],
          [
           0.6,
           "rgb(224,243,248)"
          ],
          [
           0.7,
           "rgb(171,217,233)"
          ],
          [
           0.8,
           "rgb(116,173,209)"
          ],
          [
           0.9,
           "rgb(69,117,180)"
          ],
          [
           1,
           "rgb(49,54,149)"
          ]
         ],
         "type": "surface",
         "x": [
          0,
          1,
          2,
          3,
          4
         ],
         "y": [
          "x",
          "y",
          "z"
         ],
         "z": [
          [
           1,
           2,
           3,
           4,
           5
          ],
          [
           10,
           20,
           30,
           20,
           10
          ],
          [
           5,
           4,
           3,
           2,
           1
          ]
         ]
        }
       ],
       "layout": {
        "legend": {
         "bgcolor": "#F5F6F9",
         "font": {
          "color": "#4D5663"
         }
        },
        "paper_bgcolor": "#F5F6F9",
        "plot_bgcolor": "#F5F6F9",
        "template": {
         "data": {
          "bar": [
           {
            "error_x": {
             "color": "#2a3f5f"
            },
            "error_y": {
             "color": "#2a3f5f"
            },
            "marker": {
             "line": {
              "color": "#E5ECF6",
              "width": 0.5
             }
            },
            "type": "bar"
           }
          ],
          "barpolar": [
           {
            "marker": {
             "line": {
              "color": "#E5ECF6",
              "width": 0.5
             }
            },
            "type": "barpolar"
           }
          ],
          "carpet": [
           {
            "aaxis": {
             "endlinecolor": "#2a3f5f",
             "gridcolor": "white",
             "linecolor": "white",
             "minorgridcolor": "white",
             "startlinecolor": "#2a3f5f"
            },
            "baxis": {
             "endlinecolor": "#2a3f5f",
             "gridcolor": "white",
             "linecolor": "white",
             "minorgridcolor": "white",
             "startlinecolor": "#2a3f5f"
            },
            "type": "carpet"
           }
          ],
          "choropleth": [
           {
            "colorbar": {
             "outlinewidth": 0,
             "ticks": ""
            },
            "type": "choropleth"
           }
          ],
          "contour": [
           {
            "colorbar": {
             "outlinewidth": 0,
             "ticks": ""
            },
            "colorscale": [
             [
              0,
              "#0d0887"
             ],
             [
              0.1111111111111111,
              "#46039f"
             ],
             [
              0.2222222222222222,
              "#7201a8"
             ],
             [
              0.3333333333333333,
              "#9c179e"
             ],
             [
              0.4444444444444444,
              "#bd3786"
             ],
             [
              0.5555555555555556,
              "#d8576b"
             ],
             [
              0.6666666666666666,
              "#ed7953"
             ],
             [
              0.7777777777777778,
              "#fb9f3a"
             ],
             [
              0.8888888888888888,
              "#fdca26"
             ],
             [
              1,
              "#f0f921"
             ]
            ],
            "type": "contour"
           }
          ],
          "contourcarpet": [
           {
            "colorbar": {
             "outlinewidth": 0,
             "ticks": ""
            },
            "type": "contourcarpet"
           }
          ],
          "heatmap": [
           {
            "colorbar": {
             "outlinewidth": 0,
             "ticks": ""
            },
            "colorscale": [
             [
              0,
              "#0d0887"
             ],
             [
              0.1111111111111111,
              "#46039f"
             ],
             [
              0.2222222222222222,
              "#7201a8"
             ],
             [
              0.3333333333333333,
              "#9c179e"
             ],
             [
              0.4444444444444444,
              "#bd3786"
             ],
             [
              0.5555555555555556,
              "#d8576b"
             ],
             [
              0.6666666666666666,
              "#ed7953"
             ],
             [
              0.7777777777777778,
              "#fb9f3a"
             ],
             [
              0.8888888888888888,
              "#fdca26"
             ],
             [
              1,
              "#f0f921"
             ]
            ],
            "type": "heatmap"
           }
          ],
          "heatmapgl": [
           {
            "colorbar": {
             "outlinewidth": 0,
             "ticks": ""
            },
            "colorscale": [
             [
              0,
              "#0d0887"
             ],
             [
              0.1111111111111111,
              "#46039f"
             ],
             [
              0.2222222222222222,
              "#7201a8"
             ],
             [
              0.3333333333333333,
              "#9c179e"
             ],
             [
              0.4444444444444444,
              "#bd3786"
             ],
             [
              0.5555555555555556,
              "#d8576b"
             ],
             [
              0.6666666666666666,
              "#ed7953"
             ],
             [
              0.7777777777777778,
              "#fb9f3a"
             ],
             [
              0.8888888888888888,
              "#fdca26"
             ],
             [
              1,
              "#f0f921"
             ]
            ],
            "type": "heatmapgl"
           }
          ],
          "histogram": [
           {
            "marker": {
             "colorbar": {
              "outlinewidth": 0,
              "ticks": ""
             }
            },
            "type": "histogram"
           }
          ],
          "histogram2d": [
           {
            "colorbar": {
             "outlinewidth": 0,
             "ticks": ""
            },
            "colorscale": [
             [
              0,
              "#0d0887"
             ],
             [
              0.1111111111111111,
              "#46039f"
             ],
             [
              0.2222222222222222,
              "#7201a8"
             ],
             [
              0.3333333333333333,
              "#9c179e"
             ],
             [
              0.4444444444444444,
              "#bd3786"
             ],
             [
              0.5555555555555556,
              "#d8576b"
             ],
             [
              0.6666666666666666,
              "#ed7953"
             ],
             [
              0.7777777777777778,
              "#fb9f3a"
             ],
             [
              0.8888888888888888,
              "#fdca26"
             ],
             [
              1,
              "#f0f921"
             ]
            ],
            "type": "histogram2d"
           }
          ],
          "histogram2dcontour": [
           {
            "colorbar": {
             "outlinewidth": 0,
             "ticks": ""
            },
            "colorscale": [
             [
              0,
              "#0d0887"
             ],
             [
              0.1111111111111111,
              "#46039f"
             ],
             [
              0.2222222222222222,
              "#7201a8"
             ],
             [
              0.3333333333333333,
              "#9c179e"
             ],
             [
              0.4444444444444444,
              "#bd3786"
             ],
             [
              0.5555555555555556,
              "#d8576b"
             ],
             [
              0.6666666666666666,
              "#ed7953"
             ],
             [
              0.7777777777777778,
              "#fb9f3a"
             ],
             [
              0.8888888888888888,
              "#fdca26"
             ],
             [
              1,
              "#f0f921"
             ]
            ],
            "type": "histogram2dcontour"
           }
          ],
          "mesh3d": [
           {
            "colorbar": {
             "outlinewidth": 0,
             "ticks": ""
            },
            "type": "mesh3d"
           }
          ],
          "parcoords": [
           {
            "line": {
             "colorbar": {
              "outlinewidth": 0,
              "ticks": ""
             }
            },
            "type": "parcoords"
           }
          ],
          "pie": [
           {
            "automargin": true,
            "type": "pie"
           }
          ],
          "scatter": [
           {
            "marker": {
             "colorbar": {
              "outlinewidth": 0,
              "ticks": ""
             }
            },
            "type": "scatter"
           }
          ],
          "scatter3d": [
           {
            "line": {
             "colorbar": {
              "outlinewidth": 0,
              "ticks": ""
             }
            },
            "marker": {
             "colorbar": {
              "outlinewidth": 0,
              "ticks": ""
             }
            },
            "type": "scatter3d"
           }
          ],
          "scattercarpet": [
           {
            "marker": {
             "colorbar": {
              "outlinewidth": 0,
              "ticks": ""
             }
            },
            "type": "scattercarpet"
           }
          ],
          "scattergeo": [
           {
            "marker": {
             "colorbar": {
              "outlinewidth": 0,
              "ticks": ""
             }
            },
            "type": "scattergeo"
           }
          ],
          "scattergl": [
           {
            "marker": {
             "colorbar": {
              "outlinewidth": 0,
              "ticks": ""
             }
            },
            "type": "scattergl"
           }
          ],
          "scattermapbox": [
           {
            "marker": {
             "colorbar": {
              "outlinewidth": 0,
              "ticks": ""
             }
            },
            "type": "scattermapbox"
           }
          ],
          "scatterpolar": [
           {
            "marker": {
             "colorbar": {
              "outlinewidth": 0,
              "ticks": ""
             }
            },
            "type": "scatterpolar"
           }
          ],
          "scatterpolargl": [
           {
            "marker": {
             "colorbar": {
              "outlinewidth": 0,
              "ticks": ""
             }
            },
            "type": "scatterpolargl"
           }
          ],
          "scatterternary": [
           {
            "marker": {
             "colorbar": {
              "outlinewidth": 0,
              "ticks": ""
             }
            },
            "type": "scatterternary"
           }
          ],
          "surface": [
           {
            "colorbar": {
             "outlinewidth": 0,
             "ticks": ""
            },
            "colorscale": [
             [
              0,
              "#0d0887"
             ],
             [
              0.1111111111111111,
              "#46039f"
             ],
             [
              0.2222222222222222,
              "#7201a8"
             ],
             [
              0.3333333333333333,
              "#9c179e"
             ],
             [
              0.4444444444444444,
              "#bd3786"
             ],
             [
              0.5555555555555556,
              "#d8576b"
             ],
             [
              0.6666666666666666,
              "#ed7953"
             ],
             [
              0.7777777777777778,
              "#fb9f3a"
             ],
             [
              0.8888888888888888,
              "#fdca26"
             ],
             [
              1,
              "#f0f921"
             ]
            ],
            "type": "surface"
           }
          ],
          "table": [
           {
            "cells": {
             "fill": {
              "color": "#EBF0F8"
             },
             "line": {
              "color": "white"
             }
            },
            "header": {
             "fill": {
              "color": "#C8D4E3"
             },
             "line": {
              "color": "white"
             }
            },
            "type": "table"
           }
          ]
         },
         "layout": {
          "annotationdefaults": {
           "arrowcolor": "#2a3f5f",
           "arrowhead": 0,
           "arrowwidth": 1
          },
          "autotypenumbers": "strict",
          "coloraxis": {
           "colorbar": {
            "outlinewidth": 0,
            "ticks": ""
           }
          },
          "colorscale": {
           "diverging": [
            [
             0,
             "#8e0152"
            ],
            [
             0.1,
             "#c51b7d"
            ],
            [
             0.2,
             "#de77ae"
            ],
            [
             0.3,
             "#f1b6da"
            ],
            [
             0.4,
             "#fde0ef"
            ],
            [
             0.5,
             "#f7f7f7"
            ],
            [
             0.6,
             "#e6f5d0"
            ],
            [
             0.7,
             "#b8e186"
            ],
            [
             0.8,
             "#7fbc41"
            ],
            [
             0.9,
             "#4d9221"
            ],
            [
             1,
             "#276419"
            ]
           ],
           "sequential": [
            [
             0,
             "#0d0887"
            ],
            [
             0.1111111111111111,
             "#46039f"
            ],
            [
             0.2222222222222222,
             "#7201a8"
            ],
            [
             0.3333333333333333,
             "#9c179e"
            ],
            [
             0.4444444444444444,
             "#bd3786"
            ],
            [
             0.5555555555555556,
             "#d8576b"
            ],
            [
             0.6666666666666666,
             "#ed7953"
            ],
            [
             0.7777777777777778,
             "#fb9f3a"
            ],
            [
             0.8888888888888888,
             "#fdca26"
            ],
            [
             1,
             "#f0f921"
            ]
           ],
           "sequentialminus": [
            [
             0,
             "#0d0887"
            ],
            [
             0.1111111111111111,
             "#46039f"
            ],
            [
             0.2222222222222222,
             "#7201a8"
            ],
            [
             0.3333333333333333,
             "#9c179e"
            ],
            [
             0.4444444444444444,
             "#bd3786"
            ],
            [
             0.5555555555555556,
             "#d8576b"
            ],
            [
             0.6666666666666666,
             "#ed7953"
            ],
            [
             0.7777777777777778,
             "#fb9f3a"
            ],
            [
             0.8888888888888888,
             "#fdca26"
            ],
            [
             1,
             "#f0f921"
            ]
           ]
          },
          "colorway": [
           "#636efa",
           "#EF553B",
           "#00cc96",
           "#ab63fa",
           "#FFA15A",
           "#19d3f3",
           "#FF6692",
           "#B6E880",
           "#FF97FF",
           "#FECB52"
          ],
          "font": {
           "color": "#2a3f5f"
          },
          "geo": {
           "bgcolor": "white",
           "lakecolor": "white",
           "landcolor": "#E5ECF6",
           "showlakes": true,
           "showland": true,
           "subunitcolor": "white"
          },
          "hoverlabel": {
           "align": "left"
          },
          "hovermode": "closest",
          "mapbox": {
           "style": "light"
          },
          "paper_bgcolor": "white",
          "plot_bgcolor": "#E5ECF6",
          "polar": {
           "angularaxis": {
            "gridcolor": "white",
            "linecolor": "white",
            "ticks": ""
           },
           "bgcolor": "#E5ECF6",
           "radialaxis": {
            "gridcolor": "white",
            "linecolor": "white",
            "ticks": ""
           }
          },
          "scene": {
           "xaxis": {
            "backgroundcolor": "#E5ECF6",
            "gridcolor": "white",
            "gridwidth": 2,
            "linecolor": "white",
            "showbackground": true,
            "ticks": "",
            "zerolinecolor": "white"
           },
           "yaxis": {
            "backgroundcolor": "#E5ECF6",
            "gridcolor": "white",
            "gridwidth": 2,
            "linecolor": "white",
            "showbackground": true,
            "ticks": "",
            "zerolinecolor": "white"
           },
           "zaxis": {
            "backgroundcolor": "#E5ECF6",
            "gridcolor": "white",
            "gridwidth": 2,
            "linecolor": "white",
            "showbackground": true,
            "ticks": "",
            "zerolinecolor": "white"
           }
          },
          "shapedefaults": {
           "line": {
            "color": "#2a3f5f"
           }
          },
          "ternary": {
           "aaxis": {
            "gridcolor": "white",
            "linecolor": "white",
            "ticks": ""
           },
           "baxis": {
            "gridcolor": "white",
            "linecolor": "white",
            "ticks": ""
           },
           "bgcolor": "#E5ECF6",
           "caxis": {
            "gridcolor": "white",
            "linecolor": "white",
            "ticks": ""
           }
          },
          "title": {
           "x": 0.05
          },
          "xaxis": {
           "automargin": true,
           "gridcolor": "white",
           "linecolor": "white",
           "ticks": "",
           "title": {
            "standoff": 15
           },
           "zerolinecolor": "white",
           "zerolinewidth": 2
          },
          "yaxis": {
           "automargin": true,
           "gridcolor": "white",
           "linecolor": "white",
           "ticks": "",
           "title": {
            "standoff": 15
           },
           "zerolinecolor": "white",
           "zerolinewidth": 2
          }
         }
        },
        "title": {
         "font": {
          "color": "#4D5663"
         }
        },
        "xaxis": {
         "gridcolor": "#E1E5ED",
         "showgrid": true,
         "tickfont": {
          "color": "#4D5663"
         },
         "title": {
          "font": {
           "color": "#4D5663"
          },
          "text": ""
         },
         "zerolinecolor": "#E1E5ED"
        },
        "yaxis": {
         "gridcolor": "#E1E5ED",
         "showgrid": true,
         "tickfont": {
          "color": "#4D5663"
         },
         "title": {
          "font": {
           "color": "#4D5663"
          },
          "text": ""
         },
         "zerolinecolor": "#E1E5ED"
        }
       }
      },
      "text/html": [
       "<div>                            <div id=\"22e36cbd-bb6e-4236-8bf1-c11204ffd1cd\" class=\"plotly-graph-div\" style=\"height:525px; width:100%;\"></div>            <script type=\"text/javascript\">                require([\"plotly\"], function(Plotly) {                    window.PLOTLYENV=window.PLOTLYENV || {};\n",
       "                    window.PLOTLYENV.BASE_URL='https://plot.ly';                                    if (document.getElementById(\"22e36cbd-bb6e-4236-8bf1-c11204ffd1cd\")) {                    Plotly.newPlot(                        \"22e36cbd-bb6e-4236-8bf1-c11204ffd1cd\",                        [{\"colorscale\": [[0.0, \"rgb(165,0,38)\"], [0.1, \"rgb(215,48,39)\"], [0.2, \"rgb(244,109,67)\"], [0.3, \"rgb(253,174,97)\"], [0.4, \"rgb(254,224,144)\"], [0.5, \"rgb(255,255,191)\"], [0.6, \"rgb(224,243,248)\"], [0.7, \"rgb(171,217,233)\"], [0.8, \"rgb(116,173,209)\"], [0.9, \"rgb(69,117,180)\"], [1.0, \"rgb(49,54,149)\"]], \"type\": \"surface\", \"x\": [0, 1, 2, 3, 4], \"y\": [\"x\", \"y\", \"z\"], \"z\": [[1, 2, 3, 4, 5], [10, 20, 30, 20, 10], [5, 4, 3, 2, 1]]}],                        {\"legend\": {\"bgcolor\": \"#F5F6F9\", \"font\": {\"color\": \"#4D5663\"}}, \"paper_bgcolor\": \"#F5F6F9\", \"plot_bgcolor\": \"#F5F6F9\", \"template\": {\"data\": {\"bar\": [{\"error_x\": {\"color\": \"#2a3f5f\"}, \"error_y\": {\"color\": \"#2a3f5f\"}, \"marker\": {\"line\": {\"color\": \"#E5ECF6\", \"width\": 0.5}}, \"type\": \"bar\"}], \"barpolar\": [{\"marker\": {\"line\": {\"color\": \"#E5ECF6\", \"width\": 0.5}}, \"type\": \"barpolar\"}], \"carpet\": [{\"aaxis\": {\"endlinecolor\": \"#2a3f5f\", \"gridcolor\": \"white\", \"linecolor\": \"white\", \"minorgridcolor\": \"white\", \"startlinecolor\": \"#2a3f5f\"}, \"baxis\": {\"endlinecolor\": \"#2a3f5f\", \"gridcolor\": \"white\", \"linecolor\": \"white\", \"minorgridcolor\": \"white\", \"startlinecolor\": \"#2a3f5f\"}, \"type\": \"carpet\"}], \"choropleth\": [{\"colorbar\": {\"outlinewidth\": 0, \"ticks\": \"\"}, \"type\": \"choropleth\"}], \"contour\": [{\"colorbar\": {\"outlinewidth\": 0, \"ticks\": \"\"}, \"colorscale\": [[0.0, \"#0d0887\"], [0.1111111111111111, \"#46039f\"], [0.2222222222222222, \"#7201a8\"], [0.3333333333333333, \"#9c179e\"], [0.4444444444444444, \"#bd3786\"], [0.5555555555555556, \"#d8576b\"], [0.6666666666666666, \"#ed7953\"], [0.7777777777777778, \"#fb9f3a\"], [0.8888888888888888, \"#fdca26\"], [1.0, \"#f0f921\"]], \"type\": \"contour\"}], \"contourcarpet\": [{\"colorbar\": {\"outlinewidth\": 0, \"ticks\": \"\"}, \"type\": \"contourcarpet\"}], \"heatmap\": [{\"colorbar\": {\"outlinewidth\": 0, \"ticks\": \"\"}, \"colorscale\": [[0.0, \"#0d0887\"], [0.1111111111111111, \"#46039f\"], [0.2222222222222222, \"#7201a8\"], [0.3333333333333333, \"#9c179e\"], [0.4444444444444444, \"#bd3786\"], [0.5555555555555556, \"#d8576b\"], [0.6666666666666666, \"#ed7953\"], [0.7777777777777778, \"#fb9f3a\"], [0.8888888888888888, \"#fdca26\"], [1.0, \"#f0f921\"]], \"type\": \"heatmap\"}], \"heatmapgl\": [{\"colorbar\": {\"outlinewidth\": 0, \"ticks\": \"\"}, \"colorscale\": [[0.0, \"#0d0887\"], [0.1111111111111111, \"#46039f\"], [0.2222222222222222, \"#7201a8\"], [0.3333333333333333, \"#9c179e\"], [0.4444444444444444, \"#bd3786\"], [0.5555555555555556, \"#d8576b\"], [0.6666666666666666, \"#ed7953\"], [0.7777777777777778, \"#fb9f3a\"], [0.8888888888888888, \"#fdca26\"], [1.0, \"#f0f921\"]], \"type\": \"heatmapgl\"}], \"histogram\": [{\"marker\": {\"colorbar\": {\"outlinewidth\": 0, \"ticks\": \"\"}}, \"type\": \"histogram\"}], \"histogram2d\": [{\"colorbar\": {\"outlinewidth\": 0, \"ticks\": \"\"}, \"colorscale\": [[0.0, \"#0d0887\"], [0.1111111111111111, \"#46039f\"], [0.2222222222222222, \"#7201a8\"], [0.3333333333333333, \"#9c179e\"], [0.4444444444444444, \"#bd3786\"], [0.5555555555555556, \"#d8576b\"], [0.6666666666666666, \"#ed7953\"], [0.7777777777777778, \"#fb9f3a\"], [0.8888888888888888, \"#fdca26\"], [1.0, \"#f0f921\"]], \"type\": \"histogram2d\"}], \"histogram2dcontour\": [{\"colorbar\": {\"outlinewidth\": 0, \"ticks\": \"\"}, \"colorscale\": [[0.0, \"#0d0887\"], [0.1111111111111111, \"#46039f\"], [0.2222222222222222, \"#7201a8\"], [0.3333333333333333, \"#9c179e\"], [0.4444444444444444, \"#bd3786\"], [0.5555555555555556, \"#d8576b\"], [0.6666666666666666, \"#ed7953\"], [0.7777777777777778, \"#fb9f3a\"], [0.8888888888888888, \"#fdca26\"], [1.0, \"#f0f921\"]], \"type\": \"histogram2dcontour\"}], \"mesh3d\": [{\"colorbar\": {\"outlinewidth\": 0, \"ticks\": \"\"}, \"type\": \"mesh3d\"}], \"parcoords\": [{\"line\": {\"colorbar\": {\"outlinewidth\": 0, \"ticks\": \"\"}}, \"type\": \"parcoords\"}], \"pie\": [{\"automargin\": true, \"type\": \"pie\"}], \"scatter\": [{\"marker\": {\"colorbar\": {\"outlinewidth\": 0, \"ticks\": \"\"}}, \"type\": \"scatter\"}], \"scatter3d\": [{\"line\": {\"colorbar\": {\"outlinewidth\": 0, \"ticks\": \"\"}}, \"marker\": {\"colorbar\": {\"outlinewidth\": 0, \"ticks\": \"\"}}, \"type\": \"scatter3d\"}], \"scattercarpet\": [{\"marker\": {\"colorbar\": {\"outlinewidth\": 0, \"ticks\": \"\"}}, \"type\": \"scattercarpet\"}], \"scattergeo\": [{\"marker\": {\"colorbar\": {\"outlinewidth\": 0, \"ticks\": \"\"}}, \"type\": \"scattergeo\"}], \"scattergl\": [{\"marker\": {\"colorbar\": {\"outlinewidth\": 0, \"ticks\": \"\"}}, \"type\": \"scattergl\"}], \"scattermapbox\": [{\"marker\": {\"colorbar\": {\"outlinewidth\": 0, \"ticks\": \"\"}}, \"type\": \"scattermapbox\"}], \"scatterpolar\": [{\"marker\": {\"colorbar\": {\"outlinewidth\": 0, \"ticks\": \"\"}}, \"type\": \"scatterpolar\"}], \"scatterpolargl\": [{\"marker\": {\"colorbar\": {\"outlinewidth\": 0, \"ticks\": \"\"}}, \"type\": \"scatterpolargl\"}], \"scatterternary\": [{\"marker\": {\"colorbar\": {\"outlinewidth\": 0, \"ticks\": \"\"}}, \"type\": \"scatterternary\"}], \"surface\": [{\"colorbar\": {\"outlinewidth\": 0, \"ticks\": \"\"}, \"colorscale\": [[0.0, \"#0d0887\"], [0.1111111111111111, \"#46039f\"], [0.2222222222222222, \"#7201a8\"], [0.3333333333333333, \"#9c179e\"], [0.4444444444444444, \"#bd3786\"], [0.5555555555555556, \"#d8576b\"], [0.6666666666666666, \"#ed7953\"], [0.7777777777777778, \"#fb9f3a\"], [0.8888888888888888, \"#fdca26\"], [1.0, \"#f0f921\"]], \"type\": \"surface\"}], \"table\": [{\"cells\": {\"fill\": {\"color\": \"#EBF0F8\"}, \"line\": {\"color\": \"white\"}}, \"header\": {\"fill\": {\"color\": \"#C8D4E3\"}, \"line\": {\"color\": \"white\"}}, \"type\": \"table\"}]}, \"layout\": {\"annotationdefaults\": {\"arrowcolor\": \"#2a3f5f\", \"arrowhead\": 0, \"arrowwidth\": 1}, \"autotypenumbers\": \"strict\", \"coloraxis\": {\"colorbar\": {\"outlinewidth\": 0, \"ticks\": \"\"}}, \"colorscale\": {\"diverging\": [[0, \"#8e0152\"], [0.1, \"#c51b7d\"], [0.2, \"#de77ae\"], [0.3, \"#f1b6da\"], [0.4, \"#fde0ef\"], [0.5, \"#f7f7f7\"], [0.6, \"#e6f5d0\"], [0.7, \"#b8e186\"], [0.8, \"#7fbc41\"], [0.9, \"#4d9221\"], [1, \"#276419\"]], \"sequential\": [[0.0, \"#0d0887\"], [0.1111111111111111, \"#46039f\"], [0.2222222222222222, \"#7201a8\"], [0.3333333333333333, \"#9c179e\"], [0.4444444444444444, \"#bd3786\"], [0.5555555555555556, \"#d8576b\"], [0.6666666666666666, \"#ed7953\"], [0.7777777777777778, \"#fb9f3a\"], [0.8888888888888888, \"#fdca26\"], [1.0, \"#f0f921\"]], \"sequentialminus\": [[0.0, \"#0d0887\"], [0.1111111111111111, \"#46039f\"], [0.2222222222222222, \"#7201a8\"], [0.3333333333333333, \"#9c179e\"], [0.4444444444444444, \"#bd3786\"], [0.5555555555555556, \"#d8576b\"], [0.6666666666666666, \"#ed7953\"], [0.7777777777777778, \"#fb9f3a\"], [0.8888888888888888, \"#fdca26\"], [1.0, \"#f0f921\"]]}, \"colorway\": [\"#636efa\", \"#EF553B\", \"#00cc96\", \"#ab63fa\", \"#FFA15A\", \"#19d3f3\", \"#FF6692\", \"#B6E880\", \"#FF97FF\", \"#FECB52\"], \"font\": {\"color\": \"#2a3f5f\"}, \"geo\": {\"bgcolor\": \"white\", \"lakecolor\": \"white\", \"landcolor\": \"#E5ECF6\", \"showlakes\": true, \"showland\": true, \"subunitcolor\": \"white\"}, \"hoverlabel\": {\"align\": \"left\"}, \"hovermode\": \"closest\", \"mapbox\": {\"style\": \"light\"}, \"paper_bgcolor\": \"white\", \"plot_bgcolor\": \"#E5ECF6\", \"polar\": {\"angularaxis\": {\"gridcolor\": \"white\", \"linecolor\": \"white\", \"ticks\": \"\"}, \"bgcolor\": \"#E5ECF6\", \"radialaxis\": {\"gridcolor\": \"white\", \"linecolor\": \"white\", \"ticks\": \"\"}}, \"scene\": {\"xaxis\": {\"backgroundcolor\": \"#E5ECF6\", \"gridcolor\": \"white\", \"gridwidth\": 2, \"linecolor\": \"white\", \"showbackground\": true, \"ticks\": \"\", \"zerolinecolor\": \"white\"}, \"yaxis\": {\"backgroundcolor\": \"#E5ECF6\", \"gridcolor\": \"white\", \"gridwidth\": 2, \"linecolor\": \"white\", \"showbackground\": true, \"ticks\": \"\", \"zerolinecolor\": \"white\"}, \"zaxis\": {\"backgroundcolor\": \"#E5ECF6\", \"gridcolor\": \"white\", \"gridwidth\": 2, \"linecolor\": \"white\", \"showbackground\": true, \"ticks\": \"\", \"zerolinecolor\": \"white\"}}, \"shapedefaults\": {\"line\": {\"color\": \"#2a3f5f\"}}, \"ternary\": {\"aaxis\": {\"gridcolor\": \"white\", \"linecolor\": \"white\", \"ticks\": \"\"}, \"baxis\": {\"gridcolor\": \"white\", \"linecolor\": \"white\", \"ticks\": \"\"}, \"bgcolor\": \"#E5ECF6\", \"caxis\": {\"gridcolor\": \"white\", \"linecolor\": \"white\", \"ticks\": \"\"}}, \"title\": {\"x\": 0.05}, \"xaxis\": {\"automargin\": true, \"gridcolor\": \"white\", \"linecolor\": \"white\", \"ticks\": \"\", \"title\": {\"standoff\": 15}, \"zerolinecolor\": \"white\", \"zerolinewidth\": 2}, \"yaxis\": {\"automargin\": true, \"gridcolor\": \"white\", \"linecolor\": \"white\", \"ticks\": \"\", \"title\": {\"standoff\": 15}, \"zerolinecolor\": \"white\", \"zerolinewidth\": 2}}}, \"title\": {\"font\": {\"color\": \"#4D5663\"}}, \"xaxis\": {\"gridcolor\": \"#E1E5ED\", \"showgrid\": true, \"tickfont\": {\"color\": \"#4D5663\"}, \"title\": {\"font\": {\"color\": \"#4D5663\"}, \"text\": \"\"}, \"zerolinecolor\": \"#E1E5ED\"}, \"yaxis\": {\"gridcolor\": \"#E1E5ED\", \"showgrid\": true, \"tickfont\": {\"color\": \"#4D5663\"}, \"title\": {\"font\": {\"color\": \"#4D5663\"}, \"text\": \"\"}, \"zerolinecolor\": \"#E1E5ED\"}},                        {\"showLink\": true, \"linkText\": \"Export to plot.ly\", \"plotlyServerURL\": \"https://plot.ly\", \"responsive\": true}                    ).then(function(){\n",
       "                            \n",
       "var gd = document.getElementById('22e36cbd-bb6e-4236-8bf1-c11204ffd1cd');\n",
       "var x = new MutationObserver(function (mutations, observer) {{\n",
       "        var display = window.getComputedStyle(gd).display;\n",
       "        if (!display || display === 'none') {{\n",
       "            console.log([gd, 'removed!']);\n",
       "            Plotly.purge(gd);\n",
       "            observer.disconnect();\n",
       "        }}\n",
       "}});\n",
       "\n",
       "// Listen for the removal of the full notebook cells\n",
       "var notebookContainer = gd.closest('#notebook-container');\n",
       "if (notebookContainer) {{\n",
       "    x.observe(notebookContainer, {childList: true});\n",
       "}}\n",
       "\n",
       "// Listen for the clearing of the current output cell\n",
       "var outputEl = gd.closest('.output');\n",
       "if (outputEl) {{\n",
       "    x.observe(outputEl, {childList: true});\n",
       "}}\n",
       "\n",
       "                        })                };                });            </script>        </div>"
      ]
     },
     "metadata": {},
     "output_type": "display_data"
    }
   ],
   "source": [
    "df3 = pd.DataFrame({'x':[1,2,3,4,5],'y':[10,20,30,20,10],'z':[5,4,3,2,1]})\n",
    "df3.iplot(kind='surface',colorscale='rdylbu')"
   ]
  },
  {
   "cell_type": "markdown",
   "metadata": {},
   "source": [
    "## Spread"
   ]
  },
  {
   "cell_type": "code",
   "execution_count": 15,
   "metadata": {},
   "outputs": [
    {
     "name": "stderr",
     "output_type": "stream",
     "text": [
      "/Users/laurenfisher/opt/anaconda3/lib/python3.8/site-packages/cufflinks/plotlytools.py:849: FutureWarning:\n",
      "\n",
      "The pandas.np module is deprecated and will be removed from pandas in a future version. Import numpy directly instead\n",
      "\n",
      "/Users/laurenfisher/opt/anaconda3/lib/python3.8/site-packages/cufflinks/plotlytools.py:850: FutureWarning:\n",
      "\n",
      "The pandas.np module is deprecated and will be removed from pandas in a future version. Import numpy directly instead\n",
      "\n"
     ]
    },
    {
     "data": {
      "application/vnd.plotly.v1+json": {
       "config": {
        "linkText": "Export to plot.ly",
        "plotlyServerURL": "https://plot.ly",
        "showLink": true
       },
       "data": [
        {
         "line": {
          "color": "rgba(255, 153, 51, 1.0)",
          "dash": "solid",
          "shape": "linear",
          "width": 1.3
         },
         "mode": "lines",
         "name": "A",
         "text": "",
         "type": "scatter",
         "x": [
          0,
          1,
          2,
          3,
          4,
          5,
          6,
          7,
          8,
          9,
          10,
          11,
          12,
          13,
          14,
          15,
          16,
          17,
          18,
          19,
          20,
          21,
          22,
          23,
          24,
          25,
          26,
          27,
          28,
          29,
          30,
          31,
          32,
          33,
          34,
          35,
          36,
          37,
          38,
          39,
          40,
          41,
          42,
          43,
          44,
          45,
          46,
          47,
          48,
          49,
          50,
          51,
          52,
          53,
          54,
          55,
          56,
          57,
          58,
          59,
          60,
          61,
          62,
          63,
          64,
          65,
          66,
          67,
          68,
          69,
          70,
          71,
          72,
          73,
          74,
          75,
          76,
          77,
          78,
          79,
          80,
          81,
          82,
          83,
          84,
          85,
          86,
          87,
          88,
          89,
          90,
          91,
          92,
          93,
          94,
          95,
          96,
          97,
          98,
          99
         ],
         "y": [
          -1.0869584731134463,
          0.27451744742966855,
          0.898589965888706,
          -0.16552031190222838,
          -1.2734743934645587,
          1.3785347245530486,
          0.7868745774402074,
          0.7766436984162196,
          0.22616856791677742,
          0.007405250672447983,
          0.64366447216253,
          -1.7626137628640837,
          0.4441052137532636,
          -0.2108770255901744,
          0.6198112180793899,
          -1.8287242831076582,
          -0.9431897712379231,
          -0.6477520870136391,
          0.6508763934079177,
          0.7908879119638564,
          -0.5437926157664298,
          0.11492643070611391,
          0.3974511774942038,
          -1.8055711983924294,
          -0.8523522195491334,
          -0.558736594859252,
          -1.1473397416674855,
          -0.16454004935997768,
          -0.660716242116677,
          0.049352004212177884,
          -0.057314717313838005,
          -0.43941827438359155,
          0.0277344949358772,
          -0.7062001067991027,
          0.20462323016526873,
          0.3496160101587443,
          0.6577663410748592,
          -0.2758959541944502,
          2.0705732352146224,
          -0.09914233320171727,
          1.3172585301650261,
          -0.7394903007107098,
          0.007553436342522031,
          0.016748848512975506,
          -0.5611598750145692,
          -0.48601745121375417,
          -0.13367046078164657,
          0.037363970053662626,
          0.6178066666029638,
          1.3796647232899897,
          -0.6931058583317703,
          -0.9972334923098112,
          1.3641795786608075,
          -1.106805521135824,
          1.0854563377341457,
          -0.09555624054883202,
          0.6288015463938761,
          -0.8760011405423394,
          1.2336403186919789,
          0.033956099774664385,
          2.1407935064284773,
          0.6385182836690706,
          -0.5269728709133601,
          -0.5847843726513189,
          -2.3494435331723307,
          -0.18399978217020438,
          0.16960257341940285,
          0.46380914522191813,
          -0.3056312698113668,
          0.7936378599682448,
          0.810159922841156,
          1.7683652861021277,
          0.9765976549826945,
          0.21326281672362585,
          -0.31880949249799556,
          2.2713306562647673,
          -1.0851960684705424,
          -1.570147459967214,
          0.34576961774812714,
          0.8703889358199863,
          1.2367572823310422,
          1.3781590168114433,
          1.6483301874280925,
          1.3376056922248774,
          0.6753253952993254,
          1.483120340763066,
          -1.4696468790989143,
          0.18006693944434077,
          -0.6444227711806647,
          1.342402191198624,
          0.3795249191416694,
          0.34893084837192684,
          0.5547093859793416,
          -0.7615597381780371,
          -0.34604453437406435,
          -0.467604005429489,
          -0.675717935618517,
          0.4451618761638253,
          -0.28832274185004775,
          0.8908517457098541
         ]
        },
        {
         "line": {
          "color": "rgba(55, 128, 191, 1.0)",
          "dash": "solid",
          "shape": "linear",
          "width": 1.3
         },
         "mode": "lines",
         "name": "B",
         "text": "",
         "type": "scatter",
         "x": [
          0,
          1,
          2,
          3,
          4,
          5,
          6,
          7,
          8,
          9,
          10,
          11,
          12,
          13,
          14,
          15,
          16,
          17,
          18,
          19,
          20,
          21,
          22,
          23,
          24,
          25,
          26,
          27,
          28,
          29,
          30,
          31,
          32,
          33,
          34,
          35,
          36,
          37,
          38,
          39,
          40,
          41,
          42,
          43,
          44,
          45,
          46,
          47,
          48,
          49,
          50,
          51,
          52,
          53,
          54,
          55,
          56,
          57,
          58,
          59,
          60,
          61,
          62,
          63,
          64,
          65,
          66,
          67,
          68,
          69,
          70,
          71,
          72,
          73,
          74,
          75,
          76,
          77,
          78,
          79,
          80,
          81,
          82,
          83,
          84,
          85,
          86,
          87,
          88,
          89,
          90,
          91,
          92,
          93,
          94,
          95,
          96,
          97,
          98,
          99
         ],
         "y": [
          1.7013820185635982,
          0.016734098968908245,
          2.2184867506604347,
          0.44451676757382264,
          1.703802666363377,
          0.5510780102731614,
          -0.007384714327293,
          -0.35835576270049563,
          1.6179370471689394,
          -1.169620835636566,
          -0.36772215073358494,
          0.182065915329453,
          -0.3975451539297147,
          0.6205506166419125,
          -1.098210734843599,
          0.20041257042194804,
          -0.426836602355439,
          2.277927386764877,
          -1.1017588091404427,
          0.152675931119196,
          0.26089294030064775,
          0.16790296118827935,
          1.117498940581288,
          0.1184339640900317,
          -0.329283204486584,
          -0.48503749507682914,
          0.10287082937910579,
          -0.14335257092830764,
          0.8278903286727461,
          -1.2152889355373417,
          1.8688574824406747,
          -2.224014721044174,
          0.5480537392492857,
          -0.4147767422144272,
          0.9111740247529115,
          -0.2528222104299852,
          -0.328512170305908,
          1.5075951910841419,
          1.1498989386135394,
          -0.35747433861149613,
          0.2600226018296949,
          -2.1464321877023447,
          -0.45158829898502395,
          -1.219746472073381,
          0.8502524893445202,
          0.9462632125257172,
          -1.7598783345103384,
          -0.2997902477697803,
          -0.04572481337190753,
          0.6882101545853919,
          -0.8189329172921694,
          0.5734955778855265,
          1.185944352107926,
          -0.20946517839781378,
          -1.3897673074849386,
          0.05787704017837233,
          -0.4511274628719261,
          0.09277799280316695,
          -1.2173858066388004,
          1.6667919772825086,
          0.7189158983152318,
          -0.9056304694239788,
          -0.4677796938681007,
          -1.6548913931086122,
          2.2516119970191237,
          0.9837585001186746,
          0.4878811018427395,
          -1.112952019281889,
          0.216206728493171,
          2.299476542354412,
          -1.4070242741765342,
          -0.45055928068229417,
          0.46767482889353085,
          0.32182309910940193,
          1.2080200190126147,
          0.9669139668088189,
          0.31402593167975984,
          0.714031354188266,
          -0.43036799689653804,
          -0.10611543689348711,
          -0.3206654621288512,
          -1.2964482536527433,
          1.466932859869416,
          1.138962013851952,
          0.4980801447568573,
          1.6032529424100892,
          -0.3434705413925944,
          -0.4314394981069506,
          -0.4718651054692796,
          -2.176081195391494,
          -0.4843139984008415,
          -0.5920273380597912,
          -0.5227207238304532,
          0.5926508580560483,
          -0.429051904089719,
          0.6569896275867015,
          1.7338054889903347,
          -1.8873414584768677,
          -0.9113554907885516,
          0.2599158976535608
         ]
        },
        {
         "connectgaps": false,
         "fill": "tozeroy",
         "line": {
          "color": "green",
          "dash": "solid",
          "shape": "linear",
          "width": 0.5
         },
         "mode": "lines",
         "name": "Spread",
         "showlegend": false,
         "type": "scatter",
         "x": [
          0,
          1,
          2,
          3,
          4,
          5,
          6,
          7,
          8,
          9,
          10,
          11,
          12,
          13,
          14,
          15,
          16,
          17,
          18,
          19,
          20,
          21,
          22,
          23,
          24,
          25,
          26,
          27,
          28,
          29,
          30,
          31,
          32,
          33,
          34,
          35,
          36,
          37,
          38,
          39,
          40,
          41,
          42,
          43,
          44,
          45,
          46,
          47,
          48,
          49,
          50,
          51,
          52,
          53,
          54,
          55,
          56,
          57,
          58,
          59,
          60,
          61,
          62,
          63,
          64,
          65,
          66,
          67,
          68,
          69,
          70,
          71,
          72,
          73,
          74,
          75,
          76,
          77,
          78,
          79,
          80,
          81,
          82,
          83,
          84,
          85,
          86,
          87,
          88,
          89,
          90,
          91,
          92,
          93,
          94,
          95,
          96,
          97,
          98,
          99
         ],
         "xaxis": "x2",
         "y": [
          "",
          0.2577833484607603,
          "",
          "",
          "",
          0.8274567142798872,
          0.7942592917675004,
          1.1349994611167151,
          "",
          1.177026086309014,
          1.011386622896115,
          "",
          0.8416503676829783,
          "",
          1.7180219529229888,
          "",
          "",
          "",
          1.7526352025483605,
          0.6382119808446605,
          "",
          "",
          "",
          "",
          "",
          "",
          "",
          "",
          "",
          1.2646409397495195,
          "",
          1.7845964466605826,
          "",
          "",
          "",
          0.6024382205887295,
          0.9862785113807673,
          "",
          0.920674296601083,
          0.25833200540977885,
          1.0572359283353312,
          1.406941886991635,
          0.459141735327546,
          1.2364953205863565,
          "",
          "",
          1.6262078737286918,
          0.3371542178234429,
          0.6635314799748713,
          0.6914545687045978,
          0.12582705896039914,
          "",
          0.1782352265528815,
          "",
          2.475223645219084,
          "",
          1.0799290092658023,
          "",
          2.4510261253307792,
          "",
          1.4218776081132454,
          1.5441487530930496,
          "",
          1.0701070204572933,
          "",
          "",
          "",
          1.576761164503807,
          "",
          "",
          2.21718419701769,
          2.218924566784422,
          0.5089228260891636,
          "",
          "",
          1.3044166894559484,
          "",
          "",
          0.7761376146446652,
          0.9765043727134735,
          1.5574227444598934,
          2.6746072704641866,
          0.18139732755867644,
          0.1986436783729253,
          0.17724525054246815,
          "",
          "",
          0.6115064375512913,
          "",
          3.518483386590118,
          0.863838917542511,
          0.940958186431718,
          1.0774301098097947,
          "",
          0.08300736971565464,
          "",
          "",
          2.332503334640693,
          0.6230327489385039,
          0.6309358480562933
         ],
         "yaxis": "y2"
        },
        {
         "connectgaps": false,
         "fill": "tozeroy",
         "line": {
          "color": "red",
          "dash": "solid",
          "shape": "linear",
          "width": 0.5
         },
         "mode": "lines",
         "name": "Spread",
         "showlegend": false,
         "type": "scatter",
         "x": [
          0,
          1,
          2,
          3,
          4,
          5,
          6,
          7,
          8,
          9,
          10,
          11,
          12,
          13,
          14,
          15,
          16,
          17,
          18,
          19,
          20,
          21,
          22,
          23,
          24,
          25,
          26,
          27,
          28,
          29,
          30,
          31,
          32,
          33,
          34,
          35,
          36,
          37,
          38,
          39,
          40,
          41,
          42,
          43,
          44,
          45,
          46,
          47,
          48,
          49,
          50,
          51,
          52,
          53,
          54,
          55,
          56,
          57,
          58,
          59,
          60,
          61,
          62,
          63,
          64,
          65,
          66,
          67,
          68,
          69,
          70,
          71,
          72,
          73,
          74,
          75,
          76,
          77,
          78,
          79,
          80,
          81,
          82,
          83,
          84,
          85,
          86,
          87,
          88,
          89,
          90,
          91,
          92,
          93,
          94,
          95,
          96,
          97,
          98,
          99
         ],
         "xaxis": "x2",
         "y": [
          -2.7883404916770447,
          "",
          -1.3198967847717287,
          -0.610037079476051,
          -2.9772770598279354,
          "",
          "",
          "",
          -1.3917684792521618,
          "",
          "",
          -1.9446796781935367,
          "",
          -0.8314276422320869,
          "",
          -2.0291368535296064,
          -0.5163531688824841,
          -2.925679473778516,
          "",
          "",
          -0.8046855560670776,
          -0.05297653048216544,
          -0.7200477630870843,
          -1.924005162482461,
          -0.5230690150625494,
          -0.07369909978242284,
          -1.2502105710465914,
          -0.021187478431670043,
          -1.4886065707894232,
          "",
          -1.9261721997545127,
          "",
          -0.5203192443134085,
          -0.29142336458467555,
          -0.7065507945876428,
          "",
          "",
          -1.783491145278592,
          "",
          "",
          "",
          "",
          "",
          "",
          -1.4114123643590895,
          -1.4322806637394714,
          "",
          "",
          "",
          "",
          "",
          -1.5707290701953376,
          "",
          -0.8973403427380103,
          "",
          -0.15343328072720436,
          "",
          -0.9687791333455062,
          "",
          -1.6328358775078442,
          "",
          "",
          -0.05919317704525939,
          "",
          -4.601055530191454,
          -1.167758282288879,
          -0.3182785284233366,
          "",
          -0.5218379983045378,
          -1.5058386823861671,
          "",
          "",
          "",
          -0.10856028238577609,
          -1.5268295115106103,
          "",
          -1.3992220001503022,
          -2.28417881415548,
          "",
          "",
          "",
          "",
          "",
          "",
          "",
          -0.12013260164702322,
          -1.1261763377063199,
          "",
          -0.1725576657113851,
          "",
          "",
          "",
          "",
          -1.3542105962340854,
          "",
          -1.1245936330161905,
          -2.4095234246088517,
          "",
          "",
          ""
         ],
         "yaxis": "y2"
        }
       ],
       "layout": {
        "hovermode": "x",
        "legend": {
         "bgcolor": "#F5F6F9",
         "font": {
          "color": "#4D5663"
         }
        },
        "paper_bgcolor": "#F5F6F9",
        "plot_bgcolor": "#F5F6F9",
        "template": {
         "data": {
          "bar": [
           {
            "error_x": {
             "color": "#2a3f5f"
            },
            "error_y": {
             "color": "#2a3f5f"
            },
            "marker": {
             "line": {
              "color": "#E5ECF6",
              "width": 0.5
             }
            },
            "type": "bar"
           }
          ],
          "barpolar": [
           {
            "marker": {
             "line": {
              "color": "#E5ECF6",
              "width": 0.5
             }
            },
            "type": "barpolar"
           }
          ],
          "carpet": [
           {
            "aaxis": {
             "endlinecolor": "#2a3f5f",
             "gridcolor": "white",
             "linecolor": "white",
             "minorgridcolor": "white",
             "startlinecolor": "#2a3f5f"
            },
            "baxis": {
             "endlinecolor": "#2a3f5f",
             "gridcolor": "white",
             "linecolor": "white",
             "minorgridcolor": "white",
             "startlinecolor": "#2a3f5f"
            },
            "type": "carpet"
           }
          ],
          "choropleth": [
           {
            "colorbar": {
             "outlinewidth": 0,
             "ticks": ""
            },
            "type": "choropleth"
           }
          ],
          "contour": [
           {
            "colorbar": {
             "outlinewidth": 0,
             "ticks": ""
            },
            "colorscale": [
             [
              0,
              "#0d0887"
             ],
             [
              0.1111111111111111,
              "#46039f"
             ],
             [
              0.2222222222222222,
              "#7201a8"
             ],
             [
              0.3333333333333333,
              "#9c179e"
             ],
             [
              0.4444444444444444,
              "#bd3786"
             ],
             [
              0.5555555555555556,
              "#d8576b"
             ],
             [
              0.6666666666666666,
              "#ed7953"
             ],
             [
              0.7777777777777778,
              "#fb9f3a"
             ],
             [
              0.8888888888888888,
              "#fdca26"
             ],
             [
              1,
              "#f0f921"
             ]
            ],
            "type": "contour"
           }
          ],
          "contourcarpet": [
           {
            "colorbar": {
             "outlinewidth": 0,
             "ticks": ""
            },
            "type": "contourcarpet"
           }
          ],
          "heatmap": [
           {
            "colorbar": {
             "outlinewidth": 0,
             "ticks": ""
            },
            "colorscale": [
             [
              0,
              "#0d0887"
             ],
             [
              0.1111111111111111,
              "#46039f"
             ],
             [
              0.2222222222222222,
              "#7201a8"
             ],
             [
              0.3333333333333333,
              "#9c179e"
             ],
             [
              0.4444444444444444,
              "#bd3786"
             ],
             [
              0.5555555555555556,
              "#d8576b"
             ],
             [
              0.6666666666666666,
              "#ed7953"
             ],
             [
              0.7777777777777778,
              "#fb9f3a"
             ],
             [
              0.8888888888888888,
              "#fdca26"
             ],
             [
              1,
              "#f0f921"
             ]
            ],
            "type": "heatmap"
           }
          ],
          "heatmapgl": [
           {
            "colorbar": {
             "outlinewidth": 0,
             "ticks": ""
            },
            "colorscale": [
             [
              0,
              "#0d0887"
             ],
             [
              0.1111111111111111,
              "#46039f"
             ],
             [
              0.2222222222222222,
              "#7201a8"
             ],
             [
              0.3333333333333333,
              "#9c179e"
             ],
             [
              0.4444444444444444,
              "#bd3786"
             ],
             [
              0.5555555555555556,
              "#d8576b"
             ],
             [
              0.6666666666666666,
              "#ed7953"
             ],
             [
              0.7777777777777778,
              "#fb9f3a"
             ],
             [
              0.8888888888888888,
              "#fdca26"
             ],
             [
              1,
              "#f0f921"
             ]
            ],
            "type": "heatmapgl"
           }
          ],
          "histogram": [
           {
            "marker": {
             "colorbar": {
              "outlinewidth": 0,
              "ticks": ""
             }
            },
            "type": "histogram"
           }
          ],
          "histogram2d": [
           {
            "colorbar": {
             "outlinewidth": 0,
             "ticks": ""
            },
            "colorscale": [
             [
              0,
              "#0d0887"
             ],
             [
              0.1111111111111111,
              "#46039f"
             ],
             [
              0.2222222222222222,
              "#7201a8"
             ],
             [
              0.3333333333333333,
              "#9c179e"
             ],
             [
              0.4444444444444444,
              "#bd3786"
             ],
             [
              0.5555555555555556,
              "#d8576b"
             ],
             [
              0.6666666666666666,
              "#ed7953"
             ],
             [
              0.7777777777777778,
              "#fb9f3a"
             ],
             [
              0.8888888888888888,
              "#fdca26"
             ],
             [
              1,
              "#f0f921"
             ]
            ],
            "type": "histogram2d"
           }
          ],
          "histogram2dcontour": [
           {
            "colorbar": {
             "outlinewidth": 0,
             "ticks": ""
            },
            "colorscale": [
             [
              0,
              "#0d0887"
             ],
             [
              0.1111111111111111,
              "#46039f"
             ],
             [
              0.2222222222222222,
              "#7201a8"
             ],
             [
              0.3333333333333333,
              "#9c179e"
             ],
             [
              0.4444444444444444,
              "#bd3786"
             ],
             [
              0.5555555555555556,
              "#d8576b"
             ],
             [
              0.6666666666666666,
              "#ed7953"
             ],
             [
              0.7777777777777778,
              "#fb9f3a"
             ],
             [
              0.8888888888888888,
              "#fdca26"
             ],
             [
              1,
              "#f0f921"
             ]
            ],
            "type": "histogram2dcontour"
           }
          ],
          "mesh3d": [
           {
            "colorbar": {
             "outlinewidth": 0,
             "ticks": ""
            },
            "type": "mesh3d"
           }
          ],
          "parcoords": [
           {
            "line": {
             "colorbar": {
              "outlinewidth": 0,
              "ticks": ""
             }
            },
            "type": "parcoords"
           }
          ],
          "pie": [
           {
            "automargin": true,
            "type": "pie"
           }
          ],
          "scatter": [
           {
            "marker": {
             "colorbar": {
              "outlinewidth": 0,
              "ticks": ""
             }
            },
            "type": "scatter"
           }
          ],
          "scatter3d": [
           {
            "line": {
             "colorbar": {
              "outlinewidth": 0,
              "ticks": ""
             }
            },
            "marker": {
             "colorbar": {
              "outlinewidth": 0,
              "ticks": ""
             }
            },
            "type": "scatter3d"
           }
          ],
          "scattercarpet": [
           {
            "marker": {
             "colorbar": {
              "outlinewidth": 0,
              "ticks": ""
             }
            },
            "type": "scattercarpet"
           }
          ],
          "scattergeo": [
           {
            "marker": {
             "colorbar": {
              "outlinewidth": 0,
              "ticks": ""
             }
            },
            "type": "scattergeo"
           }
          ],
          "scattergl": [
           {
            "marker": {
             "colorbar": {
              "outlinewidth": 0,
              "ticks": ""
             }
            },
            "type": "scattergl"
           }
          ],
          "scattermapbox": [
           {
            "marker": {
             "colorbar": {
              "outlinewidth": 0,
              "ticks": ""
             }
            },
            "type": "scattermapbox"
           }
          ],
          "scatterpolar": [
           {
            "marker": {
             "colorbar": {
              "outlinewidth": 0,
              "ticks": ""
             }
            },
            "type": "scatterpolar"
           }
          ],
          "scatterpolargl": [
           {
            "marker": {
             "colorbar": {
              "outlinewidth": 0,
              "ticks": ""
             }
            },
            "type": "scatterpolargl"
           }
          ],
          "scatterternary": [
           {
            "marker": {
             "colorbar": {
              "outlinewidth": 0,
              "ticks": ""
             }
            },
            "type": "scatterternary"
           }
          ],
          "surface": [
           {
            "colorbar": {
             "outlinewidth": 0,
             "ticks": ""
            },
            "colorscale": [
             [
              0,
              "#0d0887"
             ],
             [
              0.1111111111111111,
              "#46039f"
             ],
             [
              0.2222222222222222,
              "#7201a8"
             ],
             [
              0.3333333333333333,
              "#9c179e"
             ],
             [
              0.4444444444444444,
              "#bd3786"
             ],
             [
              0.5555555555555556,
              "#d8576b"
             ],
             [
              0.6666666666666666,
              "#ed7953"
             ],
             [
              0.7777777777777778,
              "#fb9f3a"
             ],
             [
              0.8888888888888888,
              "#fdca26"
             ],
             [
              1,
              "#f0f921"
             ]
            ],
            "type": "surface"
           }
          ],
          "table": [
           {
            "cells": {
             "fill": {
              "color": "#EBF0F8"
             },
             "line": {
              "color": "white"
             }
            },
            "header": {
             "fill": {
              "color": "#C8D4E3"
             },
             "line": {
              "color": "white"
             }
            },
            "type": "table"
           }
          ]
         },
         "layout": {
          "annotationdefaults": {
           "arrowcolor": "#2a3f5f",
           "arrowhead": 0,
           "arrowwidth": 1
          },
          "autotypenumbers": "strict",
          "coloraxis": {
           "colorbar": {
            "outlinewidth": 0,
            "ticks": ""
           }
          },
          "colorscale": {
           "diverging": [
            [
             0,
             "#8e0152"
            ],
            [
             0.1,
             "#c51b7d"
            ],
            [
             0.2,
             "#de77ae"
            ],
            [
             0.3,
             "#f1b6da"
            ],
            [
             0.4,
             "#fde0ef"
            ],
            [
             0.5,
             "#f7f7f7"
            ],
            [
             0.6,
             "#e6f5d0"
            ],
            [
             0.7,
             "#b8e186"
            ],
            [
             0.8,
             "#7fbc41"
            ],
            [
             0.9,
             "#4d9221"
            ],
            [
             1,
             "#276419"
            ]
           ],
           "sequential": [
            [
             0,
             "#0d0887"
            ],
            [
             0.1111111111111111,
             "#46039f"
            ],
            [
             0.2222222222222222,
             "#7201a8"
            ],
            [
             0.3333333333333333,
             "#9c179e"
            ],
            [
             0.4444444444444444,
             "#bd3786"
            ],
            [
             0.5555555555555556,
             "#d8576b"
            ],
            [
             0.6666666666666666,
             "#ed7953"
            ],
            [
             0.7777777777777778,
             "#fb9f3a"
            ],
            [
             0.8888888888888888,
             "#fdca26"
            ],
            [
             1,
             "#f0f921"
            ]
           ],
           "sequentialminus": [
            [
             0,
             "#0d0887"
            ],
            [
             0.1111111111111111,
             "#46039f"
            ],
            [
             0.2222222222222222,
             "#7201a8"
            ],
            [
             0.3333333333333333,
             "#9c179e"
            ],
            [
             0.4444444444444444,
             "#bd3786"
            ],
            [
             0.5555555555555556,
             "#d8576b"
            ],
            [
             0.6666666666666666,
             "#ed7953"
            ],
            [
             0.7777777777777778,
             "#fb9f3a"
            ],
            [
             0.8888888888888888,
             "#fdca26"
            ],
            [
             1,
             "#f0f921"
            ]
           ]
          },
          "colorway": [
           "#636efa",
           "#EF553B",
           "#00cc96",
           "#ab63fa",
           "#FFA15A",
           "#19d3f3",
           "#FF6692",
           "#B6E880",
           "#FF97FF",
           "#FECB52"
          ],
          "font": {
           "color": "#2a3f5f"
          },
          "geo": {
           "bgcolor": "white",
           "lakecolor": "white",
           "landcolor": "#E5ECF6",
           "showlakes": true,
           "showland": true,
           "subunitcolor": "white"
          },
          "hoverlabel": {
           "align": "left"
          },
          "hovermode": "closest",
          "mapbox": {
           "style": "light"
          },
          "paper_bgcolor": "white",
          "plot_bgcolor": "#E5ECF6",
          "polar": {
           "angularaxis": {
            "gridcolor": "white",
            "linecolor": "white",
            "ticks": ""
           },
           "bgcolor": "#E5ECF6",
           "radialaxis": {
            "gridcolor": "white",
            "linecolor": "white",
            "ticks": ""
           }
          },
          "scene": {
           "xaxis": {
            "backgroundcolor": "#E5ECF6",
            "gridcolor": "white",
            "gridwidth": 2,
            "linecolor": "white",
            "showbackground": true,
            "ticks": "",
            "zerolinecolor": "white"
           },
           "yaxis": {
            "backgroundcolor": "#E5ECF6",
            "gridcolor": "white",
            "gridwidth": 2,
            "linecolor": "white",
            "showbackground": true,
            "ticks": "",
            "zerolinecolor": "white"
           },
           "zaxis": {
            "backgroundcolor": "#E5ECF6",
            "gridcolor": "white",
            "gridwidth": 2,
            "linecolor": "white",
            "showbackground": true,
            "ticks": "",
            "zerolinecolor": "white"
           }
          },
          "shapedefaults": {
           "line": {
            "color": "#2a3f5f"
           }
          },
          "ternary": {
           "aaxis": {
            "gridcolor": "white",
            "linecolor": "white",
            "ticks": ""
           },
           "baxis": {
            "gridcolor": "white",
            "linecolor": "white",
            "ticks": ""
           },
           "bgcolor": "#E5ECF6",
           "caxis": {
            "gridcolor": "white",
            "linecolor": "white",
            "ticks": ""
           }
          },
          "title": {
           "x": 0.05
          },
          "xaxis": {
           "automargin": true,
           "gridcolor": "white",
           "linecolor": "white",
           "ticks": "",
           "title": {
            "standoff": 15
           },
           "zerolinecolor": "white",
           "zerolinewidth": 2
          },
          "yaxis": {
           "automargin": true,
           "gridcolor": "white",
           "linecolor": "white",
           "ticks": "",
           "title": {
            "standoff": 15
           },
           "zerolinecolor": "white",
           "zerolinewidth": 2
          }
         }
        },
        "title": {
         "font": {
          "color": "#4D5663"
         }
        },
        "xaxis": {
         "gridcolor": "#E1E5ED",
         "showgrid": true,
         "tickfont": {
          "color": "#4D5663"
         },
         "title": {
          "font": {
           "color": "#4D5663"
          },
          "text": ""
         },
         "zerolinecolor": "#E1E5ED"
        },
        "xaxis2": {
         "anchor": "y2",
         "gridcolor": "#E1E5ED",
         "showgrid": true,
         "showticklabels": false,
         "tickfont": {
          "color": "#4D5663"
         },
         "title": {
          "font": {
           "color": "#4D5663"
          },
          "text": ""
         },
         "zerolinecolor": "#E1E5ED"
        },
        "yaxis": {
         "domain": [
          0.3,
          1
         ],
         "gridcolor": "#E1E5ED",
         "showgrid": true,
         "tickfont": {
          "color": "#4D5663"
         },
         "title": {
          "font": {
           "color": "#4D5663"
          },
          "text": ""
         },
         "zerolinecolor": "#E1E5ED"
        },
        "yaxis2": {
         "domain": [
          0,
          0.25
         ],
         "gridcolor": "#E1E5ED",
         "showgrid": true,
         "tickfont": {
          "color": "#4D5663"
         },
         "title": {
          "font": {
           "color": "#4D5663"
          },
          "text": "Spread"
         },
         "zerolinecolor": "#E1E5ED"
        }
       }
      },
      "text/html": [
       "<div>                            <div id=\"d9cdd439-d343-47df-923f-dfa81325a874\" class=\"plotly-graph-div\" style=\"height:525px; width:100%;\"></div>            <script type=\"text/javascript\">                require([\"plotly\"], function(Plotly) {                    window.PLOTLYENV=window.PLOTLYENV || {};\n",
       "                    window.PLOTLYENV.BASE_URL='https://plot.ly';                                    if (document.getElementById(\"d9cdd439-d343-47df-923f-dfa81325a874\")) {                    Plotly.newPlot(                        \"d9cdd439-d343-47df-923f-dfa81325a874\",                        [{\"line\": {\"color\": \"rgba(255, 153, 51, 1.0)\", \"dash\": \"solid\", \"shape\": \"linear\", \"width\": 1.3}, \"mode\": \"lines\", \"name\": \"A\", \"text\": \"\", \"type\": \"scatter\", \"x\": [0, 1, 2, 3, 4, 5, 6, 7, 8, 9, 10, 11, 12, 13, 14, 15, 16, 17, 18, 19, 20, 21, 22, 23, 24, 25, 26, 27, 28, 29, 30, 31, 32, 33, 34, 35, 36, 37, 38, 39, 40, 41, 42, 43, 44, 45, 46, 47, 48, 49, 50, 51, 52, 53, 54, 55, 56, 57, 58, 59, 60, 61, 62, 63, 64, 65, 66, 67, 68, 69, 70, 71, 72, 73, 74, 75, 76, 77, 78, 79, 80, 81, 82, 83, 84, 85, 86, 87, 88, 89, 90, 91, 92, 93, 94, 95, 96, 97, 98, 99], \"y\": [-1.0869584731134463, 0.27451744742966855, 0.898589965888706, -0.16552031190222838, -1.2734743934645587, 1.3785347245530486, 0.7868745774402074, 0.7766436984162196, 0.22616856791677742, 0.007405250672447983, 0.64366447216253, -1.7626137628640837, 0.4441052137532636, -0.2108770255901744, 0.6198112180793899, -1.8287242831076582, -0.9431897712379231, -0.6477520870136391, 0.6508763934079177, 0.7908879119638564, -0.5437926157664298, 0.11492643070611391, 0.3974511774942038, -1.8055711983924294, -0.8523522195491334, -0.558736594859252, -1.1473397416674855, -0.16454004935997768, -0.660716242116677, 0.049352004212177884, -0.057314717313838005, -0.43941827438359155, 0.0277344949358772, -0.7062001067991027, 0.20462323016526873, 0.3496160101587443, 0.6577663410748592, -0.2758959541944502, 2.0705732352146224, -0.09914233320171727, 1.3172585301650261, -0.7394903007107098, 0.007553436342522031, 0.016748848512975506, -0.5611598750145692, -0.48601745121375417, -0.13367046078164657, 0.037363970053662626, 0.6178066666029638, 1.3796647232899897, -0.6931058583317703, -0.9972334923098112, 1.3641795786608075, -1.106805521135824, 1.0854563377341457, -0.09555624054883202, 0.6288015463938761, -0.8760011405423394, 1.2336403186919789, 0.033956099774664385, 2.1407935064284773, 0.6385182836690706, -0.5269728709133601, -0.5847843726513189, -2.3494435331723307, -0.18399978217020438, 0.16960257341940285, 0.46380914522191813, -0.3056312698113668, 0.7936378599682448, 0.810159922841156, 1.7683652861021277, 0.9765976549826945, 0.21326281672362585, -0.31880949249799556, 2.2713306562647673, -1.0851960684705424, -1.570147459967214, 0.34576961774812714, 0.8703889358199863, 1.2367572823310422, 1.3781590168114433, 1.6483301874280925, 1.3376056922248774, 0.6753253952993254, 1.483120340763066, -1.4696468790989143, 0.18006693944434077, -0.6444227711806647, 1.342402191198624, 0.3795249191416694, 0.34893084837192684, 0.5547093859793416, -0.7615597381780371, -0.34604453437406435, -0.467604005429489, -0.675717935618517, 0.4451618761638253, -0.28832274185004775, 0.8908517457098541]}, {\"line\": {\"color\": \"rgba(55, 128, 191, 1.0)\", \"dash\": \"solid\", \"shape\": \"linear\", \"width\": 1.3}, \"mode\": \"lines\", \"name\": \"B\", \"text\": \"\", \"type\": \"scatter\", \"x\": [0, 1, 2, 3, 4, 5, 6, 7, 8, 9, 10, 11, 12, 13, 14, 15, 16, 17, 18, 19, 20, 21, 22, 23, 24, 25, 26, 27, 28, 29, 30, 31, 32, 33, 34, 35, 36, 37, 38, 39, 40, 41, 42, 43, 44, 45, 46, 47, 48, 49, 50, 51, 52, 53, 54, 55, 56, 57, 58, 59, 60, 61, 62, 63, 64, 65, 66, 67, 68, 69, 70, 71, 72, 73, 74, 75, 76, 77, 78, 79, 80, 81, 82, 83, 84, 85, 86, 87, 88, 89, 90, 91, 92, 93, 94, 95, 96, 97, 98, 99], \"y\": [1.7013820185635982, 0.016734098968908245, 2.2184867506604347, 0.44451676757382264, 1.703802666363377, 0.5510780102731614, -0.007384714327293, -0.35835576270049563, 1.6179370471689394, -1.169620835636566, -0.36772215073358494, 0.182065915329453, -0.3975451539297147, 0.6205506166419125, -1.098210734843599, 0.20041257042194804, -0.426836602355439, 2.277927386764877, -1.1017588091404427, 0.152675931119196, 0.26089294030064775, 0.16790296118827935, 1.117498940581288, 0.1184339640900317, -0.329283204486584, -0.48503749507682914, 0.10287082937910579, -0.14335257092830764, 0.8278903286727461, -1.2152889355373417, 1.8688574824406747, -2.224014721044174, 0.5480537392492857, -0.4147767422144272, 0.9111740247529115, -0.2528222104299852, -0.328512170305908, 1.5075951910841419, 1.1498989386135394, -0.35747433861149613, 0.2600226018296949, -2.1464321877023447, -0.45158829898502395, -1.219746472073381, 0.8502524893445202, 0.9462632125257172, -1.7598783345103384, -0.2997902477697803, -0.04572481337190753, 0.6882101545853919, -0.8189329172921694, 0.5734955778855265, 1.185944352107926, -0.20946517839781378, -1.3897673074849386, 0.05787704017837233, -0.4511274628719261, 0.09277799280316695, -1.2173858066388004, 1.6667919772825086, 0.7189158983152318, -0.9056304694239788, -0.4677796938681007, -1.6548913931086122, 2.2516119970191237, 0.9837585001186746, 0.4878811018427395, -1.112952019281889, 0.216206728493171, 2.299476542354412, -1.4070242741765342, -0.45055928068229417, 0.46767482889353085, 0.32182309910940193, 1.2080200190126147, 0.9669139668088189, 0.31402593167975984, 0.714031354188266, -0.43036799689653804, -0.10611543689348711, -0.3206654621288512, -1.2964482536527433, 1.466932859869416, 1.138962013851952, 0.4980801447568573, 1.6032529424100892, -0.3434705413925944, -0.4314394981069506, -0.4718651054692796, -2.176081195391494, -0.4843139984008415, -0.5920273380597912, -0.5227207238304532, 0.5926508580560483, -0.429051904089719, 0.6569896275867015, 1.7338054889903347, -1.8873414584768677, -0.9113554907885516, 0.2599158976535608]}, {\"connectgaps\": false, \"fill\": \"tozeroy\", \"line\": {\"color\": \"green\", \"dash\": \"solid\", \"shape\": \"linear\", \"width\": 0.5}, \"mode\": \"lines\", \"name\": \"Spread\", \"showlegend\": false, \"type\": \"scatter\", \"x\": [0, 1, 2, 3, 4, 5, 6, 7, 8, 9, 10, 11, 12, 13, 14, 15, 16, 17, 18, 19, 20, 21, 22, 23, 24, 25, 26, 27, 28, 29, 30, 31, 32, 33, 34, 35, 36, 37, 38, 39, 40, 41, 42, 43, 44, 45, 46, 47, 48, 49, 50, 51, 52, 53, 54, 55, 56, 57, 58, 59, 60, 61, 62, 63, 64, 65, 66, 67, 68, 69, 70, 71, 72, 73, 74, 75, 76, 77, 78, 79, 80, 81, 82, 83, 84, 85, 86, 87, 88, 89, 90, 91, 92, 93, 94, 95, 96, 97, 98, 99], \"xaxis\": \"x2\", \"y\": [\"\", 0.2577833484607603, \"\", \"\", \"\", 0.8274567142798872, 0.7942592917675004, 1.1349994611167151, \"\", 1.177026086309014, 1.011386622896115, \"\", 0.8416503676829783, \"\", 1.7180219529229888, \"\", \"\", \"\", 1.7526352025483605, 0.6382119808446605, \"\", \"\", \"\", \"\", \"\", \"\", \"\", \"\", \"\", 1.2646409397495195, \"\", 1.7845964466605826, \"\", \"\", \"\", 0.6024382205887295, 0.9862785113807673, \"\", 0.920674296601083, 0.25833200540977885, 1.0572359283353312, 1.406941886991635, 0.459141735327546, 1.2364953205863565, \"\", \"\", 1.6262078737286918, 0.3371542178234429, 0.6635314799748713, 0.6914545687045978, 0.12582705896039914, \"\", 0.1782352265528815, \"\", 2.475223645219084, \"\", 1.0799290092658023, \"\", 2.4510261253307792, \"\", 1.4218776081132454, 1.5441487530930496, \"\", 1.0701070204572933, \"\", \"\", \"\", 1.576761164503807, \"\", \"\", 2.21718419701769, 2.218924566784422, 0.5089228260891636, \"\", \"\", 1.3044166894559484, \"\", \"\", 0.7761376146446652, 0.9765043727134735, 1.5574227444598934, 2.6746072704641866, 0.18139732755867644, 0.1986436783729253, 0.17724525054246815, \"\", \"\", 0.6115064375512913, \"\", 3.518483386590118, 0.863838917542511, 0.940958186431718, 1.0774301098097947, \"\", 0.08300736971565464, \"\", \"\", 2.332503334640693, 0.6230327489385039, 0.6309358480562933], \"yaxis\": \"y2\"}, {\"connectgaps\": false, \"fill\": \"tozeroy\", \"line\": {\"color\": \"red\", \"dash\": \"solid\", \"shape\": \"linear\", \"width\": 0.5}, \"mode\": \"lines\", \"name\": \"Spread\", \"showlegend\": false, \"type\": \"scatter\", \"x\": [0, 1, 2, 3, 4, 5, 6, 7, 8, 9, 10, 11, 12, 13, 14, 15, 16, 17, 18, 19, 20, 21, 22, 23, 24, 25, 26, 27, 28, 29, 30, 31, 32, 33, 34, 35, 36, 37, 38, 39, 40, 41, 42, 43, 44, 45, 46, 47, 48, 49, 50, 51, 52, 53, 54, 55, 56, 57, 58, 59, 60, 61, 62, 63, 64, 65, 66, 67, 68, 69, 70, 71, 72, 73, 74, 75, 76, 77, 78, 79, 80, 81, 82, 83, 84, 85, 86, 87, 88, 89, 90, 91, 92, 93, 94, 95, 96, 97, 98, 99], \"xaxis\": \"x2\", \"y\": [-2.7883404916770447, \"\", -1.3198967847717287, -0.610037079476051, -2.9772770598279354, \"\", \"\", \"\", -1.3917684792521618, \"\", \"\", -1.9446796781935367, \"\", -0.8314276422320869, \"\", -2.0291368535296064, -0.5163531688824841, -2.925679473778516, \"\", \"\", -0.8046855560670776, -0.05297653048216544, -0.7200477630870843, -1.924005162482461, -0.5230690150625494, -0.07369909978242284, -1.2502105710465914, -0.021187478431670043, -1.4886065707894232, \"\", -1.9261721997545127, \"\", -0.5203192443134085, -0.29142336458467555, -0.7065507945876428, \"\", \"\", -1.783491145278592, \"\", \"\", \"\", \"\", \"\", \"\", -1.4114123643590895, -1.4322806637394714, \"\", \"\", \"\", \"\", \"\", -1.5707290701953376, \"\", -0.8973403427380103, \"\", -0.15343328072720436, \"\", -0.9687791333455062, \"\", -1.6328358775078442, \"\", \"\", -0.05919317704525939, \"\", -4.601055530191454, -1.167758282288879, -0.3182785284233366, \"\", -0.5218379983045378, -1.5058386823861671, \"\", \"\", \"\", -0.10856028238577609, -1.5268295115106103, \"\", -1.3992220001503022, -2.28417881415548, \"\", \"\", \"\", \"\", \"\", \"\", \"\", -0.12013260164702322, -1.1261763377063199, \"\", -0.1725576657113851, \"\", \"\", \"\", \"\", -1.3542105962340854, \"\", -1.1245936330161905, -2.4095234246088517, \"\", \"\", \"\"], \"yaxis\": \"y2\"}],                        {\"hovermode\": \"x\", \"legend\": {\"bgcolor\": \"#F5F6F9\", \"font\": {\"color\": \"#4D5663\"}}, \"paper_bgcolor\": \"#F5F6F9\", \"plot_bgcolor\": \"#F5F6F9\", \"template\": {\"data\": {\"bar\": [{\"error_x\": {\"color\": \"#2a3f5f\"}, \"error_y\": {\"color\": \"#2a3f5f\"}, \"marker\": {\"line\": {\"color\": \"#E5ECF6\", \"width\": 0.5}}, \"type\": \"bar\"}], \"barpolar\": [{\"marker\": {\"line\": {\"color\": \"#E5ECF6\", \"width\": 0.5}}, \"type\": \"barpolar\"}], \"carpet\": [{\"aaxis\": {\"endlinecolor\": \"#2a3f5f\", \"gridcolor\": \"white\", \"linecolor\": \"white\", \"minorgridcolor\": \"white\", \"startlinecolor\": \"#2a3f5f\"}, \"baxis\": {\"endlinecolor\": \"#2a3f5f\", \"gridcolor\": \"white\", \"linecolor\": \"white\", \"minorgridcolor\": \"white\", \"startlinecolor\": \"#2a3f5f\"}, \"type\": \"carpet\"}], \"choropleth\": [{\"colorbar\": {\"outlinewidth\": 0, \"ticks\": \"\"}, \"type\": \"choropleth\"}], \"contour\": [{\"colorbar\": {\"outlinewidth\": 0, \"ticks\": \"\"}, \"colorscale\": [[0.0, \"#0d0887\"], [0.1111111111111111, \"#46039f\"], [0.2222222222222222, \"#7201a8\"], [0.3333333333333333, \"#9c179e\"], [0.4444444444444444, \"#bd3786\"], [0.5555555555555556, \"#d8576b\"], [0.6666666666666666, \"#ed7953\"], [0.7777777777777778, \"#fb9f3a\"], [0.8888888888888888, \"#fdca26\"], [1.0, \"#f0f921\"]], \"type\": \"contour\"}], \"contourcarpet\": [{\"colorbar\": {\"outlinewidth\": 0, \"ticks\": \"\"}, \"type\": \"contourcarpet\"}], \"heatmap\": [{\"colorbar\": {\"outlinewidth\": 0, \"ticks\": \"\"}, \"colorscale\": [[0.0, \"#0d0887\"], [0.1111111111111111, \"#46039f\"], [0.2222222222222222, \"#7201a8\"], [0.3333333333333333, \"#9c179e\"], [0.4444444444444444, \"#bd3786\"], [0.5555555555555556, \"#d8576b\"], [0.6666666666666666, \"#ed7953\"], [0.7777777777777778, \"#fb9f3a\"], [0.8888888888888888, \"#fdca26\"], [1.0, \"#f0f921\"]], \"type\": \"heatmap\"}], \"heatmapgl\": [{\"colorbar\": {\"outlinewidth\": 0, \"ticks\": \"\"}, \"colorscale\": [[0.0, \"#0d0887\"], [0.1111111111111111, \"#46039f\"], [0.2222222222222222, \"#7201a8\"], [0.3333333333333333, \"#9c179e\"], [0.4444444444444444, \"#bd3786\"], [0.5555555555555556, \"#d8576b\"], [0.6666666666666666, \"#ed7953\"], [0.7777777777777778, \"#fb9f3a\"], [0.8888888888888888, \"#fdca26\"], [1.0, \"#f0f921\"]], \"type\": \"heatmapgl\"}], \"histogram\": [{\"marker\": {\"colorbar\": {\"outlinewidth\": 0, \"ticks\": \"\"}}, \"type\": \"histogram\"}], \"histogram2d\": [{\"colorbar\": {\"outlinewidth\": 0, \"ticks\": \"\"}, \"colorscale\": [[0.0, \"#0d0887\"], [0.1111111111111111, \"#46039f\"], [0.2222222222222222, \"#7201a8\"], [0.3333333333333333, \"#9c179e\"], [0.4444444444444444, \"#bd3786\"], [0.5555555555555556, \"#d8576b\"], [0.6666666666666666, \"#ed7953\"], [0.7777777777777778, \"#fb9f3a\"], [0.8888888888888888, \"#fdca26\"], [1.0, \"#f0f921\"]], \"type\": \"histogram2d\"}], \"histogram2dcontour\": [{\"colorbar\": {\"outlinewidth\": 0, \"ticks\": \"\"}, \"colorscale\": [[0.0, \"#0d0887\"], [0.1111111111111111, \"#46039f\"], [0.2222222222222222, \"#7201a8\"], [0.3333333333333333, \"#9c179e\"], [0.4444444444444444, \"#bd3786\"], [0.5555555555555556, \"#d8576b\"], [0.6666666666666666, \"#ed7953\"], [0.7777777777777778, \"#fb9f3a\"], [0.8888888888888888, \"#fdca26\"], [1.0, \"#f0f921\"]], \"type\": \"histogram2dcontour\"}], \"mesh3d\": [{\"colorbar\": {\"outlinewidth\": 0, \"ticks\": \"\"}, \"type\": \"mesh3d\"}], \"parcoords\": [{\"line\": {\"colorbar\": {\"outlinewidth\": 0, \"ticks\": \"\"}}, \"type\": \"parcoords\"}], \"pie\": [{\"automargin\": true, \"type\": \"pie\"}], \"scatter\": [{\"marker\": {\"colorbar\": {\"outlinewidth\": 0, \"ticks\": \"\"}}, \"type\": \"scatter\"}], \"scatter3d\": [{\"line\": {\"colorbar\": {\"outlinewidth\": 0, \"ticks\": \"\"}}, \"marker\": {\"colorbar\": {\"outlinewidth\": 0, \"ticks\": \"\"}}, \"type\": \"scatter3d\"}], \"scattercarpet\": [{\"marker\": {\"colorbar\": {\"outlinewidth\": 0, \"ticks\": \"\"}}, \"type\": \"scattercarpet\"}], \"scattergeo\": [{\"marker\": {\"colorbar\": {\"outlinewidth\": 0, \"ticks\": \"\"}}, \"type\": \"scattergeo\"}], \"scattergl\": [{\"marker\": {\"colorbar\": {\"outlinewidth\": 0, \"ticks\": \"\"}}, \"type\": \"scattergl\"}], \"scattermapbox\": [{\"marker\": {\"colorbar\": {\"outlinewidth\": 0, \"ticks\": \"\"}}, \"type\": \"scattermapbox\"}], \"scatterpolar\": [{\"marker\": {\"colorbar\": {\"outlinewidth\": 0, \"ticks\": \"\"}}, \"type\": \"scatterpolar\"}], \"scatterpolargl\": [{\"marker\": {\"colorbar\": {\"outlinewidth\": 0, \"ticks\": \"\"}}, \"type\": \"scatterpolargl\"}], \"scatterternary\": [{\"marker\": {\"colorbar\": {\"outlinewidth\": 0, \"ticks\": \"\"}}, \"type\": \"scatterternary\"}], \"surface\": [{\"colorbar\": {\"outlinewidth\": 0, \"ticks\": \"\"}, \"colorscale\": [[0.0, \"#0d0887\"], [0.1111111111111111, \"#46039f\"], [0.2222222222222222, \"#7201a8\"], [0.3333333333333333, \"#9c179e\"], [0.4444444444444444, \"#bd3786\"], [0.5555555555555556, \"#d8576b\"], [0.6666666666666666, \"#ed7953\"], [0.7777777777777778, \"#fb9f3a\"], [0.8888888888888888, \"#fdca26\"], [1.0, \"#f0f921\"]], \"type\": \"surface\"}], \"table\": [{\"cells\": {\"fill\": {\"color\": \"#EBF0F8\"}, \"line\": {\"color\": \"white\"}}, \"header\": {\"fill\": {\"color\": \"#C8D4E3\"}, \"line\": {\"color\": \"white\"}}, \"type\": \"table\"}]}, \"layout\": {\"annotationdefaults\": {\"arrowcolor\": \"#2a3f5f\", \"arrowhead\": 0, \"arrowwidth\": 1}, \"autotypenumbers\": \"strict\", \"coloraxis\": {\"colorbar\": {\"outlinewidth\": 0, \"ticks\": \"\"}}, \"colorscale\": {\"diverging\": [[0, \"#8e0152\"], [0.1, \"#c51b7d\"], [0.2, \"#de77ae\"], [0.3, \"#f1b6da\"], [0.4, \"#fde0ef\"], [0.5, \"#f7f7f7\"], [0.6, \"#e6f5d0\"], [0.7, \"#b8e186\"], [0.8, \"#7fbc41\"], [0.9, \"#4d9221\"], [1, \"#276419\"]], \"sequential\": [[0.0, \"#0d0887\"], [0.1111111111111111, \"#46039f\"], [0.2222222222222222, \"#7201a8\"], [0.3333333333333333, \"#9c179e\"], [0.4444444444444444, \"#bd3786\"], [0.5555555555555556, \"#d8576b\"], [0.6666666666666666, \"#ed7953\"], [0.7777777777777778, \"#fb9f3a\"], [0.8888888888888888, \"#fdca26\"], [1.0, \"#f0f921\"]], \"sequentialminus\": [[0.0, \"#0d0887\"], [0.1111111111111111, \"#46039f\"], [0.2222222222222222, \"#7201a8\"], [0.3333333333333333, \"#9c179e\"], [0.4444444444444444, \"#bd3786\"], [0.5555555555555556, \"#d8576b\"], [0.6666666666666666, \"#ed7953\"], [0.7777777777777778, \"#fb9f3a\"], [0.8888888888888888, \"#fdca26\"], [1.0, \"#f0f921\"]]}, \"colorway\": [\"#636efa\", \"#EF553B\", \"#00cc96\", \"#ab63fa\", \"#FFA15A\", \"#19d3f3\", \"#FF6692\", \"#B6E880\", \"#FF97FF\", \"#FECB52\"], \"font\": {\"color\": \"#2a3f5f\"}, \"geo\": {\"bgcolor\": \"white\", \"lakecolor\": \"white\", \"landcolor\": \"#E5ECF6\", \"showlakes\": true, \"showland\": true, \"subunitcolor\": \"white\"}, \"hoverlabel\": {\"align\": \"left\"}, \"hovermode\": \"closest\", \"mapbox\": {\"style\": \"light\"}, \"paper_bgcolor\": \"white\", \"plot_bgcolor\": \"#E5ECF6\", \"polar\": {\"angularaxis\": {\"gridcolor\": \"white\", \"linecolor\": \"white\", \"ticks\": \"\"}, \"bgcolor\": \"#E5ECF6\", \"radialaxis\": {\"gridcolor\": \"white\", \"linecolor\": \"white\", \"ticks\": \"\"}}, \"scene\": {\"xaxis\": {\"backgroundcolor\": \"#E5ECF6\", \"gridcolor\": \"white\", \"gridwidth\": 2, \"linecolor\": \"white\", \"showbackground\": true, \"ticks\": \"\", \"zerolinecolor\": \"white\"}, \"yaxis\": {\"backgroundcolor\": \"#E5ECF6\", \"gridcolor\": \"white\", \"gridwidth\": 2, \"linecolor\": \"white\", \"showbackground\": true, \"ticks\": \"\", \"zerolinecolor\": \"white\"}, \"zaxis\": {\"backgroundcolor\": \"#E5ECF6\", \"gridcolor\": \"white\", \"gridwidth\": 2, \"linecolor\": \"white\", \"showbackground\": true, \"ticks\": \"\", \"zerolinecolor\": \"white\"}}, \"shapedefaults\": {\"line\": {\"color\": \"#2a3f5f\"}}, \"ternary\": {\"aaxis\": {\"gridcolor\": \"white\", \"linecolor\": \"white\", \"ticks\": \"\"}, \"baxis\": {\"gridcolor\": \"white\", \"linecolor\": \"white\", \"ticks\": \"\"}, \"bgcolor\": \"#E5ECF6\", \"caxis\": {\"gridcolor\": \"white\", \"linecolor\": \"white\", \"ticks\": \"\"}}, \"title\": {\"x\": 0.05}, \"xaxis\": {\"automargin\": true, \"gridcolor\": \"white\", \"linecolor\": \"white\", \"ticks\": \"\", \"title\": {\"standoff\": 15}, \"zerolinecolor\": \"white\", \"zerolinewidth\": 2}, \"yaxis\": {\"automargin\": true, \"gridcolor\": \"white\", \"linecolor\": \"white\", \"ticks\": \"\", \"title\": {\"standoff\": 15}, \"zerolinecolor\": \"white\", \"zerolinewidth\": 2}}}, \"title\": {\"font\": {\"color\": \"#4D5663\"}}, \"xaxis\": {\"gridcolor\": \"#E1E5ED\", \"showgrid\": true, \"tickfont\": {\"color\": \"#4D5663\"}, \"title\": {\"font\": {\"color\": \"#4D5663\"}, \"text\": \"\"}, \"zerolinecolor\": \"#E1E5ED\"}, \"xaxis2\": {\"anchor\": \"y2\", \"gridcolor\": \"#E1E5ED\", \"showgrid\": true, \"showticklabels\": false, \"tickfont\": {\"color\": \"#4D5663\"}, \"title\": {\"font\": {\"color\": \"#4D5663\"}, \"text\": \"\"}, \"zerolinecolor\": \"#E1E5ED\"}, \"yaxis\": {\"domain\": [0.3, 1], \"gridcolor\": \"#E1E5ED\", \"showgrid\": true, \"tickfont\": {\"color\": \"#4D5663\"}, \"title\": {\"font\": {\"color\": \"#4D5663\"}, \"text\": \"\"}, \"zerolinecolor\": \"#E1E5ED\"}, \"yaxis2\": {\"domain\": [0, 0.25], \"gridcolor\": \"#E1E5ED\", \"showgrid\": true, \"tickfont\": {\"color\": \"#4D5663\"}, \"title\": {\"font\": {\"color\": \"#4D5663\"}, \"text\": \"Spread\"}, \"zerolinecolor\": \"#E1E5ED\"}},                        {\"showLink\": true, \"linkText\": \"Export to plot.ly\", \"plotlyServerURL\": \"https://plot.ly\", \"responsive\": true}                    ).then(function(){\n",
       "                            \n",
       "var gd = document.getElementById('d9cdd439-d343-47df-923f-dfa81325a874');\n",
       "var x = new MutationObserver(function (mutations, observer) {{\n",
       "        var display = window.getComputedStyle(gd).display;\n",
       "        if (!display || display === 'none') {{\n",
       "            console.log([gd, 'removed!']);\n",
       "            Plotly.purge(gd);\n",
       "            observer.disconnect();\n",
       "        }}\n",
       "}});\n",
       "\n",
       "// Listen for the removal of the full notebook cells\n",
       "var notebookContainer = gd.closest('#notebook-container');\n",
       "if (notebookContainer) {{\n",
       "    x.observe(notebookContainer, {childList: true});\n",
       "}}\n",
       "\n",
       "// Listen for the clearing of the current output cell\n",
       "var outputEl = gd.closest('.output');\n",
       "if (outputEl) {{\n",
       "    x.observe(outputEl, {childList: true});\n",
       "}}\n",
       "\n",
       "                        })                };                });            </script>        </div>"
      ]
     },
     "metadata": {},
     "output_type": "display_data"
    }
   ],
   "source": [
    "df[['A','B']].iplot(kind='spread')"
   ]
  },
  {
   "cell_type": "markdown",
   "metadata": {},
   "source": [
    "## histogram"
   ]
  },
  {
   "cell_type": "code",
   "execution_count": 16,
   "metadata": {},
   "outputs": [
    {
     "data": {
      "application/vnd.plotly.v1+json": {
       "config": {
        "linkText": "Export to plot.ly",
        "plotlyServerURL": "https://plot.ly",
        "showLink": true
       },
       "data": [
        {
         "histfunc": "count",
         "histnorm": "",
         "marker": {
          "color": "rgba(255, 153, 51, 1.0)",
          "line": {
           "color": "#4D5663",
           "width": 1.3
          }
         },
         "name": "A",
         "nbinsx": 25,
         "opacity": 0.8,
         "orientation": "v",
         "type": "histogram",
         "x": [
          -1.0869584731134463,
          0.27451744742966855,
          0.898589965888706,
          -0.16552031190222838,
          -1.2734743934645587,
          1.3785347245530486,
          0.7868745774402074,
          0.7766436984162196,
          0.22616856791677742,
          0.007405250672447983,
          0.64366447216253,
          -1.7626137628640837,
          0.4441052137532636,
          -0.2108770255901744,
          0.6198112180793899,
          -1.8287242831076582,
          -0.9431897712379231,
          -0.6477520870136391,
          0.6508763934079177,
          0.7908879119638564,
          -0.5437926157664298,
          0.11492643070611391,
          0.3974511774942038,
          -1.8055711983924294,
          -0.8523522195491334,
          -0.558736594859252,
          -1.1473397416674855,
          -0.16454004935997768,
          -0.660716242116677,
          0.049352004212177884,
          -0.057314717313838005,
          -0.43941827438359155,
          0.0277344949358772,
          -0.7062001067991027,
          0.20462323016526873,
          0.3496160101587443,
          0.6577663410748592,
          -0.2758959541944502,
          2.0705732352146224,
          -0.09914233320171727,
          1.3172585301650261,
          -0.7394903007107098,
          0.007553436342522031,
          0.016748848512975506,
          -0.5611598750145692,
          -0.48601745121375417,
          -0.13367046078164657,
          0.037363970053662626,
          0.6178066666029638,
          1.3796647232899897,
          -0.6931058583317703,
          -0.9972334923098112,
          1.3641795786608075,
          -1.106805521135824,
          1.0854563377341457,
          -0.09555624054883202,
          0.6288015463938761,
          -0.8760011405423394,
          1.2336403186919789,
          0.033956099774664385,
          2.1407935064284773,
          0.6385182836690706,
          -0.5269728709133601,
          -0.5847843726513189,
          -2.3494435331723307,
          -0.18399978217020438,
          0.16960257341940285,
          0.46380914522191813,
          -0.3056312698113668,
          0.7936378599682448,
          0.810159922841156,
          1.7683652861021277,
          0.9765976549826945,
          0.21326281672362585,
          -0.31880949249799556,
          2.2713306562647673,
          -1.0851960684705424,
          -1.570147459967214,
          0.34576961774812714,
          0.8703889358199863,
          1.2367572823310422,
          1.3781590168114433,
          1.6483301874280925,
          1.3376056922248774,
          0.6753253952993254,
          1.483120340763066,
          -1.4696468790989143,
          0.18006693944434077,
          -0.6444227711806647,
          1.342402191198624,
          0.3795249191416694,
          0.34893084837192684,
          0.5547093859793416,
          -0.7615597381780371,
          -0.34604453437406435,
          -0.467604005429489,
          -0.675717935618517,
          0.4451618761638253,
          -0.28832274185004775,
          0.8908517457098541
         ]
        }
       ],
       "layout": {
        "barmode": "overlay",
        "legend": {
         "bgcolor": "#F5F6F9",
         "font": {
          "color": "#4D5663"
         }
        },
        "paper_bgcolor": "#F5F6F9",
        "plot_bgcolor": "#F5F6F9",
        "template": {
         "data": {
          "bar": [
           {
            "error_x": {
             "color": "#2a3f5f"
            },
            "error_y": {
             "color": "#2a3f5f"
            },
            "marker": {
             "line": {
              "color": "#E5ECF6",
              "width": 0.5
             }
            },
            "type": "bar"
           }
          ],
          "barpolar": [
           {
            "marker": {
             "line": {
              "color": "#E5ECF6",
              "width": 0.5
             }
            },
            "type": "barpolar"
           }
          ],
          "carpet": [
           {
            "aaxis": {
             "endlinecolor": "#2a3f5f",
             "gridcolor": "white",
             "linecolor": "white",
             "minorgridcolor": "white",
             "startlinecolor": "#2a3f5f"
            },
            "baxis": {
             "endlinecolor": "#2a3f5f",
             "gridcolor": "white",
             "linecolor": "white",
             "minorgridcolor": "white",
             "startlinecolor": "#2a3f5f"
            },
            "type": "carpet"
           }
          ],
          "choropleth": [
           {
            "colorbar": {
             "outlinewidth": 0,
             "ticks": ""
            },
            "type": "choropleth"
           }
          ],
          "contour": [
           {
            "colorbar": {
             "outlinewidth": 0,
             "ticks": ""
            },
            "colorscale": [
             [
              0,
              "#0d0887"
             ],
             [
              0.1111111111111111,
              "#46039f"
             ],
             [
              0.2222222222222222,
              "#7201a8"
             ],
             [
              0.3333333333333333,
              "#9c179e"
             ],
             [
              0.4444444444444444,
              "#bd3786"
             ],
             [
              0.5555555555555556,
              "#d8576b"
             ],
             [
              0.6666666666666666,
              "#ed7953"
             ],
             [
              0.7777777777777778,
              "#fb9f3a"
             ],
             [
              0.8888888888888888,
              "#fdca26"
             ],
             [
              1,
              "#f0f921"
             ]
            ],
            "type": "contour"
           }
          ],
          "contourcarpet": [
           {
            "colorbar": {
             "outlinewidth": 0,
             "ticks": ""
            },
            "type": "contourcarpet"
           }
          ],
          "heatmap": [
           {
            "colorbar": {
             "outlinewidth": 0,
             "ticks": ""
            },
            "colorscale": [
             [
              0,
              "#0d0887"
             ],
             [
              0.1111111111111111,
              "#46039f"
             ],
             [
              0.2222222222222222,
              "#7201a8"
             ],
             [
              0.3333333333333333,
              "#9c179e"
             ],
             [
              0.4444444444444444,
              "#bd3786"
             ],
             [
              0.5555555555555556,
              "#d8576b"
             ],
             [
              0.6666666666666666,
              "#ed7953"
             ],
             [
              0.7777777777777778,
              "#fb9f3a"
             ],
             [
              0.8888888888888888,
              "#fdca26"
             ],
             [
              1,
              "#f0f921"
             ]
            ],
            "type": "heatmap"
           }
          ],
          "heatmapgl": [
           {
            "colorbar": {
             "outlinewidth": 0,
             "ticks": ""
            },
            "colorscale": [
             [
              0,
              "#0d0887"
             ],
             [
              0.1111111111111111,
              "#46039f"
             ],
             [
              0.2222222222222222,
              "#7201a8"
             ],
             [
              0.3333333333333333,
              "#9c179e"
             ],
             [
              0.4444444444444444,
              "#bd3786"
             ],
             [
              0.5555555555555556,
              "#d8576b"
             ],
             [
              0.6666666666666666,
              "#ed7953"
             ],
             [
              0.7777777777777778,
              "#fb9f3a"
             ],
             [
              0.8888888888888888,
              "#fdca26"
             ],
             [
              1,
              "#f0f921"
             ]
            ],
            "type": "heatmapgl"
           }
          ],
          "histogram": [
           {
            "marker": {
             "colorbar": {
              "outlinewidth": 0,
              "ticks": ""
             }
            },
            "type": "histogram"
           }
          ],
          "histogram2d": [
           {
            "colorbar": {
             "outlinewidth": 0,
             "ticks": ""
            },
            "colorscale": [
             [
              0,
              "#0d0887"
             ],
             [
              0.1111111111111111,
              "#46039f"
             ],
             [
              0.2222222222222222,
              "#7201a8"
             ],
             [
              0.3333333333333333,
              "#9c179e"
             ],
             [
              0.4444444444444444,
              "#bd3786"
             ],
             [
              0.5555555555555556,
              "#d8576b"
             ],
             [
              0.6666666666666666,
              "#ed7953"
             ],
             [
              0.7777777777777778,
              "#fb9f3a"
             ],
             [
              0.8888888888888888,
              "#fdca26"
             ],
             [
              1,
              "#f0f921"
             ]
            ],
            "type": "histogram2d"
           }
          ],
          "histogram2dcontour": [
           {
            "colorbar": {
             "outlinewidth": 0,
             "ticks": ""
            },
            "colorscale": [
             [
              0,
              "#0d0887"
             ],
             [
              0.1111111111111111,
              "#46039f"
             ],
             [
              0.2222222222222222,
              "#7201a8"
             ],
             [
              0.3333333333333333,
              "#9c179e"
             ],
             [
              0.4444444444444444,
              "#bd3786"
             ],
             [
              0.5555555555555556,
              "#d8576b"
             ],
             [
              0.6666666666666666,
              "#ed7953"
             ],
             [
              0.7777777777777778,
              "#fb9f3a"
             ],
             [
              0.8888888888888888,
              "#fdca26"
             ],
             [
              1,
              "#f0f921"
             ]
            ],
            "type": "histogram2dcontour"
           }
          ],
          "mesh3d": [
           {
            "colorbar": {
             "outlinewidth": 0,
             "ticks": ""
            },
            "type": "mesh3d"
           }
          ],
          "parcoords": [
           {
            "line": {
             "colorbar": {
              "outlinewidth": 0,
              "ticks": ""
             }
            },
            "type": "parcoords"
           }
          ],
          "pie": [
           {
            "automargin": true,
            "type": "pie"
           }
          ],
          "scatter": [
           {
            "marker": {
             "colorbar": {
              "outlinewidth": 0,
              "ticks": ""
             }
            },
            "type": "scatter"
           }
          ],
          "scatter3d": [
           {
            "line": {
             "colorbar": {
              "outlinewidth": 0,
              "ticks": ""
             }
            },
            "marker": {
             "colorbar": {
              "outlinewidth": 0,
              "ticks": ""
             }
            },
            "type": "scatter3d"
           }
          ],
          "scattercarpet": [
           {
            "marker": {
             "colorbar": {
              "outlinewidth": 0,
              "ticks": ""
             }
            },
            "type": "scattercarpet"
           }
          ],
          "scattergeo": [
           {
            "marker": {
             "colorbar": {
              "outlinewidth": 0,
              "ticks": ""
             }
            },
            "type": "scattergeo"
           }
          ],
          "scattergl": [
           {
            "marker": {
             "colorbar": {
              "outlinewidth": 0,
              "ticks": ""
             }
            },
            "type": "scattergl"
           }
          ],
          "scattermapbox": [
           {
            "marker": {
             "colorbar": {
              "outlinewidth": 0,
              "ticks": ""
             }
            },
            "type": "scattermapbox"
           }
          ],
          "scatterpolar": [
           {
            "marker": {
             "colorbar": {
              "outlinewidth": 0,
              "ticks": ""
             }
            },
            "type": "scatterpolar"
           }
          ],
          "scatterpolargl": [
           {
            "marker": {
             "colorbar": {
              "outlinewidth": 0,
              "ticks": ""
             }
            },
            "type": "scatterpolargl"
           }
          ],
          "scatterternary": [
           {
            "marker": {
             "colorbar": {
              "outlinewidth": 0,
              "ticks": ""
             }
            },
            "type": "scatterternary"
           }
          ],
          "surface": [
           {
            "colorbar": {
             "outlinewidth": 0,
             "ticks": ""
            },
            "colorscale": [
             [
              0,
              "#0d0887"
             ],
             [
              0.1111111111111111,
              "#46039f"
             ],
             [
              0.2222222222222222,
              "#7201a8"
             ],
             [
              0.3333333333333333,
              "#9c179e"
             ],
             [
              0.4444444444444444,
              "#bd3786"
             ],
             [
              0.5555555555555556,
              "#d8576b"
             ],
             [
              0.6666666666666666,
              "#ed7953"
             ],
             [
              0.7777777777777778,
              "#fb9f3a"
             ],
             [
              0.8888888888888888,
              "#fdca26"
             ],
             [
              1,
              "#f0f921"
             ]
            ],
            "type": "surface"
           }
          ],
          "table": [
           {
            "cells": {
             "fill": {
              "color": "#EBF0F8"
             },
             "line": {
              "color": "white"
             }
            },
            "header": {
             "fill": {
              "color": "#C8D4E3"
             },
             "line": {
              "color": "white"
             }
            },
            "type": "table"
           }
          ]
         },
         "layout": {
          "annotationdefaults": {
           "arrowcolor": "#2a3f5f",
           "arrowhead": 0,
           "arrowwidth": 1
          },
          "autotypenumbers": "strict",
          "coloraxis": {
           "colorbar": {
            "outlinewidth": 0,
            "ticks": ""
           }
          },
          "colorscale": {
           "diverging": [
            [
             0,
             "#8e0152"
            ],
            [
             0.1,
             "#c51b7d"
            ],
            [
             0.2,
             "#de77ae"
            ],
            [
             0.3,
             "#f1b6da"
            ],
            [
             0.4,
             "#fde0ef"
            ],
            [
             0.5,
             "#f7f7f7"
            ],
            [
             0.6,
             "#e6f5d0"
            ],
            [
             0.7,
             "#b8e186"
            ],
            [
             0.8,
             "#7fbc41"
            ],
            [
             0.9,
             "#4d9221"
            ],
            [
             1,
             "#276419"
            ]
           ],
           "sequential": [
            [
             0,
             "#0d0887"
            ],
            [
             0.1111111111111111,
             "#46039f"
            ],
            [
             0.2222222222222222,
             "#7201a8"
            ],
            [
             0.3333333333333333,
             "#9c179e"
            ],
            [
             0.4444444444444444,
             "#bd3786"
            ],
            [
             0.5555555555555556,
             "#d8576b"
            ],
            [
             0.6666666666666666,
             "#ed7953"
            ],
            [
             0.7777777777777778,
             "#fb9f3a"
            ],
            [
             0.8888888888888888,
             "#fdca26"
            ],
            [
             1,
             "#f0f921"
            ]
           ],
           "sequentialminus": [
            [
             0,
             "#0d0887"
            ],
            [
             0.1111111111111111,
             "#46039f"
            ],
            [
             0.2222222222222222,
             "#7201a8"
            ],
            [
             0.3333333333333333,
             "#9c179e"
            ],
            [
             0.4444444444444444,
             "#bd3786"
            ],
            [
             0.5555555555555556,
             "#d8576b"
            ],
            [
             0.6666666666666666,
             "#ed7953"
            ],
            [
             0.7777777777777778,
             "#fb9f3a"
            ],
            [
             0.8888888888888888,
             "#fdca26"
            ],
            [
             1,
             "#f0f921"
            ]
           ]
          },
          "colorway": [
           "#636efa",
           "#EF553B",
           "#00cc96",
           "#ab63fa",
           "#FFA15A",
           "#19d3f3",
           "#FF6692",
           "#B6E880",
           "#FF97FF",
           "#FECB52"
          ],
          "font": {
           "color": "#2a3f5f"
          },
          "geo": {
           "bgcolor": "white",
           "lakecolor": "white",
           "landcolor": "#E5ECF6",
           "showlakes": true,
           "showland": true,
           "subunitcolor": "white"
          },
          "hoverlabel": {
           "align": "left"
          },
          "hovermode": "closest",
          "mapbox": {
           "style": "light"
          },
          "paper_bgcolor": "white",
          "plot_bgcolor": "#E5ECF6",
          "polar": {
           "angularaxis": {
            "gridcolor": "white",
            "linecolor": "white",
            "ticks": ""
           },
           "bgcolor": "#E5ECF6",
           "radialaxis": {
            "gridcolor": "white",
            "linecolor": "white",
            "ticks": ""
           }
          },
          "scene": {
           "xaxis": {
            "backgroundcolor": "#E5ECF6",
            "gridcolor": "white",
            "gridwidth": 2,
            "linecolor": "white",
            "showbackground": true,
            "ticks": "",
            "zerolinecolor": "white"
           },
           "yaxis": {
            "backgroundcolor": "#E5ECF6",
            "gridcolor": "white",
            "gridwidth": 2,
            "linecolor": "white",
            "showbackground": true,
            "ticks": "",
            "zerolinecolor": "white"
           },
           "zaxis": {
            "backgroundcolor": "#E5ECF6",
            "gridcolor": "white",
            "gridwidth": 2,
            "linecolor": "white",
            "showbackground": true,
            "ticks": "",
            "zerolinecolor": "white"
           }
          },
          "shapedefaults": {
           "line": {
            "color": "#2a3f5f"
           }
          },
          "ternary": {
           "aaxis": {
            "gridcolor": "white",
            "linecolor": "white",
            "ticks": ""
           },
           "baxis": {
            "gridcolor": "white",
            "linecolor": "white",
            "ticks": ""
           },
           "bgcolor": "#E5ECF6",
           "caxis": {
            "gridcolor": "white",
            "linecolor": "white",
            "ticks": ""
           }
          },
          "title": {
           "x": 0.05
          },
          "xaxis": {
           "automargin": true,
           "gridcolor": "white",
           "linecolor": "white",
           "ticks": "",
           "title": {
            "standoff": 15
           },
           "zerolinecolor": "white",
           "zerolinewidth": 2
          },
          "yaxis": {
           "automargin": true,
           "gridcolor": "white",
           "linecolor": "white",
           "ticks": "",
           "title": {
            "standoff": 15
           },
           "zerolinecolor": "white",
           "zerolinewidth": 2
          }
         }
        },
        "title": {
         "font": {
          "color": "#4D5663"
         }
        },
        "xaxis": {
         "gridcolor": "#E1E5ED",
         "showgrid": true,
         "tickfont": {
          "color": "#4D5663"
         },
         "title": {
          "font": {
           "color": "#4D5663"
          },
          "text": ""
         },
         "zerolinecolor": "#E1E5ED"
        },
        "yaxis": {
         "gridcolor": "#E1E5ED",
         "showgrid": true,
         "tickfont": {
          "color": "#4D5663"
         },
         "title": {
          "font": {
           "color": "#4D5663"
          },
          "text": ""
         },
         "zerolinecolor": "#E1E5ED"
        }
       }
      },
      "text/html": [
       "<div>                            <div id=\"c93edb46-11d2-413b-9a27-a6a929104e27\" class=\"plotly-graph-div\" style=\"height:525px; width:100%;\"></div>            <script type=\"text/javascript\">                require([\"plotly\"], function(Plotly) {                    window.PLOTLYENV=window.PLOTLYENV || {};\n",
       "                    window.PLOTLYENV.BASE_URL='https://plot.ly';                                    if (document.getElementById(\"c93edb46-11d2-413b-9a27-a6a929104e27\")) {                    Plotly.newPlot(                        \"c93edb46-11d2-413b-9a27-a6a929104e27\",                        [{\"histfunc\": \"count\", \"histnorm\": \"\", \"marker\": {\"color\": \"rgba(255, 153, 51, 1.0)\", \"line\": {\"color\": \"#4D5663\", \"width\": 1.3}}, \"name\": \"A\", \"nbinsx\": 25, \"opacity\": 0.8, \"orientation\": \"v\", \"type\": \"histogram\", \"x\": [-1.0869584731134463, 0.27451744742966855, 0.898589965888706, -0.16552031190222838, -1.2734743934645587, 1.3785347245530486, 0.7868745774402074, 0.7766436984162196, 0.22616856791677742, 0.007405250672447983, 0.64366447216253, -1.7626137628640837, 0.4441052137532636, -0.2108770255901744, 0.6198112180793899, -1.8287242831076582, -0.9431897712379231, -0.6477520870136391, 0.6508763934079177, 0.7908879119638564, -0.5437926157664298, 0.11492643070611391, 0.3974511774942038, -1.8055711983924294, -0.8523522195491334, -0.558736594859252, -1.1473397416674855, -0.16454004935997768, -0.660716242116677, 0.049352004212177884, -0.057314717313838005, -0.43941827438359155, 0.0277344949358772, -0.7062001067991027, 0.20462323016526873, 0.3496160101587443, 0.6577663410748592, -0.2758959541944502, 2.0705732352146224, -0.09914233320171727, 1.3172585301650261, -0.7394903007107098, 0.007553436342522031, 0.016748848512975506, -0.5611598750145692, -0.48601745121375417, -0.13367046078164657, 0.037363970053662626, 0.6178066666029638, 1.3796647232899897, -0.6931058583317703, -0.9972334923098112, 1.3641795786608075, -1.106805521135824, 1.0854563377341457, -0.09555624054883202, 0.6288015463938761, -0.8760011405423394, 1.2336403186919789, 0.033956099774664385, 2.1407935064284773, 0.6385182836690706, -0.5269728709133601, -0.5847843726513189, -2.3494435331723307, -0.18399978217020438, 0.16960257341940285, 0.46380914522191813, -0.3056312698113668, 0.7936378599682448, 0.810159922841156, 1.7683652861021277, 0.9765976549826945, 0.21326281672362585, -0.31880949249799556, 2.2713306562647673, -1.0851960684705424, -1.570147459967214, 0.34576961774812714, 0.8703889358199863, 1.2367572823310422, 1.3781590168114433, 1.6483301874280925, 1.3376056922248774, 0.6753253952993254, 1.483120340763066, -1.4696468790989143, 0.18006693944434077, -0.6444227711806647, 1.342402191198624, 0.3795249191416694, 0.34893084837192684, 0.5547093859793416, -0.7615597381780371, -0.34604453437406435, -0.467604005429489, -0.675717935618517, 0.4451618761638253, -0.28832274185004775, 0.8908517457098541]}],                        {\"barmode\": \"overlay\", \"legend\": {\"bgcolor\": \"#F5F6F9\", \"font\": {\"color\": \"#4D5663\"}}, \"paper_bgcolor\": \"#F5F6F9\", \"plot_bgcolor\": \"#F5F6F9\", \"template\": {\"data\": {\"bar\": [{\"error_x\": {\"color\": \"#2a3f5f\"}, \"error_y\": {\"color\": \"#2a3f5f\"}, \"marker\": {\"line\": {\"color\": \"#E5ECF6\", \"width\": 0.5}}, \"type\": \"bar\"}], \"barpolar\": [{\"marker\": {\"line\": {\"color\": \"#E5ECF6\", \"width\": 0.5}}, \"type\": \"barpolar\"}], \"carpet\": [{\"aaxis\": {\"endlinecolor\": \"#2a3f5f\", \"gridcolor\": \"white\", \"linecolor\": \"white\", \"minorgridcolor\": \"white\", \"startlinecolor\": \"#2a3f5f\"}, \"baxis\": {\"endlinecolor\": \"#2a3f5f\", \"gridcolor\": \"white\", \"linecolor\": \"white\", \"minorgridcolor\": \"white\", \"startlinecolor\": \"#2a3f5f\"}, \"type\": \"carpet\"}], \"choropleth\": [{\"colorbar\": {\"outlinewidth\": 0, \"ticks\": \"\"}, \"type\": \"choropleth\"}], \"contour\": [{\"colorbar\": {\"outlinewidth\": 0, \"ticks\": \"\"}, \"colorscale\": [[0.0, \"#0d0887\"], [0.1111111111111111, \"#46039f\"], [0.2222222222222222, \"#7201a8\"], [0.3333333333333333, \"#9c179e\"], [0.4444444444444444, \"#bd3786\"], [0.5555555555555556, \"#d8576b\"], [0.6666666666666666, \"#ed7953\"], [0.7777777777777778, \"#fb9f3a\"], [0.8888888888888888, \"#fdca26\"], [1.0, \"#f0f921\"]], \"type\": \"contour\"}], \"contourcarpet\": [{\"colorbar\": {\"outlinewidth\": 0, \"ticks\": \"\"}, \"type\": \"contourcarpet\"}], \"heatmap\": [{\"colorbar\": {\"outlinewidth\": 0, \"ticks\": \"\"}, \"colorscale\": [[0.0, \"#0d0887\"], [0.1111111111111111, \"#46039f\"], [0.2222222222222222, \"#7201a8\"], [0.3333333333333333, \"#9c179e\"], [0.4444444444444444, \"#bd3786\"], [0.5555555555555556, \"#d8576b\"], [0.6666666666666666, \"#ed7953\"], [0.7777777777777778, \"#fb9f3a\"], [0.8888888888888888, \"#fdca26\"], [1.0, \"#f0f921\"]], \"type\": \"heatmap\"}], \"heatmapgl\": [{\"colorbar\": {\"outlinewidth\": 0, \"ticks\": \"\"}, \"colorscale\": [[0.0, \"#0d0887\"], [0.1111111111111111, \"#46039f\"], [0.2222222222222222, \"#7201a8\"], [0.3333333333333333, \"#9c179e\"], [0.4444444444444444, \"#bd3786\"], [0.5555555555555556, \"#d8576b\"], [0.6666666666666666, \"#ed7953\"], [0.7777777777777778, \"#fb9f3a\"], [0.8888888888888888, \"#fdca26\"], [1.0, \"#f0f921\"]], \"type\": \"heatmapgl\"}], \"histogram\": [{\"marker\": {\"colorbar\": {\"outlinewidth\": 0, \"ticks\": \"\"}}, \"type\": \"histogram\"}], \"histogram2d\": [{\"colorbar\": {\"outlinewidth\": 0, \"ticks\": \"\"}, \"colorscale\": [[0.0, \"#0d0887\"], [0.1111111111111111, \"#46039f\"], [0.2222222222222222, \"#7201a8\"], [0.3333333333333333, \"#9c179e\"], [0.4444444444444444, \"#bd3786\"], [0.5555555555555556, \"#d8576b\"], [0.6666666666666666, \"#ed7953\"], [0.7777777777777778, \"#fb9f3a\"], [0.8888888888888888, \"#fdca26\"], [1.0, \"#f0f921\"]], \"type\": \"histogram2d\"}], \"histogram2dcontour\": [{\"colorbar\": {\"outlinewidth\": 0, \"ticks\": \"\"}, \"colorscale\": [[0.0, \"#0d0887\"], [0.1111111111111111, \"#46039f\"], [0.2222222222222222, \"#7201a8\"], [0.3333333333333333, \"#9c179e\"], [0.4444444444444444, \"#bd3786\"], [0.5555555555555556, \"#d8576b\"], [0.6666666666666666, \"#ed7953\"], [0.7777777777777778, \"#fb9f3a\"], [0.8888888888888888, \"#fdca26\"], [1.0, \"#f0f921\"]], \"type\": \"histogram2dcontour\"}], \"mesh3d\": [{\"colorbar\": {\"outlinewidth\": 0, \"ticks\": \"\"}, \"type\": \"mesh3d\"}], \"parcoords\": [{\"line\": {\"colorbar\": {\"outlinewidth\": 0, \"ticks\": \"\"}}, \"type\": \"parcoords\"}], \"pie\": [{\"automargin\": true, \"type\": \"pie\"}], \"scatter\": [{\"marker\": {\"colorbar\": {\"outlinewidth\": 0, \"ticks\": \"\"}}, \"type\": \"scatter\"}], \"scatter3d\": [{\"line\": {\"colorbar\": {\"outlinewidth\": 0, \"ticks\": \"\"}}, \"marker\": {\"colorbar\": {\"outlinewidth\": 0, \"ticks\": \"\"}}, \"type\": \"scatter3d\"}], \"scattercarpet\": [{\"marker\": {\"colorbar\": {\"outlinewidth\": 0, \"ticks\": \"\"}}, \"type\": \"scattercarpet\"}], \"scattergeo\": [{\"marker\": {\"colorbar\": {\"outlinewidth\": 0, \"ticks\": \"\"}}, \"type\": \"scattergeo\"}], \"scattergl\": [{\"marker\": {\"colorbar\": {\"outlinewidth\": 0, \"ticks\": \"\"}}, \"type\": \"scattergl\"}], \"scattermapbox\": [{\"marker\": {\"colorbar\": {\"outlinewidth\": 0, \"ticks\": \"\"}}, \"type\": \"scattermapbox\"}], \"scatterpolar\": [{\"marker\": {\"colorbar\": {\"outlinewidth\": 0, \"ticks\": \"\"}}, \"type\": \"scatterpolar\"}], \"scatterpolargl\": [{\"marker\": {\"colorbar\": {\"outlinewidth\": 0, \"ticks\": \"\"}}, \"type\": \"scatterpolargl\"}], \"scatterternary\": [{\"marker\": {\"colorbar\": {\"outlinewidth\": 0, \"ticks\": \"\"}}, \"type\": \"scatterternary\"}], \"surface\": [{\"colorbar\": {\"outlinewidth\": 0, \"ticks\": \"\"}, \"colorscale\": [[0.0, \"#0d0887\"], [0.1111111111111111, \"#46039f\"], [0.2222222222222222, \"#7201a8\"], [0.3333333333333333, \"#9c179e\"], [0.4444444444444444, \"#bd3786\"], [0.5555555555555556, \"#d8576b\"], [0.6666666666666666, \"#ed7953\"], [0.7777777777777778, \"#fb9f3a\"], [0.8888888888888888, \"#fdca26\"], [1.0, \"#f0f921\"]], \"type\": \"surface\"}], \"table\": [{\"cells\": {\"fill\": {\"color\": \"#EBF0F8\"}, \"line\": {\"color\": \"white\"}}, \"header\": {\"fill\": {\"color\": \"#C8D4E3\"}, \"line\": {\"color\": \"white\"}}, \"type\": \"table\"}]}, \"layout\": {\"annotationdefaults\": {\"arrowcolor\": \"#2a3f5f\", \"arrowhead\": 0, \"arrowwidth\": 1}, \"autotypenumbers\": \"strict\", \"coloraxis\": {\"colorbar\": {\"outlinewidth\": 0, \"ticks\": \"\"}}, \"colorscale\": {\"diverging\": [[0, \"#8e0152\"], [0.1, \"#c51b7d\"], [0.2, \"#de77ae\"], [0.3, \"#f1b6da\"], [0.4, \"#fde0ef\"], [0.5, \"#f7f7f7\"], [0.6, \"#e6f5d0\"], [0.7, \"#b8e186\"], [0.8, \"#7fbc41\"], [0.9, \"#4d9221\"], [1, \"#276419\"]], \"sequential\": [[0.0, \"#0d0887\"], [0.1111111111111111, \"#46039f\"], [0.2222222222222222, \"#7201a8\"], [0.3333333333333333, \"#9c179e\"], [0.4444444444444444, \"#bd3786\"], [0.5555555555555556, \"#d8576b\"], [0.6666666666666666, \"#ed7953\"], [0.7777777777777778, \"#fb9f3a\"], [0.8888888888888888, \"#fdca26\"], [1.0, \"#f0f921\"]], \"sequentialminus\": [[0.0, \"#0d0887\"], [0.1111111111111111, \"#46039f\"], [0.2222222222222222, \"#7201a8\"], [0.3333333333333333, \"#9c179e\"], [0.4444444444444444, \"#bd3786\"], [0.5555555555555556, \"#d8576b\"], [0.6666666666666666, \"#ed7953\"], [0.7777777777777778, \"#fb9f3a\"], [0.8888888888888888, \"#fdca26\"], [1.0, \"#f0f921\"]]}, \"colorway\": [\"#636efa\", \"#EF553B\", \"#00cc96\", \"#ab63fa\", \"#FFA15A\", \"#19d3f3\", \"#FF6692\", \"#B6E880\", \"#FF97FF\", \"#FECB52\"], \"font\": {\"color\": \"#2a3f5f\"}, \"geo\": {\"bgcolor\": \"white\", \"lakecolor\": \"white\", \"landcolor\": \"#E5ECF6\", \"showlakes\": true, \"showland\": true, \"subunitcolor\": \"white\"}, \"hoverlabel\": {\"align\": \"left\"}, \"hovermode\": \"closest\", \"mapbox\": {\"style\": \"light\"}, \"paper_bgcolor\": \"white\", \"plot_bgcolor\": \"#E5ECF6\", \"polar\": {\"angularaxis\": {\"gridcolor\": \"white\", \"linecolor\": \"white\", \"ticks\": \"\"}, \"bgcolor\": \"#E5ECF6\", \"radialaxis\": {\"gridcolor\": \"white\", \"linecolor\": \"white\", \"ticks\": \"\"}}, \"scene\": {\"xaxis\": {\"backgroundcolor\": \"#E5ECF6\", \"gridcolor\": \"white\", \"gridwidth\": 2, \"linecolor\": \"white\", \"showbackground\": true, \"ticks\": \"\", \"zerolinecolor\": \"white\"}, \"yaxis\": {\"backgroundcolor\": \"#E5ECF6\", \"gridcolor\": \"white\", \"gridwidth\": 2, \"linecolor\": \"white\", \"showbackground\": true, \"ticks\": \"\", \"zerolinecolor\": \"white\"}, \"zaxis\": {\"backgroundcolor\": \"#E5ECF6\", \"gridcolor\": \"white\", \"gridwidth\": 2, \"linecolor\": \"white\", \"showbackground\": true, \"ticks\": \"\", \"zerolinecolor\": \"white\"}}, \"shapedefaults\": {\"line\": {\"color\": \"#2a3f5f\"}}, \"ternary\": {\"aaxis\": {\"gridcolor\": \"white\", \"linecolor\": \"white\", \"ticks\": \"\"}, \"baxis\": {\"gridcolor\": \"white\", \"linecolor\": \"white\", \"ticks\": \"\"}, \"bgcolor\": \"#E5ECF6\", \"caxis\": {\"gridcolor\": \"white\", \"linecolor\": \"white\", \"ticks\": \"\"}}, \"title\": {\"x\": 0.05}, \"xaxis\": {\"automargin\": true, \"gridcolor\": \"white\", \"linecolor\": \"white\", \"ticks\": \"\", \"title\": {\"standoff\": 15}, \"zerolinecolor\": \"white\", \"zerolinewidth\": 2}, \"yaxis\": {\"automargin\": true, \"gridcolor\": \"white\", \"linecolor\": \"white\", \"ticks\": \"\", \"title\": {\"standoff\": 15}, \"zerolinecolor\": \"white\", \"zerolinewidth\": 2}}}, \"title\": {\"font\": {\"color\": \"#4D5663\"}}, \"xaxis\": {\"gridcolor\": \"#E1E5ED\", \"showgrid\": true, \"tickfont\": {\"color\": \"#4D5663\"}, \"title\": {\"font\": {\"color\": \"#4D5663\"}, \"text\": \"\"}, \"zerolinecolor\": \"#E1E5ED\"}, \"yaxis\": {\"gridcolor\": \"#E1E5ED\", \"showgrid\": true, \"tickfont\": {\"color\": \"#4D5663\"}, \"title\": {\"font\": {\"color\": \"#4D5663\"}, \"text\": \"\"}, \"zerolinecolor\": \"#E1E5ED\"}},                        {\"showLink\": true, \"linkText\": \"Export to plot.ly\", \"plotlyServerURL\": \"https://plot.ly\", \"responsive\": true}                    ).then(function(){\n",
       "                            \n",
       "var gd = document.getElementById('c93edb46-11d2-413b-9a27-a6a929104e27');\n",
       "var x = new MutationObserver(function (mutations, observer) {{\n",
       "        var display = window.getComputedStyle(gd).display;\n",
       "        if (!display || display === 'none') {{\n",
       "            console.log([gd, 'removed!']);\n",
       "            Plotly.purge(gd);\n",
       "            observer.disconnect();\n",
       "        }}\n",
       "}});\n",
       "\n",
       "// Listen for the removal of the full notebook cells\n",
       "var notebookContainer = gd.closest('#notebook-container');\n",
       "if (notebookContainer) {{\n",
       "    x.observe(notebookContainer, {childList: true});\n",
       "}}\n",
       "\n",
       "// Listen for the clearing of the current output cell\n",
       "var outputEl = gd.closest('.output');\n",
       "if (outputEl) {{\n",
       "    x.observe(outputEl, {childList: true});\n",
       "}}\n",
       "\n",
       "                        })                };                });            </script>        </div>"
      ]
     },
     "metadata": {},
     "output_type": "display_data"
    }
   ],
   "source": [
    "df['A'].iplot(kind='hist',bins=25)"
   ]
  },
  {
   "cell_type": "code",
   "execution_count": 17,
   "metadata": {},
   "outputs": [
    {
     "data": {
      "application/vnd.plotly.v1+json": {
       "config": {
        "linkText": "Export to plot.ly",
        "plotlyServerURL": "https://plot.ly",
        "showLink": true
       },
       "data": [
        {
         "marker": {
          "color": [
           "rgb(255, 153, 51)",
           "rgb(55, 128, 191)",
           "rgb(50, 171, 96)",
           "rgb(128, 0, 128)",
           "rgb(219, 64, 82)",
           "rgb(0, 128, 128)",
           "rgb(255, 255, 51)",
           "rgb(128, 128, 0)",
           "rgb(251, 128, 114)",
           "rgb(128, 177, 211)"
          ],
          "line": {
           "width": 1.3
          },
          "size": [
           34,
           44,
           74,
           26,
           74,
           30,
           66,
           48,
           67,
           65,
           54,
           112,
           42,
           50,
           47,
           64,
           47,
           44,
           51,
           35,
           14,
           38,
           26,
           59,
           79,
           53,
           40,
           70,
           92,
           29,
           50,
           68,
           62,
           31,
           91,
           39,
           20,
           53,
           89,
           44,
           33,
           25,
           25,
           79,
           51,
           38,
           91,
           50,
           72,
           42,
           66,
           51,
           78,
           38,
           87,
           57,
           24,
           88,
           49,
           46,
           53,
           27,
           25,
           49,
           56,
           90,
           24,
           50,
           24,
           38,
           80,
           61,
           32,
           33,
           38,
           60,
           81,
           50,
           60,
           77,
           52,
           12,
           81,
           58,
           54,
           25,
           44,
           42,
           58,
           58,
           37,
           48,
           72,
           68,
           35,
           75,
           72,
           33,
           42,
           89
          ],
          "symbol": "circle"
         },
         "mode": "markers",
         "text": "",
         "type": "scatter",
         "x": [
          -1.0869584731134463,
          0.27451744742966855,
          0.898589965888706,
          -0.16552031190222838,
          -1.2734743934645587,
          1.3785347245530486,
          0.7868745774402074,
          0.7766436984162196,
          0.22616856791677742,
          0.007405250672447983,
          0.64366447216253,
          -1.7626137628640837,
          0.4441052137532636,
          -0.2108770255901744,
          0.6198112180793899,
          -1.8287242831076582,
          -0.9431897712379231,
          -0.6477520870136391,
          0.6508763934079177,
          0.7908879119638564,
          -0.5437926157664298,
          0.11492643070611391,
          0.3974511774942038,
          -1.8055711983924294,
          -0.8523522195491334,
          -0.558736594859252,
          -1.1473397416674855,
          -0.16454004935997768,
          -0.660716242116677,
          0.049352004212177884,
          -0.057314717313838005,
          -0.43941827438359155,
          0.0277344949358772,
          -0.7062001067991027,
          0.20462323016526873,
          0.3496160101587443,
          0.6577663410748592,
          -0.2758959541944502,
          2.0705732352146224,
          -0.09914233320171727,
          1.3172585301650261,
          -0.7394903007107098,
          0.007553436342522031,
          0.016748848512975506,
          -0.5611598750145692,
          -0.48601745121375417,
          -0.13367046078164657,
          0.037363970053662626,
          0.6178066666029638,
          1.3796647232899897,
          -0.6931058583317703,
          -0.9972334923098112,
          1.3641795786608075,
          -1.106805521135824,
          1.0854563377341457,
          -0.09555624054883202,
          0.6288015463938761,
          -0.8760011405423394,
          1.2336403186919789,
          0.033956099774664385,
          2.1407935064284773,
          0.6385182836690706,
          -0.5269728709133601,
          -0.5847843726513189,
          -2.3494435331723307,
          -0.18399978217020438,
          0.16960257341940285,
          0.46380914522191813,
          -0.3056312698113668,
          0.7936378599682448,
          0.810159922841156,
          1.7683652861021277,
          0.9765976549826945,
          0.21326281672362585,
          -0.31880949249799556,
          2.2713306562647673,
          -1.0851960684705424,
          -1.570147459967214,
          0.34576961774812714,
          0.8703889358199863,
          1.2367572823310422,
          1.3781590168114433,
          1.6483301874280925,
          1.3376056922248774,
          0.6753253952993254,
          1.483120340763066,
          -1.4696468790989143,
          0.18006693944434077,
          -0.6444227711806647,
          1.342402191198624,
          0.3795249191416694,
          0.34893084837192684,
          0.5547093859793416,
          -0.7615597381780371,
          -0.34604453437406435,
          -0.467604005429489,
          -0.675717935618517,
          0.4451618761638253,
          -0.28832274185004775,
          0.8908517457098541
         ],
         "y": [
          1.7013820185635982,
          0.016734098968908245,
          2.2184867506604347,
          0.44451676757382264,
          1.703802666363377,
          0.5510780102731614,
          -0.007384714327293,
          -0.35835576270049563,
          1.6179370471689394,
          -1.169620835636566,
          -0.36772215073358494,
          0.182065915329453,
          -0.3975451539297147,
          0.6205506166419125,
          -1.098210734843599,
          0.20041257042194804,
          -0.426836602355439,
          2.277927386764877,
          -1.1017588091404427,
          0.152675931119196,
          0.26089294030064775,
          0.16790296118827935,
          1.117498940581288,
          0.1184339640900317,
          -0.329283204486584,
          -0.48503749507682914,
          0.10287082937910579,
          -0.14335257092830764,
          0.8278903286727461,
          -1.2152889355373417,
          1.8688574824406747,
          -2.224014721044174,
          0.5480537392492857,
          -0.4147767422144272,
          0.9111740247529115,
          -0.2528222104299852,
          -0.328512170305908,
          1.5075951910841419,
          1.1498989386135394,
          -0.35747433861149613,
          0.2600226018296949,
          -2.1464321877023447,
          -0.45158829898502395,
          -1.219746472073381,
          0.8502524893445202,
          0.9462632125257172,
          -1.7598783345103384,
          -0.2997902477697803,
          -0.04572481337190753,
          0.6882101545853919,
          -0.8189329172921694,
          0.5734955778855265,
          1.185944352107926,
          -0.20946517839781378,
          -1.3897673074849386,
          0.05787704017837233,
          -0.4511274628719261,
          0.09277799280316695,
          -1.2173858066388004,
          1.6667919772825086,
          0.7189158983152318,
          -0.9056304694239788,
          -0.4677796938681007,
          -1.6548913931086122,
          2.2516119970191237,
          0.9837585001186746,
          0.4878811018427395,
          -1.112952019281889,
          0.216206728493171,
          2.299476542354412,
          -1.4070242741765342,
          -0.45055928068229417,
          0.46767482889353085,
          0.32182309910940193,
          1.2080200190126147,
          0.9669139668088189,
          0.31402593167975984,
          0.714031354188266,
          -0.43036799689653804,
          -0.10611543689348711,
          -0.3206654621288512,
          -1.2964482536527433,
          1.466932859869416,
          1.138962013851952,
          0.4980801447568573,
          1.6032529424100892,
          -0.3434705413925944,
          -0.4314394981069506,
          -0.4718651054692796,
          -2.176081195391494,
          -0.4843139984008415,
          -0.5920273380597912,
          -0.5227207238304532,
          0.5926508580560483,
          -0.429051904089719,
          0.6569896275867015,
          1.7338054889903347,
          -1.8873414584768677,
          -0.9113554907885516,
          0.2599158976535608
         ]
        }
       ],
       "layout": {
        "legend": {
         "bgcolor": "#F5F6F9",
         "font": {
          "color": "#4D5663"
         }
        },
        "paper_bgcolor": "#F5F6F9",
        "plot_bgcolor": "#F5F6F9",
        "template": {
         "data": {
          "bar": [
           {
            "error_x": {
             "color": "#2a3f5f"
            },
            "error_y": {
             "color": "#2a3f5f"
            },
            "marker": {
             "line": {
              "color": "#E5ECF6",
              "width": 0.5
             }
            },
            "type": "bar"
           }
          ],
          "barpolar": [
           {
            "marker": {
             "line": {
              "color": "#E5ECF6",
              "width": 0.5
             }
            },
            "type": "barpolar"
           }
          ],
          "carpet": [
           {
            "aaxis": {
             "endlinecolor": "#2a3f5f",
             "gridcolor": "white",
             "linecolor": "white",
             "minorgridcolor": "white",
             "startlinecolor": "#2a3f5f"
            },
            "baxis": {
             "endlinecolor": "#2a3f5f",
             "gridcolor": "white",
             "linecolor": "white",
             "minorgridcolor": "white",
             "startlinecolor": "#2a3f5f"
            },
            "type": "carpet"
           }
          ],
          "choropleth": [
           {
            "colorbar": {
             "outlinewidth": 0,
             "ticks": ""
            },
            "type": "choropleth"
           }
          ],
          "contour": [
           {
            "colorbar": {
             "outlinewidth": 0,
             "ticks": ""
            },
            "colorscale": [
             [
              0,
              "#0d0887"
             ],
             [
              0.1111111111111111,
              "#46039f"
             ],
             [
              0.2222222222222222,
              "#7201a8"
             ],
             [
              0.3333333333333333,
              "#9c179e"
             ],
             [
              0.4444444444444444,
              "#bd3786"
             ],
             [
              0.5555555555555556,
              "#d8576b"
             ],
             [
              0.6666666666666666,
              "#ed7953"
             ],
             [
              0.7777777777777778,
              "#fb9f3a"
             ],
             [
              0.8888888888888888,
              "#fdca26"
             ],
             [
              1,
              "#f0f921"
             ]
            ],
            "type": "contour"
           }
          ],
          "contourcarpet": [
           {
            "colorbar": {
             "outlinewidth": 0,
             "ticks": ""
            },
            "type": "contourcarpet"
           }
          ],
          "heatmap": [
           {
            "colorbar": {
             "outlinewidth": 0,
             "ticks": ""
            },
            "colorscale": [
             [
              0,
              "#0d0887"
             ],
             [
              0.1111111111111111,
              "#46039f"
             ],
             [
              0.2222222222222222,
              "#7201a8"
             ],
             [
              0.3333333333333333,
              "#9c179e"
             ],
             [
              0.4444444444444444,
              "#bd3786"
             ],
             [
              0.5555555555555556,
              "#d8576b"
             ],
             [
              0.6666666666666666,
              "#ed7953"
             ],
             [
              0.7777777777777778,
              "#fb9f3a"
             ],
             [
              0.8888888888888888,
              "#fdca26"
             ],
             [
              1,
              "#f0f921"
             ]
            ],
            "type": "heatmap"
           }
          ],
          "heatmapgl": [
           {
            "colorbar": {
             "outlinewidth": 0,
             "ticks": ""
            },
            "colorscale": [
             [
              0,
              "#0d0887"
             ],
             [
              0.1111111111111111,
              "#46039f"
             ],
             [
              0.2222222222222222,
              "#7201a8"
             ],
             [
              0.3333333333333333,
              "#9c179e"
             ],
             [
              0.4444444444444444,
              "#bd3786"
             ],
             [
              0.5555555555555556,
              "#d8576b"
             ],
             [
              0.6666666666666666,
              "#ed7953"
             ],
             [
              0.7777777777777778,
              "#fb9f3a"
             ],
             [
              0.8888888888888888,
              "#fdca26"
             ],
             [
              1,
              "#f0f921"
             ]
            ],
            "type": "heatmapgl"
           }
          ],
          "histogram": [
           {
            "marker": {
             "colorbar": {
              "outlinewidth": 0,
              "ticks": ""
             }
            },
            "type": "histogram"
           }
          ],
          "histogram2d": [
           {
            "colorbar": {
             "outlinewidth": 0,
             "ticks": ""
            },
            "colorscale": [
             [
              0,
              "#0d0887"
             ],
             [
              0.1111111111111111,
              "#46039f"
             ],
             [
              0.2222222222222222,
              "#7201a8"
             ],
             [
              0.3333333333333333,
              "#9c179e"
             ],
             [
              0.4444444444444444,
              "#bd3786"
             ],
             [
              0.5555555555555556,
              "#d8576b"
             ],
             [
              0.6666666666666666,
              "#ed7953"
             ],
             [
              0.7777777777777778,
              "#fb9f3a"
             ],
             [
              0.8888888888888888,
              "#fdca26"
             ],
             [
              1,
              "#f0f921"
             ]
            ],
            "type": "histogram2d"
           }
          ],
          "histogram2dcontour": [
           {
            "colorbar": {
             "outlinewidth": 0,
             "ticks": ""
            },
            "colorscale": [
             [
              0,
              "#0d0887"
             ],
             [
              0.1111111111111111,
              "#46039f"
             ],
             [
              0.2222222222222222,
              "#7201a8"
             ],
             [
              0.3333333333333333,
              "#9c179e"
             ],
             [
              0.4444444444444444,
              "#bd3786"
             ],
             [
              0.5555555555555556,
              "#d8576b"
             ],
             [
              0.6666666666666666,
              "#ed7953"
             ],
             [
              0.7777777777777778,
              "#fb9f3a"
             ],
             [
              0.8888888888888888,
              "#fdca26"
             ],
             [
              1,
              "#f0f921"
             ]
            ],
            "type": "histogram2dcontour"
           }
          ],
          "mesh3d": [
           {
            "colorbar": {
             "outlinewidth": 0,
             "ticks": ""
            },
            "type": "mesh3d"
           }
          ],
          "parcoords": [
           {
            "line": {
             "colorbar": {
              "outlinewidth": 0,
              "ticks": ""
             }
            },
            "type": "parcoords"
           }
          ],
          "pie": [
           {
            "automargin": true,
            "type": "pie"
           }
          ],
          "scatter": [
           {
            "marker": {
             "colorbar": {
              "outlinewidth": 0,
              "ticks": ""
             }
            },
            "type": "scatter"
           }
          ],
          "scatter3d": [
           {
            "line": {
             "colorbar": {
              "outlinewidth": 0,
              "ticks": ""
             }
            },
            "marker": {
             "colorbar": {
              "outlinewidth": 0,
              "ticks": ""
             }
            },
            "type": "scatter3d"
           }
          ],
          "scattercarpet": [
           {
            "marker": {
             "colorbar": {
              "outlinewidth": 0,
              "ticks": ""
             }
            },
            "type": "scattercarpet"
           }
          ],
          "scattergeo": [
           {
            "marker": {
             "colorbar": {
              "outlinewidth": 0,
              "ticks": ""
             }
            },
            "type": "scattergeo"
           }
          ],
          "scattergl": [
           {
            "marker": {
             "colorbar": {
              "outlinewidth": 0,
              "ticks": ""
             }
            },
            "type": "scattergl"
           }
          ],
          "scattermapbox": [
           {
            "marker": {
             "colorbar": {
              "outlinewidth": 0,
              "ticks": ""
             }
            },
            "type": "scattermapbox"
           }
          ],
          "scatterpolar": [
           {
            "marker": {
             "colorbar": {
              "outlinewidth": 0,
              "ticks": ""
             }
            },
            "type": "scatterpolar"
           }
          ],
          "scatterpolargl": [
           {
            "marker": {
             "colorbar": {
              "outlinewidth": 0,
              "ticks": ""
             }
            },
            "type": "scatterpolargl"
           }
          ],
          "scatterternary": [
           {
            "marker": {
             "colorbar": {
              "outlinewidth": 0,
              "ticks": ""
             }
            },
            "type": "scatterternary"
           }
          ],
          "surface": [
           {
            "colorbar": {
             "outlinewidth": 0,
             "ticks": ""
            },
            "colorscale": [
             [
              0,
              "#0d0887"
             ],
             [
              0.1111111111111111,
              "#46039f"
             ],
             [
              0.2222222222222222,
              "#7201a8"
             ],
             [
              0.3333333333333333,
              "#9c179e"
             ],
             [
              0.4444444444444444,
              "#bd3786"
             ],
             [
              0.5555555555555556,
              "#d8576b"
             ],
             [
              0.6666666666666666,
              "#ed7953"
             ],
             [
              0.7777777777777778,
              "#fb9f3a"
             ],
             [
              0.8888888888888888,
              "#fdca26"
             ],
             [
              1,
              "#f0f921"
             ]
            ],
            "type": "surface"
           }
          ],
          "table": [
           {
            "cells": {
             "fill": {
              "color": "#EBF0F8"
             },
             "line": {
              "color": "white"
             }
            },
            "header": {
             "fill": {
              "color": "#C8D4E3"
             },
             "line": {
              "color": "white"
             }
            },
            "type": "table"
           }
          ]
         },
         "layout": {
          "annotationdefaults": {
           "arrowcolor": "#2a3f5f",
           "arrowhead": 0,
           "arrowwidth": 1
          },
          "autotypenumbers": "strict",
          "coloraxis": {
           "colorbar": {
            "outlinewidth": 0,
            "ticks": ""
           }
          },
          "colorscale": {
           "diverging": [
            [
             0,
             "#8e0152"
            ],
            [
             0.1,
             "#c51b7d"
            ],
            [
             0.2,
             "#de77ae"
            ],
            [
             0.3,
             "#f1b6da"
            ],
            [
             0.4,
             "#fde0ef"
            ],
            [
             0.5,
             "#f7f7f7"
            ],
            [
             0.6,
             "#e6f5d0"
            ],
            [
             0.7,
             "#b8e186"
            ],
            [
             0.8,
             "#7fbc41"
            ],
            [
             0.9,
             "#4d9221"
            ],
            [
             1,
             "#276419"
            ]
           ],
           "sequential": [
            [
             0,
             "#0d0887"
            ],
            [
             0.1111111111111111,
             "#46039f"
            ],
            [
             0.2222222222222222,
             "#7201a8"
            ],
            [
             0.3333333333333333,
             "#9c179e"
            ],
            [
             0.4444444444444444,
             "#bd3786"
            ],
            [
             0.5555555555555556,
             "#d8576b"
            ],
            [
             0.6666666666666666,
             "#ed7953"
            ],
            [
             0.7777777777777778,
             "#fb9f3a"
            ],
            [
             0.8888888888888888,
             "#fdca26"
            ],
            [
             1,
             "#f0f921"
            ]
           ],
           "sequentialminus": [
            [
             0,
             "#0d0887"
            ],
            [
             0.1111111111111111,
             "#46039f"
            ],
            [
             0.2222222222222222,
             "#7201a8"
            ],
            [
             0.3333333333333333,
             "#9c179e"
            ],
            [
             0.4444444444444444,
             "#bd3786"
            ],
            [
             0.5555555555555556,
             "#d8576b"
            ],
            [
             0.6666666666666666,
             "#ed7953"
            ],
            [
             0.7777777777777778,
             "#fb9f3a"
            ],
            [
             0.8888888888888888,
             "#fdca26"
            ],
            [
             1,
             "#f0f921"
            ]
           ]
          },
          "colorway": [
           "#636efa",
           "#EF553B",
           "#00cc96",
           "#ab63fa",
           "#FFA15A",
           "#19d3f3",
           "#FF6692",
           "#B6E880",
           "#FF97FF",
           "#FECB52"
          ],
          "font": {
           "color": "#2a3f5f"
          },
          "geo": {
           "bgcolor": "white",
           "lakecolor": "white",
           "landcolor": "#E5ECF6",
           "showlakes": true,
           "showland": true,
           "subunitcolor": "white"
          },
          "hoverlabel": {
           "align": "left"
          },
          "hovermode": "closest",
          "mapbox": {
           "style": "light"
          },
          "paper_bgcolor": "white",
          "plot_bgcolor": "#E5ECF6",
          "polar": {
           "angularaxis": {
            "gridcolor": "white",
            "linecolor": "white",
            "ticks": ""
           },
           "bgcolor": "#E5ECF6",
           "radialaxis": {
            "gridcolor": "white",
            "linecolor": "white",
            "ticks": ""
           }
          },
          "scene": {
           "xaxis": {
            "backgroundcolor": "#E5ECF6",
            "gridcolor": "white",
            "gridwidth": 2,
            "linecolor": "white",
            "showbackground": true,
            "ticks": "",
            "zerolinecolor": "white"
           },
           "yaxis": {
            "backgroundcolor": "#E5ECF6",
            "gridcolor": "white",
            "gridwidth": 2,
            "linecolor": "white",
            "showbackground": true,
            "ticks": "",
            "zerolinecolor": "white"
           },
           "zaxis": {
            "backgroundcolor": "#E5ECF6",
            "gridcolor": "white",
            "gridwidth": 2,
            "linecolor": "white",
            "showbackground": true,
            "ticks": "",
            "zerolinecolor": "white"
           }
          },
          "shapedefaults": {
           "line": {
            "color": "#2a3f5f"
           }
          },
          "ternary": {
           "aaxis": {
            "gridcolor": "white",
            "linecolor": "white",
            "ticks": ""
           },
           "baxis": {
            "gridcolor": "white",
            "linecolor": "white",
            "ticks": ""
           },
           "bgcolor": "#E5ECF6",
           "caxis": {
            "gridcolor": "white",
            "linecolor": "white",
            "ticks": ""
           }
          },
          "title": {
           "x": 0.05
          },
          "xaxis": {
           "automargin": true,
           "gridcolor": "white",
           "linecolor": "white",
           "ticks": "",
           "title": {
            "standoff": 15
           },
           "zerolinecolor": "white",
           "zerolinewidth": 2
          },
          "yaxis": {
           "automargin": true,
           "gridcolor": "white",
           "linecolor": "white",
           "ticks": "",
           "title": {
            "standoff": 15
           },
           "zerolinecolor": "white",
           "zerolinewidth": 2
          }
         }
        },
        "title": {
         "font": {
          "color": "#4D5663"
         }
        },
        "xaxis": {
         "gridcolor": "#E1E5ED",
         "showgrid": true,
         "tickfont": {
          "color": "#4D5663"
         },
         "title": {
          "font": {
           "color": "#4D5663"
          },
          "text": ""
         },
         "zerolinecolor": "#E1E5ED"
        },
        "yaxis": {
         "gridcolor": "#E1E5ED",
         "showgrid": true,
         "tickfont": {
          "color": "#4D5663"
         },
         "title": {
          "font": {
           "color": "#4D5663"
          },
          "text": ""
         },
         "zerolinecolor": "#E1E5ED"
        }
       }
      },
      "text/html": [
       "<div>                            <div id=\"2ac3cc41-f040-462f-954a-63e8f11fb298\" class=\"plotly-graph-div\" style=\"height:525px; width:100%;\"></div>            <script type=\"text/javascript\">                require([\"plotly\"], function(Plotly) {                    window.PLOTLYENV=window.PLOTLYENV || {};\n",
       "                    window.PLOTLYENV.BASE_URL='https://plot.ly';                                    if (document.getElementById(\"2ac3cc41-f040-462f-954a-63e8f11fb298\")) {                    Plotly.newPlot(                        \"2ac3cc41-f040-462f-954a-63e8f11fb298\",                        [{\"marker\": {\"color\": [\"rgb(255, 153, 51)\", \"rgb(55, 128, 191)\", \"rgb(50, 171, 96)\", \"rgb(128, 0, 128)\", \"rgb(219, 64, 82)\", \"rgb(0, 128, 128)\", \"rgb(255, 255, 51)\", \"rgb(128, 128, 0)\", \"rgb(251, 128, 114)\", \"rgb(128, 177, 211)\"], \"line\": {\"width\": 1.3}, \"size\": [34, 44, 74, 26, 74, 30, 66, 48, 67, 65, 54, 112, 42, 50, 47, 64, 47, 44, 51, 35, 14, 38, 26, 59, 79, 53, 40, 70, 92, 29, 50, 68, 62, 31, 91, 39, 20, 53, 89, 44, 33, 25, 25, 79, 51, 38, 91, 50, 72, 42, 66, 51, 78, 38, 87, 57, 24, 88, 49, 46, 53, 27, 25, 49, 56, 90, 24, 50, 24, 38, 80, 61, 32, 33, 38, 60, 81, 50, 60, 77, 52, 12, 81, 58, 54, 25, 44, 42, 58, 58, 37, 48, 72, 68, 35, 75, 72, 33, 42, 89], \"symbol\": \"circle\"}, \"mode\": \"markers\", \"text\": \"\", \"type\": \"scatter\", \"x\": [-1.0869584731134463, 0.27451744742966855, 0.898589965888706, -0.16552031190222838, -1.2734743934645587, 1.3785347245530486, 0.7868745774402074, 0.7766436984162196, 0.22616856791677742, 0.007405250672447983, 0.64366447216253, -1.7626137628640837, 0.4441052137532636, -0.2108770255901744, 0.6198112180793899, -1.8287242831076582, -0.9431897712379231, -0.6477520870136391, 0.6508763934079177, 0.7908879119638564, -0.5437926157664298, 0.11492643070611391, 0.3974511774942038, -1.8055711983924294, -0.8523522195491334, -0.558736594859252, -1.1473397416674855, -0.16454004935997768, -0.660716242116677, 0.049352004212177884, -0.057314717313838005, -0.43941827438359155, 0.0277344949358772, -0.7062001067991027, 0.20462323016526873, 0.3496160101587443, 0.6577663410748592, -0.2758959541944502, 2.0705732352146224, -0.09914233320171727, 1.3172585301650261, -0.7394903007107098, 0.007553436342522031, 0.016748848512975506, -0.5611598750145692, -0.48601745121375417, -0.13367046078164657, 0.037363970053662626, 0.6178066666029638, 1.3796647232899897, -0.6931058583317703, -0.9972334923098112, 1.3641795786608075, -1.106805521135824, 1.0854563377341457, -0.09555624054883202, 0.6288015463938761, -0.8760011405423394, 1.2336403186919789, 0.033956099774664385, 2.1407935064284773, 0.6385182836690706, -0.5269728709133601, -0.5847843726513189, -2.3494435331723307, -0.18399978217020438, 0.16960257341940285, 0.46380914522191813, -0.3056312698113668, 0.7936378599682448, 0.810159922841156, 1.7683652861021277, 0.9765976549826945, 0.21326281672362585, -0.31880949249799556, 2.2713306562647673, -1.0851960684705424, -1.570147459967214, 0.34576961774812714, 0.8703889358199863, 1.2367572823310422, 1.3781590168114433, 1.6483301874280925, 1.3376056922248774, 0.6753253952993254, 1.483120340763066, -1.4696468790989143, 0.18006693944434077, -0.6444227711806647, 1.342402191198624, 0.3795249191416694, 0.34893084837192684, 0.5547093859793416, -0.7615597381780371, -0.34604453437406435, -0.467604005429489, -0.675717935618517, 0.4451618761638253, -0.28832274185004775, 0.8908517457098541], \"y\": [1.7013820185635982, 0.016734098968908245, 2.2184867506604347, 0.44451676757382264, 1.703802666363377, 0.5510780102731614, -0.007384714327293, -0.35835576270049563, 1.6179370471689394, -1.169620835636566, -0.36772215073358494, 0.182065915329453, -0.3975451539297147, 0.6205506166419125, -1.098210734843599, 0.20041257042194804, -0.426836602355439, 2.277927386764877, -1.1017588091404427, 0.152675931119196, 0.26089294030064775, 0.16790296118827935, 1.117498940581288, 0.1184339640900317, -0.329283204486584, -0.48503749507682914, 0.10287082937910579, -0.14335257092830764, 0.8278903286727461, -1.2152889355373417, 1.8688574824406747, -2.224014721044174, 0.5480537392492857, -0.4147767422144272, 0.9111740247529115, -0.2528222104299852, -0.328512170305908, 1.5075951910841419, 1.1498989386135394, -0.35747433861149613, 0.2600226018296949, -2.1464321877023447, -0.45158829898502395, -1.219746472073381, 0.8502524893445202, 0.9462632125257172, -1.7598783345103384, -0.2997902477697803, -0.04572481337190753, 0.6882101545853919, -0.8189329172921694, 0.5734955778855265, 1.185944352107926, -0.20946517839781378, -1.3897673074849386, 0.05787704017837233, -0.4511274628719261, 0.09277799280316695, -1.2173858066388004, 1.6667919772825086, 0.7189158983152318, -0.9056304694239788, -0.4677796938681007, -1.6548913931086122, 2.2516119970191237, 0.9837585001186746, 0.4878811018427395, -1.112952019281889, 0.216206728493171, 2.299476542354412, -1.4070242741765342, -0.45055928068229417, 0.46767482889353085, 0.32182309910940193, 1.2080200190126147, 0.9669139668088189, 0.31402593167975984, 0.714031354188266, -0.43036799689653804, -0.10611543689348711, -0.3206654621288512, -1.2964482536527433, 1.466932859869416, 1.138962013851952, 0.4980801447568573, 1.6032529424100892, -0.3434705413925944, -0.4314394981069506, -0.4718651054692796, -2.176081195391494, -0.4843139984008415, -0.5920273380597912, -0.5227207238304532, 0.5926508580560483, -0.429051904089719, 0.6569896275867015, 1.7338054889903347, -1.8873414584768677, -0.9113554907885516, 0.2599158976535608]}],                        {\"legend\": {\"bgcolor\": \"#F5F6F9\", \"font\": {\"color\": \"#4D5663\"}}, \"paper_bgcolor\": \"#F5F6F9\", \"plot_bgcolor\": \"#F5F6F9\", \"template\": {\"data\": {\"bar\": [{\"error_x\": {\"color\": \"#2a3f5f\"}, \"error_y\": {\"color\": \"#2a3f5f\"}, \"marker\": {\"line\": {\"color\": \"#E5ECF6\", \"width\": 0.5}}, \"type\": \"bar\"}], \"barpolar\": [{\"marker\": {\"line\": {\"color\": \"#E5ECF6\", \"width\": 0.5}}, \"type\": \"barpolar\"}], \"carpet\": [{\"aaxis\": {\"endlinecolor\": \"#2a3f5f\", \"gridcolor\": \"white\", \"linecolor\": \"white\", \"minorgridcolor\": \"white\", \"startlinecolor\": \"#2a3f5f\"}, \"baxis\": {\"endlinecolor\": \"#2a3f5f\", \"gridcolor\": \"white\", \"linecolor\": \"white\", \"minorgridcolor\": \"white\", \"startlinecolor\": \"#2a3f5f\"}, \"type\": \"carpet\"}], \"choropleth\": [{\"colorbar\": {\"outlinewidth\": 0, \"ticks\": \"\"}, \"type\": \"choropleth\"}], \"contour\": [{\"colorbar\": {\"outlinewidth\": 0, \"ticks\": \"\"}, \"colorscale\": [[0.0, \"#0d0887\"], [0.1111111111111111, \"#46039f\"], [0.2222222222222222, \"#7201a8\"], [0.3333333333333333, \"#9c179e\"], [0.4444444444444444, \"#bd3786\"], [0.5555555555555556, \"#d8576b\"], [0.6666666666666666, \"#ed7953\"], [0.7777777777777778, \"#fb9f3a\"], [0.8888888888888888, \"#fdca26\"], [1.0, \"#f0f921\"]], \"type\": \"contour\"}], \"contourcarpet\": [{\"colorbar\": {\"outlinewidth\": 0, \"ticks\": \"\"}, \"type\": \"contourcarpet\"}], \"heatmap\": [{\"colorbar\": {\"outlinewidth\": 0, \"ticks\": \"\"}, \"colorscale\": [[0.0, \"#0d0887\"], [0.1111111111111111, \"#46039f\"], [0.2222222222222222, \"#7201a8\"], [0.3333333333333333, \"#9c179e\"], [0.4444444444444444, \"#bd3786\"], [0.5555555555555556, \"#d8576b\"], [0.6666666666666666, \"#ed7953\"], [0.7777777777777778, \"#fb9f3a\"], [0.8888888888888888, \"#fdca26\"], [1.0, \"#f0f921\"]], \"type\": \"heatmap\"}], \"heatmapgl\": [{\"colorbar\": {\"outlinewidth\": 0, \"ticks\": \"\"}, \"colorscale\": [[0.0, \"#0d0887\"], [0.1111111111111111, \"#46039f\"], [0.2222222222222222, \"#7201a8\"], [0.3333333333333333, \"#9c179e\"], [0.4444444444444444, \"#bd3786\"], [0.5555555555555556, \"#d8576b\"], [0.6666666666666666, \"#ed7953\"], [0.7777777777777778, \"#fb9f3a\"], [0.8888888888888888, \"#fdca26\"], [1.0, \"#f0f921\"]], \"type\": \"heatmapgl\"}], \"histogram\": [{\"marker\": {\"colorbar\": {\"outlinewidth\": 0, \"ticks\": \"\"}}, \"type\": \"histogram\"}], \"histogram2d\": [{\"colorbar\": {\"outlinewidth\": 0, \"ticks\": \"\"}, \"colorscale\": [[0.0, \"#0d0887\"], [0.1111111111111111, \"#46039f\"], [0.2222222222222222, \"#7201a8\"], [0.3333333333333333, \"#9c179e\"], [0.4444444444444444, \"#bd3786\"], [0.5555555555555556, \"#d8576b\"], [0.6666666666666666, \"#ed7953\"], [0.7777777777777778, \"#fb9f3a\"], [0.8888888888888888, \"#fdca26\"], [1.0, \"#f0f921\"]], \"type\": \"histogram2d\"}], \"histogram2dcontour\": [{\"colorbar\": {\"outlinewidth\": 0, \"ticks\": \"\"}, \"colorscale\": [[0.0, \"#0d0887\"], [0.1111111111111111, \"#46039f\"], [0.2222222222222222, \"#7201a8\"], [0.3333333333333333, \"#9c179e\"], [0.4444444444444444, \"#bd3786\"], [0.5555555555555556, \"#d8576b\"], [0.6666666666666666, \"#ed7953\"], [0.7777777777777778, \"#fb9f3a\"], [0.8888888888888888, \"#fdca26\"], [1.0, \"#f0f921\"]], \"type\": \"histogram2dcontour\"}], \"mesh3d\": [{\"colorbar\": {\"outlinewidth\": 0, \"ticks\": \"\"}, \"type\": \"mesh3d\"}], \"parcoords\": [{\"line\": {\"colorbar\": {\"outlinewidth\": 0, \"ticks\": \"\"}}, \"type\": \"parcoords\"}], \"pie\": [{\"automargin\": true, \"type\": \"pie\"}], \"scatter\": [{\"marker\": {\"colorbar\": {\"outlinewidth\": 0, \"ticks\": \"\"}}, \"type\": \"scatter\"}], \"scatter3d\": [{\"line\": {\"colorbar\": {\"outlinewidth\": 0, \"ticks\": \"\"}}, \"marker\": {\"colorbar\": {\"outlinewidth\": 0, \"ticks\": \"\"}}, \"type\": \"scatter3d\"}], \"scattercarpet\": [{\"marker\": {\"colorbar\": {\"outlinewidth\": 0, \"ticks\": \"\"}}, \"type\": \"scattercarpet\"}], \"scattergeo\": [{\"marker\": {\"colorbar\": {\"outlinewidth\": 0, \"ticks\": \"\"}}, \"type\": \"scattergeo\"}], \"scattergl\": [{\"marker\": {\"colorbar\": {\"outlinewidth\": 0, \"ticks\": \"\"}}, \"type\": \"scattergl\"}], \"scattermapbox\": [{\"marker\": {\"colorbar\": {\"outlinewidth\": 0, \"ticks\": \"\"}}, \"type\": \"scattermapbox\"}], \"scatterpolar\": [{\"marker\": {\"colorbar\": {\"outlinewidth\": 0, \"ticks\": \"\"}}, \"type\": \"scatterpolar\"}], \"scatterpolargl\": [{\"marker\": {\"colorbar\": {\"outlinewidth\": 0, \"ticks\": \"\"}}, \"type\": \"scatterpolargl\"}], \"scatterternary\": [{\"marker\": {\"colorbar\": {\"outlinewidth\": 0, \"ticks\": \"\"}}, \"type\": \"scatterternary\"}], \"surface\": [{\"colorbar\": {\"outlinewidth\": 0, \"ticks\": \"\"}, \"colorscale\": [[0.0, \"#0d0887\"], [0.1111111111111111, \"#46039f\"], [0.2222222222222222, \"#7201a8\"], [0.3333333333333333, \"#9c179e\"], [0.4444444444444444, \"#bd3786\"], [0.5555555555555556, \"#d8576b\"], [0.6666666666666666, \"#ed7953\"], [0.7777777777777778, \"#fb9f3a\"], [0.8888888888888888, \"#fdca26\"], [1.0, \"#f0f921\"]], \"type\": \"surface\"}], \"table\": [{\"cells\": {\"fill\": {\"color\": \"#EBF0F8\"}, \"line\": {\"color\": \"white\"}}, \"header\": {\"fill\": {\"color\": \"#C8D4E3\"}, \"line\": {\"color\": \"white\"}}, \"type\": \"table\"}]}, \"layout\": {\"annotationdefaults\": {\"arrowcolor\": \"#2a3f5f\", \"arrowhead\": 0, \"arrowwidth\": 1}, \"autotypenumbers\": \"strict\", \"coloraxis\": {\"colorbar\": {\"outlinewidth\": 0, \"ticks\": \"\"}}, \"colorscale\": {\"diverging\": [[0, \"#8e0152\"], [0.1, \"#c51b7d\"], [0.2, \"#de77ae\"], [0.3, \"#f1b6da\"], [0.4, \"#fde0ef\"], [0.5, \"#f7f7f7\"], [0.6, \"#e6f5d0\"], [0.7, \"#b8e186\"], [0.8, \"#7fbc41\"], [0.9, \"#4d9221\"], [1, \"#276419\"]], \"sequential\": [[0.0, \"#0d0887\"], [0.1111111111111111, \"#46039f\"], [0.2222222222222222, \"#7201a8\"], [0.3333333333333333, \"#9c179e\"], [0.4444444444444444, \"#bd3786\"], [0.5555555555555556, \"#d8576b\"], [0.6666666666666666, \"#ed7953\"], [0.7777777777777778, \"#fb9f3a\"], [0.8888888888888888, \"#fdca26\"], [1.0, \"#f0f921\"]], \"sequentialminus\": [[0.0, \"#0d0887\"], [0.1111111111111111, \"#46039f\"], [0.2222222222222222, \"#7201a8\"], [0.3333333333333333, \"#9c179e\"], [0.4444444444444444, \"#bd3786\"], [0.5555555555555556, \"#d8576b\"], [0.6666666666666666, \"#ed7953\"], [0.7777777777777778, \"#fb9f3a\"], [0.8888888888888888, \"#fdca26\"], [1.0, \"#f0f921\"]]}, \"colorway\": [\"#636efa\", \"#EF553B\", \"#00cc96\", \"#ab63fa\", \"#FFA15A\", \"#19d3f3\", \"#FF6692\", \"#B6E880\", \"#FF97FF\", \"#FECB52\"], \"font\": {\"color\": \"#2a3f5f\"}, \"geo\": {\"bgcolor\": \"white\", \"lakecolor\": \"white\", \"landcolor\": \"#E5ECF6\", \"showlakes\": true, \"showland\": true, \"subunitcolor\": \"white\"}, \"hoverlabel\": {\"align\": \"left\"}, \"hovermode\": \"closest\", \"mapbox\": {\"style\": \"light\"}, \"paper_bgcolor\": \"white\", \"plot_bgcolor\": \"#E5ECF6\", \"polar\": {\"angularaxis\": {\"gridcolor\": \"white\", \"linecolor\": \"white\", \"ticks\": \"\"}, \"bgcolor\": \"#E5ECF6\", \"radialaxis\": {\"gridcolor\": \"white\", \"linecolor\": \"white\", \"ticks\": \"\"}}, \"scene\": {\"xaxis\": {\"backgroundcolor\": \"#E5ECF6\", \"gridcolor\": \"white\", \"gridwidth\": 2, \"linecolor\": \"white\", \"showbackground\": true, \"ticks\": \"\", \"zerolinecolor\": \"white\"}, \"yaxis\": {\"backgroundcolor\": \"#E5ECF6\", \"gridcolor\": \"white\", \"gridwidth\": 2, \"linecolor\": \"white\", \"showbackground\": true, \"ticks\": \"\", \"zerolinecolor\": \"white\"}, \"zaxis\": {\"backgroundcolor\": \"#E5ECF6\", \"gridcolor\": \"white\", \"gridwidth\": 2, \"linecolor\": \"white\", \"showbackground\": true, \"ticks\": \"\", \"zerolinecolor\": \"white\"}}, \"shapedefaults\": {\"line\": {\"color\": \"#2a3f5f\"}}, \"ternary\": {\"aaxis\": {\"gridcolor\": \"white\", \"linecolor\": \"white\", \"ticks\": \"\"}, \"baxis\": {\"gridcolor\": \"white\", \"linecolor\": \"white\", \"ticks\": \"\"}, \"bgcolor\": \"#E5ECF6\", \"caxis\": {\"gridcolor\": \"white\", \"linecolor\": \"white\", \"ticks\": \"\"}}, \"title\": {\"x\": 0.05}, \"xaxis\": {\"automargin\": true, \"gridcolor\": \"white\", \"linecolor\": \"white\", \"ticks\": \"\", \"title\": {\"standoff\": 15}, \"zerolinecolor\": \"white\", \"zerolinewidth\": 2}, \"yaxis\": {\"automargin\": true, \"gridcolor\": \"white\", \"linecolor\": \"white\", \"ticks\": \"\", \"title\": {\"standoff\": 15}, \"zerolinecolor\": \"white\", \"zerolinewidth\": 2}}}, \"title\": {\"font\": {\"color\": \"#4D5663\"}}, \"xaxis\": {\"gridcolor\": \"#E1E5ED\", \"showgrid\": true, \"tickfont\": {\"color\": \"#4D5663\"}, \"title\": {\"font\": {\"color\": \"#4D5663\"}, \"text\": \"\"}, \"zerolinecolor\": \"#E1E5ED\"}, \"yaxis\": {\"gridcolor\": \"#E1E5ED\", \"showgrid\": true, \"tickfont\": {\"color\": \"#4D5663\"}, \"title\": {\"font\": {\"color\": \"#4D5663\"}, \"text\": \"\"}, \"zerolinecolor\": \"#E1E5ED\"}},                        {\"showLink\": true, \"linkText\": \"Export to plot.ly\", \"plotlyServerURL\": \"https://plot.ly\", \"responsive\": true}                    ).then(function(){\n",
       "                            \n",
       "var gd = document.getElementById('2ac3cc41-f040-462f-954a-63e8f11fb298');\n",
       "var x = new MutationObserver(function (mutations, observer) {{\n",
       "        var display = window.getComputedStyle(gd).display;\n",
       "        if (!display || display === 'none') {{\n",
       "            console.log([gd, 'removed!']);\n",
       "            Plotly.purge(gd);\n",
       "            observer.disconnect();\n",
       "        }}\n",
       "}});\n",
       "\n",
       "// Listen for the removal of the full notebook cells\n",
       "var notebookContainer = gd.closest('#notebook-container');\n",
       "if (notebookContainer) {{\n",
       "    x.observe(notebookContainer, {childList: true});\n",
       "}}\n",
       "\n",
       "// Listen for the clearing of the current output cell\n",
       "var outputEl = gd.closest('.output');\n",
       "if (outputEl) {{\n",
       "    x.observe(outputEl, {childList: true});\n",
       "}}\n",
       "\n",
       "                        })                };                });            </script>        </div>"
      ]
     },
     "metadata": {},
     "output_type": "display_data"
    }
   ],
   "source": [
    "df.iplot(kind='bubble',x='A',y='B',size='C')"
   ]
  },
  {
   "cell_type": "markdown",
   "metadata": {},
   "source": [
    "## scatter_matrix()\n",
    "\n",
    "Similar to sns.pairplot()"
   ]
  },
  {
   "cell_type": "code",
   "execution_count": 18,
   "metadata": {},
   "outputs": [
    {
     "data": {
      "application/vnd.plotly.v1+json": {
       "config": {
        "linkText": "Export to plot.ly",
        "plotlyServerURL": "https://plot.ly",
        "showLink": true
       },
       "data": [
        {
         "histfunc": "count",
         "histnorm": "",
         "marker": {
          "color": "rgba(255, 153, 51, 1.0)",
          "line": {
           "color": "#4D5663",
           "width": 1.3
          }
         },
         "name": "A",
         "nbinsx": 10,
         "opacity": 0.8,
         "orientation": "v",
         "type": "histogram",
         "x": [
          -1.0869584731134463,
          0.27451744742966855,
          0.898589965888706,
          -0.16552031190222838,
          -1.2734743934645587,
          1.3785347245530486,
          0.7868745774402074,
          0.7766436984162196,
          0.22616856791677742,
          0.007405250672447983,
          0.64366447216253,
          -1.7626137628640837,
          0.4441052137532636,
          -0.2108770255901744,
          0.6198112180793899,
          -1.8287242831076582,
          -0.9431897712379231,
          -0.6477520870136391,
          0.6508763934079177,
          0.7908879119638564,
          -0.5437926157664298,
          0.11492643070611391,
          0.3974511774942038,
          -1.8055711983924294,
          -0.8523522195491334,
          -0.558736594859252,
          -1.1473397416674855,
          -0.16454004935997768,
          -0.660716242116677,
          0.049352004212177884,
          -0.057314717313838005,
          -0.43941827438359155,
          0.0277344949358772,
          -0.7062001067991027,
          0.20462323016526873,
          0.3496160101587443,
          0.6577663410748592,
          -0.2758959541944502,
          2.0705732352146224,
          -0.09914233320171727,
          1.3172585301650261,
          -0.7394903007107098,
          0.007553436342522031,
          0.016748848512975506,
          -0.5611598750145692,
          -0.48601745121375417,
          -0.13367046078164657,
          0.037363970053662626,
          0.6178066666029638,
          1.3796647232899897,
          -0.6931058583317703,
          -0.9972334923098112,
          1.3641795786608075,
          -1.106805521135824,
          1.0854563377341457,
          -0.09555624054883202,
          0.6288015463938761,
          -0.8760011405423394,
          1.2336403186919789,
          0.033956099774664385,
          2.1407935064284773,
          0.6385182836690706,
          -0.5269728709133601,
          -0.5847843726513189,
          -2.3494435331723307,
          -0.18399978217020438,
          0.16960257341940285,
          0.46380914522191813,
          -0.3056312698113668,
          0.7936378599682448,
          0.810159922841156,
          1.7683652861021277,
          0.9765976549826945,
          0.21326281672362585,
          -0.31880949249799556,
          2.2713306562647673,
          -1.0851960684705424,
          -1.570147459967214,
          0.34576961774812714,
          0.8703889358199863,
          1.2367572823310422,
          1.3781590168114433,
          1.6483301874280925,
          1.3376056922248774,
          0.6753253952993254,
          1.483120340763066,
          -1.4696468790989143,
          0.18006693944434077,
          -0.6444227711806647,
          1.342402191198624,
          0.3795249191416694,
          0.34893084837192684,
          0.5547093859793416,
          -0.7615597381780371,
          -0.34604453437406435,
          -0.467604005429489,
          -0.675717935618517,
          0.4451618761638253,
          -0.28832274185004775,
          0.8908517457098541
         ],
         "xaxis": "x",
         "yaxis": "y"
        },
        {
         "line": {
          "color": "rgba(128, 128, 128, 1.0)",
          "dash": "solid",
          "shape": "linear",
          "width": 1.3
         },
         "marker": {
          "size": 2,
          "symbol": "circle"
         },
         "mode": "markers",
         "name": "A",
         "text": "",
         "type": "scatter",
         "x": [
          1.7013820185635982,
          0.016734098968908245,
          2.2184867506604347,
          0.44451676757382264,
          1.703802666363377,
          0.5510780102731614,
          -0.007384714327293,
          -0.35835576270049563,
          1.6179370471689394,
          -1.169620835636566,
          -0.36772215073358494,
          0.182065915329453,
          -0.3975451539297147,
          0.6205506166419125,
          -1.098210734843599,
          0.20041257042194804,
          -0.426836602355439,
          2.277927386764877,
          -1.1017588091404427,
          0.152675931119196,
          0.26089294030064775,
          0.16790296118827935,
          1.117498940581288,
          0.1184339640900317,
          -0.329283204486584,
          -0.48503749507682914,
          0.10287082937910579,
          -0.14335257092830764,
          0.8278903286727461,
          -1.2152889355373417,
          1.8688574824406747,
          -2.224014721044174,
          0.5480537392492857,
          -0.4147767422144272,
          0.9111740247529115,
          -0.2528222104299852,
          -0.328512170305908,
          1.5075951910841419,
          1.1498989386135394,
          -0.35747433861149613,
          0.2600226018296949,
          -2.1464321877023447,
          -0.45158829898502395,
          -1.219746472073381,
          0.8502524893445202,
          0.9462632125257172,
          -1.7598783345103384,
          -0.2997902477697803,
          -0.04572481337190753,
          0.6882101545853919,
          -0.8189329172921694,
          0.5734955778855265,
          1.185944352107926,
          -0.20946517839781378,
          -1.3897673074849386,
          0.05787704017837233,
          -0.4511274628719261,
          0.09277799280316695,
          -1.2173858066388004,
          1.6667919772825086,
          0.7189158983152318,
          -0.9056304694239788,
          -0.4677796938681007,
          -1.6548913931086122,
          2.2516119970191237,
          0.9837585001186746,
          0.4878811018427395,
          -1.112952019281889,
          0.216206728493171,
          2.299476542354412,
          -1.4070242741765342,
          -0.45055928068229417,
          0.46767482889353085,
          0.32182309910940193,
          1.2080200190126147,
          0.9669139668088189,
          0.31402593167975984,
          0.714031354188266,
          -0.43036799689653804,
          -0.10611543689348711,
          -0.3206654621288512,
          -1.2964482536527433,
          1.466932859869416,
          1.138962013851952,
          0.4980801447568573,
          1.6032529424100892,
          -0.3434705413925944,
          -0.4314394981069506,
          -0.4718651054692796,
          -2.176081195391494,
          -0.4843139984008415,
          -0.5920273380597912,
          -0.5227207238304532,
          0.5926508580560483,
          -0.429051904089719,
          0.6569896275867015,
          1.7338054889903347,
          -1.8873414584768677,
          -0.9113554907885516,
          0.2599158976535608
         ],
         "xaxis": "x2",
         "y": [
          -1.0869584731134463,
          0.27451744742966855,
          0.898589965888706,
          -0.16552031190222838,
          -1.2734743934645587,
          1.3785347245530486,
          0.7868745774402074,
          0.7766436984162196,
          0.22616856791677742,
          0.007405250672447983,
          0.64366447216253,
          -1.7626137628640837,
          0.4441052137532636,
          -0.2108770255901744,
          0.6198112180793899,
          -1.8287242831076582,
          -0.9431897712379231,
          -0.6477520870136391,
          0.6508763934079177,
          0.7908879119638564,
          -0.5437926157664298,
          0.11492643070611391,
          0.3974511774942038,
          -1.8055711983924294,
          -0.8523522195491334,
          -0.558736594859252,
          -1.1473397416674855,
          -0.16454004935997768,
          -0.660716242116677,
          0.049352004212177884,
          -0.057314717313838005,
          -0.43941827438359155,
          0.0277344949358772,
          -0.7062001067991027,
          0.20462323016526873,
          0.3496160101587443,
          0.6577663410748592,
          -0.2758959541944502,
          2.0705732352146224,
          -0.09914233320171727,
          1.3172585301650261,
          -0.7394903007107098,
          0.007553436342522031,
          0.016748848512975506,
          -0.5611598750145692,
          -0.48601745121375417,
          -0.13367046078164657,
          0.037363970053662626,
          0.6178066666029638,
          1.3796647232899897,
          -0.6931058583317703,
          -0.9972334923098112,
          1.3641795786608075,
          -1.106805521135824,
          1.0854563377341457,
          -0.09555624054883202,
          0.6288015463938761,
          -0.8760011405423394,
          1.2336403186919789,
          0.033956099774664385,
          2.1407935064284773,
          0.6385182836690706,
          -0.5269728709133601,
          -0.5847843726513189,
          -2.3494435331723307,
          -0.18399978217020438,
          0.16960257341940285,
          0.46380914522191813,
          -0.3056312698113668,
          0.7936378599682448,
          0.810159922841156,
          1.7683652861021277,
          0.9765976549826945,
          0.21326281672362585,
          -0.31880949249799556,
          2.2713306562647673,
          -1.0851960684705424,
          -1.570147459967214,
          0.34576961774812714,
          0.8703889358199863,
          1.2367572823310422,
          1.3781590168114433,
          1.6483301874280925,
          1.3376056922248774,
          0.6753253952993254,
          1.483120340763066,
          -1.4696468790989143,
          0.18006693944434077,
          -0.6444227711806647,
          1.342402191198624,
          0.3795249191416694,
          0.34893084837192684,
          0.5547093859793416,
          -0.7615597381780371,
          -0.34604453437406435,
          -0.467604005429489,
          -0.675717935618517,
          0.4451618761638253,
          -0.28832274185004775,
          0.8908517457098541
         ],
         "yaxis": "y2"
        },
        {
         "line": {
          "color": "rgba(128, 128, 128, 1.0)",
          "dash": "solid",
          "shape": "linear",
          "width": 1.3
         },
         "marker": {
          "size": 2,
          "symbol": "circle"
         },
         "mode": "markers",
         "name": "A",
         "text": "",
         "type": "scatter",
         "x": [
          -0.873369070597386,
          -0.38797255257445085,
          1.0682243918353338,
          -1.2790930718167783,
          1.0761302314217276,
          -1.0857807523120895,
          0.6976922422721356,
          -0.20764530220173733,
          0.7380926789497732,
          0.637733307300874,
          0.11612524220817805,
          2.9265206893023383,
          -0.5040016539640569,
          -0.09391022352662393,
          -0.22077641685397564,
          0.5726701575040741,
          -0.23255048921233717,
          -0.386545526538195,
          -0.06329106479067616,
          -0.8235676011447217,
          -1.8865971054068813,
          -0.6980099173578493,
          -1.2575289971325572,
          0.3671526137423293,
          1.352426245082499,
          0.06723238281656134,
          -0.5626870446525274,
          0.9047024466505087,
          1.9480451488617643,
          -1.1443375473424668,
          -0.09186773503596642,
          0.775654390735632,
          0.5185977601455729,
          -1.0153910692794177,
          1.9003170260405222,
          -0.6192891766001604,
          -1.5741127731567324,
          0.061034838680466774,
          1.8287336241254994,
          -0.41340617037139815,
          -0.9251977571498682,
          -1.3024323490176417,
          -1.3399259704825603,
          1.3311280598564057,
          -0.025507113005817896,
          -0.6978799173452859,
          1.917274538094662,
          -0.11655301971239401,
          1.0004285703033267,
          -0.4880985328688754,
          0.6917315759162503,
          -0.04200586024394621,
          1.3050923316231533,
          -0.6645346672012342,
          1.7271876015869112,
          0.24499633854213249,
          -1.395438954157734,
          1.7791942754672483,
          -0.1247797070026459,
          -0.2984251985318188,
          0.0630317942551919,
          -1.2389540771900844,
          -1.3189514123527615,
          -0.15928990030484616,
          0.22194516169594103,
          1.8614284686780065,
          -1.3497970255188065,
          -0.08417264575481272,
          -1.395189580530213,
          -0.662117909689395,
          1.357690057741097,
          0.4371849418412773,
          -0.9918817891272562,
          -0.9130202377705492,
          -0.693283281399948,
          0.4164994399875994,
          1.442084430089679,
          -0.07772004791377678,
          0.40255052232406985,
          1.2468872830528268,
          -0.0025977803496521263,
          -1.9860720074503646,
          1.4269136619370792,
          0.30877766394215556,
          0.077918893410345,
          -1.305629015855808,
          -0.3870991945207361,
          -0.49997182400035134,
          0.3001251054451142,
          0.2800716784649497,
          -0.7268088747459226,
          -0.17187034779755236,
          0.9988509470232919,
          0.7732728754145628,
          -0.8116839420485217,
          1.1119549255717927,
          0.9976389223060625,
          -0.915553232348906,
          -0.47427309014068175,
          1.8010205813686537
         ],
         "xaxis": "x3",
         "y": [
          -1.0869584731134463,
          0.27451744742966855,
          0.898589965888706,
          -0.16552031190222838,
          -1.2734743934645587,
          1.3785347245530486,
          0.7868745774402074,
          0.7766436984162196,
          0.22616856791677742,
          0.007405250672447983,
          0.64366447216253,
          -1.7626137628640837,
          0.4441052137532636,
          -0.2108770255901744,
          0.6198112180793899,
          -1.8287242831076582,
          -0.9431897712379231,
          -0.6477520870136391,
          0.6508763934079177,
          0.7908879119638564,
          -0.5437926157664298,
          0.11492643070611391,
          0.3974511774942038,
          -1.8055711983924294,
          -0.8523522195491334,
          -0.558736594859252,
          -1.1473397416674855,
          -0.16454004935997768,
          -0.660716242116677,
          0.049352004212177884,
          -0.057314717313838005,
          -0.43941827438359155,
          0.0277344949358772,
          -0.7062001067991027,
          0.20462323016526873,
          0.3496160101587443,
          0.6577663410748592,
          -0.2758959541944502,
          2.0705732352146224,
          -0.09914233320171727,
          1.3172585301650261,
          -0.7394903007107098,
          0.007553436342522031,
          0.016748848512975506,
          -0.5611598750145692,
          -0.48601745121375417,
          -0.13367046078164657,
          0.037363970053662626,
          0.6178066666029638,
          1.3796647232899897,
          -0.6931058583317703,
          -0.9972334923098112,
          1.3641795786608075,
          -1.106805521135824,
          1.0854563377341457,
          -0.09555624054883202,
          0.6288015463938761,
          -0.8760011405423394,
          1.2336403186919789,
          0.033956099774664385,
          2.1407935064284773,
          0.6385182836690706,
          -0.5269728709133601,
          -0.5847843726513189,
          -2.3494435331723307,
          -0.18399978217020438,
          0.16960257341940285,
          0.46380914522191813,
          -0.3056312698113668,
          0.7936378599682448,
          0.810159922841156,
          1.7683652861021277,
          0.9765976549826945,
          0.21326281672362585,
          -0.31880949249799556,
          2.2713306562647673,
          -1.0851960684705424,
          -1.570147459967214,
          0.34576961774812714,
          0.8703889358199863,
          1.2367572823310422,
          1.3781590168114433,
          1.6483301874280925,
          1.3376056922248774,
          0.6753253952993254,
          1.483120340763066,
          -1.4696468790989143,
          0.18006693944434077,
          -0.6444227711806647,
          1.342402191198624,
          0.3795249191416694,
          0.34893084837192684,
          0.5547093859793416,
          -0.7615597381780371,
          -0.34604453437406435,
          -0.467604005429489,
          -0.675717935618517,
          0.4451618761638253,
          -0.28832274185004775,
          0.8908517457098541
         ],
         "yaxis": "y3"
        },
        {
         "line": {
          "color": "rgba(128, 128, 128, 1.0)",
          "dash": "solid",
          "shape": "linear",
          "width": 1.3
         },
         "marker": {
          "size": 2,
          "symbol": "circle"
         },
         "mode": "markers",
         "name": "A",
         "text": "",
         "type": "scatter",
         "x": [
          1.2101398908133165,
          0.13635957025796977,
          2.1905231572647677,
          -0.4094932919898077,
          -0.3719867102724542,
          -1.698863802225874,
          1.0720603281458452,
          -0.04884579380315829,
          0.3520251677800174,
          -0.050786665944431514,
          1.9919596653095484,
          0.0076299031856295555,
          0.612288221996455,
          -0.6250653216674991,
          0.8932792492386356,
          0.44086750492679483,
          0.13145624625172503,
          -0.6239924999314912,
          0.3115550575145953,
          0.4704557052624782,
          1.6014390879358784,
          -0.6103090759138216,
          -0.06369678766796431,
          -1.3400231949710382,
          -1.0011016048785424,
          -1.05942227761927,
          -1.082465664061321,
          -1.0362857431674113,
          0.728205944656403,
          -1.3138364398452524,
          0.9028055932576768,
          2.2820963209146865,
          0.5825457608976803,
          0.44168823311486277,
          -0.6180400543628084,
          0.20550615894038707,
          -0.566625718392528,
          0.588867295487124,
          -0.7814863742659657,
          0.2088150083175389,
          0.2712189292641885,
          1.0080451261778702,
          0.9198073760959197,
          -0.21160871568750625,
          0.9471005905349884,
          0.5546643197501453,
          -0.9412177495896674,
          0.12099080452017884,
          0.7053176604162875,
          1.554052374787565,
          0.38336548453547953,
          0.11940458470979412,
          -0.29860935986853726,
          -0.43255531317600315,
          0.6324137696781059,
          0.0766219170804827,
          1.4226312405505745,
          0.030003267754663058,
          -1.2769730159611434,
          -0.723478072941893,
          -1.7260064617670847,
          0.9811419682076121,
          -2.06783749498083,
          -0.8939542857197509,
          -2.2540571561363403,
          -1.4259802492018168,
          -0.5320075047461356,
          -1.515811089911523,
          -0.7215280082437434,
          2.1282125070998505,
          -0.03903507733278754,
          -1.3950234747939938,
          -0.14096685406236814,
          0.23135609461367232,
          0.5250304234167503,
          1.802981728444306,
          -0.0468162189899403,
          -1.769035777012729,
          -1.6278107483740112,
          -1.6314168896665002,
          0.753991614046415,
          1.033180829624629,
          0.6023574170852904,
          -1.4670402369359343,
          0.2678472344711301,
          1.818071178134226,
          -0.9955878234584558,
          -0.22847136673346932,
          0.0762818605952403,
          0.1291634136540693,
          1.6225066766975573,
          -0.475721530759489,
          -1.5489439310204933,
          0.17981725953923663,
          1.2638373207974998,
          -0.1364912051803669,
          -0.33326882623264054,
          -0.44617453940382784,
          1.0240512252251484,
          -1.08638069206843
         ],
         "xaxis": "x4",
         "y": [
          -1.0869584731134463,
          0.27451744742966855,
          0.898589965888706,
          -0.16552031190222838,
          -1.2734743934645587,
          1.3785347245530486,
          0.7868745774402074,
          0.7766436984162196,
          0.22616856791677742,
          0.007405250672447983,
          0.64366447216253,
          -1.7626137628640837,
          0.4441052137532636,
          -0.2108770255901744,
          0.6198112180793899,
          -1.8287242831076582,
          -0.9431897712379231,
          -0.6477520870136391,
          0.6508763934079177,
          0.7908879119638564,
          -0.5437926157664298,
          0.11492643070611391,
          0.3974511774942038,
          -1.8055711983924294,
          -0.8523522195491334,
          -0.558736594859252,
          -1.1473397416674855,
          -0.16454004935997768,
          -0.660716242116677,
          0.049352004212177884,
          -0.057314717313838005,
          -0.43941827438359155,
          0.0277344949358772,
          -0.7062001067991027,
          0.20462323016526873,
          0.3496160101587443,
          0.6577663410748592,
          -0.2758959541944502,
          2.0705732352146224,
          -0.09914233320171727,
          1.3172585301650261,
          -0.7394903007107098,
          0.007553436342522031,
          0.016748848512975506,
          -0.5611598750145692,
          -0.48601745121375417,
          -0.13367046078164657,
          0.037363970053662626,
          0.6178066666029638,
          1.3796647232899897,
          -0.6931058583317703,
          -0.9972334923098112,
          1.3641795786608075,
          -1.106805521135824,
          1.0854563377341457,
          -0.09555624054883202,
          0.6288015463938761,
          -0.8760011405423394,
          1.2336403186919789,
          0.033956099774664385,
          2.1407935064284773,
          0.6385182836690706,
          -0.5269728709133601,
          -0.5847843726513189,
          -2.3494435331723307,
          -0.18399978217020438,
          0.16960257341940285,
          0.46380914522191813,
          -0.3056312698113668,
          0.7936378599682448,
          0.810159922841156,
          1.7683652861021277,
          0.9765976549826945,
          0.21326281672362585,
          -0.31880949249799556,
          2.2713306562647673,
          -1.0851960684705424,
          -1.570147459967214,
          0.34576961774812714,
          0.8703889358199863,
          1.2367572823310422,
          1.3781590168114433,
          1.6483301874280925,
          1.3376056922248774,
          0.6753253952993254,
          1.483120340763066,
          -1.4696468790989143,
          0.18006693944434077,
          -0.6444227711806647,
          1.342402191198624,
          0.3795249191416694,
          0.34893084837192684,
          0.5547093859793416,
          -0.7615597381780371,
          -0.34604453437406435,
          -0.467604005429489,
          -0.675717935618517,
          0.4451618761638253,
          -0.28832274185004775,
          0.8908517457098541
         ],
         "yaxis": "y4"
        },
        {
         "line": {
          "color": "rgba(128, 128, 128, 1.0)",
          "dash": "solid",
          "shape": "linear",
          "width": 1.3
         },
         "marker": {
          "size": 2,
          "symbol": "circle"
         },
         "mode": "markers",
         "name": "B",
         "text": "",
         "type": "scatter",
         "x": [
          -1.0869584731134463,
          0.27451744742966855,
          0.898589965888706,
          -0.16552031190222838,
          -1.2734743934645587,
          1.3785347245530486,
          0.7868745774402074,
          0.7766436984162196,
          0.22616856791677742,
          0.007405250672447983,
          0.64366447216253,
          -1.7626137628640837,
          0.4441052137532636,
          -0.2108770255901744,
          0.6198112180793899,
          -1.8287242831076582,
          -0.9431897712379231,
          -0.6477520870136391,
          0.6508763934079177,
          0.7908879119638564,
          -0.5437926157664298,
          0.11492643070611391,
          0.3974511774942038,
          -1.8055711983924294,
          -0.8523522195491334,
          -0.558736594859252,
          -1.1473397416674855,
          -0.16454004935997768,
          -0.660716242116677,
          0.049352004212177884,
          -0.057314717313838005,
          -0.43941827438359155,
          0.0277344949358772,
          -0.7062001067991027,
          0.20462323016526873,
          0.3496160101587443,
          0.6577663410748592,
          -0.2758959541944502,
          2.0705732352146224,
          -0.09914233320171727,
          1.3172585301650261,
          -0.7394903007107098,
          0.007553436342522031,
          0.016748848512975506,
          -0.5611598750145692,
          -0.48601745121375417,
          -0.13367046078164657,
          0.037363970053662626,
          0.6178066666029638,
          1.3796647232899897,
          -0.6931058583317703,
          -0.9972334923098112,
          1.3641795786608075,
          -1.106805521135824,
          1.0854563377341457,
          -0.09555624054883202,
          0.6288015463938761,
          -0.8760011405423394,
          1.2336403186919789,
          0.033956099774664385,
          2.1407935064284773,
          0.6385182836690706,
          -0.5269728709133601,
          -0.5847843726513189,
          -2.3494435331723307,
          -0.18399978217020438,
          0.16960257341940285,
          0.46380914522191813,
          -0.3056312698113668,
          0.7936378599682448,
          0.810159922841156,
          1.7683652861021277,
          0.9765976549826945,
          0.21326281672362585,
          -0.31880949249799556,
          2.2713306562647673,
          -1.0851960684705424,
          -1.570147459967214,
          0.34576961774812714,
          0.8703889358199863,
          1.2367572823310422,
          1.3781590168114433,
          1.6483301874280925,
          1.3376056922248774,
          0.6753253952993254,
          1.483120340763066,
          -1.4696468790989143,
          0.18006693944434077,
          -0.6444227711806647,
          1.342402191198624,
          0.3795249191416694,
          0.34893084837192684,
          0.5547093859793416,
          -0.7615597381780371,
          -0.34604453437406435,
          -0.467604005429489,
          -0.675717935618517,
          0.4451618761638253,
          -0.28832274185004775,
          0.8908517457098541
         ],
         "xaxis": "x5",
         "y": [
          1.7013820185635982,
          0.016734098968908245,
          2.2184867506604347,
          0.44451676757382264,
          1.703802666363377,
          0.5510780102731614,
          -0.007384714327293,
          -0.35835576270049563,
          1.6179370471689394,
          -1.169620835636566,
          -0.36772215073358494,
          0.182065915329453,
          -0.3975451539297147,
          0.6205506166419125,
          -1.098210734843599,
          0.20041257042194804,
          -0.426836602355439,
          2.277927386764877,
          -1.1017588091404427,
          0.152675931119196,
          0.26089294030064775,
          0.16790296118827935,
          1.117498940581288,
          0.1184339640900317,
          -0.329283204486584,
          -0.48503749507682914,
          0.10287082937910579,
          -0.14335257092830764,
          0.8278903286727461,
          -1.2152889355373417,
          1.8688574824406747,
          -2.224014721044174,
          0.5480537392492857,
          -0.4147767422144272,
          0.9111740247529115,
          -0.2528222104299852,
          -0.328512170305908,
          1.5075951910841419,
          1.1498989386135394,
          -0.35747433861149613,
          0.2600226018296949,
          -2.1464321877023447,
          -0.45158829898502395,
          -1.219746472073381,
          0.8502524893445202,
          0.9462632125257172,
          -1.7598783345103384,
          -0.2997902477697803,
          -0.04572481337190753,
          0.6882101545853919,
          -0.8189329172921694,
          0.5734955778855265,
          1.185944352107926,
          -0.20946517839781378,
          -1.3897673074849386,
          0.05787704017837233,
          -0.4511274628719261,
          0.09277799280316695,
          -1.2173858066388004,
          1.6667919772825086,
          0.7189158983152318,
          -0.9056304694239788,
          -0.4677796938681007,
          -1.6548913931086122,
          2.2516119970191237,
          0.9837585001186746,
          0.4878811018427395,
          -1.112952019281889,
          0.216206728493171,
          2.299476542354412,
          -1.4070242741765342,
          -0.45055928068229417,
          0.46767482889353085,
          0.32182309910940193,
          1.2080200190126147,
          0.9669139668088189,
          0.31402593167975984,
          0.714031354188266,
          -0.43036799689653804,
          -0.10611543689348711,
          -0.3206654621288512,
          -1.2964482536527433,
          1.466932859869416,
          1.138962013851952,
          0.4980801447568573,
          1.6032529424100892,
          -0.3434705413925944,
          -0.4314394981069506,
          -0.4718651054692796,
          -2.176081195391494,
          -0.4843139984008415,
          -0.5920273380597912,
          -0.5227207238304532,
          0.5926508580560483,
          -0.429051904089719,
          0.6569896275867015,
          1.7338054889903347,
          -1.8873414584768677,
          -0.9113554907885516,
          0.2599158976535608
         ],
         "yaxis": "y5"
        },
        {
         "histfunc": "count",
         "histnorm": "",
         "marker": {
          "color": "rgba(55, 128, 191, 1.0)",
          "line": {
           "color": "#4D5663",
           "width": 1.3
          }
         },
         "name": "B",
         "nbinsx": 10,
         "opacity": 0.8,
         "orientation": "v",
         "type": "histogram",
         "x": [
          1.7013820185635982,
          0.016734098968908245,
          2.2184867506604347,
          0.44451676757382264,
          1.703802666363377,
          0.5510780102731614,
          -0.007384714327293,
          -0.35835576270049563,
          1.6179370471689394,
          -1.169620835636566,
          -0.36772215073358494,
          0.182065915329453,
          -0.3975451539297147,
          0.6205506166419125,
          -1.098210734843599,
          0.20041257042194804,
          -0.426836602355439,
          2.277927386764877,
          -1.1017588091404427,
          0.152675931119196,
          0.26089294030064775,
          0.16790296118827935,
          1.117498940581288,
          0.1184339640900317,
          -0.329283204486584,
          -0.48503749507682914,
          0.10287082937910579,
          -0.14335257092830764,
          0.8278903286727461,
          -1.2152889355373417,
          1.8688574824406747,
          -2.224014721044174,
          0.5480537392492857,
          -0.4147767422144272,
          0.9111740247529115,
          -0.2528222104299852,
          -0.328512170305908,
          1.5075951910841419,
          1.1498989386135394,
          -0.35747433861149613,
          0.2600226018296949,
          -2.1464321877023447,
          -0.45158829898502395,
          -1.219746472073381,
          0.8502524893445202,
          0.9462632125257172,
          -1.7598783345103384,
          -0.2997902477697803,
          -0.04572481337190753,
          0.6882101545853919,
          -0.8189329172921694,
          0.5734955778855265,
          1.185944352107926,
          -0.20946517839781378,
          -1.3897673074849386,
          0.05787704017837233,
          -0.4511274628719261,
          0.09277799280316695,
          -1.2173858066388004,
          1.6667919772825086,
          0.7189158983152318,
          -0.9056304694239788,
          -0.4677796938681007,
          -1.6548913931086122,
          2.2516119970191237,
          0.9837585001186746,
          0.4878811018427395,
          -1.112952019281889,
          0.216206728493171,
          2.299476542354412,
          -1.4070242741765342,
          -0.45055928068229417,
          0.46767482889353085,
          0.32182309910940193,
          1.2080200190126147,
          0.9669139668088189,
          0.31402593167975984,
          0.714031354188266,
          -0.43036799689653804,
          -0.10611543689348711,
          -0.3206654621288512,
          -1.2964482536527433,
          1.466932859869416,
          1.138962013851952,
          0.4980801447568573,
          1.6032529424100892,
          -0.3434705413925944,
          -0.4314394981069506,
          -0.4718651054692796,
          -2.176081195391494,
          -0.4843139984008415,
          -0.5920273380597912,
          -0.5227207238304532,
          0.5926508580560483,
          -0.429051904089719,
          0.6569896275867015,
          1.7338054889903347,
          -1.8873414584768677,
          -0.9113554907885516,
          0.2599158976535608
         ],
         "xaxis": "x6",
         "yaxis": "y6"
        },
        {
         "line": {
          "color": "rgba(128, 128, 128, 1.0)",
          "dash": "solid",
          "shape": "linear",
          "width": 1.3
         },
         "marker": {
          "size": 2,
          "symbol": "circle"
         },
         "mode": "markers",
         "name": "B",
         "text": "",
         "type": "scatter",
         "x": [
          -0.873369070597386,
          -0.38797255257445085,
          1.0682243918353338,
          -1.2790930718167783,
          1.0761302314217276,
          -1.0857807523120895,
          0.6976922422721356,
          -0.20764530220173733,
          0.7380926789497732,
          0.637733307300874,
          0.11612524220817805,
          2.9265206893023383,
          -0.5040016539640569,
          -0.09391022352662393,
          -0.22077641685397564,
          0.5726701575040741,
          -0.23255048921233717,
          -0.386545526538195,
          -0.06329106479067616,
          -0.8235676011447217,
          -1.8865971054068813,
          -0.6980099173578493,
          -1.2575289971325572,
          0.3671526137423293,
          1.352426245082499,
          0.06723238281656134,
          -0.5626870446525274,
          0.9047024466505087,
          1.9480451488617643,
          -1.1443375473424668,
          -0.09186773503596642,
          0.775654390735632,
          0.5185977601455729,
          -1.0153910692794177,
          1.9003170260405222,
          -0.6192891766001604,
          -1.5741127731567324,
          0.061034838680466774,
          1.8287336241254994,
          -0.41340617037139815,
          -0.9251977571498682,
          -1.3024323490176417,
          -1.3399259704825603,
          1.3311280598564057,
          -0.025507113005817896,
          -0.6978799173452859,
          1.917274538094662,
          -0.11655301971239401,
          1.0004285703033267,
          -0.4880985328688754,
          0.6917315759162503,
          -0.04200586024394621,
          1.3050923316231533,
          -0.6645346672012342,
          1.7271876015869112,
          0.24499633854213249,
          -1.395438954157734,
          1.7791942754672483,
          -0.1247797070026459,
          -0.2984251985318188,
          0.0630317942551919,
          -1.2389540771900844,
          -1.3189514123527615,
          -0.15928990030484616,
          0.22194516169594103,
          1.8614284686780065,
          -1.3497970255188065,
          -0.08417264575481272,
          -1.395189580530213,
          -0.662117909689395,
          1.357690057741097,
          0.4371849418412773,
          -0.9918817891272562,
          -0.9130202377705492,
          -0.693283281399948,
          0.4164994399875994,
          1.442084430089679,
          -0.07772004791377678,
          0.40255052232406985,
          1.2468872830528268,
          -0.0025977803496521263,
          -1.9860720074503646,
          1.4269136619370792,
          0.30877766394215556,
          0.077918893410345,
          -1.305629015855808,
          -0.3870991945207361,
          -0.49997182400035134,
          0.3001251054451142,
          0.2800716784649497,
          -0.7268088747459226,
          -0.17187034779755236,
          0.9988509470232919,
          0.7732728754145628,
          -0.8116839420485217,
          1.1119549255717927,
          0.9976389223060625,
          -0.915553232348906,
          -0.47427309014068175,
          1.8010205813686537
         ],
         "xaxis": "x7",
         "y": [
          1.7013820185635982,
          0.016734098968908245,
          2.2184867506604347,
          0.44451676757382264,
          1.703802666363377,
          0.5510780102731614,
          -0.007384714327293,
          -0.35835576270049563,
          1.6179370471689394,
          -1.169620835636566,
          -0.36772215073358494,
          0.182065915329453,
          -0.3975451539297147,
          0.6205506166419125,
          -1.098210734843599,
          0.20041257042194804,
          -0.426836602355439,
          2.277927386764877,
          -1.1017588091404427,
          0.152675931119196,
          0.26089294030064775,
          0.16790296118827935,
          1.117498940581288,
          0.1184339640900317,
          -0.329283204486584,
          -0.48503749507682914,
          0.10287082937910579,
          -0.14335257092830764,
          0.8278903286727461,
          -1.2152889355373417,
          1.8688574824406747,
          -2.224014721044174,
          0.5480537392492857,
          -0.4147767422144272,
          0.9111740247529115,
          -0.2528222104299852,
          -0.328512170305908,
          1.5075951910841419,
          1.1498989386135394,
          -0.35747433861149613,
          0.2600226018296949,
          -2.1464321877023447,
          -0.45158829898502395,
          -1.219746472073381,
          0.8502524893445202,
          0.9462632125257172,
          -1.7598783345103384,
          -0.2997902477697803,
          -0.04572481337190753,
          0.6882101545853919,
          -0.8189329172921694,
          0.5734955778855265,
          1.185944352107926,
          -0.20946517839781378,
          -1.3897673074849386,
          0.05787704017837233,
          -0.4511274628719261,
          0.09277799280316695,
          -1.2173858066388004,
          1.6667919772825086,
          0.7189158983152318,
          -0.9056304694239788,
          -0.4677796938681007,
          -1.6548913931086122,
          2.2516119970191237,
          0.9837585001186746,
          0.4878811018427395,
          -1.112952019281889,
          0.216206728493171,
          2.299476542354412,
          -1.4070242741765342,
          -0.45055928068229417,
          0.46767482889353085,
          0.32182309910940193,
          1.2080200190126147,
          0.9669139668088189,
          0.31402593167975984,
          0.714031354188266,
          -0.43036799689653804,
          -0.10611543689348711,
          -0.3206654621288512,
          -1.2964482536527433,
          1.466932859869416,
          1.138962013851952,
          0.4980801447568573,
          1.6032529424100892,
          -0.3434705413925944,
          -0.4314394981069506,
          -0.4718651054692796,
          -2.176081195391494,
          -0.4843139984008415,
          -0.5920273380597912,
          -0.5227207238304532,
          0.5926508580560483,
          -0.429051904089719,
          0.6569896275867015,
          1.7338054889903347,
          -1.8873414584768677,
          -0.9113554907885516,
          0.2599158976535608
         ],
         "yaxis": "y7"
        },
        {
         "line": {
          "color": "rgba(128, 128, 128, 1.0)",
          "dash": "solid",
          "shape": "linear",
          "width": 1.3
         },
         "marker": {
          "size": 2,
          "symbol": "circle"
         },
         "mode": "markers",
         "name": "B",
         "text": "",
         "type": "scatter",
         "x": [
          1.2101398908133165,
          0.13635957025796977,
          2.1905231572647677,
          -0.4094932919898077,
          -0.3719867102724542,
          -1.698863802225874,
          1.0720603281458452,
          -0.04884579380315829,
          0.3520251677800174,
          -0.050786665944431514,
          1.9919596653095484,
          0.0076299031856295555,
          0.612288221996455,
          -0.6250653216674991,
          0.8932792492386356,
          0.44086750492679483,
          0.13145624625172503,
          -0.6239924999314912,
          0.3115550575145953,
          0.4704557052624782,
          1.6014390879358784,
          -0.6103090759138216,
          -0.06369678766796431,
          -1.3400231949710382,
          -1.0011016048785424,
          -1.05942227761927,
          -1.082465664061321,
          -1.0362857431674113,
          0.728205944656403,
          -1.3138364398452524,
          0.9028055932576768,
          2.2820963209146865,
          0.5825457608976803,
          0.44168823311486277,
          -0.6180400543628084,
          0.20550615894038707,
          -0.566625718392528,
          0.588867295487124,
          -0.7814863742659657,
          0.2088150083175389,
          0.2712189292641885,
          1.0080451261778702,
          0.9198073760959197,
          -0.21160871568750625,
          0.9471005905349884,
          0.5546643197501453,
          -0.9412177495896674,
          0.12099080452017884,
          0.7053176604162875,
          1.554052374787565,
          0.38336548453547953,
          0.11940458470979412,
          -0.29860935986853726,
          -0.43255531317600315,
          0.6324137696781059,
          0.0766219170804827,
          1.4226312405505745,
          0.030003267754663058,
          -1.2769730159611434,
          -0.723478072941893,
          -1.7260064617670847,
          0.9811419682076121,
          -2.06783749498083,
          -0.8939542857197509,
          -2.2540571561363403,
          -1.4259802492018168,
          -0.5320075047461356,
          -1.515811089911523,
          -0.7215280082437434,
          2.1282125070998505,
          -0.03903507733278754,
          -1.3950234747939938,
          -0.14096685406236814,
          0.23135609461367232,
          0.5250304234167503,
          1.802981728444306,
          -0.0468162189899403,
          -1.769035777012729,
          -1.6278107483740112,
          -1.6314168896665002,
          0.753991614046415,
          1.033180829624629,
          0.6023574170852904,
          -1.4670402369359343,
          0.2678472344711301,
          1.818071178134226,
          -0.9955878234584558,
          -0.22847136673346932,
          0.0762818605952403,
          0.1291634136540693,
          1.6225066766975573,
          -0.475721530759489,
          -1.5489439310204933,
          0.17981725953923663,
          1.2638373207974998,
          -0.1364912051803669,
          -0.33326882623264054,
          -0.44617453940382784,
          1.0240512252251484,
          -1.08638069206843
         ],
         "xaxis": "x8",
         "y": [
          1.7013820185635982,
          0.016734098968908245,
          2.2184867506604347,
          0.44451676757382264,
          1.703802666363377,
          0.5510780102731614,
          -0.007384714327293,
          -0.35835576270049563,
          1.6179370471689394,
          -1.169620835636566,
          -0.36772215073358494,
          0.182065915329453,
          -0.3975451539297147,
          0.6205506166419125,
          -1.098210734843599,
          0.20041257042194804,
          -0.426836602355439,
          2.277927386764877,
          -1.1017588091404427,
          0.152675931119196,
          0.26089294030064775,
          0.16790296118827935,
          1.117498940581288,
          0.1184339640900317,
          -0.329283204486584,
          -0.48503749507682914,
          0.10287082937910579,
          -0.14335257092830764,
          0.8278903286727461,
          -1.2152889355373417,
          1.8688574824406747,
          -2.224014721044174,
          0.5480537392492857,
          -0.4147767422144272,
          0.9111740247529115,
          -0.2528222104299852,
          -0.328512170305908,
          1.5075951910841419,
          1.1498989386135394,
          -0.35747433861149613,
          0.2600226018296949,
          -2.1464321877023447,
          -0.45158829898502395,
          -1.219746472073381,
          0.8502524893445202,
          0.9462632125257172,
          -1.7598783345103384,
          -0.2997902477697803,
          -0.04572481337190753,
          0.6882101545853919,
          -0.8189329172921694,
          0.5734955778855265,
          1.185944352107926,
          -0.20946517839781378,
          -1.3897673074849386,
          0.05787704017837233,
          -0.4511274628719261,
          0.09277799280316695,
          -1.2173858066388004,
          1.6667919772825086,
          0.7189158983152318,
          -0.9056304694239788,
          -0.4677796938681007,
          -1.6548913931086122,
          2.2516119970191237,
          0.9837585001186746,
          0.4878811018427395,
          -1.112952019281889,
          0.216206728493171,
          2.299476542354412,
          -1.4070242741765342,
          -0.45055928068229417,
          0.46767482889353085,
          0.32182309910940193,
          1.2080200190126147,
          0.9669139668088189,
          0.31402593167975984,
          0.714031354188266,
          -0.43036799689653804,
          -0.10611543689348711,
          -0.3206654621288512,
          -1.2964482536527433,
          1.466932859869416,
          1.138962013851952,
          0.4980801447568573,
          1.6032529424100892,
          -0.3434705413925944,
          -0.4314394981069506,
          -0.4718651054692796,
          -2.176081195391494,
          -0.4843139984008415,
          -0.5920273380597912,
          -0.5227207238304532,
          0.5926508580560483,
          -0.429051904089719,
          0.6569896275867015,
          1.7338054889903347,
          -1.8873414584768677,
          -0.9113554907885516,
          0.2599158976535608
         ],
         "yaxis": "y8"
        },
        {
         "line": {
          "color": "rgba(128, 128, 128, 1.0)",
          "dash": "solid",
          "shape": "linear",
          "width": 1.3
         },
         "marker": {
          "size": 2,
          "symbol": "circle"
         },
         "mode": "markers",
         "name": "C",
         "text": "",
         "type": "scatter",
         "x": [
          -1.0869584731134463,
          0.27451744742966855,
          0.898589965888706,
          -0.16552031190222838,
          -1.2734743934645587,
          1.3785347245530486,
          0.7868745774402074,
          0.7766436984162196,
          0.22616856791677742,
          0.007405250672447983,
          0.64366447216253,
          -1.7626137628640837,
          0.4441052137532636,
          -0.2108770255901744,
          0.6198112180793899,
          -1.8287242831076582,
          -0.9431897712379231,
          -0.6477520870136391,
          0.6508763934079177,
          0.7908879119638564,
          -0.5437926157664298,
          0.11492643070611391,
          0.3974511774942038,
          -1.8055711983924294,
          -0.8523522195491334,
          -0.558736594859252,
          -1.1473397416674855,
          -0.16454004935997768,
          -0.660716242116677,
          0.049352004212177884,
          -0.057314717313838005,
          -0.43941827438359155,
          0.0277344949358772,
          -0.7062001067991027,
          0.20462323016526873,
          0.3496160101587443,
          0.6577663410748592,
          -0.2758959541944502,
          2.0705732352146224,
          -0.09914233320171727,
          1.3172585301650261,
          -0.7394903007107098,
          0.007553436342522031,
          0.016748848512975506,
          -0.5611598750145692,
          -0.48601745121375417,
          -0.13367046078164657,
          0.037363970053662626,
          0.6178066666029638,
          1.3796647232899897,
          -0.6931058583317703,
          -0.9972334923098112,
          1.3641795786608075,
          -1.106805521135824,
          1.0854563377341457,
          -0.09555624054883202,
          0.6288015463938761,
          -0.8760011405423394,
          1.2336403186919789,
          0.033956099774664385,
          2.1407935064284773,
          0.6385182836690706,
          -0.5269728709133601,
          -0.5847843726513189,
          -2.3494435331723307,
          -0.18399978217020438,
          0.16960257341940285,
          0.46380914522191813,
          -0.3056312698113668,
          0.7936378599682448,
          0.810159922841156,
          1.7683652861021277,
          0.9765976549826945,
          0.21326281672362585,
          -0.31880949249799556,
          2.2713306562647673,
          -1.0851960684705424,
          -1.570147459967214,
          0.34576961774812714,
          0.8703889358199863,
          1.2367572823310422,
          1.3781590168114433,
          1.6483301874280925,
          1.3376056922248774,
          0.6753253952993254,
          1.483120340763066,
          -1.4696468790989143,
          0.18006693944434077,
          -0.6444227711806647,
          1.342402191198624,
          0.3795249191416694,
          0.34893084837192684,
          0.5547093859793416,
          -0.7615597381780371,
          -0.34604453437406435,
          -0.467604005429489,
          -0.675717935618517,
          0.4451618761638253,
          -0.28832274185004775,
          0.8908517457098541
         ],
         "xaxis": "x9",
         "y": [
          -0.873369070597386,
          -0.38797255257445085,
          1.0682243918353338,
          -1.2790930718167783,
          1.0761302314217276,
          -1.0857807523120895,
          0.6976922422721356,
          -0.20764530220173733,
          0.7380926789497732,
          0.637733307300874,
          0.11612524220817805,
          2.9265206893023383,
          -0.5040016539640569,
          -0.09391022352662393,
          -0.22077641685397564,
          0.5726701575040741,
          -0.23255048921233717,
          -0.386545526538195,
          -0.06329106479067616,
          -0.8235676011447217,
          -1.8865971054068813,
          -0.6980099173578493,
          -1.2575289971325572,
          0.3671526137423293,
          1.352426245082499,
          0.06723238281656134,
          -0.5626870446525274,
          0.9047024466505087,
          1.9480451488617643,
          -1.1443375473424668,
          -0.09186773503596642,
          0.775654390735632,
          0.5185977601455729,
          -1.0153910692794177,
          1.9003170260405222,
          -0.6192891766001604,
          -1.5741127731567324,
          0.061034838680466774,
          1.8287336241254994,
          -0.41340617037139815,
          -0.9251977571498682,
          -1.3024323490176417,
          -1.3399259704825603,
          1.3311280598564057,
          -0.025507113005817896,
          -0.6978799173452859,
          1.917274538094662,
          -0.11655301971239401,
          1.0004285703033267,
          -0.4880985328688754,
          0.6917315759162503,
          -0.04200586024394621,
          1.3050923316231533,
          -0.6645346672012342,
          1.7271876015869112,
          0.24499633854213249,
          -1.395438954157734,
          1.7791942754672483,
          -0.1247797070026459,
          -0.2984251985318188,
          0.0630317942551919,
          -1.2389540771900844,
          -1.3189514123527615,
          -0.15928990030484616,
          0.22194516169594103,
          1.8614284686780065,
          -1.3497970255188065,
          -0.08417264575481272,
          -1.395189580530213,
          -0.662117909689395,
          1.357690057741097,
          0.4371849418412773,
          -0.9918817891272562,
          -0.9130202377705492,
          -0.693283281399948,
          0.4164994399875994,
          1.442084430089679,
          -0.07772004791377678,
          0.40255052232406985,
          1.2468872830528268,
          -0.0025977803496521263,
          -1.9860720074503646,
          1.4269136619370792,
          0.30877766394215556,
          0.077918893410345,
          -1.305629015855808,
          -0.3870991945207361,
          -0.49997182400035134,
          0.3001251054451142,
          0.2800716784649497,
          -0.7268088747459226,
          -0.17187034779755236,
          0.9988509470232919,
          0.7732728754145628,
          -0.8116839420485217,
          1.1119549255717927,
          0.9976389223060625,
          -0.915553232348906,
          -0.47427309014068175,
          1.8010205813686537
         ],
         "yaxis": "y9"
        },
        {
         "line": {
          "color": "rgba(128, 128, 128, 1.0)",
          "dash": "solid",
          "shape": "linear",
          "width": 1.3
         },
         "marker": {
          "size": 2,
          "symbol": "circle"
         },
         "mode": "markers",
         "name": "C",
         "text": "",
         "type": "scatter",
         "x": [
          1.7013820185635982,
          0.016734098968908245,
          2.2184867506604347,
          0.44451676757382264,
          1.703802666363377,
          0.5510780102731614,
          -0.007384714327293,
          -0.35835576270049563,
          1.6179370471689394,
          -1.169620835636566,
          -0.36772215073358494,
          0.182065915329453,
          -0.3975451539297147,
          0.6205506166419125,
          -1.098210734843599,
          0.20041257042194804,
          -0.426836602355439,
          2.277927386764877,
          -1.1017588091404427,
          0.152675931119196,
          0.26089294030064775,
          0.16790296118827935,
          1.117498940581288,
          0.1184339640900317,
          -0.329283204486584,
          -0.48503749507682914,
          0.10287082937910579,
          -0.14335257092830764,
          0.8278903286727461,
          -1.2152889355373417,
          1.8688574824406747,
          -2.224014721044174,
          0.5480537392492857,
          -0.4147767422144272,
          0.9111740247529115,
          -0.2528222104299852,
          -0.328512170305908,
          1.5075951910841419,
          1.1498989386135394,
          -0.35747433861149613,
          0.2600226018296949,
          -2.1464321877023447,
          -0.45158829898502395,
          -1.219746472073381,
          0.8502524893445202,
          0.9462632125257172,
          -1.7598783345103384,
          -0.2997902477697803,
          -0.04572481337190753,
          0.6882101545853919,
          -0.8189329172921694,
          0.5734955778855265,
          1.185944352107926,
          -0.20946517839781378,
          -1.3897673074849386,
          0.05787704017837233,
          -0.4511274628719261,
          0.09277799280316695,
          -1.2173858066388004,
          1.6667919772825086,
          0.7189158983152318,
          -0.9056304694239788,
          -0.4677796938681007,
          -1.6548913931086122,
          2.2516119970191237,
          0.9837585001186746,
          0.4878811018427395,
          -1.112952019281889,
          0.216206728493171,
          2.299476542354412,
          -1.4070242741765342,
          -0.45055928068229417,
          0.46767482889353085,
          0.32182309910940193,
          1.2080200190126147,
          0.9669139668088189,
          0.31402593167975984,
          0.714031354188266,
          -0.43036799689653804,
          -0.10611543689348711,
          -0.3206654621288512,
          -1.2964482536527433,
          1.466932859869416,
          1.138962013851952,
          0.4980801447568573,
          1.6032529424100892,
          -0.3434705413925944,
          -0.4314394981069506,
          -0.4718651054692796,
          -2.176081195391494,
          -0.4843139984008415,
          -0.5920273380597912,
          -0.5227207238304532,
          0.5926508580560483,
          -0.429051904089719,
          0.6569896275867015,
          1.7338054889903347,
          -1.8873414584768677,
          -0.9113554907885516,
          0.2599158976535608
         ],
         "xaxis": "x10",
         "y": [
          -0.873369070597386,
          -0.38797255257445085,
          1.0682243918353338,
          -1.2790930718167783,
          1.0761302314217276,
          -1.0857807523120895,
          0.6976922422721356,
          -0.20764530220173733,
          0.7380926789497732,
          0.637733307300874,
          0.11612524220817805,
          2.9265206893023383,
          -0.5040016539640569,
          -0.09391022352662393,
          -0.22077641685397564,
          0.5726701575040741,
          -0.23255048921233717,
          -0.386545526538195,
          -0.06329106479067616,
          -0.8235676011447217,
          -1.8865971054068813,
          -0.6980099173578493,
          -1.2575289971325572,
          0.3671526137423293,
          1.352426245082499,
          0.06723238281656134,
          -0.5626870446525274,
          0.9047024466505087,
          1.9480451488617643,
          -1.1443375473424668,
          -0.09186773503596642,
          0.775654390735632,
          0.5185977601455729,
          -1.0153910692794177,
          1.9003170260405222,
          -0.6192891766001604,
          -1.5741127731567324,
          0.061034838680466774,
          1.8287336241254994,
          -0.41340617037139815,
          -0.9251977571498682,
          -1.3024323490176417,
          -1.3399259704825603,
          1.3311280598564057,
          -0.025507113005817896,
          -0.6978799173452859,
          1.917274538094662,
          -0.11655301971239401,
          1.0004285703033267,
          -0.4880985328688754,
          0.6917315759162503,
          -0.04200586024394621,
          1.3050923316231533,
          -0.6645346672012342,
          1.7271876015869112,
          0.24499633854213249,
          -1.395438954157734,
          1.7791942754672483,
          -0.1247797070026459,
          -0.2984251985318188,
          0.0630317942551919,
          -1.2389540771900844,
          -1.3189514123527615,
          -0.15928990030484616,
          0.22194516169594103,
          1.8614284686780065,
          -1.3497970255188065,
          -0.08417264575481272,
          -1.395189580530213,
          -0.662117909689395,
          1.357690057741097,
          0.4371849418412773,
          -0.9918817891272562,
          -0.9130202377705492,
          -0.693283281399948,
          0.4164994399875994,
          1.442084430089679,
          -0.07772004791377678,
          0.40255052232406985,
          1.2468872830528268,
          -0.0025977803496521263,
          -1.9860720074503646,
          1.4269136619370792,
          0.30877766394215556,
          0.077918893410345,
          -1.305629015855808,
          -0.3870991945207361,
          -0.49997182400035134,
          0.3001251054451142,
          0.2800716784649497,
          -0.7268088747459226,
          -0.17187034779755236,
          0.9988509470232919,
          0.7732728754145628,
          -0.8116839420485217,
          1.1119549255717927,
          0.9976389223060625,
          -0.915553232348906,
          -0.47427309014068175,
          1.8010205813686537
         ],
         "yaxis": "y10"
        },
        {
         "histfunc": "count",
         "histnorm": "",
         "marker": {
          "color": "rgba(50, 171, 96, 1.0)",
          "line": {
           "color": "#4D5663",
           "width": 1.3
          }
         },
         "name": "C",
         "nbinsx": 10,
         "opacity": 0.8,
         "orientation": "v",
         "type": "histogram",
         "x": [
          -0.873369070597386,
          -0.38797255257445085,
          1.0682243918353338,
          -1.2790930718167783,
          1.0761302314217276,
          -1.0857807523120895,
          0.6976922422721356,
          -0.20764530220173733,
          0.7380926789497732,
          0.637733307300874,
          0.11612524220817805,
          2.9265206893023383,
          -0.5040016539640569,
          -0.09391022352662393,
          -0.22077641685397564,
          0.5726701575040741,
          -0.23255048921233717,
          -0.386545526538195,
          -0.06329106479067616,
          -0.8235676011447217,
          -1.8865971054068813,
          -0.6980099173578493,
          -1.2575289971325572,
          0.3671526137423293,
          1.352426245082499,
          0.06723238281656134,
          -0.5626870446525274,
          0.9047024466505087,
          1.9480451488617643,
          -1.1443375473424668,
          -0.09186773503596642,
          0.775654390735632,
          0.5185977601455729,
          -1.0153910692794177,
          1.9003170260405222,
          -0.6192891766001604,
          -1.5741127731567324,
          0.061034838680466774,
          1.8287336241254994,
          -0.41340617037139815,
          -0.9251977571498682,
          -1.3024323490176417,
          -1.3399259704825603,
          1.3311280598564057,
          -0.025507113005817896,
          -0.6978799173452859,
          1.917274538094662,
          -0.11655301971239401,
          1.0004285703033267,
          -0.4880985328688754,
          0.6917315759162503,
          -0.04200586024394621,
          1.3050923316231533,
          -0.6645346672012342,
          1.7271876015869112,
          0.24499633854213249,
          -1.395438954157734,
          1.7791942754672483,
          -0.1247797070026459,
          -0.2984251985318188,
          0.0630317942551919,
          -1.2389540771900844,
          -1.3189514123527615,
          -0.15928990030484616,
          0.22194516169594103,
          1.8614284686780065,
          -1.3497970255188065,
          -0.08417264575481272,
          -1.395189580530213,
          -0.662117909689395,
          1.357690057741097,
          0.4371849418412773,
          -0.9918817891272562,
          -0.9130202377705492,
          -0.693283281399948,
          0.4164994399875994,
          1.442084430089679,
          -0.07772004791377678,
          0.40255052232406985,
          1.2468872830528268,
          -0.0025977803496521263,
          -1.9860720074503646,
          1.4269136619370792,
          0.30877766394215556,
          0.077918893410345,
          -1.305629015855808,
          -0.3870991945207361,
          -0.49997182400035134,
          0.3001251054451142,
          0.2800716784649497,
          -0.7268088747459226,
          -0.17187034779755236,
          0.9988509470232919,
          0.7732728754145628,
          -0.8116839420485217,
          1.1119549255717927,
          0.9976389223060625,
          -0.915553232348906,
          -0.47427309014068175,
          1.8010205813686537
         ],
         "xaxis": "x11",
         "yaxis": "y11"
        },
        {
         "line": {
          "color": "rgba(128, 128, 128, 1.0)",
          "dash": "solid",
          "shape": "linear",
          "width": 1.3
         },
         "marker": {
          "size": 2,
          "symbol": "circle"
         },
         "mode": "markers",
         "name": "C",
         "text": "",
         "type": "scatter",
         "x": [
          1.2101398908133165,
          0.13635957025796977,
          2.1905231572647677,
          -0.4094932919898077,
          -0.3719867102724542,
          -1.698863802225874,
          1.0720603281458452,
          -0.04884579380315829,
          0.3520251677800174,
          -0.050786665944431514,
          1.9919596653095484,
          0.0076299031856295555,
          0.612288221996455,
          -0.6250653216674991,
          0.8932792492386356,
          0.44086750492679483,
          0.13145624625172503,
          -0.6239924999314912,
          0.3115550575145953,
          0.4704557052624782,
          1.6014390879358784,
          -0.6103090759138216,
          -0.06369678766796431,
          -1.3400231949710382,
          -1.0011016048785424,
          -1.05942227761927,
          -1.082465664061321,
          -1.0362857431674113,
          0.728205944656403,
          -1.3138364398452524,
          0.9028055932576768,
          2.2820963209146865,
          0.5825457608976803,
          0.44168823311486277,
          -0.6180400543628084,
          0.20550615894038707,
          -0.566625718392528,
          0.588867295487124,
          -0.7814863742659657,
          0.2088150083175389,
          0.2712189292641885,
          1.0080451261778702,
          0.9198073760959197,
          -0.21160871568750625,
          0.9471005905349884,
          0.5546643197501453,
          -0.9412177495896674,
          0.12099080452017884,
          0.7053176604162875,
          1.554052374787565,
          0.38336548453547953,
          0.11940458470979412,
          -0.29860935986853726,
          -0.43255531317600315,
          0.6324137696781059,
          0.0766219170804827,
          1.4226312405505745,
          0.030003267754663058,
          -1.2769730159611434,
          -0.723478072941893,
          -1.7260064617670847,
          0.9811419682076121,
          -2.06783749498083,
          -0.8939542857197509,
          -2.2540571561363403,
          -1.4259802492018168,
          -0.5320075047461356,
          -1.515811089911523,
          -0.7215280082437434,
          2.1282125070998505,
          -0.03903507733278754,
          -1.3950234747939938,
          -0.14096685406236814,
          0.23135609461367232,
          0.5250304234167503,
          1.802981728444306,
          -0.0468162189899403,
          -1.769035777012729,
          -1.6278107483740112,
          -1.6314168896665002,
          0.753991614046415,
          1.033180829624629,
          0.6023574170852904,
          -1.4670402369359343,
          0.2678472344711301,
          1.818071178134226,
          -0.9955878234584558,
          -0.22847136673346932,
          0.0762818605952403,
          0.1291634136540693,
          1.6225066766975573,
          -0.475721530759489,
          -1.5489439310204933,
          0.17981725953923663,
          1.2638373207974998,
          -0.1364912051803669,
          -0.33326882623264054,
          -0.44617453940382784,
          1.0240512252251484,
          -1.08638069206843
         ],
         "xaxis": "x12",
         "y": [
          -0.873369070597386,
          -0.38797255257445085,
          1.0682243918353338,
          -1.2790930718167783,
          1.0761302314217276,
          -1.0857807523120895,
          0.6976922422721356,
          -0.20764530220173733,
          0.7380926789497732,
          0.637733307300874,
          0.11612524220817805,
          2.9265206893023383,
          -0.5040016539640569,
          -0.09391022352662393,
          -0.22077641685397564,
          0.5726701575040741,
          -0.23255048921233717,
          -0.386545526538195,
          -0.06329106479067616,
          -0.8235676011447217,
          -1.8865971054068813,
          -0.6980099173578493,
          -1.2575289971325572,
          0.3671526137423293,
          1.352426245082499,
          0.06723238281656134,
          -0.5626870446525274,
          0.9047024466505087,
          1.9480451488617643,
          -1.1443375473424668,
          -0.09186773503596642,
          0.775654390735632,
          0.5185977601455729,
          -1.0153910692794177,
          1.9003170260405222,
          -0.6192891766001604,
          -1.5741127731567324,
          0.061034838680466774,
          1.8287336241254994,
          -0.41340617037139815,
          -0.9251977571498682,
          -1.3024323490176417,
          -1.3399259704825603,
          1.3311280598564057,
          -0.025507113005817896,
          -0.6978799173452859,
          1.917274538094662,
          -0.11655301971239401,
          1.0004285703033267,
          -0.4880985328688754,
          0.6917315759162503,
          -0.04200586024394621,
          1.3050923316231533,
          -0.6645346672012342,
          1.7271876015869112,
          0.24499633854213249,
          -1.395438954157734,
          1.7791942754672483,
          -0.1247797070026459,
          -0.2984251985318188,
          0.0630317942551919,
          -1.2389540771900844,
          -1.3189514123527615,
          -0.15928990030484616,
          0.22194516169594103,
          1.8614284686780065,
          -1.3497970255188065,
          -0.08417264575481272,
          -1.395189580530213,
          -0.662117909689395,
          1.357690057741097,
          0.4371849418412773,
          -0.9918817891272562,
          -0.9130202377705492,
          -0.693283281399948,
          0.4164994399875994,
          1.442084430089679,
          -0.07772004791377678,
          0.40255052232406985,
          1.2468872830528268,
          -0.0025977803496521263,
          -1.9860720074503646,
          1.4269136619370792,
          0.30877766394215556,
          0.077918893410345,
          -1.305629015855808,
          -0.3870991945207361,
          -0.49997182400035134,
          0.3001251054451142,
          0.2800716784649497,
          -0.7268088747459226,
          -0.17187034779755236,
          0.9988509470232919,
          0.7732728754145628,
          -0.8116839420485217,
          1.1119549255717927,
          0.9976389223060625,
          -0.915553232348906,
          -0.47427309014068175,
          1.8010205813686537
         ],
         "yaxis": "y12"
        },
        {
         "line": {
          "color": "rgba(128, 128, 128, 1.0)",
          "dash": "solid",
          "shape": "linear",
          "width": 1.3
         },
         "marker": {
          "size": 2,
          "symbol": "circle"
         },
         "mode": "markers",
         "name": "D",
         "text": "",
         "type": "scatter",
         "x": [
          -1.0869584731134463,
          0.27451744742966855,
          0.898589965888706,
          -0.16552031190222838,
          -1.2734743934645587,
          1.3785347245530486,
          0.7868745774402074,
          0.7766436984162196,
          0.22616856791677742,
          0.007405250672447983,
          0.64366447216253,
          -1.7626137628640837,
          0.4441052137532636,
          -0.2108770255901744,
          0.6198112180793899,
          -1.8287242831076582,
          -0.9431897712379231,
          -0.6477520870136391,
          0.6508763934079177,
          0.7908879119638564,
          -0.5437926157664298,
          0.11492643070611391,
          0.3974511774942038,
          -1.8055711983924294,
          -0.8523522195491334,
          -0.558736594859252,
          -1.1473397416674855,
          -0.16454004935997768,
          -0.660716242116677,
          0.049352004212177884,
          -0.057314717313838005,
          -0.43941827438359155,
          0.0277344949358772,
          -0.7062001067991027,
          0.20462323016526873,
          0.3496160101587443,
          0.6577663410748592,
          -0.2758959541944502,
          2.0705732352146224,
          -0.09914233320171727,
          1.3172585301650261,
          -0.7394903007107098,
          0.007553436342522031,
          0.016748848512975506,
          -0.5611598750145692,
          -0.48601745121375417,
          -0.13367046078164657,
          0.037363970053662626,
          0.6178066666029638,
          1.3796647232899897,
          -0.6931058583317703,
          -0.9972334923098112,
          1.3641795786608075,
          -1.106805521135824,
          1.0854563377341457,
          -0.09555624054883202,
          0.6288015463938761,
          -0.8760011405423394,
          1.2336403186919789,
          0.033956099774664385,
          2.1407935064284773,
          0.6385182836690706,
          -0.5269728709133601,
          -0.5847843726513189,
          -2.3494435331723307,
          -0.18399978217020438,
          0.16960257341940285,
          0.46380914522191813,
          -0.3056312698113668,
          0.7936378599682448,
          0.810159922841156,
          1.7683652861021277,
          0.9765976549826945,
          0.21326281672362585,
          -0.31880949249799556,
          2.2713306562647673,
          -1.0851960684705424,
          -1.570147459967214,
          0.34576961774812714,
          0.8703889358199863,
          1.2367572823310422,
          1.3781590168114433,
          1.6483301874280925,
          1.3376056922248774,
          0.6753253952993254,
          1.483120340763066,
          -1.4696468790989143,
          0.18006693944434077,
          -0.6444227711806647,
          1.342402191198624,
          0.3795249191416694,
          0.34893084837192684,
          0.5547093859793416,
          -0.7615597381780371,
          -0.34604453437406435,
          -0.467604005429489,
          -0.675717935618517,
          0.4451618761638253,
          -0.28832274185004775,
          0.8908517457098541
         ],
         "xaxis": "x13",
         "y": [
          1.2101398908133165,
          0.13635957025796977,
          2.1905231572647677,
          -0.4094932919898077,
          -0.3719867102724542,
          -1.698863802225874,
          1.0720603281458452,
          -0.04884579380315829,
          0.3520251677800174,
          -0.050786665944431514,
          1.9919596653095484,
          0.0076299031856295555,
          0.612288221996455,
          -0.6250653216674991,
          0.8932792492386356,
          0.44086750492679483,
          0.13145624625172503,
          -0.6239924999314912,
          0.3115550575145953,
          0.4704557052624782,
          1.6014390879358784,
          -0.6103090759138216,
          -0.06369678766796431,
          -1.3400231949710382,
          -1.0011016048785424,
          -1.05942227761927,
          -1.082465664061321,
          -1.0362857431674113,
          0.728205944656403,
          -1.3138364398452524,
          0.9028055932576768,
          2.2820963209146865,
          0.5825457608976803,
          0.44168823311486277,
          -0.6180400543628084,
          0.20550615894038707,
          -0.566625718392528,
          0.588867295487124,
          -0.7814863742659657,
          0.2088150083175389,
          0.2712189292641885,
          1.0080451261778702,
          0.9198073760959197,
          -0.21160871568750625,
          0.9471005905349884,
          0.5546643197501453,
          -0.9412177495896674,
          0.12099080452017884,
          0.7053176604162875,
          1.554052374787565,
          0.38336548453547953,
          0.11940458470979412,
          -0.29860935986853726,
          -0.43255531317600315,
          0.6324137696781059,
          0.0766219170804827,
          1.4226312405505745,
          0.030003267754663058,
          -1.2769730159611434,
          -0.723478072941893,
          -1.7260064617670847,
          0.9811419682076121,
          -2.06783749498083,
          -0.8939542857197509,
          -2.2540571561363403,
          -1.4259802492018168,
          -0.5320075047461356,
          -1.515811089911523,
          -0.7215280082437434,
          2.1282125070998505,
          -0.03903507733278754,
          -1.3950234747939938,
          -0.14096685406236814,
          0.23135609461367232,
          0.5250304234167503,
          1.802981728444306,
          -0.0468162189899403,
          -1.769035777012729,
          -1.6278107483740112,
          -1.6314168896665002,
          0.753991614046415,
          1.033180829624629,
          0.6023574170852904,
          -1.4670402369359343,
          0.2678472344711301,
          1.818071178134226,
          -0.9955878234584558,
          -0.22847136673346932,
          0.0762818605952403,
          0.1291634136540693,
          1.6225066766975573,
          -0.475721530759489,
          -1.5489439310204933,
          0.17981725953923663,
          1.2638373207974998,
          -0.1364912051803669,
          -0.33326882623264054,
          -0.44617453940382784,
          1.0240512252251484,
          -1.08638069206843
         ],
         "yaxis": "y13"
        },
        {
         "line": {
          "color": "rgba(128, 128, 128, 1.0)",
          "dash": "solid",
          "shape": "linear",
          "width": 1.3
         },
         "marker": {
          "size": 2,
          "symbol": "circle"
         },
         "mode": "markers",
         "name": "D",
         "text": "",
         "type": "scatter",
         "x": [
          1.7013820185635982,
          0.016734098968908245,
          2.2184867506604347,
          0.44451676757382264,
          1.703802666363377,
          0.5510780102731614,
          -0.007384714327293,
          -0.35835576270049563,
          1.6179370471689394,
          -1.169620835636566,
          -0.36772215073358494,
          0.182065915329453,
          -0.3975451539297147,
          0.6205506166419125,
          -1.098210734843599,
          0.20041257042194804,
          -0.426836602355439,
          2.277927386764877,
          -1.1017588091404427,
          0.152675931119196,
          0.26089294030064775,
          0.16790296118827935,
          1.117498940581288,
          0.1184339640900317,
          -0.329283204486584,
          -0.48503749507682914,
          0.10287082937910579,
          -0.14335257092830764,
          0.8278903286727461,
          -1.2152889355373417,
          1.8688574824406747,
          -2.224014721044174,
          0.5480537392492857,
          -0.4147767422144272,
          0.9111740247529115,
          -0.2528222104299852,
          -0.328512170305908,
          1.5075951910841419,
          1.1498989386135394,
          -0.35747433861149613,
          0.2600226018296949,
          -2.1464321877023447,
          -0.45158829898502395,
          -1.219746472073381,
          0.8502524893445202,
          0.9462632125257172,
          -1.7598783345103384,
          -0.2997902477697803,
          -0.04572481337190753,
          0.6882101545853919,
          -0.8189329172921694,
          0.5734955778855265,
          1.185944352107926,
          -0.20946517839781378,
          -1.3897673074849386,
          0.05787704017837233,
          -0.4511274628719261,
          0.09277799280316695,
          -1.2173858066388004,
          1.6667919772825086,
          0.7189158983152318,
          -0.9056304694239788,
          -0.4677796938681007,
          -1.6548913931086122,
          2.2516119970191237,
          0.9837585001186746,
          0.4878811018427395,
          -1.112952019281889,
          0.216206728493171,
          2.299476542354412,
          -1.4070242741765342,
          -0.45055928068229417,
          0.46767482889353085,
          0.32182309910940193,
          1.2080200190126147,
          0.9669139668088189,
          0.31402593167975984,
          0.714031354188266,
          -0.43036799689653804,
          -0.10611543689348711,
          -0.3206654621288512,
          -1.2964482536527433,
          1.466932859869416,
          1.138962013851952,
          0.4980801447568573,
          1.6032529424100892,
          -0.3434705413925944,
          -0.4314394981069506,
          -0.4718651054692796,
          -2.176081195391494,
          -0.4843139984008415,
          -0.5920273380597912,
          -0.5227207238304532,
          0.5926508580560483,
          -0.429051904089719,
          0.6569896275867015,
          1.7338054889903347,
          -1.8873414584768677,
          -0.9113554907885516,
          0.2599158976535608
         ],
         "xaxis": "x14",
         "y": [
          1.2101398908133165,
          0.13635957025796977,
          2.1905231572647677,
          -0.4094932919898077,
          -0.3719867102724542,
          -1.698863802225874,
          1.0720603281458452,
          -0.04884579380315829,
          0.3520251677800174,
          -0.050786665944431514,
          1.9919596653095484,
          0.0076299031856295555,
          0.612288221996455,
          -0.6250653216674991,
          0.8932792492386356,
          0.44086750492679483,
          0.13145624625172503,
          -0.6239924999314912,
          0.3115550575145953,
          0.4704557052624782,
          1.6014390879358784,
          -0.6103090759138216,
          -0.06369678766796431,
          -1.3400231949710382,
          -1.0011016048785424,
          -1.05942227761927,
          -1.082465664061321,
          -1.0362857431674113,
          0.728205944656403,
          -1.3138364398452524,
          0.9028055932576768,
          2.2820963209146865,
          0.5825457608976803,
          0.44168823311486277,
          -0.6180400543628084,
          0.20550615894038707,
          -0.566625718392528,
          0.588867295487124,
          -0.7814863742659657,
          0.2088150083175389,
          0.2712189292641885,
          1.0080451261778702,
          0.9198073760959197,
          -0.21160871568750625,
          0.9471005905349884,
          0.5546643197501453,
          -0.9412177495896674,
          0.12099080452017884,
          0.7053176604162875,
          1.554052374787565,
          0.38336548453547953,
          0.11940458470979412,
          -0.29860935986853726,
          -0.43255531317600315,
          0.6324137696781059,
          0.0766219170804827,
          1.4226312405505745,
          0.030003267754663058,
          -1.2769730159611434,
          -0.723478072941893,
          -1.7260064617670847,
          0.9811419682076121,
          -2.06783749498083,
          -0.8939542857197509,
          -2.2540571561363403,
          -1.4259802492018168,
          -0.5320075047461356,
          -1.515811089911523,
          -0.7215280082437434,
          2.1282125070998505,
          -0.03903507733278754,
          -1.3950234747939938,
          -0.14096685406236814,
          0.23135609461367232,
          0.5250304234167503,
          1.802981728444306,
          -0.0468162189899403,
          -1.769035777012729,
          -1.6278107483740112,
          -1.6314168896665002,
          0.753991614046415,
          1.033180829624629,
          0.6023574170852904,
          -1.4670402369359343,
          0.2678472344711301,
          1.818071178134226,
          -0.9955878234584558,
          -0.22847136673346932,
          0.0762818605952403,
          0.1291634136540693,
          1.6225066766975573,
          -0.475721530759489,
          -1.5489439310204933,
          0.17981725953923663,
          1.2638373207974998,
          -0.1364912051803669,
          -0.33326882623264054,
          -0.44617453940382784,
          1.0240512252251484,
          -1.08638069206843
         ],
         "yaxis": "y14"
        },
        {
         "line": {
          "color": "rgba(128, 128, 128, 1.0)",
          "dash": "solid",
          "shape": "linear",
          "width": 1.3
         },
         "marker": {
          "size": 2,
          "symbol": "circle"
         },
         "mode": "markers",
         "name": "D",
         "text": "",
         "type": "scatter",
         "x": [
          -0.873369070597386,
          -0.38797255257445085,
          1.0682243918353338,
          -1.2790930718167783,
          1.0761302314217276,
          -1.0857807523120895,
          0.6976922422721356,
          -0.20764530220173733,
          0.7380926789497732,
          0.637733307300874,
          0.11612524220817805,
          2.9265206893023383,
          -0.5040016539640569,
          -0.09391022352662393,
          -0.22077641685397564,
          0.5726701575040741,
          -0.23255048921233717,
          -0.386545526538195,
          -0.06329106479067616,
          -0.8235676011447217,
          -1.8865971054068813,
          -0.6980099173578493,
          -1.2575289971325572,
          0.3671526137423293,
          1.352426245082499,
          0.06723238281656134,
          -0.5626870446525274,
          0.9047024466505087,
          1.9480451488617643,
          -1.1443375473424668,
          -0.09186773503596642,
          0.775654390735632,
          0.5185977601455729,
          -1.0153910692794177,
          1.9003170260405222,
          -0.6192891766001604,
          -1.5741127731567324,
          0.061034838680466774,
          1.8287336241254994,
          -0.41340617037139815,
          -0.9251977571498682,
          -1.3024323490176417,
          -1.3399259704825603,
          1.3311280598564057,
          -0.025507113005817896,
          -0.6978799173452859,
          1.917274538094662,
          -0.11655301971239401,
          1.0004285703033267,
          -0.4880985328688754,
          0.6917315759162503,
          -0.04200586024394621,
          1.3050923316231533,
          -0.6645346672012342,
          1.7271876015869112,
          0.24499633854213249,
          -1.395438954157734,
          1.7791942754672483,
          -0.1247797070026459,
          -0.2984251985318188,
          0.0630317942551919,
          -1.2389540771900844,
          -1.3189514123527615,
          -0.15928990030484616,
          0.22194516169594103,
          1.8614284686780065,
          -1.3497970255188065,
          -0.08417264575481272,
          -1.395189580530213,
          -0.662117909689395,
          1.357690057741097,
          0.4371849418412773,
          -0.9918817891272562,
          -0.9130202377705492,
          -0.693283281399948,
          0.4164994399875994,
          1.442084430089679,
          -0.07772004791377678,
          0.40255052232406985,
          1.2468872830528268,
          -0.0025977803496521263,
          -1.9860720074503646,
          1.4269136619370792,
          0.30877766394215556,
          0.077918893410345,
          -1.305629015855808,
          -0.3870991945207361,
          -0.49997182400035134,
          0.3001251054451142,
          0.2800716784649497,
          -0.7268088747459226,
          -0.17187034779755236,
          0.9988509470232919,
          0.7732728754145628,
          -0.8116839420485217,
          1.1119549255717927,
          0.9976389223060625,
          -0.915553232348906,
          -0.47427309014068175,
          1.8010205813686537
         ],
         "xaxis": "x15",
         "y": [
          1.2101398908133165,
          0.13635957025796977,
          2.1905231572647677,
          -0.4094932919898077,
          -0.3719867102724542,
          -1.698863802225874,
          1.0720603281458452,
          -0.04884579380315829,
          0.3520251677800174,
          -0.050786665944431514,
          1.9919596653095484,
          0.0076299031856295555,
          0.612288221996455,
          -0.6250653216674991,
          0.8932792492386356,
          0.44086750492679483,
          0.13145624625172503,
          -0.6239924999314912,
          0.3115550575145953,
          0.4704557052624782,
          1.6014390879358784,
          -0.6103090759138216,
          -0.06369678766796431,
          -1.3400231949710382,
          -1.0011016048785424,
          -1.05942227761927,
          -1.082465664061321,
          -1.0362857431674113,
          0.728205944656403,
          -1.3138364398452524,
          0.9028055932576768,
          2.2820963209146865,
          0.5825457608976803,
          0.44168823311486277,
          -0.6180400543628084,
          0.20550615894038707,
          -0.566625718392528,
          0.588867295487124,
          -0.7814863742659657,
          0.2088150083175389,
          0.2712189292641885,
          1.0080451261778702,
          0.9198073760959197,
          -0.21160871568750625,
          0.9471005905349884,
          0.5546643197501453,
          -0.9412177495896674,
          0.12099080452017884,
          0.7053176604162875,
          1.554052374787565,
          0.38336548453547953,
          0.11940458470979412,
          -0.29860935986853726,
          -0.43255531317600315,
          0.6324137696781059,
          0.0766219170804827,
          1.4226312405505745,
          0.030003267754663058,
          -1.2769730159611434,
          -0.723478072941893,
          -1.7260064617670847,
          0.9811419682076121,
          -2.06783749498083,
          -0.8939542857197509,
          -2.2540571561363403,
          -1.4259802492018168,
          -0.5320075047461356,
          -1.515811089911523,
          -0.7215280082437434,
          2.1282125070998505,
          -0.03903507733278754,
          -1.3950234747939938,
          -0.14096685406236814,
          0.23135609461367232,
          0.5250304234167503,
          1.802981728444306,
          -0.0468162189899403,
          -1.769035777012729,
          -1.6278107483740112,
          -1.6314168896665002,
          0.753991614046415,
          1.033180829624629,
          0.6023574170852904,
          -1.4670402369359343,
          0.2678472344711301,
          1.818071178134226,
          -0.9955878234584558,
          -0.22847136673346932,
          0.0762818605952403,
          0.1291634136540693,
          1.6225066766975573,
          -0.475721530759489,
          -1.5489439310204933,
          0.17981725953923663,
          1.2638373207974998,
          -0.1364912051803669,
          -0.33326882623264054,
          -0.44617453940382784,
          1.0240512252251484,
          -1.08638069206843
         ],
         "yaxis": "y15"
        },
        {
         "histfunc": "count",
         "histnorm": "",
         "marker": {
          "color": "rgba(128, 0, 128, 1.0)",
          "line": {
           "color": "#4D5663",
           "width": 1.3
          }
         },
         "name": "D",
         "nbinsx": 10,
         "opacity": 0.8,
         "orientation": "v",
         "type": "histogram",
         "x": [
          1.2101398908133165,
          0.13635957025796977,
          2.1905231572647677,
          -0.4094932919898077,
          -0.3719867102724542,
          -1.698863802225874,
          1.0720603281458452,
          -0.04884579380315829,
          0.3520251677800174,
          -0.050786665944431514,
          1.9919596653095484,
          0.0076299031856295555,
          0.612288221996455,
          -0.6250653216674991,
          0.8932792492386356,
          0.44086750492679483,
          0.13145624625172503,
          -0.6239924999314912,
          0.3115550575145953,
          0.4704557052624782,
          1.6014390879358784,
          -0.6103090759138216,
          -0.06369678766796431,
          -1.3400231949710382,
          -1.0011016048785424,
          -1.05942227761927,
          -1.082465664061321,
          -1.0362857431674113,
          0.728205944656403,
          -1.3138364398452524,
          0.9028055932576768,
          2.2820963209146865,
          0.5825457608976803,
          0.44168823311486277,
          -0.6180400543628084,
          0.20550615894038707,
          -0.566625718392528,
          0.588867295487124,
          -0.7814863742659657,
          0.2088150083175389,
          0.2712189292641885,
          1.0080451261778702,
          0.9198073760959197,
          -0.21160871568750625,
          0.9471005905349884,
          0.5546643197501453,
          -0.9412177495896674,
          0.12099080452017884,
          0.7053176604162875,
          1.554052374787565,
          0.38336548453547953,
          0.11940458470979412,
          -0.29860935986853726,
          -0.43255531317600315,
          0.6324137696781059,
          0.0766219170804827,
          1.4226312405505745,
          0.030003267754663058,
          -1.2769730159611434,
          -0.723478072941893,
          -1.7260064617670847,
          0.9811419682076121,
          -2.06783749498083,
          -0.8939542857197509,
          -2.2540571561363403,
          -1.4259802492018168,
          -0.5320075047461356,
          -1.515811089911523,
          -0.7215280082437434,
          2.1282125070998505,
          -0.03903507733278754,
          -1.3950234747939938,
          -0.14096685406236814,
          0.23135609461367232,
          0.5250304234167503,
          1.802981728444306,
          -0.0468162189899403,
          -1.769035777012729,
          -1.6278107483740112,
          -1.6314168896665002,
          0.753991614046415,
          1.033180829624629,
          0.6023574170852904,
          -1.4670402369359343,
          0.2678472344711301,
          1.818071178134226,
          -0.9955878234584558,
          -0.22847136673346932,
          0.0762818605952403,
          0.1291634136540693,
          1.6225066766975573,
          -0.475721530759489,
          -1.5489439310204933,
          0.17981725953923663,
          1.2638373207974998,
          -0.1364912051803669,
          -0.33326882623264054,
          -0.44617453940382784,
          1.0240512252251484,
          -1.08638069206843
         ],
         "xaxis": "x16",
         "yaxis": "y16"
        }
       ],
       "layout": {
        "bargap": 0.02,
        "legend": {
         "bgcolor": "#F5F6F9",
         "font": {
          "color": "#4D5663"
         }
        },
        "paper_bgcolor": "#F5F6F9",
        "plot_bgcolor": "#F5F6F9",
        "showlegend": false,
        "template": {
         "data": {
          "bar": [
           {
            "error_x": {
             "color": "#2a3f5f"
            },
            "error_y": {
             "color": "#2a3f5f"
            },
            "marker": {
             "line": {
              "color": "#E5ECF6",
              "width": 0.5
             }
            },
            "type": "bar"
           }
          ],
          "barpolar": [
           {
            "marker": {
             "line": {
              "color": "#E5ECF6",
              "width": 0.5
             }
            },
            "type": "barpolar"
           }
          ],
          "carpet": [
           {
            "aaxis": {
             "endlinecolor": "#2a3f5f",
             "gridcolor": "white",
             "linecolor": "white",
             "minorgridcolor": "white",
             "startlinecolor": "#2a3f5f"
            },
            "baxis": {
             "endlinecolor": "#2a3f5f",
             "gridcolor": "white",
             "linecolor": "white",
             "minorgridcolor": "white",
             "startlinecolor": "#2a3f5f"
            },
            "type": "carpet"
           }
          ],
          "choropleth": [
           {
            "colorbar": {
             "outlinewidth": 0,
             "ticks": ""
            },
            "type": "choropleth"
           }
          ],
          "contour": [
           {
            "colorbar": {
             "outlinewidth": 0,
             "ticks": ""
            },
            "colorscale": [
             [
              0,
              "#0d0887"
             ],
             [
              0.1111111111111111,
              "#46039f"
             ],
             [
              0.2222222222222222,
              "#7201a8"
             ],
             [
              0.3333333333333333,
              "#9c179e"
             ],
             [
              0.4444444444444444,
              "#bd3786"
             ],
             [
              0.5555555555555556,
              "#d8576b"
             ],
             [
              0.6666666666666666,
              "#ed7953"
             ],
             [
              0.7777777777777778,
              "#fb9f3a"
             ],
             [
              0.8888888888888888,
              "#fdca26"
             ],
             [
              1,
              "#f0f921"
             ]
            ],
            "type": "contour"
           }
          ],
          "contourcarpet": [
           {
            "colorbar": {
             "outlinewidth": 0,
             "ticks": ""
            },
            "type": "contourcarpet"
           }
          ],
          "heatmap": [
           {
            "colorbar": {
             "outlinewidth": 0,
             "ticks": ""
            },
            "colorscale": [
             [
              0,
              "#0d0887"
             ],
             [
              0.1111111111111111,
              "#46039f"
             ],
             [
              0.2222222222222222,
              "#7201a8"
             ],
             [
              0.3333333333333333,
              "#9c179e"
             ],
             [
              0.4444444444444444,
              "#bd3786"
             ],
             [
              0.5555555555555556,
              "#d8576b"
             ],
             [
              0.6666666666666666,
              "#ed7953"
             ],
             [
              0.7777777777777778,
              "#fb9f3a"
             ],
             [
              0.8888888888888888,
              "#fdca26"
             ],
             [
              1,
              "#f0f921"
             ]
            ],
            "type": "heatmap"
           }
          ],
          "heatmapgl": [
           {
            "colorbar": {
             "outlinewidth": 0,
             "ticks": ""
            },
            "colorscale": [
             [
              0,
              "#0d0887"
             ],
             [
              0.1111111111111111,
              "#46039f"
             ],
             [
              0.2222222222222222,
              "#7201a8"
             ],
             [
              0.3333333333333333,
              "#9c179e"
             ],
             [
              0.4444444444444444,
              "#bd3786"
             ],
             [
              0.5555555555555556,
              "#d8576b"
             ],
             [
              0.6666666666666666,
              "#ed7953"
             ],
             [
              0.7777777777777778,
              "#fb9f3a"
             ],
             [
              0.8888888888888888,
              "#fdca26"
             ],
             [
              1,
              "#f0f921"
             ]
            ],
            "type": "heatmapgl"
           }
          ],
          "histogram": [
           {
            "marker": {
             "colorbar": {
              "outlinewidth": 0,
              "ticks": ""
             }
            },
            "type": "histogram"
           }
          ],
          "histogram2d": [
           {
            "colorbar": {
             "outlinewidth": 0,
             "ticks": ""
            },
            "colorscale": [
             [
              0,
              "#0d0887"
             ],
             [
              0.1111111111111111,
              "#46039f"
             ],
             [
              0.2222222222222222,
              "#7201a8"
             ],
             [
              0.3333333333333333,
              "#9c179e"
             ],
             [
              0.4444444444444444,
              "#bd3786"
             ],
             [
              0.5555555555555556,
              "#d8576b"
             ],
             [
              0.6666666666666666,
              "#ed7953"
             ],
             [
              0.7777777777777778,
              "#fb9f3a"
             ],
             [
              0.8888888888888888,
              "#fdca26"
             ],
             [
              1,
              "#f0f921"
             ]
            ],
            "type": "histogram2d"
           }
          ],
          "histogram2dcontour": [
           {
            "colorbar": {
             "outlinewidth": 0,
             "ticks": ""
            },
            "colorscale": [
             [
              0,
              "#0d0887"
             ],
             [
              0.1111111111111111,
              "#46039f"
             ],
             [
              0.2222222222222222,
              "#7201a8"
             ],
             [
              0.3333333333333333,
              "#9c179e"
             ],
             [
              0.4444444444444444,
              "#bd3786"
             ],
             [
              0.5555555555555556,
              "#d8576b"
             ],
             [
              0.6666666666666666,
              "#ed7953"
             ],
             [
              0.7777777777777778,
              "#fb9f3a"
             ],
             [
              0.8888888888888888,
              "#fdca26"
             ],
             [
              1,
              "#f0f921"
             ]
            ],
            "type": "histogram2dcontour"
           }
          ],
          "mesh3d": [
           {
            "colorbar": {
             "outlinewidth": 0,
             "ticks": ""
            },
            "type": "mesh3d"
           }
          ],
          "parcoords": [
           {
            "line": {
             "colorbar": {
              "outlinewidth": 0,
              "ticks": ""
             }
            },
            "type": "parcoords"
           }
          ],
          "pie": [
           {
            "automargin": true,
            "type": "pie"
           }
          ],
          "scatter": [
           {
            "marker": {
             "colorbar": {
              "outlinewidth": 0,
              "ticks": ""
             }
            },
            "type": "scatter"
           }
          ],
          "scatter3d": [
           {
            "line": {
             "colorbar": {
              "outlinewidth": 0,
              "ticks": ""
             }
            },
            "marker": {
             "colorbar": {
              "outlinewidth": 0,
              "ticks": ""
             }
            },
            "type": "scatter3d"
           }
          ],
          "scattercarpet": [
           {
            "marker": {
             "colorbar": {
              "outlinewidth": 0,
              "ticks": ""
             }
            },
            "type": "scattercarpet"
           }
          ],
          "scattergeo": [
           {
            "marker": {
             "colorbar": {
              "outlinewidth": 0,
              "ticks": ""
             }
            },
            "type": "scattergeo"
           }
          ],
          "scattergl": [
           {
            "marker": {
             "colorbar": {
              "outlinewidth": 0,
              "ticks": ""
             }
            },
            "type": "scattergl"
           }
          ],
          "scattermapbox": [
           {
            "marker": {
             "colorbar": {
              "outlinewidth": 0,
              "ticks": ""
             }
            },
            "type": "scattermapbox"
           }
          ],
          "scatterpolar": [
           {
            "marker": {
             "colorbar": {
              "outlinewidth": 0,
              "ticks": ""
             }
            },
            "type": "scatterpolar"
           }
          ],
          "scatterpolargl": [
           {
            "marker": {
             "colorbar": {
              "outlinewidth": 0,
              "ticks": ""
             }
            },
            "type": "scatterpolargl"
           }
          ],
          "scatterternary": [
           {
            "marker": {
             "colorbar": {
              "outlinewidth": 0,
              "ticks": ""
             }
            },
            "type": "scatterternary"
           }
          ],
          "surface": [
           {
            "colorbar": {
             "outlinewidth": 0,
             "ticks": ""
            },
            "colorscale": [
             [
              0,
              "#0d0887"
             ],
             [
              0.1111111111111111,
              "#46039f"
             ],
             [
              0.2222222222222222,
              "#7201a8"
             ],
             [
              0.3333333333333333,
              "#9c179e"
             ],
             [
              0.4444444444444444,
              "#bd3786"
             ],
             [
              0.5555555555555556,
              "#d8576b"
             ],
             [
              0.6666666666666666,
              "#ed7953"
             ],
             [
              0.7777777777777778,
              "#fb9f3a"
             ],
             [
              0.8888888888888888,
              "#fdca26"
             ],
             [
              1,
              "#f0f921"
             ]
            ],
            "type": "surface"
           }
          ],
          "table": [
           {
            "cells": {
             "fill": {
              "color": "#EBF0F8"
             },
             "line": {
              "color": "white"
             }
            },
            "header": {
             "fill": {
              "color": "#C8D4E3"
             },
             "line": {
              "color": "white"
             }
            },
            "type": "table"
           }
          ]
         },
         "layout": {
          "annotationdefaults": {
           "arrowcolor": "#2a3f5f",
           "arrowhead": 0,
           "arrowwidth": 1
          },
          "autotypenumbers": "strict",
          "coloraxis": {
           "colorbar": {
            "outlinewidth": 0,
            "ticks": ""
           }
          },
          "colorscale": {
           "diverging": [
            [
             0,
             "#8e0152"
            ],
            [
             0.1,
             "#c51b7d"
            ],
            [
             0.2,
             "#de77ae"
            ],
            [
             0.3,
             "#f1b6da"
            ],
            [
             0.4,
             "#fde0ef"
            ],
            [
             0.5,
             "#f7f7f7"
            ],
            [
             0.6,
             "#e6f5d0"
            ],
            [
             0.7,
             "#b8e186"
            ],
            [
             0.8,
             "#7fbc41"
            ],
            [
             0.9,
             "#4d9221"
            ],
            [
             1,
             "#276419"
            ]
           ],
           "sequential": [
            [
             0,
             "#0d0887"
            ],
            [
             0.1111111111111111,
             "#46039f"
            ],
            [
             0.2222222222222222,
             "#7201a8"
            ],
            [
             0.3333333333333333,
             "#9c179e"
            ],
            [
             0.4444444444444444,
             "#bd3786"
            ],
            [
             0.5555555555555556,
             "#d8576b"
            ],
            [
             0.6666666666666666,
             "#ed7953"
            ],
            [
             0.7777777777777778,
             "#fb9f3a"
            ],
            [
             0.8888888888888888,
             "#fdca26"
            ],
            [
             1,
             "#f0f921"
            ]
           ],
           "sequentialminus": [
            [
             0,
             "#0d0887"
            ],
            [
             0.1111111111111111,
             "#46039f"
            ],
            [
             0.2222222222222222,
             "#7201a8"
            ],
            [
             0.3333333333333333,
             "#9c179e"
            ],
            [
             0.4444444444444444,
             "#bd3786"
            ],
            [
             0.5555555555555556,
             "#d8576b"
            ],
            [
             0.6666666666666666,
             "#ed7953"
            ],
            [
             0.7777777777777778,
             "#fb9f3a"
            ],
            [
             0.8888888888888888,
             "#fdca26"
            ],
            [
             1,
             "#f0f921"
            ]
           ]
          },
          "colorway": [
           "#636efa",
           "#EF553B",
           "#00cc96",
           "#ab63fa",
           "#FFA15A",
           "#19d3f3",
           "#FF6692",
           "#B6E880",
           "#FF97FF",
           "#FECB52"
          ],
          "font": {
           "color": "#2a3f5f"
          },
          "geo": {
           "bgcolor": "white",
           "lakecolor": "white",
           "landcolor": "#E5ECF6",
           "showlakes": true,
           "showland": true,
           "subunitcolor": "white"
          },
          "hoverlabel": {
           "align": "left"
          },
          "hovermode": "closest",
          "mapbox": {
           "style": "light"
          },
          "paper_bgcolor": "white",
          "plot_bgcolor": "#E5ECF6",
          "polar": {
           "angularaxis": {
            "gridcolor": "white",
            "linecolor": "white",
            "ticks": ""
           },
           "bgcolor": "#E5ECF6",
           "radialaxis": {
            "gridcolor": "white",
            "linecolor": "white",
            "ticks": ""
           }
          },
          "scene": {
           "xaxis": {
            "backgroundcolor": "#E5ECF6",
            "gridcolor": "white",
            "gridwidth": 2,
            "linecolor": "white",
            "showbackground": true,
            "ticks": "",
            "zerolinecolor": "white"
           },
           "yaxis": {
            "backgroundcolor": "#E5ECF6",
            "gridcolor": "white",
            "gridwidth": 2,
            "linecolor": "white",
            "showbackground": true,
            "ticks": "",
            "zerolinecolor": "white"
           },
           "zaxis": {
            "backgroundcolor": "#E5ECF6",
            "gridcolor": "white",
            "gridwidth": 2,
            "linecolor": "white",
            "showbackground": true,
            "ticks": "",
            "zerolinecolor": "white"
           }
          },
          "shapedefaults": {
           "line": {
            "color": "#2a3f5f"
           }
          },
          "ternary": {
           "aaxis": {
            "gridcolor": "white",
            "linecolor": "white",
            "ticks": ""
           },
           "baxis": {
            "gridcolor": "white",
            "linecolor": "white",
            "ticks": ""
           },
           "bgcolor": "#E5ECF6",
           "caxis": {
            "gridcolor": "white",
            "linecolor": "white",
            "ticks": ""
           }
          },
          "title": {
           "x": 0.05
          },
          "xaxis": {
           "automargin": true,
           "gridcolor": "white",
           "linecolor": "white",
           "ticks": "",
           "title": {
            "standoff": 15
           },
           "zerolinecolor": "white",
           "zerolinewidth": 2
          },
          "yaxis": {
           "automargin": true,
           "gridcolor": "white",
           "linecolor": "white",
           "ticks": "",
           "title": {
            "standoff": 15
           },
           "zerolinecolor": "white",
           "zerolinewidth": 2
          }
         }
        },
        "title": {
         "font": {
          "color": "#4D5663"
         }
        },
        "xaxis": {
         "anchor": "y",
         "domain": [
          0,
          0.2125
         ],
         "gridcolor": "#E1E5ED",
         "showgrid": false,
         "tickfont": {
          "color": "#4D5663"
         },
         "title": {
          "font": {
           "color": "#4D5663"
          },
          "text": ""
         },
         "zerolinecolor": "#E1E5ED"
        },
        "xaxis10": {
         "anchor": "y10",
         "domain": [
          0.2625,
          0.475
         ],
         "gridcolor": "#E1E5ED",
         "showgrid": false,
         "tickfont": {
          "color": "#4D5663"
         },
         "title": {
          "font": {
           "color": "#4D5663"
          },
          "text": ""
         },
         "zerolinecolor": "#E1E5ED"
        },
        "xaxis11": {
         "anchor": "y11",
         "domain": [
          0.525,
          0.7375
         ],
         "gridcolor": "#E1E5ED",
         "showgrid": false,
         "tickfont": {
          "color": "#4D5663"
         },
         "title": {
          "font": {
           "color": "#4D5663"
          },
          "text": ""
         },
         "zerolinecolor": "#E1E5ED"
        },
        "xaxis12": {
         "anchor": "y12",
         "domain": [
          0.7875,
          1
         ],
         "gridcolor": "#E1E5ED",
         "showgrid": false,
         "tickfont": {
          "color": "#4D5663"
         },
         "title": {
          "font": {
           "color": "#4D5663"
          },
          "text": ""
         },
         "zerolinecolor": "#E1E5ED"
        },
        "xaxis13": {
         "anchor": "y13",
         "domain": [
          0,
          0.2125
         ],
         "gridcolor": "#E1E5ED",
         "showgrid": false,
         "tickfont": {
          "color": "#4D5663"
         },
         "title": {
          "font": {
           "color": "#4D5663"
          },
          "text": ""
         },
         "zerolinecolor": "#E1E5ED"
        },
        "xaxis14": {
         "anchor": "y14",
         "domain": [
          0.2625,
          0.475
         ],
         "gridcolor": "#E1E5ED",
         "showgrid": false,
         "tickfont": {
          "color": "#4D5663"
         },
         "title": {
          "font": {
           "color": "#4D5663"
          },
          "text": ""
         },
         "zerolinecolor": "#E1E5ED"
        },
        "xaxis15": {
         "anchor": "y15",
         "domain": [
          0.525,
          0.7375
         ],
         "gridcolor": "#E1E5ED",
         "showgrid": false,
         "tickfont": {
          "color": "#4D5663"
         },
         "title": {
          "font": {
           "color": "#4D5663"
          },
          "text": ""
         },
         "zerolinecolor": "#E1E5ED"
        },
        "xaxis16": {
         "anchor": "y16",
         "domain": [
          0.7875,
          1
         ],
         "gridcolor": "#E1E5ED",
         "showgrid": false,
         "tickfont": {
          "color": "#4D5663"
         },
         "title": {
          "font": {
           "color": "#4D5663"
          },
          "text": ""
         },
         "zerolinecolor": "#E1E5ED"
        },
        "xaxis2": {
         "anchor": "y2",
         "domain": [
          0.2625,
          0.475
         ],
         "gridcolor": "#E1E5ED",
         "showgrid": false,
         "tickfont": {
          "color": "#4D5663"
         },
         "title": {
          "font": {
           "color": "#4D5663"
          },
          "text": ""
         },
         "zerolinecolor": "#E1E5ED"
        },
        "xaxis3": {
         "anchor": "y3",
         "domain": [
          0.525,
          0.7375
         ],
         "gridcolor": "#E1E5ED",
         "showgrid": false,
         "tickfont": {
          "color": "#4D5663"
         },
         "title": {
          "font": {
           "color": "#4D5663"
          },
          "text": ""
         },
         "zerolinecolor": "#E1E5ED"
        },
        "xaxis4": {
         "anchor": "y4",
         "domain": [
          0.7875,
          1
         ],
         "gridcolor": "#E1E5ED",
         "showgrid": false,
         "tickfont": {
          "color": "#4D5663"
         },
         "title": {
          "font": {
           "color": "#4D5663"
          },
          "text": ""
         },
         "zerolinecolor": "#E1E5ED"
        },
        "xaxis5": {
         "anchor": "y5",
         "domain": [
          0,
          0.2125
         ],
         "gridcolor": "#E1E5ED",
         "showgrid": false,
         "tickfont": {
          "color": "#4D5663"
         },
         "title": {
          "font": {
           "color": "#4D5663"
          },
          "text": ""
         },
         "zerolinecolor": "#E1E5ED"
        },
        "xaxis6": {
         "anchor": "y6",
         "domain": [
          0.2625,
          0.475
         ],
         "gridcolor": "#E1E5ED",
         "showgrid": false,
         "tickfont": {
          "color": "#4D5663"
         },
         "title": {
          "font": {
           "color": "#4D5663"
          },
          "text": ""
         },
         "zerolinecolor": "#E1E5ED"
        },
        "xaxis7": {
         "anchor": "y7",
         "domain": [
          0.525,
          0.7375
         ],
         "gridcolor": "#E1E5ED",
         "showgrid": false,
         "tickfont": {
          "color": "#4D5663"
         },
         "title": {
          "font": {
           "color": "#4D5663"
          },
          "text": ""
         },
         "zerolinecolor": "#E1E5ED"
        },
        "xaxis8": {
         "anchor": "y8",
         "domain": [
          0.7875,
          1
         ],
         "gridcolor": "#E1E5ED",
         "showgrid": false,
         "tickfont": {
          "color": "#4D5663"
         },
         "title": {
          "font": {
           "color": "#4D5663"
          },
          "text": ""
         },
         "zerolinecolor": "#E1E5ED"
        },
        "xaxis9": {
         "anchor": "y9",
         "domain": [
          0,
          0.2125
         ],
         "gridcolor": "#E1E5ED",
         "showgrid": false,
         "tickfont": {
          "color": "#4D5663"
         },
         "title": {
          "font": {
           "color": "#4D5663"
          },
          "text": ""
         },
         "zerolinecolor": "#E1E5ED"
        },
        "yaxis": {
         "anchor": "x",
         "domain": [
          0.8025,
          1
         ],
         "gridcolor": "#E1E5ED",
         "showgrid": false,
         "tickfont": {
          "color": "#4D5663"
         },
         "title": {
          "font": {
           "color": "#4D5663"
          },
          "text": ""
         },
         "zerolinecolor": "#E1E5ED"
        },
        "yaxis10": {
         "anchor": "x10",
         "domain": [
          0.2675,
          0.465
         ],
         "gridcolor": "#E1E5ED",
         "showgrid": false,
         "tickfont": {
          "color": "#4D5663"
         },
         "title": {
          "font": {
           "color": "#4D5663"
          },
          "text": ""
         },
         "zerolinecolor": "#E1E5ED"
        },
        "yaxis11": {
         "anchor": "x11",
         "domain": [
          0.2675,
          0.465
         ],
         "gridcolor": "#E1E5ED",
         "showgrid": false,
         "tickfont": {
          "color": "#4D5663"
         },
         "title": {
          "font": {
           "color": "#4D5663"
          },
          "text": ""
         },
         "zerolinecolor": "#E1E5ED"
        },
        "yaxis12": {
         "anchor": "x12",
         "domain": [
          0.2675,
          0.465
         ],
         "gridcolor": "#E1E5ED",
         "showgrid": false,
         "tickfont": {
          "color": "#4D5663"
         },
         "title": {
          "font": {
           "color": "#4D5663"
          },
          "text": ""
         },
         "zerolinecolor": "#E1E5ED"
        },
        "yaxis13": {
         "anchor": "x13",
         "domain": [
          0,
          0.1975
         ],
         "gridcolor": "#E1E5ED",
         "showgrid": false,
         "tickfont": {
          "color": "#4D5663"
         },
         "title": {
          "font": {
           "color": "#4D5663"
          },
          "text": ""
         },
         "zerolinecolor": "#E1E5ED"
        },
        "yaxis14": {
         "anchor": "x14",
         "domain": [
          0,
          0.1975
         ],
         "gridcolor": "#E1E5ED",
         "showgrid": false,
         "tickfont": {
          "color": "#4D5663"
         },
         "title": {
          "font": {
           "color": "#4D5663"
          },
          "text": ""
         },
         "zerolinecolor": "#E1E5ED"
        },
        "yaxis15": {
         "anchor": "x15",
         "domain": [
          0,
          0.1975
         ],
         "gridcolor": "#E1E5ED",
         "showgrid": false,
         "tickfont": {
          "color": "#4D5663"
         },
         "title": {
          "font": {
           "color": "#4D5663"
          },
          "text": ""
         },
         "zerolinecolor": "#E1E5ED"
        },
        "yaxis16": {
         "anchor": "x16",
         "domain": [
          0,
          0.1975
         ],
         "gridcolor": "#E1E5ED",
         "showgrid": false,
         "tickfont": {
          "color": "#4D5663"
         },
         "title": {
          "font": {
           "color": "#4D5663"
          },
          "text": ""
         },
         "zerolinecolor": "#E1E5ED"
        },
        "yaxis2": {
         "anchor": "x2",
         "domain": [
          0.8025,
          1
         ],
         "gridcolor": "#E1E5ED",
         "showgrid": false,
         "tickfont": {
          "color": "#4D5663"
         },
         "title": {
          "font": {
           "color": "#4D5663"
          },
          "text": ""
         },
         "zerolinecolor": "#E1E5ED"
        },
        "yaxis3": {
         "anchor": "x3",
         "domain": [
          0.8025,
          1
         ],
         "gridcolor": "#E1E5ED",
         "showgrid": false,
         "tickfont": {
          "color": "#4D5663"
         },
         "title": {
          "font": {
           "color": "#4D5663"
          },
          "text": ""
         },
         "zerolinecolor": "#E1E5ED"
        },
        "yaxis4": {
         "anchor": "x4",
         "domain": [
          0.8025,
          1
         ],
         "gridcolor": "#E1E5ED",
         "showgrid": false,
         "tickfont": {
          "color": "#4D5663"
         },
         "title": {
          "font": {
           "color": "#4D5663"
          },
          "text": ""
         },
         "zerolinecolor": "#E1E5ED"
        },
        "yaxis5": {
         "anchor": "x5",
         "domain": [
          0.535,
          0.7325
         ],
         "gridcolor": "#E1E5ED",
         "showgrid": false,
         "tickfont": {
          "color": "#4D5663"
         },
         "title": {
          "font": {
           "color": "#4D5663"
          },
          "text": ""
         },
         "zerolinecolor": "#E1E5ED"
        },
        "yaxis6": {
         "anchor": "x6",
         "domain": [
          0.535,
          0.7325
         ],
         "gridcolor": "#E1E5ED",
         "showgrid": false,
         "tickfont": {
          "color": "#4D5663"
         },
         "title": {
          "font": {
           "color": "#4D5663"
          },
          "text": ""
         },
         "zerolinecolor": "#E1E5ED"
        },
        "yaxis7": {
         "anchor": "x7",
         "domain": [
          0.535,
          0.7325
         ],
         "gridcolor": "#E1E5ED",
         "showgrid": false,
         "tickfont": {
          "color": "#4D5663"
         },
         "title": {
          "font": {
           "color": "#4D5663"
          },
          "text": ""
         },
         "zerolinecolor": "#E1E5ED"
        },
        "yaxis8": {
         "anchor": "x8",
         "domain": [
          0.535,
          0.7325
         ],
         "gridcolor": "#E1E5ED",
         "showgrid": false,
         "tickfont": {
          "color": "#4D5663"
         },
         "title": {
          "font": {
           "color": "#4D5663"
          },
          "text": ""
         },
         "zerolinecolor": "#E1E5ED"
        },
        "yaxis9": {
         "anchor": "x9",
         "domain": [
          0.2675,
          0.465
         ],
         "gridcolor": "#E1E5ED",
         "showgrid": false,
         "tickfont": {
          "color": "#4D5663"
         },
         "title": {
          "font": {
           "color": "#4D5663"
          },
          "text": ""
         },
         "zerolinecolor": "#E1E5ED"
        }
       }
      },
      "text/html": [
       "<div>                            <div id=\"5f490840-c199-4173-b3b9-2c4bcfb2b70d\" class=\"plotly-graph-div\" style=\"height:525px; width:100%;\"></div>            <script type=\"text/javascript\">                require([\"plotly\"], function(Plotly) {                    window.PLOTLYENV=window.PLOTLYENV || {};\n",
       "                    window.PLOTLYENV.BASE_URL='https://plot.ly';                                    if (document.getElementById(\"5f490840-c199-4173-b3b9-2c4bcfb2b70d\")) {                    Plotly.newPlot(                        \"5f490840-c199-4173-b3b9-2c4bcfb2b70d\",                        [{\"histfunc\": \"count\", \"histnorm\": \"\", \"marker\": {\"color\": \"rgba(255, 153, 51, 1.0)\", \"line\": {\"color\": \"#4D5663\", \"width\": 1.3}}, \"name\": \"A\", \"nbinsx\": 10, \"opacity\": 0.8, \"orientation\": \"v\", \"type\": \"histogram\", \"x\": [-1.0869584731134463, 0.27451744742966855, 0.898589965888706, -0.16552031190222838, -1.2734743934645587, 1.3785347245530486, 0.7868745774402074, 0.7766436984162196, 0.22616856791677742, 0.007405250672447983, 0.64366447216253, -1.7626137628640837, 0.4441052137532636, -0.2108770255901744, 0.6198112180793899, -1.8287242831076582, -0.9431897712379231, -0.6477520870136391, 0.6508763934079177, 0.7908879119638564, -0.5437926157664298, 0.11492643070611391, 0.3974511774942038, -1.8055711983924294, -0.8523522195491334, -0.558736594859252, -1.1473397416674855, -0.16454004935997768, -0.660716242116677, 0.049352004212177884, -0.057314717313838005, -0.43941827438359155, 0.0277344949358772, -0.7062001067991027, 0.20462323016526873, 0.3496160101587443, 0.6577663410748592, -0.2758959541944502, 2.0705732352146224, -0.09914233320171727, 1.3172585301650261, -0.7394903007107098, 0.007553436342522031, 0.016748848512975506, -0.5611598750145692, -0.48601745121375417, -0.13367046078164657, 0.037363970053662626, 0.6178066666029638, 1.3796647232899897, -0.6931058583317703, -0.9972334923098112, 1.3641795786608075, -1.106805521135824, 1.0854563377341457, -0.09555624054883202, 0.6288015463938761, -0.8760011405423394, 1.2336403186919789, 0.033956099774664385, 2.1407935064284773, 0.6385182836690706, -0.5269728709133601, -0.5847843726513189, -2.3494435331723307, -0.18399978217020438, 0.16960257341940285, 0.46380914522191813, -0.3056312698113668, 0.7936378599682448, 0.810159922841156, 1.7683652861021277, 0.9765976549826945, 0.21326281672362585, -0.31880949249799556, 2.2713306562647673, -1.0851960684705424, -1.570147459967214, 0.34576961774812714, 0.8703889358199863, 1.2367572823310422, 1.3781590168114433, 1.6483301874280925, 1.3376056922248774, 0.6753253952993254, 1.483120340763066, -1.4696468790989143, 0.18006693944434077, -0.6444227711806647, 1.342402191198624, 0.3795249191416694, 0.34893084837192684, 0.5547093859793416, -0.7615597381780371, -0.34604453437406435, -0.467604005429489, -0.675717935618517, 0.4451618761638253, -0.28832274185004775, 0.8908517457098541], \"xaxis\": \"x\", \"yaxis\": \"y\"}, {\"line\": {\"color\": \"rgba(128, 128, 128, 1.0)\", \"dash\": \"solid\", \"shape\": \"linear\", \"width\": 1.3}, \"marker\": {\"size\": 2, \"symbol\": \"circle\"}, \"mode\": \"markers\", \"name\": \"A\", \"text\": \"\", \"type\": \"scatter\", \"x\": [1.7013820185635982, 0.016734098968908245, 2.2184867506604347, 0.44451676757382264, 1.703802666363377, 0.5510780102731614, -0.007384714327293, -0.35835576270049563, 1.6179370471689394, -1.169620835636566, -0.36772215073358494, 0.182065915329453, -0.3975451539297147, 0.6205506166419125, -1.098210734843599, 0.20041257042194804, -0.426836602355439, 2.277927386764877, -1.1017588091404427, 0.152675931119196, 0.26089294030064775, 0.16790296118827935, 1.117498940581288, 0.1184339640900317, -0.329283204486584, -0.48503749507682914, 0.10287082937910579, -0.14335257092830764, 0.8278903286727461, -1.2152889355373417, 1.8688574824406747, -2.224014721044174, 0.5480537392492857, -0.4147767422144272, 0.9111740247529115, -0.2528222104299852, -0.328512170305908, 1.5075951910841419, 1.1498989386135394, -0.35747433861149613, 0.2600226018296949, -2.1464321877023447, -0.45158829898502395, -1.219746472073381, 0.8502524893445202, 0.9462632125257172, -1.7598783345103384, -0.2997902477697803, -0.04572481337190753, 0.6882101545853919, -0.8189329172921694, 0.5734955778855265, 1.185944352107926, -0.20946517839781378, -1.3897673074849386, 0.05787704017837233, -0.4511274628719261, 0.09277799280316695, -1.2173858066388004, 1.6667919772825086, 0.7189158983152318, -0.9056304694239788, -0.4677796938681007, -1.6548913931086122, 2.2516119970191237, 0.9837585001186746, 0.4878811018427395, -1.112952019281889, 0.216206728493171, 2.299476542354412, -1.4070242741765342, -0.45055928068229417, 0.46767482889353085, 0.32182309910940193, 1.2080200190126147, 0.9669139668088189, 0.31402593167975984, 0.714031354188266, -0.43036799689653804, -0.10611543689348711, -0.3206654621288512, -1.2964482536527433, 1.466932859869416, 1.138962013851952, 0.4980801447568573, 1.6032529424100892, -0.3434705413925944, -0.4314394981069506, -0.4718651054692796, -2.176081195391494, -0.4843139984008415, -0.5920273380597912, -0.5227207238304532, 0.5926508580560483, -0.429051904089719, 0.6569896275867015, 1.7338054889903347, -1.8873414584768677, -0.9113554907885516, 0.2599158976535608], \"xaxis\": \"x2\", \"y\": [-1.0869584731134463, 0.27451744742966855, 0.898589965888706, -0.16552031190222838, -1.2734743934645587, 1.3785347245530486, 0.7868745774402074, 0.7766436984162196, 0.22616856791677742, 0.007405250672447983, 0.64366447216253, -1.7626137628640837, 0.4441052137532636, -0.2108770255901744, 0.6198112180793899, -1.8287242831076582, -0.9431897712379231, -0.6477520870136391, 0.6508763934079177, 0.7908879119638564, -0.5437926157664298, 0.11492643070611391, 0.3974511774942038, -1.8055711983924294, -0.8523522195491334, -0.558736594859252, -1.1473397416674855, -0.16454004935997768, -0.660716242116677, 0.049352004212177884, -0.057314717313838005, -0.43941827438359155, 0.0277344949358772, -0.7062001067991027, 0.20462323016526873, 0.3496160101587443, 0.6577663410748592, -0.2758959541944502, 2.0705732352146224, -0.09914233320171727, 1.3172585301650261, -0.7394903007107098, 0.007553436342522031, 0.016748848512975506, -0.5611598750145692, -0.48601745121375417, -0.13367046078164657, 0.037363970053662626, 0.6178066666029638, 1.3796647232899897, -0.6931058583317703, -0.9972334923098112, 1.3641795786608075, -1.106805521135824, 1.0854563377341457, -0.09555624054883202, 0.6288015463938761, -0.8760011405423394, 1.2336403186919789, 0.033956099774664385, 2.1407935064284773, 0.6385182836690706, -0.5269728709133601, -0.5847843726513189, -2.3494435331723307, -0.18399978217020438, 0.16960257341940285, 0.46380914522191813, -0.3056312698113668, 0.7936378599682448, 0.810159922841156, 1.7683652861021277, 0.9765976549826945, 0.21326281672362585, -0.31880949249799556, 2.2713306562647673, -1.0851960684705424, -1.570147459967214, 0.34576961774812714, 0.8703889358199863, 1.2367572823310422, 1.3781590168114433, 1.6483301874280925, 1.3376056922248774, 0.6753253952993254, 1.483120340763066, -1.4696468790989143, 0.18006693944434077, -0.6444227711806647, 1.342402191198624, 0.3795249191416694, 0.34893084837192684, 0.5547093859793416, -0.7615597381780371, -0.34604453437406435, -0.467604005429489, -0.675717935618517, 0.4451618761638253, -0.28832274185004775, 0.8908517457098541], \"yaxis\": \"y2\"}, {\"line\": {\"color\": \"rgba(128, 128, 128, 1.0)\", \"dash\": \"solid\", \"shape\": \"linear\", \"width\": 1.3}, \"marker\": {\"size\": 2, \"symbol\": \"circle\"}, \"mode\": \"markers\", \"name\": \"A\", \"text\": \"\", \"type\": \"scatter\", \"x\": [-0.873369070597386, -0.38797255257445085, 1.0682243918353338, -1.2790930718167783, 1.0761302314217276, -1.0857807523120895, 0.6976922422721356, -0.20764530220173733, 0.7380926789497732, 0.637733307300874, 0.11612524220817805, 2.9265206893023383, -0.5040016539640569, -0.09391022352662393, -0.22077641685397564, 0.5726701575040741, -0.23255048921233717, -0.386545526538195, -0.06329106479067616, -0.8235676011447217, -1.8865971054068813, -0.6980099173578493, -1.2575289971325572, 0.3671526137423293, 1.352426245082499, 0.06723238281656134, -0.5626870446525274, 0.9047024466505087, 1.9480451488617643, -1.1443375473424668, -0.09186773503596642, 0.775654390735632, 0.5185977601455729, -1.0153910692794177, 1.9003170260405222, -0.6192891766001604, -1.5741127731567324, 0.061034838680466774, 1.8287336241254994, -0.41340617037139815, -0.9251977571498682, -1.3024323490176417, -1.3399259704825603, 1.3311280598564057, -0.025507113005817896, -0.6978799173452859, 1.917274538094662, -0.11655301971239401, 1.0004285703033267, -0.4880985328688754, 0.6917315759162503, -0.04200586024394621, 1.3050923316231533, -0.6645346672012342, 1.7271876015869112, 0.24499633854213249, -1.395438954157734, 1.7791942754672483, -0.1247797070026459, -0.2984251985318188, 0.0630317942551919, -1.2389540771900844, -1.3189514123527615, -0.15928990030484616, 0.22194516169594103, 1.8614284686780065, -1.3497970255188065, -0.08417264575481272, -1.395189580530213, -0.662117909689395, 1.357690057741097, 0.4371849418412773, -0.9918817891272562, -0.9130202377705492, -0.693283281399948, 0.4164994399875994, 1.442084430089679, -0.07772004791377678, 0.40255052232406985, 1.2468872830528268, -0.0025977803496521263, -1.9860720074503646, 1.4269136619370792, 0.30877766394215556, 0.077918893410345, -1.305629015855808, -0.3870991945207361, -0.49997182400035134, 0.3001251054451142, 0.2800716784649497, -0.7268088747459226, -0.17187034779755236, 0.9988509470232919, 0.7732728754145628, -0.8116839420485217, 1.1119549255717927, 0.9976389223060625, -0.915553232348906, -0.47427309014068175, 1.8010205813686537], \"xaxis\": \"x3\", \"y\": [-1.0869584731134463, 0.27451744742966855, 0.898589965888706, -0.16552031190222838, -1.2734743934645587, 1.3785347245530486, 0.7868745774402074, 0.7766436984162196, 0.22616856791677742, 0.007405250672447983, 0.64366447216253, -1.7626137628640837, 0.4441052137532636, -0.2108770255901744, 0.6198112180793899, -1.8287242831076582, -0.9431897712379231, -0.6477520870136391, 0.6508763934079177, 0.7908879119638564, -0.5437926157664298, 0.11492643070611391, 0.3974511774942038, -1.8055711983924294, -0.8523522195491334, -0.558736594859252, -1.1473397416674855, -0.16454004935997768, -0.660716242116677, 0.049352004212177884, -0.057314717313838005, -0.43941827438359155, 0.0277344949358772, -0.7062001067991027, 0.20462323016526873, 0.3496160101587443, 0.6577663410748592, -0.2758959541944502, 2.0705732352146224, -0.09914233320171727, 1.3172585301650261, -0.7394903007107098, 0.007553436342522031, 0.016748848512975506, -0.5611598750145692, -0.48601745121375417, -0.13367046078164657, 0.037363970053662626, 0.6178066666029638, 1.3796647232899897, -0.6931058583317703, -0.9972334923098112, 1.3641795786608075, -1.106805521135824, 1.0854563377341457, -0.09555624054883202, 0.6288015463938761, -0.8760011405423394, 1.2336403186919789, 0.033956099774664385, 2.1407935064284773, 0.6385182836690706, -0.5269728709133601, -0.5847843726513189, -2.3494435331723307, -0.18399978217020438, 0.16960257341940285, 0.46380914522191813, -0.3056312698113668, 0.7936378599682448, 0.810159922841156, 1.7683652861021277, 0.9765976549826945, 0.21326281672362585, -0.31880949249799556, 2.2713306562647673, -1.0851960684705424, -1.570147459967214, 0.34576961774812714, 0.8703889358199863, 1.2367572823310422, 1.3781590168114433, 1.6483301874280925, 1.3376056922248774, 0.6753253952993254, 1.483120340763066, -1.4696468790989143, 0.18006693944434077, -0.6444227711806647, 1.342402191198624, 0.3795249191416694, 0.34893084837192684, 0.5547093859793416, -0.7615597381780371, -0.34604453437406435, -0.467604005429489, -0.675717935618517, 0.4451618761638253, -0.28832274185004775, 0.8908517457098541], \"yaxis\": \"y3\"}, {\"line\": {\"color\": \"rgba(128, 128, 128, 1.0)\", \"dash\": \"solid\", \"shape\": \"linear\", \"width\": 1.3}, \"marker\": {\"size\": 2, \"symbol\": \"circle\"}, \"mode\": \"markers\", \"name\": \"A\", \"text\": \"\", \"type\": \"scatter\", \"x\": [1.2101398908133165, 0.13635957025796977, 2.1905231572647677, -0.4094932919898077, -0.3719867102724542, -1.698863802225874, 1.0720603281458452, -0.04884579380315829, 0.3520251677800174, -0.050786665944431514, 1.9919596653095484, 0.0076299031856295555, 0.612288221996455, -0.6250653216674991, 0.8932792492386356, 0.44086750492679483, 0.13145624625172503, -0.6239924999314912, 0.3115550575145953, 0.4704557052624782, 1.6014390879358784, -0.6103090759138216, -0.06369678766796431, -1.3400231949710382, -1.0011016048785424, -1.05942227761927, -1.082465664061321, -1.0362857431674113, 0.728205944656403, -1.3138364398452524, 0.9028055932576768, 2.2820963209146865, 0.5825457608976803, 0.44168823311486277, -0.6180400543628084, 0.20550615894038707, -0.566625718392528, 0.588867295487124, -0.7814863742659657, 0.2088150083175389, 0.2712189292641885, 1.0080451261778702, 0.9198073760959197, -0.21160871568750625, 0.9471005905349884, 0.5546643197501453, -0.9412177495896674, 0.12099080452017884, 0.7053176604162875, 1.554052374787565, 0.38336548453547953, 0.11940458470979412, -0.29860935986853726, -0.43255531317600315, 0.6324137696781059, 0.0766219170804827, 1.4226312405505745, 0.030003267754663058, -1.2769730159611434, -0.723478072941893, -1.7260064617670847, 0.9811419682076121, -2.06783749498083, -0.8939542857197509, -2.2540571561363403, -1.4259802492018168, -0.5320075047461356, -1.515811089911523, -0.7215280082437434, 2.1282125070998505, -0.03903507733278754, -1.3950234747939938, -0.14096685406236814, 0.23135609461367232, 0.5250304234167503, 1.802981728444306, -0.0468162189899403, -1.769035777012729, -1.6278107483740112, -1.6314168896665002, 0.753991614046415, 1.033180829624629, 0.6023574170852904, -1.4670402369359343, 0.2678472344711301, 1.818071178134226, -0.9955878234584558, -0.22847136673346932, 0.0762818605952403, 0.1291634136540693, 1.6225066766975573, -0.475721530759489, -1.5489439310204933, 0.17981725953923663, 1.2638373207974998, -0.1364912051803669, -0.33326882623264054, -0.44617453940382784, 1.0240512252251484, -1.08638069206843], \"xaxis\": \"x4\", \"y\": [-1.0869584731134463, 0.27451744742966855, 0.898589965888706, -0.16552031190222838, -1.2734743934645587, 1.3785347245530486, 0.7868745774402074, 0.7766436984162196, 0.22616856791677742, 0.007405250672447983, 0.64366447216253, -1.7626137628640837, 0.4441052137532636, -0.2108770255901744, 0.6198112180793899, -1.8287242831076582, -0.9431897712379231, -0.6477520870136391, 0.6508763934079177, 0.7908879119638564, -0.5437926157664298, 0.11492643070611391, 0.3974511774942038, -1.8055711983924294, -0.8523522195491334, -0.558736594859252, -1.1473397416674855, -0.16454004935997768, -0.660716242116677, 0.049352004212177884, -0.057314717313838005, -0.43941827438359155, 0.0277344949358772, -0.7062001067991027, 0.20462323016526873, 0.3496160101587443, 0.6577663410748592, -0.2758959541944502, 2.0705732352146224, -0.09914233320171727, 1.3172585301650261, -0.7394903007107098, 0.007553436342522031, 0.016748848512975506, -0.5611598750145692, -0.48601745121375417, -0.13367046078164657, 0.037363970053662626, 0.6178066666029638, 1.3796647232899897, -0.6931058583317703, -0.9972334923098112, 1.3641795786608075, -1.106805521135824, 1.0854563377341457, -0.09555624054883202, 0.6288015463938761, -0.8760011405423394, 1.2336403186919789, 0.033956099774664385, 2.1407935064284773, 0.6385182836690706, -0.5269728709133601, -0.5847843726513189, -2.3494435331723307, -0.18399978217020438, 0.16960257341940285, 0.46380914522191813, -0.3056312698113668, 0.7936378599682448, 0.810159922841156, 1.7683652861021277, 0.9765976549826945, 0.21326281672362585, -0.31880949249799556, 2.2713306562647673, -1.0851960684705424, -1.570147459967214, 0.34576961774812714, 0.8703889358199863, 1.2367572823310422, 1.3781590168114433, 1.6483301874280925, 1.3376056922248774, 0.6753253952993254, 1.483120340763066, -1.4696468790989143, 0.18006693944434077, -0.6444227711806647, 1.342402191198624, 0.3795249191416694, 0.34893084837192684, 0.5547093859793416, -0.7615597381780371, -0.34604453437406435, -0.467604005429489, -0.675717935618517, 0.4451618761638253, -0.28832274185004775, 0.8908517457098541], \"yaxis\": \"y4\"}, {\"line\": {\"color\": \"rgba(128, 128, 128, 1.0)\", \"dash\": \"solid\", \"shape\": \"linear\", \"width\": 1.3}, \"marker\": {\"size\": 2, \"symbol\": \"circle\"}, \"mode\": \"markers\", \"name\": \"B\", \"text\": \"\", \"type\": \"scatter\", \"x\": [-1.0869584731134463, 0.27451744742966855, 0.898589965888706, -0.16552031190222838, -1.2734743934645587, 1.3785347245530486, 0.7868745774402074, 0.7766436984162196, 0.22616856791677742, 0.007405250672447983, 0.64366447216253, -1.7626137628640837, 0.4441052137532636, -0.2108770255901744, 0.6198112180793899, -1.8287242831076582, -0.9431897712379231, -0.6477520870136391, 0.6508763934079177, 0.7908879119638564, -0.5437926157664298, 0.11492643070611391, 0.3974511774942038, -1.8055711983924294, -0.8523522195491334, -0.558736594859252, -1.1473397416674855, -0.16454004935997768, -0.660716242116677, 0.049352004212177884, -0.057314717313838005, -0.43941827438359155, 0.0277344949358772, -0.7062001067991027, 0.20462323016526873, 0.3496160101587443, 0.6577663410748592, -0.2758959541944502, 2.0705732352146224, -0.09914233320171727, 1.3172585301650261, -0.7394903007107098, 0.007553436342522031, 0.016748848512975506, -0.5611598750145692, -0.48601745121375417, -0.13367046078164657, 0.037363970053662626, 0.6178066666029638, 1.3796647232899897, -0.6931058583317703, -0.9972334923098112, 1.3641795786608075, -1.106805521135824, 1.0854563377341457, -0.09555624054883202, 0.6288015463938761, -0.8760011405423394, 1.2336403186919789, 0.033956099774664385, 2.1407935064284773, 0.6385182836690706, -0.5269728709133601, -0.5847843726513189, -2.3494435331723307, -0.18399978217020438, 0.16960257341940285, 0.46380914522191813, -0.3056312698113668, 0.7936378599682448, 0.810159922841156, 1.7683652861021277, 0.9765976549826945, 0.21326281672362585, -0.31880949249799556, 2.2713306562647673, -1.0851960684705424, -1.570147459967214, 0.34576961774812714, 0.8703889358199863, 1.2367572823310422, 1.3781590168114433, 1.6483301874280925, 1.3376056922248774, 0.6753253952993254, 1.483120340763066, -1.4696468790989143, 0.18006693944434077, -0.6444227711806647, 1.342402191198624, 0.3795249191416694, 0.34893084837192684, 0.5547093859793416, -0.7615597381780371, -0.34604453437406435, -0.467604005429489, -0.675717935618517, 0.4451618761638253, -0.28832274185004775, 0.8908517457098541], \"xaxis\": \"x5\", \"y\": [1.7013820185635982, 0.016734098968908245, 2.2184867506604347, 0.44451676757382264, 1.703802666363377, 0.5510780102731614, -0.007384714327293, -0.35835576270049563, 1.6179370471689394, -1.169620835636566, -0.36772215073358494, 0.182065915329453, -0.3975451539297147, 0.6205506166419125, -1.098210734843599, 0.20041257042194804, -0.426836602355439, 2.277927386764877, -1.1017588091404427, 0.152675931119196, 0.26089294030064775, 0.16790296118827935, 1.117498940581288, 0.1184339640900317, -0.329283204486584, -0.48503749507682914, 0.10287082937910579, -0.14335257092830764, 0.8278903286727461, -1.2152889355373417, 1.8688574824406747, -2.224014721044174, 0.5480537392492857, -0.4147767422144272, 0.9111740247529115, -0.2528222104299852, -0.328512170305908, 1.5075951910841419, 1.1498989386135394, -0.35747433861149613, 0.2600226018296949, -2.1464321877023447, -0.45158829898502395, -1.219746472073381, 0.8502524893445202, 0.9462632125257172, -1.7598783345103384, -0.2997902477697803, -0.04572481337190753, 0.6882101545853919, -0.8189329172921694, 0.5734955778855265, 1.185944352107926, -0.20946517839781378, -1.3897673074849386, 0.05787704017837233, -0.4511274628719261, 0.09277799280316695, -1.2173858066388004, 1.6667919772825086, 0.7189158983152318, -0.9056304694239788, -0.4677796938681007, -1.6548913931086122, 2.2516119970191237, 0.9837585001186746, 0.4878811018427395, -1.112952019281889, 0.216206728493171, 2.299476542354412, -1.4070242741765342, -0.45055928068229417, 0.46767482889353085, 0.32182309910940193, 1.2080200190126147, 0.9669139668088189, 0.31402593167975984, 0.714031354188266, -0.43036799689653804, -0.10611543689348711, -0.3206654621288512, -1.2964482536527433, 1.466932859869416, 1.138962013851952, 0.4980801447568573, 1.6032529424100892, -0.3434705413925944, -0.4314394981069506, -0.4718651054692796, -2.176081195391494, -0.4843139984008415, -0.5920273380597912, -0.5227207238304532, 0.5926508580560483, -0.429051904089719, 0.6569896275867015, 1.7338054889903347, -1.8873414584768677, -0.9113554907885516, 0.2599158976535608], \"yaxis\": \"y5\"}, {\"histfunc\": \"count\", \"histnorm\": \"\", \"marker\": {\"color\": \"rgba(55, 128, 191, 1.0)\", \"line\": {\"color\": \"#4D5663\", \"width\": 1.3}}, \"name\": \"B\", \"nbinsx\": 10, \"opacity\": 0.8, \"orientation\": \"v\", \"type\": \"histogram\", \"x\": [1.7013820185635982, 0.016734098968908245, 2.2184867506604347, 0.44451676757382264, 1.703802666363377, 0.5510780102731614, -0.007384714327293, -0.35835576270049563, 1.6179370471689394, -1.169620835636566, -0.36772215073358494, 0.182065915329453, -0.3975451539297147, 0.6205506166419125, -1.098210734843599, 0.20041257042194804, -0.426836602355439, 2.277927386764877, -1.1017588091404427, 0.152675931119196, 0.26089294030064775, 0.16790296118827935, 1.117498940581288, 0.1184339640900317, -0.329283204486584, -0.48503749507682914, 0.10287082937910579, -0.14335257092830764, 0.8278903286727461, -1.2152889355373417, 1.8688574824406747, -2.224014721044174, 0.5480537392492857, -0.4147767422144272, 0.9111740247529115, -0.2528222104299852, -0.328512170305908, 1.5075951910841419, 1.1498989386135394, -0.35747433861149613, 0.2600226018296949, -2.1464321877023447, -0.45158829898502395, -1.219746472073381, 0.8502524893445202, 0.9462632125257172, -1.7598783345103384, -0.2997902477697803, -0.04572481337190753, 0.6882101545853919, -0.8189329172921694, 0.5734955778855265, 1.185944352107926, -0.20946517839781378, -1.3897673074849386, 0.05787704017837233, -0.4511274628719261, 0.09277799280316695, -1.2173858066388004, 1.6667919772825086, 0.7189158983152318, -0.9056304694239788, -0.4677796938681007, -1.6548913931086122, 2.2516119970191237, 0.9837585001186746, 0.4878811018427395, -1.112952019281889, 0.216206728493171, 2.299476542354412, -1.4070242741765342, -0.45055928068229417, 0.46767482889353085, 0.32182309910940193, 1.2080200190126147, 0.9669139668088189, 0.31402593167975984, 0.714031354188266, -0.43036799689653804, -0.10611543689348711, -0.3206654621288512, -1.2964482536527433, 1.466932859869416, 1.138962013851952, 0.4980801447568573, 1.6032529424100892, -0.3434705413925944, -0.4314394981069506, -0.4718651054692796, -2.176081195391494, -0.4843139984008415, -0.5920273380597912, -0.5227207238304532, 0.5926508580560483, -0.429051904089719, 0.6569896275867015, 1.7338054889903347, -1.8873414584768677, -0.9113554907885516, 0.2599158976535608], \"xaxis\": \"x6\", \"yaxis\": \"y6\"}, {\"line\": {\"color\": \"rgba(128, 128, 128, 1.0)\", \"dash\": \"solid\", \"shape\": \"linear\", \"width\": 1.3}, \"marker\": {\"size\": 2, \"symbol\": \"circle\"}, \"mode\": \"markers\", \"name\": \"B\", \"text\": \"\", \"type\": \"scatter\", \"x\": [-0.873369070597386, -0.38797255257445085, 1.0682243918353338, -1.2790930718167783, 1.0761302314217276, -1.0857807523120895, 0.6976922422721356, -0.20764530220173733, 0.7380926789497732, 0.637733307300874, 0.11612524220817805, 2.9265206893023383, -0.5040016539640569, -0.09391022352662393, -0.22077641685397564, 0.5726701575040741, -0.23255048921233717, -0.386545526538195, -0.06329106479067616, -0.8235676011447217, -1.8865971054068813, -0.6980099173578493, -1.2575289971325572, 0.3671526137423293, 1.352426245082499, 0.06723238281656134, -0.5626870446525274, 0.9047024466505087, 1.9480451488617643, -1.1443375473424668, -0.09186773503596642, 0.775654390735632, 0.5185977601455729, -1.0153910692794177, 1.9003170260405222, -0.6192891766001604, -1.5741127731567324, 0.061034838680466774, 1.8287336241254994, -0.41340617037139815, -0.9251977571498682, -1.3024323490176417, -1.3399259704825603, 1.3311280598564057, -0.025507113005817896, -0.6978799173452859, 1.917274538094662, -0.11655301971239401, 1.0004285703033267, -0.4880985328688754, 0.6917315759162503, -0.04200586024394621, 1.3050923316231533, -0.6645346672012342, 1.7271876015869112, 0.24499633854213249, -1.395438954157734, 1.7791942754672483, -0.1247797070026459, -0.2984251985318188, 0.0630317942551919, -1.2389540771900844, -1.3189514123527615, -0.15928990030484616, 0.22194516169594103, 1.8614284686780065, -1.3497970255188065, -0.08417264575481272, -1.395189580530213, -0.662117909689395, 1.357690057741097, 0.4371849418412773, -0.9918817891272562, -0.9130202377705492, -0.693283281399948, 0.4164994399875994, 1.442084430089679, -0.07772004791377678, 0.40255052232406985, 1.2468872830528268, -0.0025977803496521263, -1.9860720074503646, 1.4269136619370792, 0.30877766394215556, 0.077918893410345, -1.305629015855808, -0.3870991945207361, -0.49997182400035134, 0.3001251054451142, 0.2800716784649497, -0.7268088747459226, -0.17187034779755236, 0.9988509470232919, 0.7732728754145628, -0.8116839420485217, 1.1119549255717927, 0.9976389223060625, -0.915553232348906, -0.47427309014068175, 1.8010205813686537], \"xaxis\": \"x7\", \"y\": [1.7013820185635982, 0.016734098968908245, 2.2184867506604347, 0.44451676757382264, 1.703802666363377, 0.5510780102731614, -0.007384714327293, -0.35835576270049563, 1.6179370471689394, -1.169620835636566, -0.36772215073358494, 0.182065915329453, -0.3975451539297147, 0.6205506166419125, -1.098210734843599, 0.20041257042194804, -0.426836602355439, 2.277927386764877, -1.1017588091404427, 0.152675931119196, 0.26089294030064775, 0.16790296118827935, 1.117498940581288, 0.1184339640900317, -0.329283204486584, -0.48503749507682914, 0.10287082937910579, -0.14335257092830764, 0.8278903286727461, -1.2152889355373417, 1.8688574824406747, -2.224014721044174, 0.5480537392492857, -0.4147767422144272, 0.9111740247529115, -0.2528222104299852, -0.328512170305908, 1.5075951910841419, 1.1498989386135394, -0.35747433861149613, 0.2600226018296949, -2.1464321877023447, -0.45158829898502395, -1.219746472073381, 0.8502524893445202, 0.9462632125257172, -1.7598783345103384, -0.2997902477697803, -0.04572481337190753, 0.6882101545853919, -0.8189329172921694, 0.5734955778855265, 1.185944352107926, -0.20946517839781378, -1.3897673074849386, 0.05787704017837233, -0.4511274628719261, 0.09277799280316695, -1.2173858066388004, 1.6667919772825086, 0.7189158983152318, -0.9056304694239788, -0.4677796938681007, -1.6548913931086122, 2.2516119970191237, 0.9837585001186746, 0.4878811018427395, -1.112952019281889, 0.216206728493171, 2.299476542354412, -1.4070242741765342, -0.45055928068229417, 0.46767482889353085, 0.32182309910940193, 1.2080200190126147, 0.9669139668088189, 0.31402593167975984, 0.714031354188266, -0.43036799689653804, -0.10611543689348711, -0.3206654621288512, -1.2964482536527433, 1.466932859869416, 1.138962013851952, 0.4980801447568573, 1.6032529424100892, -0.3434705413925944, -0.4314394981069506, -0.4718651054692796, -2.176081195391494, -0.4843139984008415, -0.5920273380597912, -0.5227207238304532, 0.5926508580560483, -0.429051904089719, 0.6569896275867015, 1.7338054889903347, -1.8873414584768677, -0.9113554907885516, 0.2599158976535608], \"yaxis\": \"y7\"}, {\"line\": {\"color\": \"rgba(128, 128, 128, 1.0)\", \"dash\": \"solid\", \"shape\": \"linear\", \"width\": 1.3}, \"marker\": {\"size\": 2, \"symbol\": \"circle\"}, \"mode\": \"markers\", \"name\": \"B\", \"text\": \"\", \"type\": \"scatter\", \"x\": [1.2101398908133165, 0.13635957025796977, 2.1905231572647677, -0.4094932919898077, -0.3719867102724542, -1.698863802225874, 1.0720603281458452, -0.04884579380315829, 0.3520251677800174, -0.050786665944431514, 1.9919596653095484, 0.0076299031856295555, 0.612288221996455, -0.6250653216674991, 0.8932792492386356, 0.44086750492679483, 0.13145624625172503, -0.6239924999314912, 0.3115550575145953, 0.4704557052624782, 1.6014390879358784, -0.6103090759138216, -0.06369678766796431, -1.3400231949710382, -1.0011016048785424, -1.05942227761927, -1.082465664061321, -1.0362857431674113, 0.728205944656403, -1.3138364398452524, 0.9028055932576768, 2.2820963209146865, 0.5825457608976803, 0.44168823311486277, -0.6180400543628084, 0.20550615894038707, -0.566625718392528, 0.588867295487124, -0.7814863742659657, 0.2088150083175389, 0.2712189292641885, 1.0080451261778702, 0.9198073760959197, -0.21160871568750625, 0.9471005905349884, 0.5546643197501453, -0.9412177495896674, 0.12099080452017884, 0.7053176604162875, 1.554052374787565, 0.38336548453547953, 0.11940458470979412, -0.29860935986853726, -0.43255531317600315, 0.6324137696781059, 0.0766219170804827, 1.4226312405505745, 0.030003267754663058, -1.2769730159611434, -0.723478072941893, -1.7260064617670847, 0.9811419682076121, -2.06783749498083, -0.8939542857197509, -2.2540571561363403, -1.4259802492018168, -0.5320075047461356, -1.515811089911523, -0.7215280082437434, 2.1282125070998505, -0.03903507733278754, -1.3950234747939938, -0.14096685406236814, 0.23135609461367232, 0.5250304234167503, 1.802981728444306, -0.0468162189899403, -1.769035777012729, -1.6278107483740112, -1.6314168896665002, 0.753991614046415, 1.033180829624629, 0.6023574170852904, -1.4670402369359343, 0.2678472344711301, 1.818071178134226, -0.9955878234584558, -0.22847136673346932, 0.0762818605952403, 0.1291634136540693, 1.6225066766975573, -0.475721530759489, -1.5489439310204933, 0.17981725953923663, 1.2638373207974998, -0.1364912051803669, -0.33326882623264054, -0.44617453940382784, 1.0240512252251484, -1.08638069206843], \"xaxis\": \"x8\", \"y\": [1.7013820185635982, 0.016734098968908245, 2.2184867506604347, 0.44451676757382264, 1.703802666363377, 0.5510780102731614, -0.007384714327293, -0.35835576270049563, 1.6179370471689394, -1.169620835636566, -0.36772215073358494, 0.182065915329453, -0.3975451539297147, 0.6205506166419125, -1.098210734843599, 0.20041257042194804, -0.426836602355439, 2.277927386764877, -1.1017588091404427, 0.152675931119196, 0.26089294030064775, 0.16790296118827935, 1.117498940581288, 0.1184339640900317, -0.329283204486584, -0.48503749507682914, 0.10287082937910579, -0.14335257092830764, 0.8278903286727461, -1.2152889355373417, 1.8688574824406747, -2.224014721044174, 0.5480537392492857, -0.4147767422144272, 0.9111740247529115, -0.2528222104299852, -0.328512170305908, 1.5075951910841419, 1.1498989386135394, -0.35747433861149613, 0.2600226018296949, -2.1464321877023447, -0.45158829898502395, -1.219746472073381, 0.8502524893445202, 0.9462632125257172, -1.7598783345103384, -0.2997902477697803, -0.04572481337190753, 0.6882101545853919, -0.8189329172921694, 0.5734955778855265, 1.185944352107926, -0.20946517839781378, -1.3897673074849386, 0.05787704017837233, -0.4511274628719261, 0.09277799280316695, -1.2173858066388004, 1.6667919772825086, 0.7189158983152318, -0.9056304694239788, -0.4677796938681007, -1.6548913931086122, 2.2516119970191237, 0.9837585001186746, 0.4878811018427395, -1.112952019281889, 0.216206728493171, 2.299476542354412, -1.4070242741765342, -0.45055928068229417, 0.46767482889353085, 0.32182309910940193, 1.2080200190126147, 0.9669139668088189, 0.31402593167975984, 0.714031354188266, -0.43036799689653804, -0.10611543689348711, -0.3206654621288512, -1.2964482536527433, 1.466932859869416, 1.138962013851952, 0.4980801447568573, 1.6032529424100892, -0.3434705413925944, -0.4314394981069506, -0.4718651054692796, -2.176081195391494, -0.4843139984008415, -0.5920273380597912, -0.5227207238304532, 0.5926508580560483, -0.429051904089719, 0.6569896275867015, 1.7338054889903347, -1.8873414584768677, -0.9113554907885516, 0.2599158976535608], \"yaxis\": \"y8\"}, {\"line\": {\"color\": \"rgba(128, 128, 128, 1.0)\", \"dash\": \"solid\", \"shape\": \"linear\", \"width\": 1.3}, \"marker\": {\"size\": 2, \"symbol\": \"circle\"}, \"mode\": \"markers\", \"name\": \"C\", \"text\": \"\", \"type\": \"scatter\", \"x\": [-1.0869584731134463, 0.27451744742966855, 0.898589965888706, -0.16552031190222838, -1.2734743934645587, 1.3785347245530486, 0.7868745774402074, 0.7766436984162196, 0.22616856791677742, 0.007405250672447983, 0.64366447216253, -1.7626137628640837, 0.4441052137532636, -0.2108770255901744, 0.6198112180793899, -1.8287242831076582, -0.9431897712379231, -0.6477520870136391, 0.6508763934079177, 0.7908879119638564, -0.5437926157664298, 0.11492643070611391, 0.3974511774942038, -1.8055711983924294, -0.8523522195491334, -0.558736594859252, -1.1473397416674855, -0.16454004935997768, -0.660716242116677, 0.049352004212177884, -0.057314717313838005, -0.43941827438359155, 0.0277344949358772, -0.7062001067991027, 0.20462323016526873, 0.3496160101587443, 0.6577663410748592, -0.2758959541944502, 2.0705732352146224, -0.09914233320171727, 1.3172585301650261, -0.7394903007107098, 0.007553436342522031, 0.016748848512975506, -0.5611598750145692, -0.48601745121375417, -0.13367046078164657, 0.037363970053662626, 0.6178066666029638, 1.3796647232899897, -0.6931058583317703, -0.9972334923098112, 1.3641795786608075, -1.106805521135824, 1.0854563377341457, -0.09555624054883202, 0.6288015463938761, -0.8760011405423394, 1.2336403186919789, 0.033956099774664385, 2.1407935064284773, 0.6385182836690706, -0.5269728709133601, -0.5847843726513189, -2.3494435331723307, -0.18399978217020438, 0.16960257341940285, 0.46380914522191813, -0.3056312698113668, 0.7936378599682448, 0.810159922841156, 1.7683652861021277, 0.9765976549826945, 0.21326281672362585, -0.31880949249799556, 2.2713306562647673, -1.0851960684705424, -1.570147459967214, 0.34576961774812714, 0.8703889358199863, 1.2367572823310422, 1.3781590168114433, 1.6483301874280925, 1.3376056922248774, 0.6753253952993254, 1.483120340763066, -1.4696468790989143, 0.18006693944434077, -0.6444227711806647, 1.342402191198624, 0.3795249191416694, 0.34893084837192684, 0.5547093859793416, -0.7615597381780371, -0.34604453437406435, -0.467604005429489, -0.675717935618517, 0.4451618761638253, -0.28832274185004775, 0.8908517457098541], \"xaxis\": \"x9\", \"y\": [-0.873369070597386, -0.38797255257445085, 1.0682243918353338, -1.2790930718167783, 1.0761302314217276, -1.0857807523120895, 0.6976922422721356, -0.20764530220173733, 0.7380926789497732, 0.637733307300874, 0.11612524220817805, 2.9265206893023383, -0.5040016539640569, -0.09391022352662393, -0.22077641685397564, 0.5726701575040741, -0.23255048921233717, -0.386545526538195, -0.06329106479067616, -0.8235676011447217, -1.8865971054068813, -0.6980099173578493, -1.2575289971325572, 0.3671526137423293, 1.352426245082499, 0.06723238281656134, -0.5626870446525274, 0.9047024466505087, 1.9480451488617643, -1.1443375473424668, -0.09186773503596642, 0.775654390735632, 0.5185977601455729, -1.0153910692794177, 1.9003170260405222, -0.6192891766001604, -1.5741127731567324, 0.061034838680466774, 1.8287336241254994, -0.41340617037139815, -0.9251977571498682, -1.3024323490176417, -1.3399259704825603, 1.3311280598564057, -0.025507113005817896, -0.6978799173452859, 1.917274538094662, -0.11655301971239401, 1.0004285703033267, -0.4880985328688754, 0.6917315759162503, -0.04200586024394621, 1.3050923316231533, -0.6645346672012342, 1.7271876015869112, 0.24499633854213249, -1.395438954157734, 1.7791942754672483, -0.1247797070026459, -0.2984251985318188, 0.0630317942551919, -1.2389540771900844, -1.3189514123527615, -0.15928990030484616, 0.22194516169594103, 1.8614284686780065, -1.3497970255188065, -0.08417264575481272, -1.395189580530213, -0.662117909689395, 1.357690057741097, 0.4371849418412773, -0.9918817891272562, -0.9130202377705492, -0.693283281399948, 0.4164994399875994, 1.442084430089679, -0.07772004791377678, 0.40255052232406985, 1.2468872830528268, -0.0025977803496521263, -1.9860720074503646, 1.4269136619370792, 0.30877766394215556, 0.077918893410345, -1.305629015855808, -0.3870991945207361, -0.49997182400035134, 0.3001251054451142, 0.2800716784649497, -0.7268088747459226, -0.17187034779755236, 0.9988509470232919, 0.7732728754145628, -0.8116839420485217, 1.1119549255717927, 0.9976389223060625, -0.915553232348906, -0.47427309014068175, 1.8010205813686537], \"yaxis\": \"y9\"}, {\"line\": {\"color\": \"rgba(128, 128, 128, 1.0)\", \"dash\": \"solid\", \"shape\": \"linear\", \"width\": 1.3}, \"marker\": {\"size\": 2, \"symbol\": \"circle\"}, \"mode\": \"markers\", \"name\": \"C\", \"text\": \"\", \"type\": \"scatter\", \"x\": [1.7013820185635982, 0.016734098968908245, 2.2184867506604347, 0.44451676757382264, 1.703802666363377, 0.5510780102731614, -0.007384714327293, -0.35835576270049563, 1.6179370471689394, -1.169620835636566, -0.36772215073358494, 0.182065915329453, -0.3975451539297147, 0.6205506166419125, -1.098210734843599, 0.20041257042194804, -0.426836602355439, 2.277927386764877, -1.1017588091404427, 0.152675931119196, 0.26089294030064775, 0.16790296118827935, 1.117498940581288, 0.1184339640900317, -0.329283204486584, -0.48503749507682914, 0.10287082937910579, -0.14335257092830764, 0.8278903286727461, -1.2152889355373417, 1.8688574824406747, -2.224014721044174, 0.5480537392492857, -0.4147767422144272, 0.9111740247529115, -0.2528222104299852, -0.328512170305908, 1.5075951910841419, 1.1498989386135394, -0.35747433861149613, 0.2600226018296949, -2.1464321877023447, -0.45158829898502395, -1.219746472073381, 0.8502524893445202, 0.9462632125257172, -1.7598783345103384, -0.2997902477697803, -0.04572481337190753, 0.6882101545853919, -0.8189329172921694, 0.5734955778855265, 1.185944352107926, -0.20946517839781378, -1.3897673074849386, 0.05787704017837233, -0.4511274628719261, 0.09277799280316695, -1.2173858066388004, 1.6667919772825086, 0.7189158983152318, -0.9056304694239788, -0.4677796938681007, -1.6548913931086122, 2.2516119970191237, 0.9837585001186746, 0.4878811018427395, -1.112952019281889, 0.216206728493171, 2.299476542354412, -1.4070242741765342, -0.45055928068229417, 0.46767482889353085, 0.32182309910940193, 1.2080200190126147, 0.9669139668088189, 0.31402593167975984, 0.714031354188266, -0.43036799689653804, -0.10611543689348711, -0.3206654621288512, -1.2964482536527433, 1.466932859869416, 1.138962013851952, 0.4980801447568573, 1.6032529424100892, -0.3434705413925944, -0.4314394981069506, -0.4718651054692796, -2.176081195391494, -0.4843139984008415, -0.5920273380597912, -0.5227207238304532, 0.5926508580560483, -0.429051904089719, 0.6569896275867015, 1.7338054889903347, -1.8873414584768677, -0.9113554907885516, 0.2599158976535608], \"xaxis\": \"x10\", \"y\": [-0.873369070597386, -0.38797255257445085, 1.0682243918353338, -1.2790930718167783, 1.0761302314217276, -1.0857807523120895, 0.6976922422721356, -0.20764530220173733, 0.7380926789497732, 0.637733307300874, 0.11612524220817805, 2.9265206893023383, -0.5040016539640569, -0.09391022352662393, -0.22077641685397564, 0.5726701575040741, -0.23255048921233717, -0.386545526538195, -0.06329106479067616, -0.8235676011447217, -1.8865971054068813, -0.6980099173578493, -1.2575289971325572, 0.3671526137423293, 1.352426245082499, 0.06723238281656134, -0.5626870446525274, 0.9047024466505087, 1.9480451488617643, -1.1443375473424668, -0.09186773503596642, 0.775654390735632, 0.5185977601455729, -1.0153910692794177, 1.9003170260405222, -0.6192891766001604, -1.5741127731567324, 0.061034838680466774, 1.8287336241254994, -0.41340617037139815, -0.9251977571498682, -1.3024323490176417, -1.3399259704825603, 1.3311280598564057, -0.025507113005817896, -0.6978799173452859, 1.917274538094662, -0.11655301971239401, 1.0004285703033267, -0.4880985328688754, 0.6917315759162503, -0.04200586024394621, 1.3050923316231533, -0.6645346672012342, 1.7271876015869112, 0.24499633854213249, -1.395438954157734, 1.7791942754672483, -0.1247797070026459, -0.2984251985318188, 0.0630317942551919, -1.2389540771900844, -1.3189514123527615, -0.15928990030484616, 0.22194516169594103, 1.8614284686780065, -1.3497970255188065, -0.08417264575481272, -1.395189580530213, -0.662117909689395, 1.357690057741097, 0.4371849418412773, -0.9918817891272562, -0.9130202377705492, -0.693283281399948, 0.4164994399875994, 1.442084430089679, -0.07772004791377678, 0.40255052232406985, 1.2468872830528268, -0.0025977803496521263, -1.9860720074503646, 1.4269136619370792, 0.30877766394215556, 0.077918893410345, -1.305629015855808, -0.3870991945207361, -0.49997182400035134, 0.3001251054451142, 0.2800716784649497, -0.7268088747459226, -0.17187034779755236, 0.9988509470232919, 0.7732728754145628, -0.8116839420485217, 1.1119549255717927, 0.9976389223060625, -0.915553232348906, -0.47427309014068175, 1.8010205813686537], \"yaxis\": \"y10\"}, {\"histfunc\": \"count\", \"histnorm\": \"\", \"marker\": {\"color\": \"rgba(50, 171, 96, 1.0)\", \"line\": {\"color\": \"#4D5663\", \"width\": 1.3}}, \"name\": \"C\", \"nbinsx\": 10, \"opacity\": 0.8, \"orientation\": \"v\", \"type\": \"histogram\", \"x\": [-0.873369070597386, -0.38797255257445085, 1.0682243918353338, -1.2790930718167783, 1.0761302314217276, -1.0857807523120895, 0.6976922422721356, -0.20764530220173733, 0.7380926789497732, 0.637733307300874, 0.11612524220817805, 2.9265206893023383, -0.5040016539640569, -0.09391022352662393, -0.22077641685397564, 0.5726701575040741, -0.23255048921233717, -0.386545526538195, -0.06329106479067616, -0.8235676011447217, -1.8865971054068813, -0.6980099173578493, -1.2575289971325572, 0.3671526137423293, 1.352426245082499, 0.06723238281656134, -0.5626870446525274, 0.9047024466505087, 1.9480451488617643, -1.1443375473424668, -0.09186773503596642, 0.775654390735632, 0.5185977601455729, -1.0153910692794177, 1.9003170260405222, -0.6192891766001604, -1.5741127731567324, 0.061034838680466774, 1.8287336241254994, -0.41340617037139815, -0.9251977571498682, -1.3024323490176417, -1.3399259704825603, 1.3311280598564057, -0.025507113005817896, -0.6978799173452859, 1.917274538094662, -0.11655301971239401, 1.0004285703033267, -0.4880985328688754, 0.6917315759162503, -0.04200586024394621, 1.3050923316231533, -0.6645346672012342, 1.7271876015869112, 0.24499633854213249, -1.395438954157734, 1.7791942754672483, -0.1247797070026459, -0.2984251985318188, 0.0630317942551919, -1.2389540771900844, -1.3189514123527615, -0.15928990030484616, 0.22194516169594103, 1.8614284686780065, -1.3497970255188065, -0.08417264575481272, -1.395189580530213, -0.662117909689395, 1.357690057741097, 0.4371849418412773, -0.9918817891272562, -0.9130202377705492, -0.693283281399948, 0.4164994399875994, 1.442084430089679, -0.07772004791377678, 0.40255052232406985, 1.2468872830528268, -0.0025977803496521263, -1.9860720074503646, 1.4269136619370792, 0.30877766394215556, 0.077918893410345, -1.305629015855808, -0.3870991945207361, -0.49997182400035134, 0.3001251054451142, 0.2800716784649497, -0.7268088747459226, -0.17187034779755236, 0.9988509470232919, 0.7732728754145628, -0.8116839420485217, 1.1119549255717927, 0.9976389223060625, -0.915553232348906, -0.47427309014068175, 1.8010205813686537], \"xaxis\": \"x11\", \"yaxis\": \"y11\"}, {\"line\": {\"color\": \"rgba(128, 128, 128, 1.0)\", \"dash\": \"solid\", \"shape\": \"linear\", \"width\": 1.3}, \"marker\": {\"size\": 2, \"symbol\": \"circle\"}, \"mode\": \"markers\", \"name\": \"C\", \"text\": \"\", \"type\": \"scatter\", \"x\": [1.2101398908133165, 0.13635957025796977, 2.1905231572647677, -0.4094932919898077, -0.3719867102724542, -1.698863802225874, 1.0720603281458452, -0.04884579380315829, 0.3520251677800174, -0.050786665944431514, 1.9919596653095484, 0.0076299031856295555, 0.612288221996455, -0.6250653216674991, 0.8932792492386356, 0.44086750492679483, 0.13145624625172503, -0.6239924999314912, 0.3115550575145953, 0.4704557052624782, 1.6014390879358784, -0.6103090759138216, -0.06369678766796431, -1.3400231949710382, -1.0011016048785424, -1.05942227761927, -1.082465664061321, -1.0362857431674113, 0.728205944656403, -1.3138364398452524, 0.9028055932576768, 2.2820963209146865, 0.5825457608976803, 0.44168823311486277, -0.6180400543628084, 0.20550615894038707, -0.566625718392528, 0.588867295487124, -0.7814863742659657, 0.2088150083175389, 0.2712189292641885, 1.0080451261778702, 0.9198073760959197, -0.21160871568750625, 0.9471005905349884, 0.5546643197501453, -0.9412177495896674, 0.12099080452017884, 0.7053176604162875, 1.554052374787565, 0.38336548453547953, 0.11940458470979412, -0.29860935986853726, -0.43255531317600315, 0.6324137696781059, 0.0766219170804827, 1.4226312405505745, 0.030003267754663058, -1.2769730159611434, -0.723478072941893, -1.7260064617670847, 0.9811419682076121, -2.06783749498083, -0.8939542857197509, -2.2540571561363403, -1.4259802492018168, -0.5320075047461356, -1.515811089911523, -0.7215280082437434, 2.1282125070998505, -0.03903507733278754, -1.3950234747939938, -0.14096685406236814, 0.23135609461367232, 0.5250304234167503, 1.802981728444306, -0.0468162189899403, -1.769035777012729, -1.6278107483740112, -1.6314168896665002, 0.753991614046415, 1.033180829624629, 0.6023574170852904, -1.4670402369359343, 0.2678472344711301, 1.818071178134226, -0.9955878234584558, -0.22847136673346932, 0.0762818605952403, 0.1291634136540693, 1.6225066766975573, -0.475721530759489, -1.5489439310204933, 0.17981725953923663, 1.2638373207974998, -0.1364912051803669, -0.33326882623264054, -0.44617453940382784, 1.0240512252251484, -1.08638069206843], \"xaxis\": \"x12\", \"y\": [-0.873369070597386, -0.38797255257445085, 1.0682243918353338, -1.2790930718167783, 1.0761302314217276, -1.0857807523120895, 0.6976922422721356, -0.20764530220173733, 0.7380926789497732, 0.637733307300874, 0.11612524220817805, 2.9265206893023383, -0.5040016539640569, -0.09391022352662393, -0.22077641685397564, 0.5726701575040741, -0.23255048921233717, -0.386545526538195, -0.06329106479067616, -0.8235676011447217, -1.8865971054068813, -0.6980099173578493, -1.2575289971325572, 0.3671526137423293, 1.352426245082499, 0.06723238281656134, -0.5626870446525274, 0.9047024466505087, 1.9480451488617643, -1.1443375473424668, -0.09186773503596642, 0.775654390735632, 0.5185977601455729, -1.0153910692794177, 1.9003170260405222, -0.6192891766001604, -1.5741127731567324, 0.061034838680466774, 1.8287336241254994, -0.41340617037139815, -0.9251977571498682, -1.3024323490176417, -1.3399259704825603, 1.3311280598564057, -0.025507113005817896, -0.6978799173452859, 1.917274538094662, -0.11655301971239401, 1.0004285703033267, -0.4880985328688754, 0.6917315759162503, -0.04200586024394621, 1.3050923316231533, -0.6645346672012342, 1.7271876015869112, 0.24499633854213249, -1.395438954157734, 1.7791942754672483, -0.1247797070026459, -0.2984251985318188, 0.0630317942551919, -1.2389540771900844, -1.3189514123527615, -0.15928990030484616, 0.22194516169594103, 1.8614284686780065, -1.3497970255188065, -0.08417264575481272, -1.395189580530213, -0.662117909689395, 1.357690057741097, 0.4371849418412773, -0.9918817891272562, -0.9130202377705492, -0.693283281399948, 0.4164994399875994, 1.442084430089679, -0.07772004791377678, 0.40255052232406985, 1.2468872830528268, -0.0025977803496521263, -1.9860720074503646, 1.4269136619370792, 0.30877766394215556, 0.077918893410345, -1.305629015855808, -0.3870991945207361, -0.49997182400035134, 0.3001251054451142, 0.2800716784649497, -0.7268088747459226, -0.17187034779755236, 0.9988509470232919, 0.7732728754145628, -0.8116839420485217, 1.1119549255717927, 0.9976389223060625, -0.915553232348906, -0.47427309014068175, 1.8010205813686537], \"yaxis\": \"y12\"}, {\"line\": {\"color\": \"rgba(128, 128, 128, 1.0)\", \"dash\": \"solid\", \"shape\": \"linear\", \"width\": 1.3}, \"marker\": {\"size\": 2, \"symbol\": \"circle\"}, \"mode\": \"markers\", \"name\": \"D\", \"text\": \"\", \"type\": \"scatter\", \"x\": [-1.0869584731134463, 0.27451744742966855, 0.898589965888706, -0.16552031190222838, -1.2734743934645587, 1.3785347245530486, 0.7868745774402074, 0.7766436984162196, 0.22616856791677742, 0.007405250672447983, 0.64366447216253, -1.7626137628640837, 0.4441052137532636, -0.2108770255901744, 0.6198112180793899, -1.8287242831076582, -0.9431897712379231, -0.6477520870136391, 0.6508763934079177, 0.7908879119638564, -0.5437926157664298, 0.11492643070611391, 0.3974511774942038, -1.8055711983924294, -0.8523522195491334, -0.558736594859252, -1.1473397416674855, -0.16454004935997768, -0.660716242116677, 0.049352004212177884, -0.057314717313838005, -0.43941827438359155, 0.0277344949358772, -0.7062001067991027, 0.20462323016526873, 0.3496160101587443, 0.6577663410748592, -0.2758959541944502, 2.0705732352146224, -0.09914233320171727, 1.3172585301650261, -0.7394903007107098, 0.007553436342522031, 0.016748848512975506, -0.5611598750145692, -0.48601745121375417, -0.13367046078164657, 0.037363970053662626, 0.6178066666029638, 1.3796647232899897, -0.6931058583317703, -0.9972334923098112, 1.3641795786608075, -1.106805521135824, 1.0854563377341457, -0.09555624054883202, 0.6288015463938761, -0.8760011405423394, 1.2336403186919789, 0.033956099774664385, 2.1407935064284773, 0.6385182836690706, -0.5269728709133601, -0.5847843726513189, -2.3494435331723307, -0.18399978217020438, 0.16960257341940285, 0.46380914522191813, -0.3056312698113668, 0.7936378599682448, 0.810159922841156, 1.7683652861021277, 0.9765976549826945, 0.21326281672362585, -0.31880949249799556, 2.2713306562647673, -1.0851960684705424, -1.570147459967214, 0.34576961774812714, 0.8703889358199863, 1.2367572823310422, 1.3781590168114433, 1.6483301874280925, 1.3376056922248774, 0.6753253952993254, 1.483120340763066, -1.4696468790989143, 0.18006693944434077, -0.6444227711806647, 1.342402191198624, 0.3795249191416694, 0.34893084837192684, 0.5547093859793416, -0.7615597381780371, -0.34604453437406435, -0.467604005429489, -0.675717935618517, 0.4451618761638253, -0.28832274185004775, 0.8908517457098541], \"xaxis\": \"x13\", \"y\": [1.2101398908133165, 0.13635957025796977, 2.1905231572647677, -0.4094932919898077, -0.3719867102724542, -1.698863802225874, 1.0720603281458452, -0.04884579380315829, 0.3520251677800174, -0.050786665944431514, 1.9919596653095484, 0.0076299031856295555, 0.612288221996455, -0.6250653216674991, 0.8932792492386356, 0.44086750492679483, 0.13145624625172503, -0.6239924999314912, 0.3115550575145953, 0.4704557052624782, 1.6014390879358784, -0.6103090759138216, -0.06369678766796431, -1.3400231949710382, -1.0011016048785424, -1.05942227761927, -1.082465664061321, -1.0362857431674113, 0.728205944656403, -1.3138364398452524, 0.9028055932576768, 2.2820963209146865, 0.5825457608976803, 0.44168823311486277, -0.6180400543628084, 0.20550615894038707, -0.566625718392528, 0.588867295487124, -0.7814863742659657, 0.2088150083175389, 0.2712189292641885, 1.0080451261778702, 0.9198073760959197, -0.21160871568750625, 0.9471005905349884, 0.5546643197501453, -0.9412177495896674, 0.12099080452017884, 0.7053176604162875, 1.554052374787565, 0.38336548453547953, 0.11940458470979412, -0.29860935986853726, -0.43255531317600315, 0.6324137696781059, 0.0766219170804827, 1.4226312405505745, 0.030003267754663058, -1.2769730159611434, -0.723478072941893, -1.7260064617670847, 0.9811419682076121, -2.06783749498083, -0.8939542857197509, -2.2540571561363403, -1.4259802492018168, -0.5320075047461356, -1.515811089911523, -0.7215280082437434, 2.1282125070998505, -0.03903507733278754, -1.3950234747939938, -0.14096685406236814, 0.23135609461367232, 0.5250304234167503, 1.802981728444306, -0.0468162189899403, -1.769035777012729, -1.6278107483740112, -1.6314168896665002, 0.753991614046415, 1.033180829624629, 0.6023574170852904, -1.4670402369359343, 0.2678472344711301, 1.818071178134226, -0.9955878234584558, -0.22847136673346932, 0.0762818605952403, 0.1291634136540693, 1.6225066766975573, -0.475721530759489, -1.5489439310204933, 0.17981725953923663, 1.2638373207974998, -0.1364912051803669, -0.33326882623264054, -0.44617453940382784, 1.0240512252251484, -1.08638069206843], \"yaxis\": \"y13\"}, {\"line\": {\"color\": \"rgba(128, 128, 128, 1.0)\", \"dash\": \"solid\", \"shape\": \"linear\", \"width\": 1.3}, \"marker\": {\"size\": 2, \"symbol\": \"circle\"}, \"mode\": \"markers\", \"name\": \"D\", \"text\": \"\", \"type\": \"scatter\", \"x\": [1.7013820185635982, 0.016734098968908245, 2.2184867506604347, 0.44451676757382264, 1.703802666363377, 0.5510780102731614, -0.007384714327293, -0.35835576270049563, 1.6179370471689394, -1.169620835636566, -0.36772215073358494, 0.182065915329453, -0.3975451539297147, 0.6205506166419125, -1.098210734843599, 0.20041257042194804, -0.426836602355439, 2.277927386764877, -1.1017588091404427, 0.152675931119196, 0.26089294030064775, 0.16790296118827935, 1.117498940581288, 0.1184339640900317, -0.329283204486584, -0.48503749507682914, 0.10287082937910579, -0.14335257092830764, 0.8278903286727461, -1.2152889355373417, 1.8688574824406747, -2.224014721044174, 0.5480537392492857, -0.4147767422144272, 0.9111740247529115, -0.2528222104299852, -0.328512170305908, 1.5075951910841419, 1.1498989386135394, -0.35747433861149613, 0.2600226018296949, -2.1464321877023447, -0.45158829898502395, -1.219746472073381, 0.8502524893445202, 0.9462632125257172, -1.7598783345103384, -0.2997902477697803, -0.04572481337190753, 0.6882101545853919, -0.8189329172921694, 0.5734955778855265, 1.185944352107926, -0.20946517839781378, -1.3897673074849386, 0.05787704017837233, -0.4511274628719261, 0.09277799280316695, -1.2173858066388004, 1.6667919772825086, 0.7189158983152318, -0.9056304694239788, -0.4677796938681007, -1.6548913931086122, 2.2516119970191237, 0.9837585001186746, 0.4878811018427395, -1.112952019281889, 0.216206728493171, 2.299476542354412, -1.4070242741765342, -0.45055928068229417, 0.46767482889353085, 0.32182309910940193, 1.2080200190126147, 0.9669139668088189, 0.31402593167975984, 0.714031354188266, -0.43036799689653804, -0.10611543689348711, -0.3206654621288512, -1.2964482536527433, 1.466932859869416, 1.138962013851952, 0.4980801447568573, 1.6032529424100892, -0.3434705413925944, -0.4314394981069506, -0.4718651054692796, -2.176081195391494, -0.4843139984008415, -0.5920273380597912, -0.5227207238304532, 0.5926508580560483, -0.429051904089719, 0.6569896275867015, 1.7338054889903347, -1.8873414584768677, -0.9113554907885516, 0.2599158976535608], \"xaxis\": \"x14\", \"y\": [1.2101398908133165, 0.13635957025796977, 2.1905231572647677, -0.4094932919898077, -0.3719867102724542, -1.698863802225874, 1.0720603281458452, -0.04884579380315829, 0.3520251677800174, -0.050786665944431514, 1.9919596653095484, 0.0076299031856295555, 0.612288221996455, -0.6250653216674991, 0.8932792492386356, 0.44086750492679483, 0.13145624625172503, -0.6239924999314912, 0.3115550575145953, 0.4704557052624782, 1.6014390879358784, -0.6103090759138216, -0.06369678766796431, -1.3400231949710382, -1.0011016048785424, -1.05942227761927, -1.082465664061321, -1.0362857431674113, 0.728205944656403, -1.3138364398452524, 0.9028055932576768, 2.2820963209146865, 0.5825457608976803, 0.44168823311486277, -0.6180400543628084, 0.20550615894038707, -0.566625718392528, 0.588867295487124, -0.7814863742659657, 0.2088150083175389, 0.2712189292641885, 1.0080451261778702, 0.9198073760959197, -0.21160871568750625, 0.9471005905349884, 0.5546643197501453, -0.9412177495896674, 0.12099080452017884, 0.7053176604162875, 1.554052374787565, 0.38336548453547953, 0.11940458470979412, -0.29860935986853726, -0.43255531317600315, 0.6324137696781059, 0.0766219170804827, 1.4226312405505745, 0.030003267754663058, -1.2769730159611434, -0.723478072941893, -1.7260064617670847, 0.9811419682076121, -2.06783749498083, -0.8939542857197509, -2.2540571561363403, -1.4259802492018168, -0.5320075047461356, -1.515811089911523, -0.7215280082437434, 2.1282125070998505, -0.03903507733278754, -1.3950234747939938, -0.14096685406236814, 0.23135609461367232, 0.5250304234167503, 1.802981728444306, -0.0468162189899403, -1.769035777012729, -1.6278107483740112, -1.6314168896665002, 0.753991614046415, 1.033180829624629, 0.6023574170852904, -1.4670402369359343, 0.2678472344711301, 1.818071178134226, -0.9955878234584558, -0.22847136673346932, 0.0762818605952403, 0.1291634136540693, 1.6225066766975573, -0.475721530759489, -1.5489439310204933, 0.17981725953923663, 1.2638373207974998, -0.1364912051803669, -0.33326882623264054, -0.44617453940382784, 1.0240512252251484, -1.08638069206843], \"yaxis\": \"y14\"}, {\"line\": {\"color\": \"rgba(128, 128, 128, 1.0)\", \"dash\": \"solid\", \"shape\": \"linear\", \"width\": 1.3}, \"marker\": {\"size\": 2, \"symbol\": \"circle\"}, \"mode\": \"markers\", \"name\": \"D\", \"text\": \"\", \"type\": \"scatter\", \"x\": [-0.873369070597386, -0.38797255257445085, 1.0682243918353338, -1.2790930718167783, 1.0761302314217276, -1.0857807523120895, 0.6976922422721356, -0.20764530220173733, 0.7380926789497732, 0.637733307300874, 0.11612524220817805, 2.9265206893023383, -0.5040016539640569, -0.09391022352662393, -0.22077641685397564, 0.5726701575040741, -0.23255048921233717, -0.386545526538195, -0.06329106479067616, -0.8235676011447217, -1.8865971054068813, -0.6980099173578493, -1.2575289971325572, 0.3671526137423293, 1.352426245082499, 0.06723238281656134, -0.5626870446525274, 0.9047024466505087, 1.9480451488617643, -1.1443375473424668, -0.09186773503596642, 0.775654390735632, 0.5185977601455729, -1.0153910692794177, 1.9003170260405222, -0.6192891766001604, -1.5741127731567324, 0.061034838680466774, 1.8287336241254994, -0.41340617037139815, -0.9251977571498682, -1.3024323490176417, -1.3399259704825603, 1.3311280598564057, -0.025507113005817896, -0.6978799173452859, 1.917274538094662, -0.11655301971239401, 1.0004285703033267, -0.4880985328688754, 0.6917315759162503, -0.04200586024394621, 1.3050923316231533, -0.6645346672012342, 1.7271876015869112, 0.24499633854213249, -1.395438954157734, 1.7791942754672483, -0.1247797070026459, -0.2984251985318188, 0.0630317942551919, -1.2389540771900844, -1.3189514123527615, -0.15928990030484616, 0.22194516169594103, 1.8614284686780065, -1.3497970255188065, -0.08417264575481272, -1.395189580530213, -0.662117909689395, 1.357690057741097, 0.4371849418412773, -0.9918817891272562, -0.9130202377705492, -0.693283281399948, 0.4164994399875994, 1.442084430089679, -0.07772004791377678, 0.40255052232406985, 1.2468872830528268, -0.0025977803496521263, -1.9860720074503646, 1.4269136619370792, 0.30877766394215556, 0.077918893410345, -1.305629015855808, -0.3870991945207361, -0.49997182400035134, 0.3001251054451142, 0.2800716784649497, -0.7268088747459226, -0.17187034779755236, 0.9988509470232919, 0.7732728754145628, -0.8116839420485217, 1.1119549255717927, 0.9976389223060625, -0.915553232348906, -0.47427309014068175, 1.8010205813686537], \"xaxis\": \"x15\", \"y\": [1.2101398908133165, 0.13635957025796977, 2.1905231572647677, -0.4094932919898077, -0.3719867102724542, -1.698863802225874, 1.0720603281458452, -0.04884579380315829, 0.3520251677800174, -0.050786665944431514, 1.9919596653095484, 0.0076299031856295555, 0.612288221996455, -0.6250653216674991, 0.8932792492386356, 0.44086750492679483, 0.13145624625172503, -0.6239924999314912, 0.3115550575145953, 0.4704557052624782, 1.6014390879358784, -0.6103090759138216, -0.06369678766796431, -1.3400231949710382, -1.0011016048785424, -1.05942227761927, -1.082465664061321, -1.0362857431674113, 0.728205944656403, -1.3138364398452524, 0.9028055932576768, 2.2820963209146865, 0.5825457608976803, 0.44168823311486277, -0.6180400543628084, 0.20550615894038707, -0.566625718392528, 0.588867295487124, -0.7814863742659657, 0.2088150083175389, 0.2712189292641885, 1.0080451261778702, 0.9198073760959197, -0.21160871568750625, 0.9471005905349884, 0.5546643197501453, -0.9412177495896674, 0.12099080452017884, 0.7053176604162875, 1.554052374787565, 0.38336548453547953, 0.11940458470979412, -0.29860935986853726, -0.43255531317600315, 0.6324137696781059, 0.0766219170804827, 1.4226312405505745, 0.030003267754663058, -1.2769730159611434, -0.723478072941893, -1.7260064617670847, 0.9811419682076121, -2.06783749498083, -0.8939542857197509, -2.2540571561363403, -1.4259802492018168, -0.5320075047461356, -1.515811089911523, -0.7215280082437434, 2.1282125070998505, -0.03903507733278754, -1.3950234747939938, -0.14096685406236814, 0.23135609461367232, 0.5250304234167503, 1.802981728444306, -0.0468162189899403, -1.769035777012729, -1.6278107483740112, -1.6314168896665002, 0.753991614046415, 1.033180829624629, 0.6023574170852904, -1.4670402369359343, 0.2678472344711301, 1.818071178134226, -0.9955878234584558, -0.22847136673346932, 0.0762818605952403, 0.1291634136540693, 1.6225066766975573, -0.475721530759489, -1.5489439310204933, 0.17981725953923663, 1.2638373207974998, -0.1364912051803669, -0.33326882623264054, -0.44617453940382784, 1.0240512252251484, -1.08638069206843], \"yaxis\": \"y15\"}, {\"histfunc\": \"count\", \"histnorm\": \"\", \"marker\": {\"color\": \"rgba(128, 0, 128, 1.0)\", \"line\": {\"color\": \"#4D5663\", \"width\": 1.3}}, \"name\": \"D\", \"nbinsx\": 10, \"opacity\": 0.8, \"orientation\": \"v\", \"type\": \"histogram\", \"x\": [1.2101398908133165, 0.13635957025796977, 2.1905231572647677, -0.4094932919898077, -0.3719867102724542, -1.698863802225874, 1.0720603281458452, -0.04884579380315829, 0.3520251677800174, -0.050786665944431514, 1.9919596653095484, 0.0076299031856295555, 0.612288221996455, -0.6250653216674991, 0.8932792492386356, 0.44086750492679483, 0.13145624625172503, -0.6239924999314912, 0.3115550575145953, 0.4704557052624782, 1.6014390879358784, -0.6103090759138216, -0.06369678766796431, -1.3400231949710382, -1.0011016048785424, -1.05942227761927, -1.082465664061321, -1.0362857431674113, 0.728205944656403, -1.3138364398452524, 0.9028055932576768, 2.2820963209146865, 0.5825457608976803, 0.44168823311486277, -0.6180400543628084, 0.20550615894038707, -0.566625718392528, 0.588867295487124, -0.7814863742659657, 0.2088150083175389, 0.2712189292641885, 1.0080451261778702, 0.9198073760959197, -0.21160871568750625, 0.9471005905349884, 0.5546643197501453, -0.9412177495896674, 0.12099080452017884, 0.7053176604162875, 1.554052374787565, 0.38336548453547953, 0.11940458470979412, -0.29860935986853726, -0.43255531317600315, 0.6324137696781059, 0.0766219170804827, 1.4226312405505745, 0.030003267754663058, -1.2769730159611434, -0.723478072941893, -1.7260064617670847, 0.9811419682076121, -2.06783749498083, -0.8939542857197509, -2.2540571561363403, -1.4259802492018168, -0.5320075047461356, -1.515811089911523, -0.7215280082437434, 2.1282125070998505, -0.03903507733278754, -1.3950234747939938, -0.14096685406236814, 0.23135609461367232, 0.5250304234167503, 1.802981728444306, -0.0468162189899403, -1.769035777012729, -1.6278107483740112, -1.6314168896665002, 0.753991614046415, 1.033180829624629, 0.6023574170852904, -1.4670402369359343, 0.2678472344711301, 1.818071178134226, -0.9955878234584558, -0.22847136673346932, 0.0762818605952403, 0.1291634136540693, 1.6225066766975573, -0.475721530759489, -1.5489439310204933, 0.17981725953923663, 1.2638373207974998, -0.1364912051803669, -0.33326882623264054, -0.44617453940382784, 1.0240512252251484, -1.08638069206843], \"xaxis\": \"x16\", \"yaxis\": \"y16\"}],                        {\"bargap\": 0.02, \"legend\": {\"bgcolor\": \"#F5F6F9\", \"font\": {\"color\": \"#4D5663\"}}, \"paper_bgcolor\": \"#F5F6F9\", \"plot_bgcolor\": \"#F5F6F9\", \"showlegend\": false, \"template\": {\"data\": {\"bar\": [{\"error_x\": {\"color\": \"#2a3f5f\"}, \"error_y\": {\"color\": \"#2a3f5f\"}, \"marker\": {\"line\": {\"color\": \"#E5ECF6\", \"width\": 0.5}}, \"type\": \"bar\"}], \"barpolar\": [{\"marker\": {\"line\": {\"color\": \"#E5ECF6\", \"width\": 0.5}}, \"type\": \"barpolar\"}], \"carpet\": [{\"aaxis\": {\"endlinecolor\": \"#2a3f5f\", \"gridcolor\": \"white\", \"linecolor\": \"white\", \"minorgridcolor\": \"white\", \"startlinecolor\": \"#2a3f5f\"}, \"baxis\": {\"endlinecolor\": \"#2a3f5f\", \"gridcolor\": \"white\", \"linecolor\": \"white\", \"minorgridcolor\": \"white\", \"startlinecolor\": \"#2a3f5f\"}, \"type\": \"carpet\"}], \"choropleth\": [{\"colorbar\": {\"outlinewidth\": 0, \"ticks\": \"\"}, \"type\": \"choropleth\"}], \"contour\": [{\"colorbar\": {\"outlinewidth\": 0, \"ticks\": \"\"}, \"colorscale\": [[0.0, \"#0d0887\"], [0.1111111111111111, \"#46039f\"], [0.2222222222222222, \"#7201a8\"], [0.3333333333333333, \"#9c179e\"], [0.4444444444444444, \"#bd3786\"], [0.5555555555555556, \"#d8576b\"], [0.6666666666666666, \"#ed7953\"], [0.7777777777777778, \"#fb9f3a\"], [0.8888888888888888, \"#fdca26\"], [1.0, \"#f0f921\"]], \"type\": \"contour\"}], \"contourcarpet\": [{\"colorbar\": {\"outlinewidth\": 0, \"ticks\": \"\"}, \"type\": \"contourcarpet\"}], \"heatmap\": [{\"colorbar\": {\"outlinewidth\": 0, \"ticks\": \"\"}, \"colorscale\": [[0.0, \"#0d0887\"], [0.1111111111111111, \"#46039f\"], [0.2222222222222222, \"#7201a8\"], [0.3333333333333333, \"#9c179e\"], [0.4444444444444444, \"#bd3786\"], [0.5555555555555556, \"#d8576b\"], [0.6666666666666666, \"#ed7953\"], [0.7777777777777778, \"#fb9f3a\"], [0.8888888888888888, \"#fdca26\"], [1.0, \"#f0f921\"]], \"type\": \"heatmap\"}], \"heatmapgl\": [{\"colorbar\": {\"outlinewidth\": 0, \"ticks\": \"\"}, \"colorscale\": [[0.0, \"#0d0887\"], [0.1111111111111111, \"#46039f\"], [0.2222222222222222, \"#7201a8\"], [0.3333333333333333, \"#9c179e\"], [0.4444444444444444, \"#bd3786\"], [0.5555555555555556, \"#d8576b\"], [0.6666666666666666, \"#ed7953\"], [0.7777777777777778, \"#fb9f3a\"], [0.8888888888888888, \"#fdca26\"], [1.0, \"#f0f921\"]], \"type\": \"heatmapgl\"}], \"histogram\": [{\"marker\": {\"colorbar\": {\"outlinewidth\": 0, \"ticks\": \"\"}}, \"type\": \"histogram\"}], \"histogram2d\": [{\"colorbar\": {\"outlinewidth\": 0, \"ticks\": \"\"}, \"colorscale\": [[0.0, \"#0d0887\"], [0.1111111111111111, \"#46039f\"], [0.2222222222222222, \"#7201a8\"], [0.3333333333333333, \"#9c179e\"], [0.4444444444444444, \"#bd3786\"], [0.5555555555555556, \"#d8576b\"], [0.6666666666666666, \"#ed7953\"], [0.7777777777777778, \"#fb9f3a\"], [0.8888888888888888, \"#fdca26\"], [1.0, \"#f0f921\"]], \"type\": \"histogram2d\"}], \"histogram2dcontour\": [{\"colorbar\": {\"outlinewidth\": 0, \"ticks\": \"\"}, \"colorscale\": [[0.0, \"#0d0887\"], [0.1111111111111111, \"#46039f\"], [0.2222222222222222, \"#7201a8\"], [0.3333333333333333, \"#9c179e\"], [0.4444444444444444, \"#bd3786\"], [0.5555555555555556, \"#d8576b\"], [0.6666666666666666, \"#ed7953\"], [0.7777777777777778, \"#fb9f3a\"], [0.8888888888888888, \"#fdca26\"], [1.0, \"#f0f921\"]], \"type\": \"histogram2dcontour\"}], \"mesh3d\": [{\"colorbar\": {\"outlinewidth\": 0, \"ticks\": \"\"}, \"type\": \"mesh3d\"}], \"parcoords\": [{\"line\": {\"colorbar\": {\"outlinewidth\": 0, \"ticks\": \"\"}}, \"type\": \"parcoords\"}], \"pie\": [{\"automargin\": true, \"type\": \"pie\"}], \"scatter\": [{\"marker\": {\"colorbar\": {\"outlinewidth\": 0, \"ticks\": \"\"}}, \"type\": \"scatter\"}], \"scatter3d\": [{\"line\": {\"colorbar\": {\"outlinewidth\": 0, \"ticks\": \"\"}}, \"marker\": {\"colorbar\": {\"outlinewidth\": 0, \"ticks\": \"\"}}, \"type\": \"scatter3d\"}], \"scattercarpet\": [{\"marker\": {\"colorbar\": {\"outlinewidth\": 0, \"ticks\": \"\"}}, \"type\": \"scattercarpet\"}], \"scattergeo\": [{\"marker\": {\"colorbar\": {\"outlinewidth\": 0, \"ticks\": \"\"}}, \"type\": \"scattergeo\"}], \"scattergl\": [{\"marker\": {\"colorbar\": {\"outlinewidth\": 0, \"ticks\": \"\"}}, \"type\": \"scattergl\"}], \"scattermapbox\": [{\"marker\": {\"colorbar\": {\"outlinewidth\": 0, \"ticks\": \"\"}}, \"type\": \"scattermapbox\"}], \"scatterpolar\": [{\"marker\": {\"colorbar\": {\"outlinewidth\": 0, \"ticks\": \"\"}}, \"type\": \"scatterpolar\"}], \"scatterpolargl\": [{\"marker\": {\"colorbar\": {\"outlinewidth\": 0, \"ticks\": \"\"}}, \"type\": \"scatterpolargl\"}], \"scatterternary\": [{\"marker\": {\"colorbar\": {\"outlinewidth\": 0, \"ticks\": \"\"}}, \"type\": \"scatterternary\"}], \"surface\": [{\"colorbar\": {\"outlinewidth\": 0, \"ticks\": \"\"}, \"colorscale\": [[0.0, \"#0d0887\"], [0.1111111111111111, \"#46039f\"], [0.2222222222222222, \"#7201a8\"], [0.3333333333333333, \"#9c179e\"], [0.4444444444444444, \"#bd3786\"], [0.5555555555555556, \"#d8576b\"], [0.6666666666666666, \"#ed7953\"], [0.7777777777777778, \"#fb9f3a\"], [0.8888888888888888, \"#fdca26\"], [1.0, \"#f0f921\"]], \"type\": \"surface\"}], \"table\": [{\"cells\": {\"fill\": {\"color\": \"#EBF0F8\"}, \"line\": {\"color\": \"white\"}}, \"header\": {\"fill\": {\"color\": \"#C8D4E3\"}, \"line\": {\"color\": \"white\"}}, \"type\": \"table\"}]}, \"layout\": {\"annotationdefaults\": {\"arrowcolor\": \"#2a3f5f\", \"arrowhead\": 0, \"arrowwidth\": 1}, \"autotypenumbers\": \"strict\", \"coloraxis\": {\"colorbar\": {\"outlinewidth\": 0, \"ticks\": \"\"}}, \"colorscale\": {\"diverging\": [[0, \"#8e0152\"], [0.1, \"#c51b7d\"], [0.2, \"#de77ae\"], [0.3, \"#f1b6da\"], [0.4, \"#fde0ef\"], [0.5, \"#f7f7f7\"], [0.6, \"#e6f5d0\"], [0.7, \"#b8e186\"], [0.8, \"#7fbc41\"], [0.9, \"#4d9221\"], [1, \"#276419\"]], \"sequential\": [[0.0, \"#0d0887\"], [0.1111111111111111, \"#46039f\"], [0.2222222222222222, \"#7201a8\"], [0.3333333333333333, \"#9c179e\"], [0.4444444444444444, \"#bd3786\"], [0.5555555555555556, \"#d8576b\"], [0.6666666666666666, \"#ed7953\"], [0.7777777777777778, \"#fb9f3a\"], [0.8888888888888888, \"#fdca26\"], [1.0, \"#f0f921\"]], \"sequentialminus\": [[0.0, \"#0d0887\"], [0.1111111111111111, \"#46039f\"], [0.2222222222222222, \"#7201a8\"], [0.3333333333333333, \"#9c179e\"], [0.4444444444444444, \"#bd3786\"], [0.5555555555555556, \"#d8576b\"], [0.6666666666666666, \"#ed7953\"], [0.7777777777777778, \"#fb9f3a\"], [0.8888888888888888, \"#fdca26\"], [1.0, \"#f0f921\"]]}, \"colorway\": [\"#636efa\", \"#EF553B\", \"#00cc96\", \"#ab63fa\", \"#FFA15A\", \"#19d3f3\", \"#FF6692\", \"#B6E880\", \"#FF97FF\", \"#FECB52\"], \"font\": {\"color\": \"#2a3f5f\"}, \"geo\": {\"bgcolor\": \"white\", \"lakecolor\": \"white\", \"landcolor\": \"#E5ECF6\", \"showlakes\": true, \"showland\": true, \"subunitcolor\": \"white\"}, \"hoverlabel\": {\"align\": \"left\"}, \"hovermode\": \"closest\", \"mapbox\": {\"style\": \"light\"}, \"paper_bgcolor\": \"white\", \"plot_bgcolor\": \"#E5ECF6\", \"polar\": {\"angularaxis\": {\"gridcolor\": \"white\", \"linecolor\": \"white\", \"ticks\": \"\"}, \"bgcolor\": \"#E5ECF6\", \"radialaxis\": {\"gridcolor\": \"white\", \"linecolor\": \"white\", \"ticks\": \"\"}}, \"scene\": {\"xaxis\": {\"backgroundcolor\": \"#E5ECF6\", \"gridcolor\": \"white\", \"gridwidth\": 2, \"linecolor\": \"white\", \"showbackground\": true, \"ticks\": \"\", \"zerolinecolor\": \"white\"}, \"yaxis\": {\"backgroundcolor\": \"#E5ECF6\", \"gridcolor\": \"white\", \"gridwidth\": 2, \"linecolor\": \"white\", \"showbackground\": true, \"ticks\": \"\", \"zerolinecolor\": \"white\"}, \"zaxis\": {\"backgroundcolor\": \"#E5ECF6\", \"gridcolor\": \"white\", \"gridwidth\": 2, \"linecolor\": \"white\", \"showbackground\": true, \"ticks\": \"\", \"zerolinecolor\": \"white\"}}, \"shapedefaults\": {\"line\": {\"color\": \"#2a3f5f\"}}, \"ternary\": {\"aaxis\": {\"gridcolor\": \"white\", \"linecolor\": \"white\", \"ticks\": \"\"}, \"baxis\": {\"gridcolor\": \"white\", \"linecolor\": \"white\", \"ticks\": \"\"}, \"bgcolor\": \"#E5ECF6\", \"caxis\": {\"gridcolor\": \"white\", \"linecolor\": \"white\", \"ticks\": \"\"}}, \"title\": {\"x\": 0.05}, \"xaxis\": {\"automargin\": true, \"gridcolor\": \"white\", \"linecolor\": \"white\", \"ticks\": \"\", \"title\": {\"standoff\": 15}, \"zerolinecolor\": \"white\", \"zerolinewidth\": 2}, \"yaxis\": {\"automargin\": true, \"gridcolor\": \"white\", \"linecolor\": \"white\", \"ticks\": \"\", \"title\": {\"standoff\": 15}, \"zerolinecolor\": \"white\", \"zerolinewidth\": 2}}}, \"title\": {\"font\": {\"color\": \"#4D5663\"}}, \"xaxis\": {\"anchor\": \"y\", \"domain\": [0.0, 0.2125], \"gridcolor\": \"#E1E5ED\", \"showgrid\": false, \"tickfont\": {\"color\": \"#4D5663\"}, \"title\": {\"font\": {\"color\": \"#4D5663\"}, \"text\": \"\"}, \"zerolinecolor\": \"#E1E5ED\"}, \"xaxis10\": {\"anchor\": \"y10\", \"domain\": [0.2625, 0.475], \"gridcolor\": \"#E1E5ED\", \"showgrid\": false, \"tickfont\": {\"color\": \"#4D5663\"}, \"title\": {\"font\": {\"color\": \"#4D5663\"}, \"text\": \"\"}, \"zerolinecolor\": \"#E1E5ED\"}, \"xaxis11\": {\"anchor\": \"y11\", \"domain\": [0.525, 0.7375], \"gridcolor\": \"#E1E5ED\", \"showgrid\": false, \"tickfont\": {\"color\": \"#4D5663\"}, \"title\": {\"font\": {\"color\": \"#4D5663\"}, \"text\": \"\"}, \"zerolinecolor\": \"#E1E5ED\"}, \"xaxis12\": {\"anchor\": \"y12\", \"domain\": [0.7875, 1.0], \"gridcolor\": \"#E1E5ED\", \"showgrid\": false, \"tickfont\": {\"color\": \"#4D5663\"}, \"title\": {\"font\": {\"color\": \"#4D5663\"}, \"text\": \"\"}, \"zerolinecolor\": \"#E1E5ED\"}, \"xaxis13\": {\"anchor\": \"y13\", \"domain\": [0.0, 0.2125], \"gridcolor\": \"#E1E5ED\", \"showgrid\": false, \"tickfont\": {\"color\": \"#4D5663\"}, \"title\": {\"font\": {\"color\": \"#4D5663\"}, \"text\": \"\"}, \"zerolinecolor\": \"#E1E5ED\"}, \"xaxis14\": {\"anchor\": \"y14\", \"domain\": [0.2625, 0.475], \"gridcolor\": \"#E1E5ED\", \"showgrid\": false, \"tickfont\": {\"color\": \"#4D5663\"}, \"title\": {\"font\": {\"color\": \"#4D5663\"}, \"text\": \"\"}, \"zerolinecolor\": \"#E1E5ED\"}, \"xaxis15\": {\"anchor\": \"y15\", \"domain\": [0.525, 0.7375], \"gridcolor\": \"#E1E5ED\", \"showgrid\": false, \"tickfont\": {\"color\": \"#4D5663\"}, \"title\": {\"font\": {\"color\": \"#4D5663\"}, \"text\": \"\"}, \"zerolinecolor\": \"#E1E5ED\"}, \"xaxis16\": {\"anchor\": \"y16\", \"domain\": [0.7875, 1.0], \"gridcolor\": \"#E1E5ED\", \"showgrid\": false, \"tickfont\": {\"color\": \"#4D5663\"}, \"title\": {\"font\": {\"color\": \"#4D5663\"}, \"text\": \"\"}, \"zerolinecolor\": \"#E1E5ED\"}, \"xaxis2\": {\"anchor\": \"y2\", \"domain\": [0.2625, 0.475], \"gridcolor\": \"#E1E5ED\", \"showgrid\": false, \"tickfont\": {\"color\": \"#4D5663\"}, \"title\": {\"font\": {\"color\": \"#4D5663\"}, \"text\": \"\"}, \"zerolinecolor\": \"#E1E5ED\"}, \"xaxis3\": {\"anchor\": \"y3\", \"domain\": [0.525, 0.7375], \"gridcolor\": \"#E1E5ED\", \"showgrid\": false, \"tickfont\": {\"color\": \"#4D5663\"}, \"title\": {\"font\": {\"color\": \"#4D5663\"}, \"text\": \"\"}, \"zerolinecolor\": \"#E1E5ED\"}, \"xaxis4\": {\"anchor\": \"y4\", \"domain\": [0.7875, 1.0], \"gridcolor\": \"#E1E5ED\", \"showgrid\": false, \"tickfont\": {\"color\": \"#4D5663\"}, \"title\": {\"font\": {\"color\": \"#4D5663\"}, \"text\": \"\"}, \"zerolinecolor\": \"#E1E5ED\"}, \"xaxis5\": {\"anchor\": \"y5\", \"domain\": [0.0, 0.2125], \"gridcolor\": \"#E1E5ED\", \"showgrid\": false, \"tickfont\": {\"color\": \"#4D5663\"}, \"title\": {\"font\": {\"color\": \"#4D5663\"}, \"text\": \"\"}, \"zerolinecolor\": \"#E1E5ED\"}, \"xaxis6\": {\"anchor\": \"y6\", \"domain\": [0.2625, 0.475], \"gridcolor\": \"#E1E5ED\", \"showgrid\": false, \"tickfont\": {\"color\": \"#4D5663\"}, \"title\": {\"font\": {\"color\": \"#4D5663\"}, \"text\": \"\"}, \"zerolinecolor\": \"#E1E5ED\"}, \"xaxis7\": {\"anchor\": \"y7\", \"domain\": [0.525, 0.7375], \"gridcolor\": \"#E1E5ED\", \"showgrid\": false, \"tickfont\": {\"color\": \"#4D5663\"}, \"title\": {\"font\": {\"color\": \"#4D5663\"}, \"text\": \"\"}, \"zerolinecolor\": \"#E1E5ED\"}, \"xaxis8\": {\"anchor\": \"y8\", \"domain\": [0.7875, 1.0], \"gridcolor\": \"#E1E5ED\", \"showgrid\": false, \"tickfont\": {\"color\": \"#4D5663\"}, \"title\": {\"font\": {\"color\": \"#4D5663\"}, \"text\": \"\"}, \"zerolinecolor\": \"#E1E5ED\"}, \"xaxis9\": {\"anchor\": \"y9\", \"domain\": [0.0, 0.2125], \"gridcolor\": \"#E1E5ED\", \"showgrid\": false, \"tickfont\": {\"color\": \"#4D5663\"}, \"title\": {\"font\": {\"color\": \"#4D5663\"}, \"text\": \"\"}, \"zerolinecolor\": \"#E1E5ED\"}, \"yaxis\": {\"anchor\": \"x\", \"domain\": [0.8025, 1.0], \"gridcolor\": \"#E1E5ED\", \"showgrid\": false, \"tickfont\": {\"color\": \"#4D5663\"}, \"title\": {\"font\": {\"color\": \"#4D5663\"}, \"text\": \"\"}, \"zerolinecolor\": \"#E1E5ED\"}, \"yaxis10\": {\"anchor\": \"x10\", \"domain\": [0.2675, 0.465], \"gridcolor\": \"#E1E5ED\", \"showgrid\": false, \"tickfont\": {\"color\": \"#4D5663\"}, \"title\": {\"font\": {\"color\": \"#4D5663\"}, \"text\": \"\"}, \"zerolinecolor\": \"#E1E5ED\"}, \"yaxis11\": {\"anchor\": \"x11\", \"domain\": [0.2675, 0.465], \"gridcolor\": \"#E1E5ED\", \"showgrid\": false, \"tickfont\": {\"color\": \"#4D5663\"}, \"title\": {\"font\": {\"color\": \"#4D5663\"}, \"text\": \"\"}, \"zerolinecolor\": \"#E1E5ED\"}, \"yaxis12\": {\"anchor\": \"x12\", \"domain\": [0.2675, 0.465], \"gridcolor\": \"#E1E5ED\", \"showgrid\": false, \"tickfont\": {\"color\": \"#4D5663\"}, \"title\": {\"font\": {\"color\": \"#4D5663\"}, \"text\": \"\"}, \"zerolinecolor\": \"#E1E5ED\"}, \"yaxis13\": {\"anchor\": \"x13\", \"domain\": [0.0, 0.1975], \"gridcolor\": \"#E1E5ED\", \"showgrid\": false, \"tickfont\": {\"color\": \"#4D5663\"}, \"title\": {\"font\": {\"color\": \"#4D5663\"}, \"text\": \"\"}, \"zerolinecolor\": \"#E1E5ED\"}, \"yaxis14\": {\"anchor\": \"x14\", \"domain\": [0.0, 0.1975], \"gridcolor\": \"#E1E5ED\", \"showgrid\": false, \"tickfont\": {\"color\": \"#4D5663\"}, \"title\": {\"font\": {\"color\": \"#4D5663\"}, \"text\": \"\"}, \"zerolinecolor\": \"#E1E5ED\"}, \"yaxis15\": {\"anchor\": \"x15\", \"domain\": [0.0, 0.1975], \"gridcolor\": \"#E1E5ED\", \"showgrid\": false, \"tickfont\": {\"color\": \"#4D5663\"}, \"title\": {\"font\": {\"color\": \"#4D5663\"}, \"text\": \"\"}, \"zerolinecolor\": \"#E1E5ED\"}, \"yaxis16\": {\"anchor\": \"x16\", \"domain\": [0.0, 0.1975], \"gridcolor\": \"#E1E5ED\", \"showgrid\": false, \"tickfont\": {\"color\": \"#4D5663\"}, \"title\": {\"font\": {\"color\": \"#4D5663\"}, \"text\": \"\"}, \"zerolinecolor\": \"#E1E5ED\"}, \"yaxis2\": {\"anchor\": \"x2\", \"domain\": [0.8025, 1.0], \"gridcolor\": \"#E1E5ED\", \"showgrid\": false, \"tickfont\": {\"color\": \"#4D5663\"}, \"title\": {\"font\": {\"color\": \"#4D5663\"}, \"text\": \"\"}, \"zerolinecolor\": \"#E1E5ED\"}, \"yaxis3\": {\"anchor\": \"x3\", \"domain\": [0.8025, 1.0], \"gridcolor\": \"#E1E5ED\", \"showgrid\": false, \"tickfont\": {\"color\": \"#4D5663\"}, \"title\": {\"font\": {\"color\": \"#4D5663\"}, \"text\": \"\"}, \"zerolinecolor\": \"#E1E5ED\"}, \"yaxis4\": {\"anchor\": \"x4\", \"domain\": [0.8025, 1.0], \"gridcolor\": \"#E1E5ED\", \"showgrid\": false, \"tickfont\": {\"color\": \"#4D5663\"}, \"title\": {\"font\": {\"color\": \"#4D5663\"}, \"text\": \"\"}, \"zerolinecolor\": \"#E1E5ED\"}, \"yaxis5\": {\"anchor\": \"x5\", \"domain\": [0.535, 0.7325], \"gridcolor\": \"#E1E5ED\", \"showgrid\": false, \"tickfont\": {\"color\": \"#4D5663\"}, \"title\": {\"font\": {\"color\": \"#4D5663\"}, \"text\": \"\"}, \"zerolinecolor\": \"#E1E5ED\"}, \"yaxis6\": {\"anchor\": \"x6\", \"domain\": [0.535, 0.7325], \"gridcolor\": \"#E1E5ED\", \"showgrid\": false, \"tickfont\": {\"color\": \"#4D5663\"}, \"title\": {\"font\": {\"color\": \"#4D5663\"}, \"text\": \"\"}, \"zerolinecolor\": \"#E1E5ED\"}, \"yaxis7\": {\"anchor\": \"x7\", \"domain\": [0.535, 0.7325], \"gridcolor\": \"#E1E5ED\", \"showgrid\": false, \"tickfont\": {\"color\": \"#4D5663\"}, \"title\": {\"font\": {\"color\": \"#4D5663\"}, \"text\": \"\"}, \"zerolinecolor\": \"#E1E5ED\"}, \"yaxis8\": {\"anchor\": \"x8\", \"domain\": [0.535, 0.7325], \"gridcolor\": \"#E1E5ED\", \"showgrid\": false, \"tickfont\": {\"color\": \"#4D5663\"}, \"title\": {\"font\": {\"color\": \"#4D5663\"}, \"text\": \"\"}, \"zerolinecolor\": \"#E1E5ED\"}, \"yaxis9\": {\"anchor\": \"x9\", \"domain\": [0.2675, 0.465], \"gridcolor\": \"#E1E5ED\", \"showgrid\": false, \"tickfont\": {\"color\": \"#4D5663\"}, \"title\": {\"font\": {\"color\": \"#4D5663\"}, \"text\": \"\"}, \"zerolinecolor\": \"#E1E5ED\"}},                        {\"showLink\": true, \"linkText\": \"Export to plot.ly\", \"plotlyServerURL\": \"https://plot.ly\", \"responsive\": true}                    ).then(function(){\n",
       "                            \n",
       "var gd = document.getElementById('5f490840-c199-4173-b3b9-2c4bcfb2b70d');\n",
       "var x = new MutationObserver(function (mutations, observer) {{\n",
       "        var display = window.getComputedStyle(gd).display;\n",
       "        if (!display || display === 'none') {{\n",
       "            console.log([gd, 'removed!']);\n",
       "            Plotly.purge(gd);\n",
       "            observer.disconnect();\n",
       "        }}\n",
       "}});\n",
       "\n",
       "// Listen for the removal of the full notebook cells\n",
       "var notebookContainer = gd.closest('#notebook-container');\n",
       "if (notebookContainer) {{\n",
       "    x.observe(notebookContainer, {childList: true});\n",
       "}}\n",
       "\n",
       "// Listen for the clearing of the current output cell\n",
       "var outputEl = gd.closest('.output');\n",
       "if (outputEl) {{\n",
       "    x.observe(outputEl, {childList: true});\n",
       "}}\n",
       "\n",
       "                        })                };                });            </script>        </div>"
      ]
     },
     "metadata": {},
     "output_type": "display_data"
    }
   ],
   "source": [
    "df.scatter_matrix()"
   ]
  },
  {
   "cell_type": "markdown",
   "metadata": {
    "collapsed": true
   },
   "source": [
    "# Great Job!"
   ]
  }
 ],
 "metadata": {
  "kernelspec": {
   "display_name": "Python 3",
   "language": "python",
   "name": "python3"
  },
  "language_info": {
   "codemirror_mode": {
    "name": "ipython",
    "version": 3
   },
   "file_extension": ".py",
   "mimetype": "text/x-python",
   "name": "python",
   "nbconvert_exporter": "python",
   "pygments_lexer": "ipython3",
   "version": "3.8.5"
  }
 },
 "nbformat": 4,
 "nbformat_minor": 1
}
